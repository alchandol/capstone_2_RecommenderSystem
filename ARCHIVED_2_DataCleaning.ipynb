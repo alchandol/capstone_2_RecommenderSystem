{
 "cells": [
  {
   "cell_type": "markdown",
   "metadata": {},
   "source": [
    "# 2. Data Cleaning"
   ]
  },
  {
   "cell_type": "markdown",
   "metadata": {},
   "source": [
    "In this section, 'product' and 'review' dataset will be imported and cleaned for further processing."
   ]
  },
  {
   "cell_type": "code",
   "execution_count": 1,
   "metadata": {},
   "outputs": [],
   "source": [
    "import pandas as pd\n",
    "import gzip\n",
    "import json\n",
    "import seaborn as sns\n",
    "import matplotlib.pyplot as plt\n",
    "from scipy import stats\n",
    "\n",
    "import dask.dataframe as dd"
   ]
  },
  {
   "cell_type": "markdown",
   "metadata": {},
   "source": [
    "## 2.1 Import"
   ]
  },
  {
   "cell_type": "markdown",
   "metadata": {},
   "source": [
    "In this section and the sections that follow goes through the data cleaning process from trimming unneeded fields, checking for any data values that does not meet the requirements or duplicated points that may effect the overall accuracy. <br> Because the entire dataset is very large, the whole data cleaning process will be done by categories.\n",
    "\n",
    "There are in total 29 categories for each of review and product dataset.\n",
    "\n",
    "For the same reason, after the each of the category dataset has been cleaned, they will be saved back to csv for later use and the next category in line will be cleaned."
   ]
  },
  {
   "cell_type": "code",
   "execution_count": 2,
   "metadata": {},
   "outputs": [],
   "source": [
    "#defining methods to import data\n",
    "\n",
    "\"\"\" unzips gz and load to json\"\"\"\n",
    "def parse(path):\n",
    "    g = gzip.open(path, 'rb')\n",
    "    for l in g:\n",
    "        yield json.loads(l)\n",
    "\n",
    "\n",
    "\"\"\" use parse method to read and translate to pandas dataframe \"\"\"\n",
    "def getDF(path):\n",
    "    i = 0\n",
    "    df = {}\n",
    "    for d in parse(path):\n",
    "        df[i] = d\n",
    "        i += 1\n",
    "    return pd.DataFrame.from_dict(df, orient='index')\n",
    "\n",
    "\"\"\" transform pandas dataframe to dask dataframe with 10 partitions\"\"\"\n",
    "def pandasToDask(df):\n",
    "    return dd.from_pandas(df,npartitions=10)\n",
    "\n",
    "\"\"\" unzips gz and dask reads json to dataframe\"\"\"\n",
    "def toDask(path):\n",
    "    return dd.read_json(path,compression='gzip')\n",
    "    "
   ]
  },
  {
   "cell_type": "markdown",
   "metadata": {},
   "source": [
    "**Dataset 'review' import starts here.**"
   ]
  },
  {
   "cell_type": "code",
   "execution_count": 207,
   "metadata": {},
   "outputs": [],
   "source": [
    "#datasets imported.\n",
    "\n",
    "re_fashion = getDF('data/review/AMAZON_FASHION.json.gz')"
   ]
  },
  {
   "cell_type": "code",
   "execution_count": 233,
   "metadata": {},
   "outputs": [],
   "source": [
    "re_beauty = getDF('data/review/All_Beauty.json.gz')"
   ]
  },
  {
   "cell_type": "code",
   "execution_count": 191,
   "metadata": {},
   "outputs": [],
   "source": [
    "re_appliances = getDF('data/review/Appliances.json.gz')"
   ]
  },
  {
   "cell_type": "code",
   "execution_count": 251,
   "metadata": {},
   "outputs": [],
   "source": [
    "re_ACS = getDF('data/review/Arts_Crafts_and_Sewing.json.gz')"
   ]
  },
  {
   "cell_type": "code",
   "execution_count": 266,
   "metadata": {},
   "outputs": [],
   "source": [
    "re_automotive = getDF('data/review/Automotive.json.gz')"
   ]
  },
  {
   "cell_type": "code",
   "execution_count": null,
   "metadata": {},
   "outputs": [],
   "source": [
    "#skipping for now as this is 11GB\n",
    "#re_books = getDF('data/review/Books.json.gz')"
   ]
  },
  {
   "cell_type": "code",
   "execution_count": 283,
   "metadata": {},
   "outputs": [],
   "source": [
    "re_CV = getDF('data/review/CDs_and_Vinyl.json.gz')"
   ]
  },
  {
   "cell_type": "code",
   "execution_count": 296,
   "metadata": {},
   "outputs": [],
   "source": [
    "re_CPA = getDF('data/review/Cell_Phones_and_Accessories.json.gz')"
   ]
  },
  {
   "cell_type": "code",
   "execution_count": null,
   "metadata": {},
   "outputs": [],
   "source": [
    "#testing with dask\n",
    "re_CSJ = toDask('data/review/Clothing_Shoes_and_Jewelry.json.gz')"
   ]
  },
  {
   "cell_type": "markdown",
   "metadata": {},
   "source": [
    "**At this point, Jupyter Notebook and laptop hardware resource could not further process or import data as subsequent categories contained data upto 30 GB.  After discussion with the expert, it was decided to pick 3 to 4 categories to move forward with project.**\n",
    "\n",
    "categories chosen : Digital_Music , Kindle_Store , Magazine_Subscriptions , Movies_and_TVs"
   ]
  },
  {
   "cell_type": "code",
   "execution_count": 3,
   "metadata": {},
   "outputs": [],
   "source": [
    "re_MTV = getDF('data/review/Movies_and_TV.json.gz')"
   ]
  },
  {
   "cell_type": "code",
   "execution_count": 22,
   "metadata": {},
   "outputs": [],
   "source": [
    "re_KS = getDF('data/review/Kindle_Store.json.gz')"
   ]
  },
  {
   "cell_type": "code",
   "execution_count": 34,
   "metadata": {},
   "outputs": [],
   "source": [
    "re_DM = getDF('data/review/Digital_Music.json.gz')"
   ]
  },
  {
   "cell_type": "code",
   "execution_count": 37,
   "metadata": {},
   "outputs": [],
   "source": [
    "re_MS = getDF('data/review/Magazine_Subscriptions.json.gz')"
   ]
  },
  {
   "cell_type": "markdown",
   "metadata": {},
   "source": [
    "**Dataset 'product' import starts here.**"
   ]
  },
  {
   "cell_type": "code",
   "execution_count": 86,
   "metadata": {},
   "outputs": [],
   "source": [
    "#datasets imported.\n",
    "\n",
    "pr_MTV = getDF('data/metadata/meta_Movies_and_TV.json.gz')"
   ]
  },
  {
   "cell_type": "code",
   "execution_count": 58,
   "metadata": {},
   "outputs": [],
   "source": [
    "pr_KS = getDF('data/metadata/meta_Kindle_Store.json.gz')"
   ]
  },
  {
   "cell_type": "code",
   "execution_count": 19,
   "metadata": {},
   "outputs": [],
   "source": [
    "pr_DM = getDF('data/metadata/meta_Digital_Music.json.gz')"
   ]
  },
  {
   "cell_type": "code",
   "execution_count": 63,
   "metadata": {},
   "outputs": [],
   "source": [
    "pr_MS = getDF('data/metadata/meta_Magazine_Subscriptions.json.gz')"
   ]
  },
  {
   "cell_type": "code",
   "execution_count": null,
   "metadata": {},
   "outputs": [],
   "source": []
  },
  {
   "cell_type": "code",
   "execution_count": 3,
   "metadata": {},
   "outputs": [],
   "source": [
    "pr_books = getDF('data/metadata/meta_Books.json.gz')"
   ]
  },
  {
   "cell_type": "code",
   "execution_count": 4,
   "metadata": {},
   "outputs": [
    {
     "name": "stdout",
     "output_type": "stream",
     "text": [
      "<class 'pandas.core.frame.DataFrame'>\n",
      "Int64Index: 2935525 entries, 0 to 2935524\n",
      "Data columns (total 17 columns):\n",
      "description     object\n",
      "title           object\n",
      "also_buy        object\n",
      "brand           object\n",
      "rank            object\n",
      "also_view       object\n",
      "main_cat        object\n",
      "price           object\n",
      "asin            object\n",
      "category        object\n",
      "image           object\n",
      "feature         object\n",
      "date            object\n",
      "similar_item    object\n",
      "tech1           object\n",
      "details         object\n",
      "fit             object\n",
      "dtypes: object(17)\n",
      "memory usage: 403.1+ MB\n"
     ]
    }
   ],
   "source": [
    "pr_books.info()"
   ]
  },
  {
   "cell_type": "markdown",
   "metadata": {},
   "source": [
    "## 2.2 Data Trimming"
   ]
  },
  {
   "cell_type": "markdown",
   "metadata": {},
   "source": [
    "In this section, data features deemed unneeded will be trimmed.  <br> As mentioned above, this process will be done by categories to reduce heavy data import."
   ]
  },
  {
   "cell_type": "markdown",
   "metadata": {},
   "source": [
    "### 2.2.1 Dataset 'review' Trimming"
   ]
  },
  {
   "cell_type": "markdown",
   "metadata": {},
   "source": [
    "Candidates for dataset 'review' has already been determined in previous section **1.2.1 Dataset 'review' Analysis**. <br>\n",
    "\n",
    "\n",
    "* Needs To Be Maintained:    **overall , asin , reviewText**\n",
    "* May Be Maintained If Possible:   **verfied , reviewerID , summary**\n",
    "* Candidates For Data Trimming:  **reviewTime , reviewerName , unixReviewTime , vote , style , image**\n",
    "\n",
    "The columns in 'May Be Maintained If Possible' will be stored for now until the end of data cleaning process and then be checked for viability one more time."
   ]
  },
  {
   "cell_type": "markdown",
   "metadata": {},
   "source": [
    "#### 2.2.1.1 Category 'AMAZON_FASHION'"
   ]
  },
  {
   "cell_type": "code",
   "execution_count": 208,
   "metadata": {},
   "outputs": [
    {
     "name": "stdout",
     "output_type": "stream",
     "text": [
      "<class 'pandas.core.frame.DataFrame'>\n",
      "Int64Index: 883636 entries, 0 to 883635\n",
      "Data columns (total 12 columns):\n",
      "overall           883636 non-null float64\n",
      "verified          883636 non-null bool\n",
      "reviewTime        883636 non-null object\n",
      "reviewerID        883636 non-null object\n",
      "asin              883636 non-null object\n",
      "reviewerName      883544 non-null object\n",
      "reviewText        882403 non-null object\n",
      "summary           883103 non-null object\n",
      "unixReviewTime    883636 non-null int64\n",
      "vote              79900 non-null object\n",
      "style             304569 non-null object\n",
      "image             28807 non-null object\n",
      "dtypes: bool(1), float64(1), int64(1), object(9)\n",
      "memory usage: 81.7+ MB\n"
     ]
    }
   ],
   "source": [
    "#check dataset info\n",
    "re_fashion.info()"
   ]
  },
  {
   "cell_type": "code",
   "execution_count": 209,
   "metadata": {},
   "outputs": [],
   "source": [
    "#drop columns\n",
    "\n",
    "re_fashion = re_fashion.drop(columns=['reviewTime','reviewerName','unixReviewTime','vote','style','image'])"
   ]
  },
  {
   "cell_type": "markdown",
   "metadata": {},
   "source": [
    "#### 2.2.1.2 Category 'All_Beauty'"
   ]
  },
  {
   "cell_type": "code",
   "execution_count": 234,
   "metadata": {},
   "outputs": [
    {
     "name": "stdout",
     "output_type": "stream",
     "text": [
      "<class 'pandas.core.frame.DataFrame'>\n",
      "Int64Index: 371345 entries, 0 to 371344\n",
      "Data columns (total 12 columns):\n",
      "overall           371345 non-null float64\n",
      "verified          371345 non-null bool\n",
      "reviewTime        371345 non-null object\n",
      "reviewerID        371345 non-null object\n",
      "asin              371345 non-null object\n",
      "reviewerName      371307 non-null object\n",
      "reviewText        370946 non-null object\n",
      "summary           371139 non-null object\n",
      "unixReviewTime    371345 non-null int64\n",
      "vote              51899 non-null object\n",
      "style             125958 non-null object\n",
      "image             8391 non-null object\n",
      "dtypes: bool(1), float64(1), int64(1), object(9)\n",
      "memory usage: 34.4+ MB\n"
     ]
    }
   ],
   "source": [
    "#check dataset info\n",
    "re_beauty.info()"
   ]
  },
  {
   "cell_type": "code",
   "execution_count": 235,
   "metadata": {},
   "outputs": [],
   "source": [
    "#drop columns\n",
    "\n",
    "re_beauty = re_beauty.drop(columns=['reviewTime','reviewerName','unixReviewTime','vote','style','image'])"
   ]
  },
  {
   "cell_type": "markdown",
   "metadata": {},
   "source": [
    "#### 2.2.1.3 Category 'Appliances'"
   ]
  },
  {
   "cell_type": "code",
   "execution_count": 192,
   "metadata": {},
   "outputs": [
    {
     "name": "stdout",
     "output_type": "stream",
     "text": [
      "<class 'pandas.core.frame.DataFrame'>\n",
      "Int64Index: 602777 entries, 0 to 602776\n",
      "Data columns (total 12 columns):\n",
      "overall           602777 non-null float64\n",
      "vote              65262 non-null object\n",
      "verified          602777 non-null bool\n",
      "reviewTime        602777 non-null object\n",
      "reviewerID        602777 non-null object\n",
      "asin              602777 non-null object\n",
      "style             137973 non-null object\n",
      "reviewerName      602762 non-null object\n",
      "reviewText        602453 non-null object\n",
      "summary           602649 non-null object\n",
      "unixReviewTime    602777 non-null int64\n",
      "image             9258 non-null object\n",
      "dtypes: bool(1), float64(1), int64(1), object(9)\n",
      "memory usage: 55.8+ MB\n"
     ]
    }
   ],
   "source": [
    "#check dataset info\n",
    "re_appliances.info()"
   ]
  },
  {
   "cell_type": "code",
   "execution_count": 193,
   "metadata": {},
   "outputs": [],
   "source": [
    "#drop columns\n",
    "\n",
    "re_appliances = re_appliances.drop(columns=['reviewTime','reviewerName','unixReviewTime','vote','style','image'])"
   ]
  },
  {
   "cell_type": "markdown",
   "metadata": {},
   "source": [
    "#### 2.2.1.4 Category 'Arts_Crafts_and_Sewing'"
   ]
  },
  {
   "cell_type": "code",
   "execution_count": 256,
   "metadata": {},
   "outputs": [
    {
     "name": "stdout",
     "output_type": "stream",
     "text": [
      "<class 'pandas.core.frame.DataFrame'>\n",
      "Int64Index: 2875917 entries, 0 to 2875916\n",
      "Data columns (total 12 columns):\n",
      "overall           2875917 non-null float64\n",
      "vote              372185 non-null object\n",
      "verified          2875917 non-null bool\n",
      "reviewTime        2875917 non-null object\n",
      "reviewerID        2875917 non-null object\n",
      "asin              2875917 non-null object\n",
      "style             1125693 non-null object\n",
      "reviewerName      2875717 non-null object\n",
      "reviewText        2873387 non-null object\n",
      "summary           2874960 non-null object\n",
      "unixReviewTime    2875917 non-null int64\n",
      "image             86106 non-null object\n",
      "dtypes: bool(1), float64(1), int64(1), object(9)\n",
      "memory usage: 266.0+ MB\n"
     ]
    }
   ],
   "source": [
    "#check dataset info\n",
    "re_ACS.info(verbose=True,null_counts=True)"
   ]
  },
  {
   "cell_type": "code",
   "execution_count": 257,
   "metadata": {},
   "outputs": [],
   "source": [
    "#drop columns\n",
    "\n",
    "re_ACS = re_ACS.drop(columns=['reviewTime','reviewerName','unixReviewTime','vote','style','image'])"
   ]
  },
  {
   "cell_type": "markdown",
   "metadata": {},
   "source": [
    "#### 2.2.1.5 Category 'Automotive'"
   ]
  },
  {
   "cell_type": "code",
   "execution_count": 271,
   "metadata": {},
   "outputs": [
    {
     "name": "stdout",
     "output_type": "stream",
     "text": [
      "<class 'pandas.core.frame.DataFrame'>\n",
      "Int64Index: 7990166 entries, 0 to 7990165\n",
      "Data columns (total 12 columns):\n",
      "image             220180 non-null object\n",
      "overall           7990166 non-null float64\n",
      "vote              793310 non-null object\n",
      "verified          7990166 non-null bool\n",
      "reviewTime        7990166 non-null object\n",
      "reviewerID        7990166 non-null object\n",
      "asin              7990166 non-null object\n",
      "style             2348412 non-null object\n",
      "reviewerName      7989739 non-null object\n",
      "reviewText        7982068 non-null object\n",
      "summary           7987439 non-null object\n",
      "unixReviewTime    7990166 non-null int64\n",
      "dtypes: bool(1), float64(1), int64(1), object(9)\n",
      "memory usage: 739.1+ MB\n"
     ]
    }
   ],
   "source": [
    "#check dataset info\n",
    "re_automotive.info(verbose=True,null_counts=True)"
   ]
  },
  {
   "cell_type": "code",
   "execution_count": 272,
   "metadata": {},
   "outputs": [],
   "source": [
    "#drop columns\n",
    "\n",
    "re_automotive = re_automotive.drop(columns=['reviewTime','reviewerName','unixReviewTime','vote','style','image'])"
   ]
  },
  {
   "cell_type": "markdown",
   "metadata": {},
   "source": [
    "#### 2.2.1.6 Category 'Books'"
   ]
  },
  {
   "cell_type": "markdown",
   "metadata": {},
   "source": [
    "#### 2.2.1.7 Category 'CDs_and_Vinyl'"
   ]
  },
  {
   "cell_type": "code",
   "execution_count": 284,
   "metadata": {},
   "outputs": [
    {
     "name": "stdout",
     "output_type": "stream",
     "text": [
      "<class 'pandas.core.frame.DataFrame'>\n",
      "Int64Index: 4543369 entries, 0 to 4543368\n",
      "Data columns (total 12 columns):\n",
      "reviewerID        4543369 non-null object\n",
      "asin              4543369 non-null object\n",
      "reviewerName      4543185 non-null object\n",
      "verified          4543369 non-null bool\n",
      "reviewText        4541934 non-null object\n",
      "overall           4543369 non-null float64\n",
      "reviewTime        4543369 non-null object\n",
      "summary           4542549 non-null object\n",
      "unixReviewTime    4543369 non-null int64\n",
      "vote              1312570 non-null object\n",
      "style             4390937 non-null object\n",
      "image             17698 non-null object\n",
      "dtypes: bool(1), float64(1), int64(1), object(9)\n",
      "memory usage: 420.3+ MB\n"
     ]
    }
   ],
   "source": [
    "#check dataset info\n",
    "re_CV.info(verbose=True,null_counts=True)"
   ]
  },
  {
   "cell_type": "code",
   "execution_count": 285,
   "metadata": {},
   "outputs": [],
   "source": [
    "#drop columns\n",
    "\n",
    "re_CV = re_CV.drop(columns=['reviewTime','reviewerName','unixReviewTime','vote','style','image'])"
   ]
  },
  {
   "cell_type": "markdown",
   "metadata": {},
   "source": [
    "#### 2.2.1.8 Category 'Cell_Phones_and_Accessories'"
   ]
  },
  {
   "cell_type": "code",
   "execution_count": 297,
   "metadata": {},
   "outputs": [
    {
     "name": "stdout",
     "output_type": "stream",
     "text": [
      "<class 'pandas.core.frame.DataFrame'>\n",
      "Int64Index: 10063255 entries, 0 to 10063254\n",
      "Data columns (total 12 columns):\n",
      "overall           10063255 non-null float64\n",
      "verified          10063255 non-null bool\n",
      "reviewTime        10063255 non-null object\n",
      "reviewerID        10063255 non-null object\n",
      "asin              10063255 non-null object\n",
      "reviewerName      10062528 non-null object\n",
      "reviewText        10053882 non-null object\n",
      "summary           10057736 non-null object\n",
      "unixReviewTime    10063255 non-null int64\n",
      "vote              689745 non-null object\n",
      "image             182305 non-null object\n",
      "style             5017134 non-null object\n",
      "dtypes: bool(1), float64(1), int64(1), object(9)\n",
      "memory usage: 930.9+ MB\n"
     ]
    }
   ],
   "source": [
    "#check dataset info\n",
    "re_CPA.info(verbose=True,null_counts=True)"
   ]
  },
  {
   "cell_type": "code",
   "execution_count": 298,
   "metadata": {},
   "outputs": [],
   "source": [
    "#drop columns\n",
    "\n",
    "re_CPA = re_CPA.drop(columns=['reviewTime','reviewerName','unixReviewTime','vote','style','image'])"
   ]
  },
  {
   "cell_type": "markdown",
   "metadata": {},
   "source": [
    "**At this point, Jupyter Notebook and laptop hardware resource could not further process or import data as subsequent categories contained data upto 30 GB.  After discussion with the expert, it was decided to pick 3 to 4 categories to move forward with project.**\n",
    "\n",
    "categories chosen : Digital_Music , Kindle_Store , Magazine_Subscriptions , Movies_and_TVs"
   ]
  },
  {
   "cell_type": "markdown",
   "metadata": {},
   "source": [
    "#### 2.2.1.9 Category 'Movies_and_TVs'"
   ]
  },
  {
   "cell_type": "code",
   "execution_count": 5,
   "metadata": {},
   "outputs": [
    {
     "name": "stdout",
     "output_type": "stream",
     "text": [
      "<class 'pandas.core.frame.DataFrame'>\n",
      "Int64Index: 8765568 entries, 0 to 8765567\n",
      "Data columns (total 12 columns):\n",
      "overall           8765568 non-null float64\n",
      "verified          8765568 non-null bool\n",
      "reviewTime        8765568 non-null object\n",
      "reviewerID        8765568 non-null object\n",
      "asin              8765568 non-null object\n",
      "style             8316608 non-null object\n",
      "reviewerName      8765309 non-null object\n",
      "reviewText        8757545 non-null object\n",
      "summary           8763379 non-null object\n",
      "unixReviewTime    8765568 non-null int64\n",
      "vote              1425989 non-null object\n",
      "image             18346 non-null object\n",
      "dtypes: bool(1), float64(1), int64(1), object(9)\n",
      "memory usage: 810.9+ MB\n"
     ]
    }
   ],
   "source": [
    "#check dataset info\n",
    "re_MTV.info(verbose=True, null_counts=True)"
   ]
  },
  {
   "cell_type": "code",
   "execution_count": 6,
   "metadata": {},
   "outputs": [],
   "source": [
    "#drop columns\n",
    "\n",
    "re_MTV = re_MTV.drop(columns=['reviewTime','reviewerName','unixReviewTime','vote','style','image'])"
   ]
  },
  {
   "cell_type": "markdown",
   "metadata": {},
   "source": [
    "#### 2.2.1.10 Category 'Kindle_Store'"
   ]
  },
  {
   "cell_type": "code",
   "execution_count": 23,
   "metadata": {},
   "outputs": [
    {
     "name": "stdout",
     "output_type": "stream",
     "text": [
      "<class 'pandas.core.frame.DataFrame'>\n",
      "Int64Index: 5722988 entries, 0 to 5722987\n",
      "Data columns (total 12 columns):\n",
      "overall           5722988 non-null float64\n",
      "verified          5722988 non-null bool\n",
      "reviewTime        5722988 non-null object\n",
      "reviewerID        5722988 non-null object\n",
      "asin              5722988 non-null object\n",
      "style             5309554 non-null object\n",
      "reviewerName      5722682 non-null object\n",
      "reviewText        5721364 non-null object\n",
      "summary           5719911 non-null object\n",
      "unixReviewTime    5722988 non-null int64\n",
      "vote              737567 non-null object\n",
      "image             6189 non-null object\n",
      "dtypes: bool(1), float64(1), int64(1), object(9)\n",
      "memory usage: 529.4+ MB\n"
     ]
    }
   ],
   "source": [
    "#check dataset info\n",
    "re_KS.info(verbose=True, null_counts=True)"
   ]
  },
  {
   "cell_type": "code",
   "execution_count": 24,
   "metadata": {},
   "outputs": [],
   "source": [
    "#drop columns\n",
    "\n",
    "re_KS = re_KS.drop(columns=['reviewTime','reviewerName','unixReviewTime','vote','style','image'])"
   ]
  },
  {
   "cell_type": "markdown",
   "metadata": {},
   "source": [
    "#### 2.2.1.11 Category 'Digital_Music'"
   ]
  },
  {
   "cell_type": "code",
   "execution_count": 35,
   "metadata": {},
   "outputs": [
    {
     "name": "stdout",
     "output_type": "stream",
     "text": [
      "<class 'pandas.core.frame.DataFrame'>\n",
      "Int64Index: 1584082 entries, 0 to 1584081\n",
      "Data columns (total 12 columns):\n",
      "overall           1584082 non-null float64\n",
      "verified          1584082 non-null bool\n",
      "reviewTime        1584082 non-null object\n",
      "reviewerID        1584082 non-null object\n",
      "asin              1584082 non-null object\n",
      "style             1310814 non-null object\n",
      "reviewerName      1584001 non-null object\n",
      "reviewText        1582629 non-null object\n",
      "summary           1583547 non-null object\n",
      "unixReviewTime    1584082 non-null int64\n",
      "vote              124722 non-null object\n",
      "image             6591 non-null object\n",
      "dtypes: bool(1), float64(1), int64(1), object(9)\n",
      "memory usage: 146.5+ MB\n"
     ]
    }
   ],
   "source": [
    "#check dataset info\n",
    "re_DM.info(verbose=True, null_counts=True)"
   ]
  },
  {
   "cell_type": "code",
   "execution_count": 36,
   "metadata": {},
   "outputs": [],
   "source": [
    "#drop columns\n",
    "\n",
    "re_DM = re_DM.drop(columns=['reviewTime','reviewerName','unixReviewTime','vote','style','image'])"
   ]
  },
  {
   "cell_type": "markdown",
   "metadata": {},
   "source": [
    "#### 2.2.1.12 Category 'Magazine_Subscription'"
   ]
  },
  {
   "cell_type": "code",
   "execution_count": 38,
   "metadata": {},
   "outputs": [
    {
     "name": "stdout",
     "output_type": "stream",
     "text": [
      "<class 'pandas.core.frame.DataFrame'>\n",
      "Int64Index: 89689 entries, 0 to 89688\n",
      "Data columns (total 12 columns):\n",
      "overall           89689 non-null float64\n",
      "vote              24103 non-null object\n",
      "verified          89689 non-null bool\n",
      "reviewTime        89689 non-null object\n",
      "reviewerID        89689 non-null object\n",
      "asin              89689 non-null object\n",
      "reviewerName      89687 non-null object\n",
      "reviewText        89656 non-null object\n",
      "summary           89670 non-null object\n",
      "unixReviewTime    89689 non-null int64\n",
      "style             51398 non-null object\n",
      "image             135 non-null object\n",
      "dtypes: bool(1), float64(1), int64(1), object(9)\n",
      "memory usage: 8.3+ MB\n"
     ]
    }
   ],
   "source": [
    "#check dataset info\n",
    "re_MS.info(verbose=True, null_counts=True)"
   ]
  },
  {
   "cell_type": "code",
   "execution_count": 39,
   "metadata": {},
   "outputs": [],
   "source": [
    "#drop columns\n",
    "\n",
    "re_MS = re_MS.drop(columns=['reviewTime','reviewerName','unixReviewTime','vote','style','image'])"
   ]
  },
  {
   "cell_type": "markdown",
   "metadata": {},
   "source": [
    "### 2.2.2 Dataset 'product' Trimming"
   ]
  },
  {
   "cell_type": "markdown",
   "metadata": {},
   "source": [
    "Candidates for dataset 'product' has already been determined in previous section **1.2.2 Dataset 'product' Analysis**. <br>\n",
    "\n",
    "\n",
    "* Needs To Be Maintained:    **title , asin , brand**\n",
    "* May Be Maintained If Possible:   **also_view , also_buy , main_cat**\n",
    "* Candidates For Data Trimming:  **image , feature , date , description , price , fit , details , similar_item , tech1 , category , rank**\n",
    "\n",
    "The columns in 'May Be Maintained If Possible' will be stored for now until the end of data cleaning process and then be checked for viability one more time."
   ]
  },
  {
   "cell_type": "markdown",
   "metadata": {},
   "source": [
    "#### 2.2.2.1 Category 'Movies_and_TVs'"
   ]
  },
  {
   "cell_type": "code",
   "execution_count": 88,
   "metadata": {},
   "outputs": [
    {
     "name": "stdout",
     "output_type": "stream",
     "text": [
      "<class 'pandas.core.frame.DataFrame'>\n",
      "Int64Index: 203970 entries, 0 to 203969\n",
      "Data columns (total 15 columns):\n",
      "category       203745 non-null object\n",
      "title          203900 non-null object\n",
      "rank           201909 non-null object\n",
      "main_cat       203922 non-null object\n",
      "asin           203970 non-null object\n",
      "image          37947 non-null object\n",
      "description    174965 non-null object\n",
      "brand          138384 non-null object\n",
      "also_buy       95170 non-null object\n",
      "also_view      93860 non-null object\n",
      "price          107712 non-null object\n",
      "details        195495 non-null object\n",
      "feature        172 non-null object\n",
      "date           38 non-null object\n",
      "tech1          6 non-null object\n",
      "dtypes: object(15)\n",
      "memory usage: 24.9+ MB\n"
     ]
    }
   ],
   "source": [
    "#check dataset info\n",
    "pr_MTV.info(verbose=True, null_counts=True)"
   ]
  },
  {
   "cell_type": "code",
   "execution_count": 89,
   "metadata": {},
   "outputs": [],
   "source": [
    "#drop columns\n",
    "\n",
    "pr_MTV = pr_MTV.drop(columns=['image','feature','date','description','price','details','category','tech1','rank'])"
   ]
  },
  {
   "cell_type": "markdown",
   "metadata": {},
   "source": [
    "#### 2.2.2.2 Category 'Kindle_Store'"
   ]
  },
  {
   "cell_type": "code",
   "execution_count": 90,
   "metadata": {},
   "outputs": [
    {
     "name": "stdout",
     "output_type": "stream",
     "text": [
      "<class 'pandas.core.frame.DataFrame'>\n",
      "Int64Index: 493552 entries, 0 to 493551\n",
      "Data columns (total 18 columns):\n",
      "category        493552 non-null object\n",
      "tech1           493552 non-null object\n",
      "description     493552 non-null object\n",
      "fit             493552 non-null object\n",
      "title           493552 non-null object\n",
      "also_buy        493552 non-null object\n",
      "image           493552 non-null object\n",
      "tech2           493552 non-null object\n",
      "brand           493552 non-null object\n",
      "feature         493552 non-null object\n",
      "rank            493552 non-null object\n",
      "also_view       493552 non-null object\n",
      "main_cat        493552 non-null object\n",
      "similar_item    493552 non-null object\n",
      "date            493552 non-null object\n",
      "price           493552 non-null object\n",
      "asin            493552 non-null object\n",
      "details         493550 non-null object\n",
      "dtypes: object(18)\n",
      "memory usage: 71.5+ MB\n"
     ]
    }
   ],
   "source": [
    "#check dataset info\n",
    "pr_KS.info(verbose=True, null_counts=True)"
   ]
  },
  {
   "cell_type": "code",
   "execution_count": 91,
   "metadata": {},
   "outputs": [],
   "source": [
    "#drop columns  \n",
    "\n",
    "pr_KS = pr_KS.drop(columns=['image','feature','date','description','price','fit','details','similar_item','tech1','tech2','category','also_buy','also_view','brand'])"
   ]
  },
  {
   "cell_type": "markdown",
   "metadata": {},
   "source": [
    "#### 2.2.2.3 Category 'Digital_Music'"
   ]
  },
  {
   "cell_type": "code",
   "execution_count": 21,
   "metadata": {},
   "outputs": [
    {
     "name": "stdout",
     "output_type": "stream",
     "text": [
      "<class 'pandas.core.frame.DataFrame'>\n",
      "Int64Index: 465392 entries, 0 to 465391\n",
      "Data columns (total 14 columns):\n",
      "title          395452 non-null object\n",
      "also_buy       108477 non-null object\n",
      "brand          60374 non-null object\n",
      "rank           444407 non-null object\n",
      "also_view      48208 non-null object\n",
      "price          45713 non-null object\n",
      "asin           465392 non-null object\n",
      "description    36870 non-null object\n",
      "image          23407 non-null object\n",
      "details        463852 non-null object\n",
      "date           5 non-null object\n",
      "feature        88 non-null object\n",
      "category       7 non-null object\n",
      "main_cat       1 non-null object\n",
      "dtypes: object(14)\n",
      "memory usage: 53.3+ MB\n"
     ]
    }
   ],
   "source": [
    "#check dataset info\n",
    "pr_DM.info(verbose=True, null_counts=True)"
   ]
  },
  {
   "cell_type": "code",
   "execution_count": 22,
   "metadata": {},
   "outputs": [],
   "source": [
    "#drop columns  \n",
    "\n",
    "pr_DM = pr_DM.drop(columns=['category','image','feature','date','description','price','also_buy','details','also_view','brand','rank'])"
   ]
  },
  {
   "cell_type": "markdown",
   "metadata": {},
   "source": [
    "#### 2.2.2.4 Category 'Magazine_Subscriptions'"
   ]
  },
  {
   "cell_type": "code",
   "execution_count": 20,
   "metadata": {},
   "outputs": [
    {
     "ename": "NameError",
     "evalue": "name 'pr_MS' is not defined",
     "output_type": "error",
     "traceback": [
      "\u001b[0;31m---------------------------------------------------------------------------\u001b[0m",
      "\u001b[0;31mNameError\u001b[0m                                 Traceback (most recent call last)",
      "\u001b[0;32m<ipython-input-20-a3f8c27f8712>\u001b[0m in \u001b[0;36m<module>\u001b[0;34m\u001b[0m\n\u001b[1;32m      1\u001b[0m \u001b[0;31m#check dataset info\u001b[0m\u001b[0;34m\u001b[0m\u001b[0;34m\u001b[0m\u001b[0;34m\u001b[0m\u001b[0m\n\u001b[0;32m----> 2\u001b[0;31m \u001b[0mpr_MS\u001b[0m\u001b[0;34m.\u001b[0m\u001b[0minfo\u001b[0m\u001b[0;34m(\u001b[0m\u001b[0mverbose\u001b[0m\u001b[0;34m=\u001b[0m\u001b[0;32mTrue\u001b[0m\u001b[0;34m,\u001b[0m \u001b[0mnull_counts\u001b[0m\u001b[0;34m=\u001b[0m\u001b[0;32mTrue\u001b[0m\u001b[0;34m)\u001b[0m\u001b[0;34m\u001b[0m\u001b[0;34m\u001b[0m\u001b[0m\n\u001b[0m",
      "\u001b[0;31mNameError\u001b[0m: name 'pr_MS' is not defined"
     ]
    }
   ],
   "source": [
    "#check dataset info\n",
    "pr_MS.info(verbose=True, null_counts=True)"
   ]
  },
  {
   "cell_type": "code",
   "execution_count": 95,
   "metadata": {},
   "outputs": [],
   "source": [
    "#drop columns  \n",
    "\n",
    "pr_MS = pr_MS.drop(columns=['category','image','also_buy','brand','description','rank','details','also_view'])"
   ]
  },
  {
   "cell_type": "markdown",
   "metadata": {},
   "source": [
    "#### 2.2.2.5 Category 'Books'"
   ]
  },
  {
   "cell_type": "code",
   "execution_count": 5,
   "metadata": {},
   "outputs": [
    {
     "name": "stdout",
     "output_type": "stream",
     "text": [
      "<class 'pandas.core.frame.DataFrame'>\n",
      "Int64Index: 2935525 entries, 0 to 2935524\n",
      "Data columns (total 17 columns):\n",
      "description     object\n",
      "title           object\n",
      "also_buy        object\n",
      "brand           object\n",
      "rank            object\n",
      "also_view       object\n",
      "main_cat        object\n",
      "price           object\n",
      "asin            object\n",
      "category        object\n",
      "image           object\n",
      "feature         object\n",
      "date            object\n",
      "similar_item    object\n",
      "tech1           object\n",
      "details         object\n",
      "fit             object\n",
      "dtypes: object(17)\n",
      "memory usage: 403.1+ MB\n"
     ]
    }
   ],
   "source": [
    "pr_books.info()"
   ]
  },
  {
   "cell_type": "code",
   "execution_count": 6,
   "metadata": {},
   "outputs": [],
   "source": [
    "#drop columns  \n",
    "\n",
    "pr_books = pr_books.drop(columns=['rank','price','image','date','tech1','fit'])"
   ]
  },
  {
   "cell_type": "markdown",
   "metadata": {},
   "source": [
    "## 2.3 Null Check"
   ]
  },
  {
   "cell_type": "markdown",
   "metadata": {},
   "source": [
    "Null objects in dataset can lower the accuracy of the model. <br> Aside from the NaN object that pandas recognizes, there may be further data points that are null but are represented in different way. <br> This sectino will dive further into checking the data values and address null values."
   ]
  },
  {
   "cell_type": "markdown",
   "metadata": {},
   "source": [
    "### 2.3.1 Dataset 'review' Null Check"
   ]
  },
  {
   "cell_type": "markdown",
   "metadata": {},
   "source": [
    "#### 2.3.1.1 Category 'AMAZON_FASHION'"
   ]
  },
  {
   "cell_type": "code",
   "execution_count": 210,
   "metadata": {},
   "outputs": [
    {
     "name": "stdout",
     "output_type": "stream",
     "text": [
      "<class 'pandas.core.frame.DataFrame'>\n",
      "Int64Index: 883636 entries, 0 to 883635\n",
      "Data columns (total 6 columns):\n",
      "overall       883636 non-null float64\n",
      "verified      883636 non-null bool\n",
      "reviewerID    883636 non-null object\n",
      "asin          883636 non-null object\n",
      "reviewText    882403 non-null object\n",
      "summary       883103 non-null object\n",
      "dtypes: bool(1), float64(1), object(4)\n",
      "memory usage: 41.3+ MB\n"
     ]
    }
   ],
   "source": [
    "re_fashion.info()"
   ]
  },
  {
   "cell_type": "markdown",
   "metadata": {},
   "source": [
    "Columns overall, verified, reviewerID, asin contains no null values. <br> We can suspect the range of values for overall (numeric ranging from 1 to 5) and verified (true or false). "
   ]
  },
  {
   "cell_type": "code",
   "execution_count": 211,
   "metadata": {},
   "outputs": [
    {
     "name": "stdout",
     "output_type": "stream",
     "text": [
      "Unique overall values:  [5. 2. 4. 3. 1.]\n",
      "Unique verified values:  [ True False]\n"
     ]
    }
   ],
   "source": [
    "print('Unique overall values: ',re_fashion.overall.unique())\n",
    "print('Unique verified values: ',re_fashion.verified.unique())"
   ]
  },
  {
   "cell_type": "markdown",
   "metadata": {},
   "source": [
    " <br> However, reviewerID and asin can be any of the users or product names so there is no point to check for unique values but we will check if the values follow the reviewerID and asin feature's constraints. \n",
    " \n",
    " For reviewerID, it can be of different lengths so they will be checked for any outliers. <br>\n",
    " In case of asin, it follows a strict 10 alphanumeric characters."
   ]
  },
  {
   "cell_type": "code",
   "execution_count": 10,
   "metadata": {},
   "outputs": [],
   "source": [
    "\"\"\"\n",
    "Finds unique lengths of data values\n",
    "\n",
    "Takes in Pandas Series and outputs unique lengths in the series\n",
    "\"\"\"\n",
    "\n",
    "def findUniqueLength(srs):\n",
    "    \n",
    "    return set([len(x) for x in srs])\n",
    "    "
   ]
  },
  {
   "cell_type": "code",
   "execution_count": 213,
   "metadata": {},
   "outputs": [
    {
     "name": "stdout",
     "output_type": "stream",
     "text": [
      "ReviewerID value lengths:  {10, 11, 12, 13, 14, 19, 20}\n",
      "ASIN value lengths:  {10}\n"
     ]
    }
   ],
   "source": [
    "print('ReviewerID value lengths: ',findUniqueLength(re_fashion.reviewerID))\n",
    "print('ASIN value lengths: ',findUniqueLength(re_fashion.asin))"
   ]
  },
  {
   "cell_type": "markdown",
   "metadata": {},
   "source": [
    "All required fields have been accounted for. <br> \n",
    "\n",
    "Columns reviewText and summary contains some null values. "
   ]
  },
  {
   "cell_type": "code",
   "execution_count": 214,
   "metadata": {},
   "outputs": [
    {
     "name": "stdout",
     "output_type": "stream",
     "text": [
      "Examples of valid reviewText data: \n",
      "\n",
      " ['Exactly what I needed.'\n",
      " \"I agree with the other review, the opening is too small.  I almost bent the hook on some very expensive earrings trying to get these up higher than just the end so they're not seen.  Would not buy again but for the price, not sending back.\"\n",
      " \"Love these... I am going to order another pack to keep in work; someone (including myself) is always losing the back to an earring.  I don't understand why all fish hook earrings don't have them.  Just wish that they were a tiny bit longer.  :)\"]\n",
      "\n",
      "\n",
      "Examples of null reviewText data: \n",
      "\n",
      " 303     NaN\n",
      "2651    NaN\n",
      "5094    NaN\n",
      "Name: reviewText, dtype: object\n",
      "\n",
      "\n",
      "Any empty string values:  0\n"
     ]
    }
   ],
   "source": [
    "print('Examples of valid reviewText data: \\n\\n',re_fashion.reviewText.values[:3])\n",
    "print('\\n')\n",
    "print('Examples of null reviewText data: \\n\\n', re_fashion.loc[re_fashion.reviewText.isnull()].reviewText.head(3))\n",
    "print('\\n')\n",
    "print('Any empty string values: ',len(re_fashion.loc[re_fashion.reviewText == ''].reviewText))\n"
   ]
  },
  {
   "cell_type": "code",
   "execution_count": 215,
   "metadata": {},
   "outputs": [
    {
     "name": "stdout",
     "output_type": "stream",
     "text": [
      "Examples of valid summary data: \n",
      "\n",
      " ['perfect replacements!!'\n",
      " 'I agree with the other review, the opening is ...' \"My New 'Friends' !!\"]\n",
      "\n",
      "\n",
      "Examples of null summary data: \n",
      "\n",
      " 1030    NaN\n",
      "8917    NaN\n",
      "9422    NaN\n",
      "Name: summary, dtype: object\n",
      "\n",
      "\n",
      "Any empty string values:  0\n",
      "\n",
      "\n",
      "Column reviewText:  1233  out of  883636\n",
      "Column summary:  533  out of  883636\n"
     ]
    }
   ],
   "source": [
    "print('Examples of valid summary data: \\n\\n',re_fashion.summary.values[:3])\n",
    "print('\\n')\n",
    "print('Examples of null summary data: \\n\\n', re_fashion.loc[re_fashion.summary.isnull()].summary.head(3))\n",
    "print('\\n')\n",
    "print('Any empty string values: ', len(re_fashion.loc[re_fashion.summary == ''].summary))\n",
    "\n",
    "print('\\n')\n",
    "print('Column reviewText: ',len(re_fashion.loc[re_fashion.reviewText.isnull()].reviewText),' out of ',len(re_fashion.reviewText))\n",
    "print('Column summary: ',len(re_fashion.loc[re_fashion.summary.isnull()].summary),' out of ',len(re_fashion.summary))\n"
   ]
  },
  {
   "cell_type": "markdown",
   "metadata": {},
   "source": [
    "The model may not like null values as NaN so we will replace them with empty string, ''. "
   ]
  },
  {
   "cell_type": "code",
   "execution_count": 216,
   "metadata": {},
   "outputs": [],
   "source": [
    "#replace NaN with empty string \n",
    "\n",
    "re_fashion[['reviewText','summary']] = re_fashion[['reviewText','summary']].fillna('')"
   ]
  },
  {
   "cell_type": "code",
   "execution_count": 217,
   "metadata": {},
   "outputs": [
    {
     "name": "stdout",
     "output_type": "stream",
     "text": [
      "reviewText empty string count:  1233\n",
      "summary empty string count:  533\n"
     ]
    }
   ],
   "source": [
    "#check if empty string count is same as previous NaN count\n",
    "\n",
    "print('reviewText empty string count: ', len(re_fashion.loc[re_fashion.reviewText == ''].reviewText))\n",
    "print('summary empty string count: ', len(re_fashion.loc[re_fashion.summary == ''].summary))"
   ]
  },
  {
   "cell_type": "markdown",
   "metadata": {},
   "source": [
    "All null values have been dealt with."
   ]
  },
  {
   "cell_type": "markdown",
   "metadata": {},
   "source": [
    "#### 2.3.1.2 Category 'All_Beauty'"
   ]
  },
  {
   "cell_type": "markdown",
   "metadata": {},
   "source": [
    "To reduce redudant explanation, only codes and output will be shown from here and the rest of the categories. <br>Refer to section **2.3.1.1 Category 'AMAZON_FASHION'** for process details."
   ]
  },
  {
   "cell_type": "code",
   "execution_count": 236,
   "metadata": {},
   "outputs": [
    {
     "name": "stdout",
     "output_type": "stream",
     "text": [
      "<class 'pandas.core.frame.DataFrame'>\n",
      "Int64Index: 371345 entries, 0 to 371344\n",
      "Data columns (total 6 columns):\n",
      "overall       371345 non-null float64\n",
      "verified      371345 non-null bool\n",
      "reviewerID    371345 non-null object\n",
      "asin          371345 non-null object\n",
      "reviewText    370946 non-null object\n",
      "summary       371139 non-null object\n",
      "dtypes: bool(1), float64(1), object(4)\n",
      "memory usage: 17.4+ MB\n"
     ]
    }
   ],
   "source": [
    "#check dataset info\n",
    "re_beauty.info()"
   ]
  },
  {
   "cell_type": "code",
   "execution_count": 9,
   "metadata": {},
   "outputs": [],
   "source": [
    "#this codes will be reused for all the categories so better to call it as method\n",
    "\n",
    "\"\"\"\n",
    "Analyzes review dataset for null\n",
    "\n",
    "Takes in dataframe and outputs various null and valid related information\n",
    "\n",
    "\"\"\"\n",
    "\n",
    "def analyzeNull(df):\n",
    "    \n",
    "    print('Unique overall values: ',df.overall.unique())\n",
    "    print('Unique verified values: ',df.verified.unique())\n",
    "\n",
    "\n",
    "    print('ReviewerID value lengths: ',findUniqueLength(df.reviewerID))\n",
    "    print('ASIN value lengths: ',findUniqueLength(df.asin))\n",
    "\n",
    "\n",
    "    print('Examples of valid reviewText data: \\n\\n',df.reviewText.values[:3])\n",
    "    print('\\n')\n",
    "    print('Examples of null reviewText data: \\n\\n', df.loc[df.reviewText.isnull()].reviewText.head(3))\n",
    "    print('Any empty string reviewText values: ',len(df.loc[df.reviewText == ''].reviewText))\n",
    "\n",
    "    print('\\n')\n",
    "\n",
    "    print('Examples of valid summary data: \\n\\n',df.summary.values[:3])\n",
    "    print('\\n')\n",
    "    print('Examples of null summary data: \\n\\n', df.loc[df.summary.isnull()].summary.head(3))\n",
    "    print('Any empty string summary values: ', len(df.loc[df.summary == ''].summary))\n",
    "\n",
    "    print('\\n')\n",
    "    print('Column reviewText: ',len(df.loc[df.reviewText.isnull()].reviewText),' null out of ',len(df.reviewText))\n",
    "    print('Column summary: ',len(df.loc[df.summary.isnull()].summary),' null out of ',len(df.summary))\n",
    "\n",
    "    "
   ]
  },
  {
   "cell_type": "code",
   "execution_count": 238,
   "metadata": {},
   "outputs": [
    {
     "name": "stdout",
     "output_type": "stream",
     "text": [
      "Unique overall values:  [1. 4. 5. 2. 3.]\n",
      "Unique verified values:  [ True False]\n",
      "ReviewerID value lengths:  {10, 11, 12, 13, 14, 19, 20}\n",
      "ASIN value lengths:  {10}\n",
      "Examples of valid reviewText data: \n",
      "\n",
      " ['great'\n",
      " \"My  husband wanted to reading about the Negro Baseball and this a great addition to his library\\n Our library doesn't haveinformation so this book is his start. Tthank you\"\n",
      " 'This book was very informative, covering all aspects of game.']\n",
      "\n",
      "\n",
      "Examples of null reviewText data: \n",
      "\n",
      " 547     NaN\n",
      "3594    NaN\n",
      "4105    NaN\n",
      "Name: reviewText, dtype: object\n",
      "Any empty string reviewText values:  0\n",
      "\n",
      "\n",
      "Examples of valid summary data: \n",
      "\n",
      " ['One Star'\n",
      " \"... to reading about the Negro Baseball and this a great addition to his library Our library doesn't haveinformation so ...\"\n",
      " 'Worth the Read']\n",
      "\n",
      "\n",
      "Examples of null summary data: \n",
      "\n",
      " 6979    NaN\n",
      "7709    NaN\n",
      "8317    NaN\n",
      "Name: summary, dtype: object\n",
      "Any empty string summary values:  0\n",
      "\n",
      "\n",
      "Column reviewText:  399  null out of  371345\n",
      "Column summary:  206  null out of  371345\n"
     ]
    }
   ],
   "source": [
    "analyzeNull(re_beauty)"
   ]
  },
  {
   "cell_type": "code",
   "execution_count": 228,
   "metadata": {},
   "outputs": [],
   "source": [
    "#replace NaN with empty string \n",
    "\n",
    "re_beauty[['reviewText','summary']] = re_beauty[['reviewText','summary']].fillna('')"
   ]
  },
  {
   "cell_type": "code",
   "execution_count": 229,
   "metadata": {},
   "outputs": [
    {
     "name": "stdout",
     "output_type": "stream",
     "text": [
      "reviewText empty string count:  399\n",
      "summary empty string count:  206\n"
     ]
    }
   ],
   "source": [
    "#check if empty string count is same as previous NaN count\n",
    "\n",
    "print('reviewText empty string count: ', len(re_beauty.loc[re_beauty.reviewText == ''].reviewText))\n",
    "print('summary empty string count: ', len(re_beauty.loc[re_beauty.summary == ''].summary))"
   ]
  },
  {
   "cell_type": "markdown",
   "metadata": {},
   "source": [
    "#### 2.3.1.3 Category 'Appliances'"
   ]
  },
  {
   "cell_type": "markdown",
   "metadata": {},
   "source": [
    "To reduce redudant explanation, only codes and output will be shown from here and the rest of the categories. <br>Refer to section **2.3.1.1 Category 'AMAZON_FASHION'** for process details."
   ]
  },
  {
   "cell_type": "code",
   "execution_count": 239,
   "metadata": {},
   "outputs": [
    {
     "name": "stdout",
     "output_type": "stream",
     "text": [
      "<class 'pandas.core.frame.DataFrame'>\n",
      "Int64Index: 602777 entries, 0 to 602776\n",
      "Data columns (total 6 columns):\n",
      "overall       602777 non-null float64\n",
      "verified      602777 non-null bool\n",
      "reviewerID    602777 non-null object\n",
      "asin          602777 non-null object\n",
      "reviewText    602453 non-null object\n",
      "summary       602649 non-null object\n",
      "dtypes: bool(1), float64(1), object(4)\n",
      "memory usage: 28.2+ MB\n"
     ]
    }
   ],
   "source": [
    "re_appliances.info()"
   ]
  },
  {
   "cell_type": "code",
   "execution_count": 240,
   "metadata": {},
   "outputs": [
    {
     "name": "stdout",
     "output_type": "stream",
     "text": [
      "Unique overall values:  [5. 4. 3. 1. 2.]\n",
      "Unique verified values:  [False  True]\n",
      "ReviewerID value lengths:  {10, 11, 12, 13, 14, 19, 20}\n",
      "ASIN value lengths:  {10}\n",
      "Examples of valid reviewText data: \n",
      "\n",
      " [\"Not one thing in this book seemed an obvious original thought. However, the clarity with which this author explains how innovation happens is remarkable.\\n\\nAlan Gregerman discusses the meaning of human interactions and the kinds of situations that tend to inspire original and/or clear thinking that leads to innovation. These things include how people communicate in certain situations such as when they are outside of their normal patterns.\\n\\nGregerman identifies the ingredients that make innovation more likely. This includes people being compelled to interact when they normally wouldn't, leading to serendipity. Sometimes the phenomenon will occur through collaboration, and sometimes by chance such as when an individual is away from home on travel.\\n\\nI recommend this book for its common sense, its truth and the apparent mastery of the subject by the author.\"\n",
      " 'I have enjoyed Dr. Alan Gregerman\\'s weekly blog ([...] and two previous books since taking an innovation class with Alan over a decade ago.  He opened my eyes to seeing the world in a fresh way and also taught me structured techniques that I can use to increase the creative problem solving skills of teams and individuals.\\n\\nAlan untangles the difference between invention and innovation and makes it much easier to see that 99%+ of innovation is adaption of proven inventions borrowed from other industries, disciplines, contexts, and cultures.\\n\\nHis previous book, Surrounded by Geniuses, is excellent.  It is a great mix of ideas and memorable examples of his insights in action.\\n\\nHis newest book, The Necessity of Strangers, builds on that previous body of knowledge and delves further into a critical dimension of his innovation research about the power of making connections outside of one\\'s group to discover alternative approaches to addressing a challenge.  The book is full of excellent examples of individuals and organizations tackling challenges by seeking ideas and insights from \"strangers\".  Alan borrows heavily from personal experience which enriches the storytelling aspect that makes his writing so accessible.\\n\\nIf you have not seen Alan teaching his ideas or present to an audience, I would highly recommend it.  He has been a featured speaker at a solution architect leadership development program at our firm.  He recently presented the ideas from The Necessity of Strangers to a large audience of executives at our firm that left people talking, engaged, and energized.\\n\\nI highly recommend his books and Alan\\'s live presentations.'\n",
      " 'Alan Gregerman believes that innovation comes from viewing problems from different and fresh perspectives.  In The Necessity of Strangers, he tells short, simple stories to help free us from current, legacy views of the problem at hand.  He then provides a toolbox containing practical exercises - to stretch our thinking, to collaborate more effectively, to find strangers - all focused on getting us to view problems from different perspectives.  The Necessity of Strangers is a quick read that I keep on the desk as a constant reminder to seek novel views from new sources.  Like matter to anti-matter, The Necessity of Strangers is the perfect and completing complement to his earlier Surrounded by Geniuses.  Gil Miller, Chief Technology Officer, Noblis']\n",
      "\n",
      "\n",
      "Examples of null reviewText data: \n",
      "\n",
      " 8480     NaN\n",
      "11322    NaN\n",
      "11713    NaN\n",
      "Name: reviewText, dtype: object\n",
      "Any empty string reviewText values:  0\n",
      "\n",
      "\n",
      "Examples of valid summary data: \n",
      "\n",
      " ['Clear on what leads to innovation'\n",
      " 'Becoming more innovative by opening yourself to conversations with \"strangers\"'\n",
      " 'The World from Different Perspectives']\n",
      "\n",
      "\n",
      "Examples of null summary data: \n",
      "\n",
      " 27671    NaN\n",
      "29900    NaN\n",
      "38894    NaN\n",
      "Name: summary, dtype: object\n",
      "Any empty string summary values:  0\n",
      "\n",
      "\n",
      "Column reviewText:  324  null out of  602777\n",
      "Column summary:  128  null out of  602777\n"
     ]
    }
   ],
   "source": [
    "analyzeNull(re_appliances)"
   ]
  },
  {
   "cell_type": "code",
   "execution_count": 241,
   "metadata": {},
   "outputs": [],
   "source": [
    "#replace NaN with empty string \n",
    "\n",
    "re_appliances[['reviewText','summary']] = re_appliances[['reviewText','summary']].fillna('')"
   ]
  },
  {
   "cell_type": "code",
   "execution_count": 242,
   "metadata": {},
   "outputs": [
    {
     "name": "stdout",
     "output_type": "stream",
     "text": [
      "reviewText empty string count:  324\n",
      "summary empty string count:  128\n"
     ]
    }
   ],
   "source": [
    "#check if empty string count is same as previous NaN count\n",
    "\n",
    "print('reviewText empty string count: ', len(re_appliances.loc[re_appliances.reviewText == ''].reviewText))\n",
    "print('summary empty string count: ', len(re_appliances.loc[re_appliances.summary == ''].summary))"
   ]
  },
  {
   "cell_type": "markdown",
   "metadata": {},
   "source": [
    "#### 2.3.1.4 Category 'Arts_Crafts_and_Sewing'"
   ]
  },
  {
   "cell_type": "markdown",
   "metadata": {},
   "source": [
    "To reduce redudant explanation, only codes and output will be shown from here and the rest of the categories. <br>Refer to section **2.3.1.1 Category 'AMAZON_FASHION'** for process details."
   ]
  },
  {
   "cell_type": "code",
   "execution_count": 258,
   "metadata": {},
   "outputs": [
    {
     "name": "stdout",
     "output_type": "stream",
     "text": [
      "<class 'pandas.core.frame.DataFrame'>\n",
      "Int64Index: 2875917 entries, 0 to 2875916\n",
      "Data columns (total 6 columns):\n",
      "overall       2875917 non-null float64\n",
      "verified      2875917 non-null bool\n",
      "reviewerID    2875917 non-null object\n",
      "asin          2875917 non-null object\n",
      "reviewText    2873387 non-null object\n",
      "summary       2874960 non-null object\n",
      "dtypes: bool(1), float64(1), object(4)\n",
      "memory usage: 134.4+ MB\n"
     ]
    }
   ],
   "source": [
    "re_ACS.info(verbose=True,null_counts=True)"
   ]
  },
  {
   "cell_type": "code",
   "execution_count": 259,
   "metadata": {},
   "outputs": [
    {
     "name": "stdout",
     "output_type": "stream",
     "text": [
      "Unique overall values:  [5. 2. 4. 3. 1.]\n",
      "Unique verified values:  [ True False]\n",
      "ReviewerID value lengths:  {10, 11, 12, 13, 14, 18, 19, 20}\n",
      "ASIN value lengths:  {10}\n",
      "Examples of valid reviewText data: \n",
      "\n",
      " [\"I've read this book already and I've got plans for using it in future projects.  I'm DELIGHTED with the patterns in it and the advice and suggestions are just as good as you would expect from Melissa Leapman.  I'm so glad that I bought this.  As a lifelong and addicted knitter, this has been a valuable addition to my already good sized book collection.  Thanks Melissa for this very special knitting treat.\"\n",
      " 'Nicely written directions.' 'love it']\n",
      "\n",
      "\n",
      "Examples of null reviewText data: \n",
      "\n",
      " 5468    NaN\n",
      "7599    NaN\n",
      "8032    NaN\n",
      "Name: reviewText, dtype: object\n",
      "Any empty string reviewText values:  0\n",
      "\n",
      "\n",
      "Examples of valid summary data: \n",
      "\n",
      " ['A  WONDERFUL BOOK' 'Nice' 'Five Stars']\n",
      "\n",
      "\n",
      "Examples of null summary data: \n",
      "\n",
      " 5585     NaN\n",
      "10904    NaN\n",
      "10952    NaN\n",
      "Name: summary, dtype: object\n",
      "Any empty string summary values:  0\n",
      "\n",
      "\n",
      "Column reviewText:  2530  null out of  2875917\n",
      "Column summary:  957  null out of  2875917\n"
     ]
    }
   ],
   "source": [
    "analyzeNull(re_ACS)"
   ]
  },
  {
   "cell_type": "code",
   "execution_count": 260,
   "metadata": {},
   "outputs": [],
   "source": [
    "#replace NaN with empty string \n",
    "\n",
    "re_ACS[['reviewText','summary']] = re_ACS[['reviewText','summary']].fillna('')"
   ]
  },
  {
   "cell_type": "code",
   "execution_count": 261,
   "metadata": {},
   "outputs": [
    {
     "name": "stdout",
     "output_type": "stream",
     "text": [
      "reviewText empty string count:  2530\n",
      "summary empty string count:  957\n"
     ]
    }
   ],
   "source": [
    "#check if empty string count is same as previous NaN count\n",
    "\n",
    "print('reviewText empty string count: ', len(re_ACS.loc[re_ACS.reviewText == ''].reviewText))\n",
    "print('summary empty string count: ', len(re_ACS.loc[re_ACS.summary == ''].summary))"
   ]
  },
  {
   "cell_type": "markdown",
   "metadata": {},
   "source": [
    "#### 2.3.1.5 Category 'Automotive'\n",
    "\n",
    "To reduce redudant explanation, only codes and output will be shown from here and the rest of the categories. <br>Refer to section **2.3.1.1 Category 'AMAZON_FASHION'** for process details."
   ]
  },
  {
   "cell_type": "code",
   "execution_count": 273,
   "metadata": {},
   "outputs": [
    {
     "name": "stdout",
     "output_type": "stream",
     "text": [
      "<class 'pandas.core.frame.DataFrame'>\n",
      "Int64Index: 7990166 entries, 0 to 7990165\n",
      "Data columns (total 6 columns):\n",
      "overall       7990166 non-null float64\n",
      "verified      7990166 non-null bool\n",
      "reviewerID    7990166 non-null object\n",
      "asin          7990166 non-null object\n",
      "reviewText    7982068 non-null object\n",
      "summary       7987439 non-null object\n",
      "dtypes: bool(1), float64(1), object(4)\n",
      "memory usage: 373.4+ MB\n"
     ]
    }
   ],
   "source": [
    "re_automotive.info(verbose=True,null_counts=True)"
   ]
  },
  {
   "cell_type": "code",
   "execution_count": 274,
   "metadata": {},
   "outputs": [
    {
     "name": "stdout",
     "output_type": "stream",
     "text": [
      "Unique overall values:  [4. 2. 5. 1. 3.]\n",
      "Unique verified values:  [ True False]\n",
      "ReviewerID value lengths:  {10, 11, 12, 13, 14, 18, 19, 20}\n",
      "ASIN value lengths:  {10}\n",
      "Examples of valid reviewText data: \n",
      "\n",
      " [\"it's fine. I just would like the stickers to be a little more secure as I'm not sure I trust the gluing power of it. But for the moment it holds my keys.\"\n",
      " \"took me three returns to get one that didn't wobble, and it's still not super stable but whatever, im tired of returning so ill just deal with it. Too bad because the product actually looks and functions well\"\n",
      " 'While the product is fine the description and picture are wrong. Describing headline states Bamboo and shows a light colored wood. I bought this to match other pieces I have. What I got is much darker. Box was checked \"black\" vs. \"white\" and box states material is plywood (Basswood/Waunut). No packing slip. I will probably give this away to a friend and try to find what I\\'m looking for elsewhere. I purchased this on 08/08/2015 for $11.99 and I confirmed that I checked the box for \"pattern 1\" which is the light color. Five days later it\\'s now $8.99.']\n",
      "\n",
      "\n",
      "Examples of null reviewText data: \n",
      "\n",
      " 312      NaN\n",
      "4618     NaN\n",
      "14167    NaN\n",
      "Name: reviewText, dtype: object\n",
      "Any empty string reviewText values:  0\n",
      "\n",
      "\n",
      "Examples of valid summary data: \n",
      "\n",
      " ['Serve its purpose' \"and it's still not super stable but whatever\"\n",
      " 'Beware! Description is wrong.']\n",
      "\n",
      "\n",
      "Examples of null summary data: \n",
      "\n",
      " 3598    NaN\n",
      "4804    NaN\n",
      "9139    NaN\n",
      "Name: summary, dtype: object\n",
      "Any empty string summary values:  0\n",
      "\n",
      "\n",
      "Column reviewText:  8098  null out of  7990166\n",
      "Column summary:  2727  null out of  7990166\n"
     ]
    }
   ],
   "source": [
    "analyzeNull(re_automotive)"
   ]
  },
  {
   "cell_type": "code",
   "execution_count": 275,
   "metadata": {},
   "outputs": [],
   "source": [
    "#replace NaN with empty string \n",
    "\n",
    "re_automotive[['reviewText','summary']] = re_automotive[['reviewText','summary']].fillna('')"
   ]
  },
  {
   "cell_type": "code",
   "execution_count": 276,
   "metadata": {},
   "outputs": [
    {
     "name": "stdout",
     "output_type": "stream",
     "text": [
      "reviewText empty string count:  8098\n",
      "summary empty string count:  2727\n"
     ]
    }
   ],
   "source": [
    "#check if empty string count is same as previous NaN count\n",
    "\n",
    "print('reviewText empty string count: ', len(re_automotive.loc[re_automotive.reviewText == ''].reviewText))\n",
    "print('summary empty string count: ', len(re_automotive.loc[re_automotive.summary == ''].summary))"
   ]
  },
  {
   "cell_type": "markdown",
   "metadata": {},
   "source": [
    "#### 2.3.1.6 Category 'Books'\n",
    "\n",
    "To reduce redudant explanation, only codes and output will be shown from here and the rest of the categories. <br>Refer to section **2.3.1.1 Category 'AMAZON_FASHION'** for process details."
   ]
  },
  {
   "cell_type": "markdown",
   "metadata": {},
   "source": [
    "#### 2.3.1.7 Category 'CDs_and_Vinyl'\n",
    "\n",
    "To reduce redudant explanation, only codes and output will be shown from here and the rest of the categories. <br>Refer to section **2.3.1.1 Category 'AMAZON_FASHION'** for process details."
   ]
  },
  {
   "cell_type": "code",
   "execution_count": 286,
   "metadata": {},
   "outputs": [
    {
     "name": "stdout",
     "output_type": "stream",
     "text": [
      "<class 'pandas.core.frame.DataFrame'>\n",
      "Int64Index: 4543369 entries, 0 to 4543368\n",
      "Data columns (total 6 columns):\n",
      "reviewerID    4543369 non-null object\n",
      "asin          4543369 non-null object\n",
      "verified      4543369 non-null bool\n",
      "reviewText    4541934 non-null object\n",
      "overall       4543369 non-null float64\n",
      "summary       4542549 non-null object\n",
      "dtypes: bool(1), float64(1), object(4)\n",
      "memory usage: 212.3+ MB\n"
     ]
    }
   ],
   "source": [
    "re_CV.info(verbose=True,null_counts=True)"
   ]
  },
  {
   "cell_type": "code",
   "execution_count": 287,
   "metadata": {},
   "outputs": [
    {
     "name": "stdout",
     "output_type": "stream",
     "text": [
      "Unique overall values:  [5. 4. 3. 1. 2.]\n",
      "Unique verified values:  [ True False]\n",
      "ReviewerID value lengths:  {9, 10, 11, 12, 13, 14, 19, 20}\n",
      "ASIN value lengths:  {10}\n",
      "Examples of valid reviewText data: \n",
      "\n",
      " ['I love this CD.  So inspiring!' 'Love it!!  Great seller!'\n",
      " \"I bought this on cassette tape in the 80's. So inspirational to me back then. Came across it again and needed to be uplifted! Keith Green's music still works magic. I bought CD's for my girls to play in their cars\"]\n",
      "\n",
      "\n",
      "Examples of null reviewText data: \n",
      "\n",
      " 1177    NaN\n",
      "6252    NaN\n",
      "8609    NaN\n",
      "Name: reviewText, dtype: object\n",
      "Any empty string reviewText values:  0\n",
      "\n",
      "\n",
      "Examples of valid summary data: \n",
      "\n",
      " ['Five Stars' 'Five Stars'\n",
      " \"I bought this on cassette tape in the 80's. ...\"]\n",
      "\n",
      "\n",
      "Examples of null summary data: \n",
      "\n",
      " 4703     NaN\n",
      "8609     NaN\n",
      "13204    NaN\n",
      "Name: summary, dtype: object\n",
      "Any empty string summary values:  0\n",
      "\n",
      "\n",
      "Column reviewText:  1435  null out of  4543369\n",
      "Column summary:  820  null out of  4543369\n"
     ]
    }
   ],
   "source": [
    "analyzeNull(re_CV)"
   ]
  },
  {
   "cell_type": "code",
   "execution_count": 288,
   "metadata": {},
   "outputs": [],
   "source": [
    "#replace NaN with empty string \n",
    "\n",
    "re_CV[['reviewText','summary']] = re_CV[['reviewText','summary']].fillna('')"
   ]
  },
  {
   "cell_type": "code",
   "execution_count": 289,
   "metadata": {},
   "outputs": [
    {
     "name": "stdout",
     "output_type": "stream",
     "text": [
      "reviewText empty string count:  1435\n",
      "summary empty string count:  820\n"
     ]
    }
   ],
   "source": [
    "#check if empty string count is same as previous NaN count\n",
    "\n",
    "print('reviewText empty string count: ', len(re_CV.loc[re_CV.reviewText == ''].reviewText))\n",
    "print('summary empty string count: ', len(re_CV.loc[re_CV.summary == ''].summary))"
   ]
  },
  {
   "cell_type": "markdown",
   "metadata": {},
   "source": [
    "#### 2.3.1.8 Category 'Cell_Phones_and_Accessories'\n",
    "\n",
    "To reduce redudant explanation, only codes and output will be shown from here and the rest of the categories. <br>Refer to section **2.3.1.1 Category 'AMAZON_FASHION'** for process details."
   ]
  },
  {
   "cell_type": "code",
   "execution_count": 299,
   "metadata": {},
   "outputs": [
    {
     "name": "stdout",
     "output_type": "stream",
     "text": [
      "<class 'pandas.core.frame.DataFrame'>\n",
      "Int64Index: 10063255 entries, 0 to 10063254\n",
      "Data columns (total 6 columns):\n",
      "overall       10063255 non-null float64\n",
      "verified      10063255 non-null bool\n",
      "reviewerID    10063255 non-null object\n",
      "asin          10063255 non-null object\n",
      "reviewText    10053882 non-null object\n",
      "summary       10057736 non-null object\n",
      "dtypes: bool(1), float64(1), object(4)\n",
      "memory usage: 470.3+ MB\n"
     ]
    }
   ],
   "source": [
    "re_CPA.info(verbose=True,null_counts=True)"
   ]
  },
  {
   "cell_type": "code",
   "execution_count": 300,
   "metadata": {},
   "outputs": [
    {
     "name": "stdout",
     "output_type": "stream",
     "text": [
      "Unique overall values:  [5. 3. 2. 4. 1.]\n",
      "Unique verified values:  [False  True]\n",
      "ReviewerID value lengths:  {7, 9, 10, 11, 12, 13, 14, 19, 20}\n",
      "ASIN value lengths:  {10}\n",
      "Examples of valid reviewText data: \n",
      "\n",
      " ['If your into space this is the Calendar for you.' 'Awesome pictures!'\n",
      " 'Great wall art and information for space exploration minded people.']\n",
      "\n",
      "\n",
      "Examples of null reviewText data: \n",
      "\n",
      " 9969     NaN\n",
      "13870    NaN\n",
      "22862    NaN\n",
      "Name: reviewText, dtype: object\n",
      "Any empty string reviewText values:  0\n",
      "\n",
      "\n",
      "Examples of valid summary data: \n",
      "\n",
      " ['Five Stars' 'Five Stars' 'Five Stars']\n",
      "\n",
      "\n",
      "Examples of null summary data: \n",
      "\n",
      " 23185    NaN\n",
      "30331    NaN\n",
      "44839    NaN\n",
      "Name: summary, dtype: object\n",
      "Any empty string summary values:  0\n",
      "\n",
      "\n",
      "Column reviewText:  9373  null out of  10063255\n",
      "Column summary:  5519  null out of  10063255\n"
     ]
    }
   ],
   "source": [
    "analyzeNull(re_CPA)"
   ]
  },
  {
   "cell_type": "code",
   "execution_count": 301,
   "metadata": {},
   "outputs": [],
   "source": [
    "#replace NaN with empty string \n",
    "\n",
    "re_CPA[['reviewText','summary']] = re_CPA[['reviewText','summary']].fillna('')"
   ]
  },
  {
   "cell_type": "code",
   "execution_count": 302,
   "metadata": {},
   "outputs": [
    {
     "name": "stdout",
     "output_type": "stream",
     "text": [
      "reviewText empty string count:  9373\n",
      "summary empty string count:  5519\n"
     ]
    }
   ],
   "source": [
    "#check if empty string count is same as previous NaN count\n",
    "\n",
    "print('reviewText empty string count: ', len(re_CPA.loc[re_CPA.reviewText == ''].reviewText))\n",
    "print('summary empty string count: ', len(re_CPA.loc[re_CPA.summary == ''].summary))"
   ]
  },
  {
   "cell_type": "markdown",
   "metadata": {},
   "source": [
    "**At this point, Jupyter Notebook and laptop hardware resource could not further process or import data as subsequent categories contained data upto 30 GB.  After discussion with the expert, it was decided to pick 3 to 4 categories to move forward with project.**\n",
    "\n",
    "categories chosen : Digital_Music , Kindle_Store , Magazine_Subscriptions , Movies_and_TVs"
   ]
  },
  {
   "cell_type": "markdown",
   "metadata": {},
   "source": [
    "#### 2.3.1.9 Category 'Movies_and_TVS'\n",
    "\n",
    "To reduce redudant explanation, only codes and output will be shown from here and the rest of the categories. <br>Refer to section **2.3.1.1 Category 'AMAZON_FASHION'** for process details."
   ]
  },
  {
   "cell_type": "code",
   "execution_count": 7,
   "metadata": {},
   "outputs": [
    {
     "name": "stdout",
     "output_type": "stream",
     "text": [
      "<class 'pandas.core.frame.DataFrame'>\n",
      "Int64Index: 8765568 entries, 0 to 8765567\n",
      "Data columns (total 6 columns):\n",
      "overall       8765568 non-null float64\n",
      "verified      8765568 non-null bool\n",
      "reviewerID    8765568 non-null object\n",
      "asin          8765568 non-null object\n",
      "reviewText    8757545 non-null object\n",
      "summary       8763379 non-null object\n",
      "dtypes: bool(1), float64(1), object(4)\n",
      "memory usage: 409.6+ MB\n"
     ]
    }
   ],
   "source": [
    "re_MTV.info(verbose=True,null_counts=True)"
   ]
  },
  {
   "cell_type": "code",
   "execution_count": 12,
   "metadata": {},
   "outputs": [
    {
     "name": "stdout",
     "output_type": "stream",
     "text": [
      "Unique overall values:  [5. 4. 1. 3. 2.]\n",
      "Unique verified values:  [ True False]\n",
      "ReviewerID value lengths:  {10, 11, 12, 13, 14, 19, 20}\n",
      "ASIN value lengths:  {10}\n",
      "Examples of valid reviewText data: \n",
      "\n",
      " ['really happy they got evangelised .. spoiler alert==happy ending liked that..since started bit worrisome... but yeah great stories these missionary movies, really short only half hour but still great'\n",
      " 'Having lived in West New Guinea (Papua) during the time period covered in this video, it is realistic, accurate, and conveys well the entrance of light and truth into a culture that was for centuries dead to and alienated from God.'\n",
      " \"Excellent look into contextualizing the Gospel and God's sovereignty over cultural barriers. The book and movie are both captivating. I would definitely recommend to both Christians and non-believers.\"]\n",
      "\n",
      "\n",
      "Examples of null reviewText data: \n",
      "\n",
      " 3196    NaN\n",
      "5947    NaN\n",
      "7459    NaN\n",
      "Name: reviewText, dtype: object\n",
      "Any empty string reviewText values:  0\n",
      "\n",
      "\n",
      "Examples of valid summary data: \n",
      "\n",
      " ['great' 'Realistic and Accurate' 'Peace Child']\n",
      "\n",
      "\n",
      "Examples of null summary data: \n",
      "\n",
      " 6355     NaN\n",
      "7051     NaN\n",
      "11062    NaN\n",
      "Name: summary, dtype: object\n",
      "Any empty string summary values:  0\n",
      "\n",
      "\n",
      "Column reviewText:  8023  null out of  8765568\n",
      "Column summary:  2189  null out of  8765568\n"
     ]
    }
   ],
   "source": [
    "analyzeNull(re_MTV)"
   ]
  },
  {
   "cell_type": "code",
   "execution_count": 14,
   "metadata": {},
   "outputs": [],
   "source": [
    "#replace NaN with empty string \n",
    "\n",
    "re_MTV[['reviewText','summary']] = re_MTV[['reviewText','summary']].fillna('')"
   ]
  },
  {
   "cell_type": "code",
   "execution_count": 15,
   "metadata": {},
   "outputs": [
    {
     "name": "stdout",
     "output_type": "stream",
     "text": [
      "reviewText empty string count:  8023\n",
      "summary empty string count:  2189\n"
     ]
    }
   ],
   "source": [
    "#check if empty string count is same as previous NaN count\n",
    "\n",
    "print('reviewText empty string count: ', len(re_MTV.loc[re_MTV.reviewText == ''].reviewText))\n",
    "print('summary empty string count: ', len(re_MTV.loc[re_MTV.summary == ''].summary))"
   ]
  },
  {
   "cell_type": "markdown",
   "metadata": {},
   "source": [
    "#### 2.3.1.10 Category 'Kindle_Store'\n",
    "\n",
    "To reduce redudant explanation, only codes and output will be shown from here and the rest of the categories. <br>Refer to section **2.3.1.1 Category 'AMAZON_FASHION'** for process details."
   ]
  },
  {
   "cell_type": "code",
   "execution_count": 25,
   "metadata": {},
   "outputs": [
    {
     "name": "stdout",
     "output_type": "stream",
     "text": [
      "<class 'pandas.core.frame.DataFrame'>\n",
      "Int64Index: 5722988 entries, 0 to 5722987\n",
      "Data columns (total 6 columns):\n",
      "overall       5722988 non-null float64\n",
      "verified      5722988 non-null bool\n",
      "reviewerID    5722988 non-null object\n",
      "asin          5722988 non-null object\n",
      "reviewText    5721364 non-null object\n",
      "summary       5719911 non-null object\n",
      "dtypes: bool(1), float64(1), object(4)\n",
      "memory usage: 267.4+ MB\n"
     ]
    }
   ],
   "source": [
    "re_KS.info(verbose=True,null_counts=True)"
   ]
  },
  {
   "cell_type": "code",
   "execution_count": 26,
   "metadata": {},
   "outputs": [
    {
     "name": "stdout",
     "output_type": "stream",
     "text": [
      "Unique overall values:  [4. 5. 3. 1. 2. 0.]\n",
      "Unique verified values:  [ True False]\n",
      "ReviewerID value lengths:  {10, 11, 12, 13, 14, 19, 20}\n",
      "ASIN value lengths:  {10}\n",
      "Examples of valid reviewText data: \n",
      "\n",
      " ['If you like making salsas this is a great book with different ideas for party dips. I gave it as a gift.'\n",
      " 'great little book. simple and right to the point. A good basic Salsas and Tacos cooking guide.  I found it quite useful.'\n",
      " 'This book has good pics of the recipes and easy to create them as well.']\n",
      "\n",
      "\n",
      "Examples of null reviewText data: \n",
      "\n",
      " 2793    NaN\n",
      "5026    NaN\n",
      "5332    NaN\n",
      "Name: reviewText, dtype: object\n",
      "Any empty string reviewText values:  0\n",
      "\n",
      "\n",
      "Examples of valid summary data: \n",
      "\n",
      " ['Great Book' 'great little book' 'very good bok with good ideas.']\n",
      "\n",
      "\n",
      "Examples of null summary data: \n",
      "\n",
      " 2989     NaN\n",
      "9860     NaN\n",
      "24311    NaN\n",
      "Name: summary, dtype: object\n",
      "Any empty string summary values:  0\n",
      "\n",
      "\n",
      "Column reviewText:  1624  null out of  5722988\n",
      "Column summary:  3077  null out of  5722988\n"
     ]
    }
   ],
   "source": [
    "analyzeNull(re_KS)"
   ]
  },
  {
   "cell_type": "code",
   "execution_count": 27,
   "metadata": {},
   "outputs": [],
   "source": [
    "#replace NaN with empty string \n",
    "\n",
    "re_KS[['reviewText','summary']] = re_KS[['reviewText','summary']].fillna('')"
   ]
  },
  {
   "cell_type": "code",
   "execution_count": 28,
   "metadata": {},
   "outputs": [
    {
     "name": "stdout",
     "output_type": "stream",
     "text": [
      "reviewText empty string count:  1624\n",
      "summary empty string count:  3077\n"
     ]
    }
   ],
   "source": [
    "#check if empty string count is same as previous NaN count\n",
    "\n",
    "print('reviewText empty string count: ', len(re_KS.loc[re_KS.reviewText == ''].reviewText))\n",
    "print('summary empty string count: ', len(re_KS.loc[re_KS.summary == ''].summary))"
   ]
  },
  {
   "cell_type": "markdown",
   "metadata": {},
   "source": [
    "#### 2.3.1.11 Category 'Digital_Music'\n",
    "\n",
    "To reduce redudant explanation, only codes and output will be shown from here and the rest of the categories. <br>Refer to section **2.3.1.1 Category 'AMAZON_FASHION'** for process details."
   ]
  },
  {
   "cell_type": "code",
   "execution_count": 40,
   "metadata": {},
   "outputs": [
    {
     "name": "stdout",
     "output_type": "stream",
     "text": [
      "<class 'pandas.core.frame.DataFrame'>\n",
      "Int64Index: 1584082 entries, 0 to 1584081\n",
      "Data columns (total 6 columns):\n",
      "overall       1584082 non-null float64\n",
      "verified      1584082 non-null bool\n",
      "reviewerID    1584082 non-null object\n",
      "asin          1584082 non-null object\n",
      "reviewText    1582629 non-null object\n",
      "summary       1583547 non-null object\n",
      "dtypes: bool(1), float64(1), object(4)\n",
      "memory usage: 74.0+ MB\n"
     ]
    }
   ],
   "source": [
    "re_DM.info(verbose=True,null_counts=True)"
   ]
  },
  {
   "cell_type": "code",
   "execution_count": 41,
   "metadata": {},
   "outputs": [
    {
     "name": "stdout",
     "output_type": "stream",
     "text": [
      "Unique overall values:  [5. 1. 4. 3. 2.]\n",
      "Unique verified values:  [ True False]\n",
      "ReviewerID value lengths:  {10, 11, 12, 13, 14, 18, 19, 20}\n",
      "ASIN value lengths:  {10}\n",
      "Examples of valid reviewText data: \n",
      "\n",
      " ['This is a great cd full of worship favorites!!  All time great Keith green songs. His best album by far.'\n",
      " 'So creative!  Love his music - the words, the message! Some of my favorite songs on this CD. I should have bought it years ago!'\n",
      " 'Keith Green, gone far to early in his carreer, left us with these few golden alblums to bless us and let us see from a more in sync world veiw or I should say \"the language of the modern world\\'.\\n\\nHad this on LP all His alblums..look for ammples and then you will wee what I am talking about.\\nGod Bless you all']\n",
      "\n",
      "\n",
      "Examples of null reviewText data: \n",
      "\n",
      " 1737    NaN\n",
      "2166    NaN\n",
      "8165    NaN\n",
      "Name: reviewText, dtype: object\n",
      "Any empty string reviewText values:  0\n",
      "\n",
      "\n",
      "Examples of valid summary data: \n",
      "\n",
      " ['Great worship cd' 'Gotta listen to this!'\n",
      " 'Great approach still gets the message out']\n",
      "\n",
      "\n",
      "Examples of null summary data: \n",
      "\n",
      " 8165     NaN\n",
      "10623    NaN\n",
      "15155    NaN\n",
      "Name: summary, dtype: object\n",
      "Any empty string summary values:  0\n",
      "\n",
      "\n",
      "Column reviewText:  1453  null out of  1584082\n",
      "Column summary:  535  null out of  1584082\n"
     ]
    }
   ],
   "source": [
    "analyzeNull(re_DM)"
   ]
  },
  {
   "cell_type": "code",
   "execution_count": 42,
   "metadata": {},
   "outputs": [],
   "source": [
    "#replace NaN with empty string \n",
    "\n",
    "re_DM[['reviewText','summary']] = re_DM[['reviewText','summary']].fillna('')"
   ]
  },
  {
   "cell_type": "code",
   "execution_count": 43,
   "metadata": {},
   "outputs": [
    {
     "name": "stdout",
     "output_type": "stream",
     "text": [
      "reviewText empty string count:  1453\n",
      "summary empty string count:  535\n"
     ]
    }
   ],
   "source": [
    "#check if empty string count is same as previous NaN count\n",
    "\n",
    "print('reviewText empty string count: ', len(re_DM.loc[re_DM.reviewText == ''].reviewText))\n",
    "print('summary empty string count: ', len(re_DM.loc[re_DM.summary == ''].summary))"
   ]
  },
  {
   "cell_type": "markdown",
   "metadata": {},
   "source": [
    "#### 2.3.1.12 Category 'Magazine_Subscriptions'\n",
    "\n",
    "To reduce redudant explanation, only codes and output will be shown from here and the rest of the categories. <br>Refer to section **2.3.1.1 Category 'AMAZON_FASHION'** for process details."
   ]
  },
  {
   "cell_type": "code",
   "execution_count": 44,
   "metadata": {},
   "outputs": [
    {
     "name": "stdout",
     "output_type": "stream",
     "text": [
      "<class 'pandas.core.frame.DataFrame'>\n",
      "Int64Index: 89689 entries, 0 to 89688\n",
      "Data columns (total 6 columns):\n",
      "overall       89689 non-null float64\n",
      "verified      89689 non-null bool\n",
      "reviewerID    89689 non-null object\n",
      "asin          89689 non-null object\n",
      "reviewText    89656 non-null object\n",
      "summary       89670 non-null object\n",
      "dtypes: bool(1), float64(1), object(4)\n",
      "memory usage: 4.2+ MB\n"
     ]
    }
   ],
   "source": [
    "re_MS.info(verbose=True,null_counts=True)"
   ]
  },
  {
   "cell_type": "code",
   "execution_count": 45,
   "metadata": {},
   "outputs": [
    {
     "name": "stdout",
     "output_type": "stream",
     "text": [
      "Unique overall values:  [5. 3. 4. 2. 1.]\n",
      "Unique verified values:  [False  True]\n",
      "ReviewerID value lengths:  {11, 12, 13, 14, 19, 20}\n",
      "ASIN value lengths:  {10}\n",
      "Examples of valid reviewText data: \n",
      "\n",
      " ['for computer enthusiast, MaxPC is a welcome sight in your mailbox. i can remember for years savorying every page of \"boot\" (as it was called in beginning) as i was (and still am) obcessed with PC\\'s. Anyone, from advanced users - to beginners looking for knowledge - can profit from every issue of MaxPC. the icing on the cake is the subscription that comes with a CD-ROM as it is packed with demos, utilities, and other useful apps (very helpful for those not blessed with broadband connections). Until I discovered the community of hardware enthusiast web sites, MaxPC, formerly \"boot\", was my only really informative source for computing news and articles. To this day, i consider my subscription to it worth more than 10 subscriptions to most other computing mags. I can\\'t wait until they merge with DVD media and maybe end up offering more info on Divx codecs, encoding your own movies, and best bang for the buck audio and video equipment. Try a few issues (with CD)and you may get hooked...'\n",
      " 'Thank god this is not a Ziff Davis publication.  MaxPC will actually tell you if a product is bad. They will print just what they think about something; no sugar coating. I would compare their style to Car and Driver. Technical, but they know how to have a good time.'\n",
      " 'Antiques Magazine is a publication made for antique lovers and history buffs and its pages are loaded with photos of artistic paintings, handmade goods, rare pictures, and other items of similar nature. It is a magazine for those who love antiques and also those who consider themselves historians since many articles deal with historical collections of art and antiques.\\n\\nThis magazine is overflowing with antique goods and information. The articles contained in this magazine are intended to be visually stimulating in some cases, educational in others. They offer history lessons on the art that was popular during a specific era, a glimpse into an art collection at a museum, and more. The articles are meant to stimulate the interests of those who already like this subject and they often provide a means to learn more, to discover places to see or purchase some of the featured works, and to develop an appreciation for the craftsmanship that went into making these items.\\n\\nAntiques Magazine is a publication dedicated to creative art and history but one thing that isn\\'t very creative is the titles of the articles. This might surprise some readers at first, but the editors at Antiques decided to get straight to the point in the naming of the featured articles rather than try to be creative. The features thus have titles like \"The Eating Utensil Collection\", \"Spanish Culture in Art\", etc. Each title points out exactly what the article covers, leaving nothing to the imagination.\\n\\nThe writing in Antiques is certainly good and well- edited. But I\\'m afraid that many readers will find the articles a little boring. They describe things well and they usually offer a good history lesson. But they lack spark and readability. I have tried to read some articles in this magazine and found my eyelids getting heavy and my thoughts drifting to other subjects. This is why I generally stick with the pictures when I glance at Antiques Magazine. I don\\'t bother reading because most of the material doesn\\'t keep my interest.\\n\\nOverall, Antiques Magazine is an okay publication and unless you have a deep interest in antiques and their history, you will likely become bored quickly if you try to read the articles. But the pictures in Antiques are often very interesting. Even if you have little interest in reading a magazine like this one, the photos alone make it worth an occasional look.']\n",
      "\n",
      "\n",
      "Examples of null reviewText data: \n",
      "\n",
      " 307      NaN\n",
      "8604     NaN\n",
      "10946    NaN\n",
      "Name: reviewText, dtype: object\n",
      "Any empty string reviewText values:  0\n",
      "\n",
      "\n",
      "Examples of valid summary data: \n",
      "\n",
      " ['AVID READER SINCE \"boot\"  WAS THE NAME' 'The straight scoop'\n",
      " 'Antiques Magazine is Good, but not for Everyone']\n",
      "\n",
      "\n",
      "Examples of null summary data: \n",
      "\n",
      " 307     NaN\n",
      "347     NaN\n",
      "3908    NaN\n",
      "Name: summary, dtype: object\n",
      "Any empty string summary values:  0\n",
      "\n",
      "\n",
      "Column reviewText:  33  null out of  89689\n",
      "Column summary:  19  null out of  89689\n"
     ]
    }
   ],
   "source": [
    "analyzeNull(re_MS)"
   ]
  },
  {
   "cell_type": "code",
   "execution_count": 46,
   "metadata": {},
   "outputs": [],
   "source": [
    "#replace NaN with empty string \n",
    "\n",
    "re_MS[['reviewText','summary']] = re_MS[['reviewText','summary']].fillna('')"
   ]
  },
  {
   "cell_type": "code",
   "execution_count": 47,
   "metadata": {},
   "outputs": [
    {
     "name": "stdout",
     "output_type": "stream",
     "text": [
      "reviewText empty string count:  33\n",
      "summary empty string count:  19\n"
     ]
    }
   ],
   "source": [
    "#check if empty string count is same as previous NaN count\n",
    "\n",
    "print('reviewText empty string count: ', len(re_MS.loc[re_MS.reviewText == ''].reviewText))\n",
    "print('summary empty string count: ', len(re_MS.loc[re_MS.summary == ''].summary))"
   ]
  },
  {
   "cell_type": "markdown",
   "metadata": {},
   "source": [
    "### 2.3.2 Dataset 'product' Null Check"
   ]
  },
  {
   "cell_type": "markdown",
   "metadata": {},
   "source": [
    "#### 2.3.2.1 Category 'Movies_and_TVs'"
   ]
  },
  {
   "cell_type": "code",
   "execution_count": 96,
   "metadata": {},
   "outputs": [
    {
     "name": "stdout",
     "output_type": "stream",
     "text": [
      "<class 'pandas.core.frame.DataFrame'>\n",
      "Int64Index: 203970 entries, 0 to 203969\n",
      "Data columns (total 6 columns):\n",
      "title        203900 non-null object\n",
      "main_cat     203922 non-null object\n",
      "asin         203970 non-null object\n",
      "brand        138384 non-null object\n",
      "also_buy     95170 non-null object\n",
      "also_view    93860 non-null object\n",
      "dtypes: object(6)\n",
      "memory usage: 10.9+ MB\n"
     ]
    }
   ],
   "source": [
    "pr_MTV.info()"
   ]
  },
  {
   "cell_type": "code",
   "execution_count": 97,
   "metadata": {},
   "outputs": [],
   "source": [
    "#dropping also_buy, also_view, brand \n",
    "pr_MTV = pr_MTV.drop(columns=['also_buy','also_view','brand'])"
   ]
  },
  {
   "cell_type": "code",
   "execution_count": 7,
   "metadata": {},
   "outputs": [],
   "source": [
    "#this codes will be reused for all the categories so better to call it as method\n",
    "\n",
    "\"\"\"\n",
    "Analyzes review dataset for null\n",
    "\n",
    "Takes in dataframe and outputs various null and valid related information\n",
    "\n",
    "\"\"\"\n",
    "\n",
    "def analyzePrNull(df):\n",
    "    \n",
    "    print('ASIN value lengths: ',findUniqueLength(df.asin))\n",
    "\n",
    "\n",
    "    print('Examples of valid title data: \\n\\n',df.title.values[:3])\n",
    "    print('\\n')\n",
    "    print('Examples of null title data: \\n\\n', df.loc[df.title.isnull()].title.head(3))\n",
    "    print('Any empty string title values: ', len(df.loc[df.title == ''].title))\n",
    "    \n",
    "    print('\\n')\n",
    "\n",
    "    print('Examples of valid main_cat data: \\n\\n',df.main_cat.values[:3])\n",
    "    print('\\n')\n",
    "    print('Examples of null main_cat data: \\n\\n', df.loc[df.main_cat.isnull()].main_cat.head(3))\n",
    "    print('Any empty string main_cat values: ', len(df.loc[df.main_cat == ''].main_cat))\n",
    "\n",
    "    print('\\n')\n",
    "    print('Column title: ',len(df.loc[df.title.isnull()].title),' null out of ',len(df.title))\n",
    "    print('Column main_cat: ',len(df.loc[df.main_cat.isnull()].main_cat),' null out of ',len(df.main_cat))\n",
    "\n",
    "\n",
    "    "
   ]
  },
  {
   "cell_type": "code",
   "execution_count": 99,
   "metadata": {},
   "outputs": [
    {
     "name": "stdout",
     "output_type": "stream",
     "text": [
      "ASIN value lengths:  {10}\n",
      "Examples of valid title data: \n",
      "\n",
      " ['Understanding Seizures and Epilepsy'\n",
      " \"Spirit Led—Moving By Grace In The Holy Spirit's Gifts\"\n",
      " 'My Fair Pastry (Good Eats Vol. 9)']\n",
      "\n",
      "\n",
      "Examples of null title data: \n",
      "\n",
      " 31001    NaN\n",
      "35320    NaN\n",
      "43015    NaN\n",
      "Name: title, dtype: object\n",
      "Any empty string title values:  0\n",
      "\n",
      "\n",
      "Examples of valid main_cat data: \n",
      "\n",
      " ['Movies & TV' 'Movies & TV' 'Movies & TV']\n",
      "\n",
      "\n",
      "Examples of null main_cat data: \n",
      "\n",
      " 2356     NaN\n",
      "21438    NaN\n",
      "31001    NaN\n",
      "Name: main_cat, dtype: object\n",
      "Any empty string main_cat values:  0\n",
      "\n",
      "\n",
      "Column title:  70  null out of  203970\n",
      "Column main_cat:  48  null out of  203970\n"
     ]
    }
   ],
   "source": [
    "analyzePrNull(pr_MTV)"
   ]
  },
  {
   "cell_type": "code",
   "execution_count": 100,
   "metadata": {},
   "outputs": [],
   "source": [
    "#replace NaN with empty string \n",
    "\n",
    "pr_MTV[['main_cat','title',]] = pr_MTV[['main_cat','title']].fillna('')"
   ]
  },
  {
   "cell_type": "markdown",
   "metadata": {},
   "source": [
    "#### 2.3.1.2 Category 'Kindle_Store'\n"
   ]
  },
  {
   "cell_type": "code",
   "execution_count": 101,
   "metadata": {},
   "outputs": [
    {
     "name": "stdout",
     "output_type": "stream",
     "text": [
      "<class 'pandas.core.frame.DataFrame'>\n",
      "Int64Index: 493552 entries, 0 to 493551\n",
      "Data columns (total 4 columns):\n",
      "title       493552 non-null object\n",
      "rank        493552 non-null object\n",
      "main_cat    493552 non-null object\n",
      "asin        493552 non-null object\n",
      "dtypes: object(4)\n",
      "memory usage: 18.8+ MB\n"
     ]
    }
   ],
   "source": [
    "pr_KS.info()"
   ]
  },
  {
   "cell_type": "code",
   "execution_count": 102,
   "metadata": {},
   "outputs": [],
   "source": [
    "#dropping rank\n",
    "pr_KS = pr_KS.drop(columns=['rank'])"
   ]
  },
  {
   "cell_type": "code",
   "execution_count": 103,
   "metadata": {},
   "outputs": [],
   "source": [
    "#replace NaN with empty string \n",
    "\n",
    "pr_KS[['main_cat','title',]] = pr_KS[['main_cat','title']].fillna('')"
   ]
  },
  {
   "cell_type": "markdown",
   "metadata": {},
   "source": [
    "#### 2.3.1.3 Category 'Digital_Music'\n"
   ]
  },
  {
   "cell_type": "code",
   "execution_count": 23,
   "metadata": {},
   "outputs": [
    {
     "name": "stdout",
     "output_type": "stream",
     "text": [
      "<class 'pandas.core.frame.DataFrame'>\n",
      "Int64Index: 465392 entries, 0 to 465391\n",
      "Data columns (total 3 columns):\n",
      "title       395452 non-null object\n",
      "asin        465392 non-null object\n",
      "main_cat    1 non-null object\n",
      "dtypes: object(3)\n",
      "memory usage: 14.2+ MB\n"
     ]
    }
   ],
   "source": [
    "pr_DM.info()"
   ]
  },
  {
   "cell_type": "code",
   "execution_count": 24,
   "metadata": {},
   "outputs": [
    {
     "name": "stdout",
     "output_type": "stream",
     "text": [
      "ASIN value lengths:  {10}\n",
      "Examples of valid title data: \n",
      "\n",
      " ['Master Collection Volume One' 'Hymns Collection: Hymns 1 & 2'\n",
      " 'Early Works - Don Francisco']\n",
      "\n",
      "\n",
      "Examples of null title data: \n",
      "\n",
      " 17    NaN\n",
      "18    NaN\n",
      "30    NaN\n",
      "Name: title, dtype: object\n",
      "Any empty string title values:  0\n",
      "\n",
      "\n",
      "Column title:  69940  null out of  465392\n"
     ]
    }
   ],
   "source": [
    "print('ASIN value lengths: ',findUniqueLength(pr_DM.asin))\n",
    "\n",
    "\n",
    "print('Examples of valid title data: \\n\\n',pr_DM.title.values[:3])\n",
    "print('\\n')\n",
    "print('Examples of null title data: \\n\\n', pr_DM.loc[pr_DM.title.isnull()].title.head(3))\n",
    "print('Any empty string title values: ', len(pr_DM.loc[pr_DM.title == ''].title))\n",
    "\n",
    "print('\\n')\n",
    "print('Column title: ',len(pr_DM.loc[pr_DM.title.isnull()].title),' null out of ',len(pr_DM.title))"
   ]
  },
  {
   "cell_type": "code",
   "execution_count": 25,
   "metadata": {},
   "outputs": [],
   "source": [
    "#dropping also_buy, also_view, brand \n",
    "pr_DM = pr_DM.drop(columns=['main_cat'])\n"
   ]
  },
  {
   "cell_type": "code",
   "execution_count": 26,
   "metadata": {},
   "outputs": [],
   "source": [
    "#replace NaN with empty string \n",
    "\n",
    "pr_DM['title'] = pr_DM['title'].fillna('')"
   ]
  },
  {
   "cell_type": "markdown",
   "metadata": {},
   "source": [
    "#### 2.3.1.4 Category 'Magazine_Subscriptions'\n"
   ]
  },
  {
   "cell_type": "code",
   "execution_count": 112,
   "metadata": {},
   "outputs": [
    {
     "name": "stdout",
     "output_type": "stream",
     "text": [
      "<class 'pandas.core.frame.DataFrame'>\n",
      "Int64Index: 3493 entries, 0 to 3492\n",
      "Data columns (total 3 columns):\n",
      "main_cat    3493 non-null object\n",
      "asin        3493 non-null object\n",
      "title       329 non-null object\n",
      "dtypes: object(3)\n",
      "memory usage: 109.2+ KB\n"
     ]
    }
   ],
   "source": [
    "pr_MS.info()"
   ]
  },
  {
   "cell_type": "code",
   "execution_count": 113,
   "metadata": {},
   "outputs": [
    {
     "name": "stdout",
     "output_type": "stream",
     "text": [
      "ASIN value lengths:  {10}\n",
      "Examples of valid title data: \n",
      "\n",
      " [nan nan nan]\n",
      "\n",
      "\n",
      "Examples of null title data: \n",
      "\n",
      " 0    NaN\n",
      "1    NaN\n",
      "2    NaN\n",
      "Name: title, dtype: object\n",
      "Any empty string title values:  0\n",
      "\n",
      "\n",
      "Examples of valid main_cat data: \n",
      "\n",
      " ['Magazine Subscriptions' 'Magazine Subscriptions'\n",
      " 'Magazine Subscriptions']\n",
      "\n",
      "\n",
      "Examples of null main_cat data: \n",
      "\n",
      " Series([], Name: main_cat, dtype: object)\n",
      "Any empty string main_cat values:  0\n",
      "\n",
      "\n",
      "Column title:  3164  null out of  3493\n",
      "Column main_cat:  0  null out of  3493\n"
     ]
    }
   ],
   "source": [
    "analyzePrNull(pr_MS)"
   ]
  },
  {
   "cell_type": "code",
   "execution_count": 114,
   "metadata": {},
   "outputs": [],
   "source": [
    "#replace NaN with empty string \n",
    "\n",
    "pr_MS[['main_cat','title',]] = pr_MS[['main_cat','title']].fillna('')"
   ]
  },
  {
   "cell_type": "markdown",
   "metadata": {},
   "source": [
    "#### 2.3.1.4 Category 'Books'"
   ]
  },
  {
   "cell_type": "code",
   "execution_count": 8,
   "metadata": {},
   "outputs": [
    {
     "name": "stdout",
     "output_type": "stream",
     "text": [
      "<class 'pandas.core.frame.DataFrame'>\n",
      "Int64Index: 2935525 entries, 0 to 2935524\n",
      "Data columns (total 11 columns):\n",
      "description     object\n",
      "title           object\n",
      "also_buy        object\n",
      "brand           object\n",
      "also_view       object\n",
      "main_cat        object\n",
      "asin            object\n",
      "category        object\n",
      "feature         object\n",
      "similar_item    object\n",
      "details         object\n",
      "dtypes: object(11)\n",
      "memory usage: 268.8+ MB\n"
     ]
    }
   ],
   "source": [
    "pr_books.info()"
   ]
  },
  {
   "cell_type": "code",
   "execution_count": 11,
   "metadata": {},
   "outputs": [
    {
     "name": "stdout",
     "output_type": "stream",
     "text": [
      "ASIN value lengths:  {10}\n",
      "Examples of valid title data: \n",
      "\n",
      " ['Biology Gods Living Creation Third Edition 10 (A Beka Book Science Series)'\n",
      " 'Mksap 16 Audio Companion: Medical Knowledge Self-Assessment Program'\n",
      " 'Flex! Discography of North American Punk, Hardcore, and Powerpop 1975-1985 A-M']\n",
      "\n",
      "\n",
      "Examples of null title data: \n",
      "\n",
      " 4141    NaN\n",
      "6669    NaN\n",
      "7545    NaN\n",
      "Name: title, dtype: object\n",
      "Any empty string title values:  0\n",
      "\n",
      "\n",
      "Examples of valid main_cat data: \n",
      "\n",
      " ['Books' 'Books' 'Books']\n",
      "\n",
      "\n",
      "Examples of null main_cat data: \n",
      "\n",
      " 189771     NaN\n",
      "189832     NaN\n",
      "2382644    NaN\n",
      "Name: main_cat, dtype: object\n",
      "Any empty string main_cat values:  0\n",
      "\n",
      "\n",
      "Column title:  828  null out of  2935525\n",
      "Column main_cat:  48  null out of  2935525\n"
     ]
    }
   ],
   "source": [
    "analyzePrNull(pr_books)"
   ]
  },
  {
   "cell_type": "code",
   "execution_count": 12,
   "metadata": {},
   "outputs": [],
   "source": [
    "#replace NaN with empty string \n",
    "\n",
    "pr_books[['main_cat','title',]] = pr_books[['main_cat','title']].fillna('')"
   ]
  },
  {
   "cell_type": "markdown",
   "metadata": {},
   "source": [
    "## 2.4 Duplicate Check"
   ]
  },
  {
   "cell_type": "markdown",
   "metadata": {},
   "source": [
    "Duplicate objects in dataset can also lower the accuracy of the model. <br>\n",
    "This section will check for any duplicate residing in the dataset and remove them."
   ]
  },
  {
   "cell_type": "markdown",
   "metadata": {},
   "source": [
    "### 2.4.1 Dataset 'review' Duplicate Check"
   ]
  },
  {
   "cell_type": "markdown",
   "metadata": {},
   "source": [
    "#### 2.4.1.1 Category 'AMAZON_FASHION'"
   ]
  },
  {
   "cell_type": "code",
   "execution_count": 179,
   "metadata": {},
   "outputs": [
    {
     "name": "stdout",
     "output_type": "stream",
     "text": [
      "<class 'pandas.core.frame.DataFrame'>\n",
      "Int64Index: 883636 entries, 0 to 883635\n",
      "Data columns (total 6 columns):\n",
      "overall       883636 non-null float64\n",
      "verified      883636 non-null bool\n",
      "reviewerID    883636 non-null object\n",
      "asin          883636 non-null object\n",
      "reviewText    883636 non-null object\n",
      "summary       883636 non-null object\n",
      "dtypes: bool(1), float64(1), object(4)\n",
      "memory usage: 41.3+ MB\n"
     ]
    }
   ],
   "source": [
    "re_fashion.info()"
   ]
  },
  {
   "cell_type": "markdown",
   "metadata": {},
   "source": [
    "Important thing to note is that these columns do not have to have unique values for every rows. <br> We are simply looking for duplicate in terms of rows which are our reviews."
   ]
  },
  {
   "cell_type": "code",
   "execution_count": 180,
   "metadata": {},
   "outputs": [
    {
     "name": "stdout",
     "output_type": "stream",
     "text": [
      "total number of duplicated rows:  14888\n",
      "total number of unique rows out of duplicated rows:  7385\n",
      "expected number of rows after drop duplicates:  876133\n"
     ]
    }
   ],
   "source": [
    "num_dup = len(re_fashion[re_fashion.duplicated(keep=False)])\n",
    "\n",
    "print('total number of duplicated rows: ',num_dup)\n",
    "\n",
    "dups = re_fashion[re_fashion.duplicated(keep=False)].copy()\n",
    "dups.drop_duplicates(keep='first', inplace=True)\n",
    "num_uniq = len(dups)\n",
    "\n",
    "print('total number of unique rows out of duplicated rows: ', num_uniq)\n",
    "\n",
    "print('expected number of rows after drop duplicates: ', len(re_fashion) - num_dup + num_uniq)"
   ]
  },
  {
   "cell_type": "code",
   "execution_count": 181,
   "metadata": {},
   "outputs": [],
   "source": [
    "#drop duplicates\n",
    "\n",
    "re_fashion.drop_duplicates(keep='first', inplace=True)"
   ]
  },
  {
   "cell_type": "code",
   "execution_count": 182,
   "metadata": {},
   "outputs": [
    {
     "data": {
      "text/plain": [
       "876133"
      ]
     },
     "execution_count": 182,
     "metadata": {},
     "output_type": "execute_result"
    }
   ],
   "source": [
    "len(re_fashion)"
   ]
  },
  {
   "cell_type": "markdown",
   "metadata": {},
   "source": [
    "All duplicates have been dealt with."
   ]
  },
  {
   "cell_type": "markdown",
   "metadata": {},
   "source": [
    "#### 2.4.1.2 Category 'All_Beauty'"
   ]
  },
  {
   "cell_type": "markdown",
   "metadata": {},
   "source": [
    "To reduce redudant explanation, only codes and output will be shown from here and the rest of the categories. <br>Refer to section **2.4.1.1 Category 'AMAZON_FASHION'** for process details."
   ]
  },
  {
   "cell_type": "code",
   "execution_count": 187,
   "metadata": {},
   "outputs": [
    {
     "name": "stdout",
     "output_type": "stream",
     "text": [
      "<class 'pandas.core.frame.DataFrame'>\n",
      "Int64Index: 371345 entries, 0 to 371344\n",
      "Data columns (total 6 columns):\n",
      "overall       371345 non-null float64\n",
      "verified      371345 non-null bool\n",
      "reviewerID    371345 non-null object\n",
      "asin          371345 non-null object\n",
      "reviewText    371345 non-null object\n",
      "summary       371345 non-null object\n",
      "dtypes: bool(1), float64(1), object(4)\n",
      "memory usage: 17.4+ MB\n"
     ]
    }
   ],
   "source": [
    "re_beauty.info()"
   ]
  },
  {
   "cell_type": "code",
   "execution_count": 17,
   "metadata": {},
   "outputs": [],
   "source": [
    "#this codes will be reused for all the categories so better to call it as method\n",
    "\n",
    "\"\"\"\n",
    "Analyzes review dataset for duplicates\n",
    "\n",
    "Takes in dataframe and outputs various duplicates related information\n",
    "\n",
    "\"\"\"\n",
    "\n",
    "def analyzeDup(df):\n",
    "    #analyze duplicates\n",
    "    \n",
    "    dups = df[df.duplicated(keep=False)].copy()\n",
    "    \n",
    "    num_dup = len(dups)\n",
    "\n",
    "    print('total number of duplicated rows: ',num_dup)\n",
    "\n",
    "    \n",
    "    dups.drop_duplicates(keep='first', inplace=True)\n",
    "    num_uniq = len(dups)\n",
    "\n",
    "    print('total number of unique rows out of duplicated rows: ', num_uniq)\n",
    "\n",
    "    print('expected number of rows after drop duplicates: ', len(df) - num_dup + num_uniq)\n",
    "    \n",
    "    del dups"
   ]
  },
  {
   "cell_type": "code",
   "execution_count": 244,
   "metadata": {},
   "outputs": [
    {
     "name": "stdout",
     "output_type": "stream",
     "text": [
      "total number of duplicated rows:  17382\n",
      "total number of unique rows out of duplicated rows:  8663\n",
      "expected number of rows after drop duplicates:  362626\n"
     ]
    }
   ],
   "source": [
    "analyzeDup(re_beauty)"
   ]
  },
  {
   "cell_type": "code",
   "execution_count": 246,
   "metadata": {},
   "outputs": [
    {
     "data": {
      "text/plain": [
       "362626"
      ]
     },
     "execution_count": 246,
     "metadata": {},
     "output_type": "execute_result"
    }
   ],
   "source": [
    "#drop duplicates\n",
    "\n",
    "re_beauty.drop_duplicates(keep='first', inplace=True)\n",
    "\n",
    "len(re_beauty)"
   ]
  },
  {
   "cell_type": "markdown",
   "metadata": {},
   "source": [
    "#### 2.4.1.3 Category 'Appliances'"
   ]
  },
  {
   "cell_type": "markdown",
   "metadata": {},
   "source": [
    "To reduce redudant explanation, only codes and output will be shown from here and the rest of the categories. <br>Refer to section **2.4.1.1 Category 'AMAZON_FASHION'** for process details."
   ]
  },
  {
   "cell_type": "code",
   "execution_count": 247,
   "metadata": {},
   "outputs": [
    {
     "name": "stdout",
     "output_type": "stream",
     "text": [
      "<class 'pandas.core.frame.DataFrame'>\n",
      "Int64Index: 602777 entries, 0 to 602776\n",
      "Data columns (total 6 columns):\n",
      "overall       602777 non-null float64\n",
      "verified      602777 non-null bool\n",
      "reviewerID    602777 non-null object\n",
      "asin          602777 non-null object\n",
      "reviewText    602777 non-null object\n",
      "summary       602777 non-null object\n",
      "dtypes: bool(1), float64(1), object(4)\n",
      "memory usage: 28.2+ MB\n"
     ]
    }
   ],
   "source": [
    "re_appliances.info()"
   ]
  },
  {
   "cell_type": "code",
   "execution_count": 248,
   "metadata": {},
   "outputs": [
    {
     "name": "stdout",
     "output_type": "stream",
     "text": [
      "total number of duplicated rows:  20832\n",
      "total number of unique rows out of duplicated rows:  9403\n",
      "expected number of rows after drop duplicates:  591348\n"
     ]
    }
   ],
   "source": [
    "analyzeDup(re_appliances)"
   ]
  },
  {
   "cell_type": "code",
   "execution_count": 249,
   "metadata": {},
   "outputs": [
    {
     "data": {
      "text/plain": [
       "591348"
      ]
     },
     "execution_count": 249,
     "metadata": {},
     "output_type": "execute_result"
    }
   ],
   "source": [
    "#drop duplicates\n",
    "\n",
    "re_appliances.drop_duplicates(keep='first', inplace=True)\n",
    "\n",
    "len(re_appliances)"
   ]
  },
  {
   "cell_type": "markdown",
   "metadata": {},
   "source": [
    "#### 2.4.1.4 Category 'Arts_Crafts_and_Sewing'"
   ]
  },
  {
   "cell_type": "markdown",
   "metadata": {},
   "source": [
    "To reduce redudant explanation, only codes and output will be shown from here and the rest of the categories. <br>Refer to section **2.4.1.1 Category 'AMAZON_FASHION'** for process details."
   ]
  },
  {
   "cell_type": "code",
   "execution_count": 262,
   "metadata": {},
   "outputs": [
    {
     "name": "stdout",
     "output_type": "stream",
     "text": [
      "<class 'pandas.core.frame.DataFrame'>\n",
      "Int64Index: 2875917 entries, 0 to 2875916\n",
      "Data columns (total 6 columns):\n",
      "overall       2875917 non-null float64\n",
      "verified      2875917 non-null bool\n",
      "reviewerID    2875917 non-null object\n",
      "asin          2875917 non-null object\n",
      "reviewText    2875917 non-null object\n",
      "summary       2875917 non-null object\n",
      "dtypes: bool(1), float64(1), object(4)\n",
      "memory usage: 134.4+ MB\n"
     ]
    }
   ],
   "source": [
    "re_ACS.info(verbose=True,null_counts=True)"
   ]
  },
  {
   "cell_type": "code",
   "execution_count": 263,
   "metadata": {},
   "outputs": [
    {
     "name": "stdout",
     "output_type": "stream",
     "text": [
      "total number of duplicated rows:  261648\n",
      "total number of unique rows out of duplicated rows:  130194\n",
      "expected number of rows after drop duplicates:  2744463\n"
     ]
    }
   ],
   "source": [
    "analyzeDup(re_ACS)"
   ]
  },
  {
   "cell_type": "code",
   "execution_count": 264,
   "metadata": {},
   "outputs": [
    {
     "data": {
      "text/plain": [
       "2744463"
      ]
     },
     "execution_count": 264,
     "metadata": {},
     "output_type": "execute_result"
    }
   ],
   "source": [
    "#drop duplicates\n",
    "\n",
    "re_ACS.drop_duplicates(keep='first', inplace=True)\n",
    "\n",
    "len(re_ACS)"
   ]
  },
  {
   "cell_type": "markdown",
   "metadata": {},
   "source": [
    "#### 2.4.1.5 Category 'Automotive'\n",
    "\n",
    "To reduce redudant explanation, only codes and output will be shown from here and the rest of the categories. <br>Refer to section **2.4.1.1 Category 'AMAZON_FASHION'** for process details."
   ]
  },
  {
   "cell_type": "code",
   "execution_count": 278,
   "metadata": {},
   "outputs": [
    {
     "name": "stdout",
     "output_type": "stream",
     "text": [
      "<class 'pandas.core.frame.DataFrame'>\n",
      "Int64Index: 7990166 entries, 0 to 7990165\n",
      "Data columns (total 6 columns):\n",
      "overall       7990166 non-null float64\n",
      "verified      7990166 non-null bool\n",
      "reviewerID    7990166 non-null object\n",
      "asin          7990166 non-null object\n",
      "reviewText    7990166 non-null object\n",
      "summary       7990166 non-null object\n",
      "dtypes: bool(1), float64(1), object(4)\n",
      "memory usage: 373.4+ MB\n"
     ]
    }
   ],
   "source": [
    "re_automotive.info(verbose=True,null_counts=True)"
   ]
  },
  {
   "cell_type": "code",
   "execution_count": 279,
   "metadata": {},
   "outputs": [
    {
     "name": "stdout",
     "output_type": "stream",
     "text": [
      "total number of duplicated rows:  328964\n",
      "total number of unique rows out of duplicated rows:  164269\n",
      "expected number of rows after drop duplicates:  7825471\n"
     ]
    }
   ],
   "source": [
    "analyzeDup(re_automotive)"
   ]
  },
  {
   "cell_type": "code",
   "execution_count": 280,
   "metadata": {},
   "outputs": [
    {
     "data": {
      "text/plain": [
       "7825471"
      ]
     },
     "execution_count": 280,
     "metadata": {},
     "output_type": "execute_result"
    }
   ],
   "source": [
    "#drop duplicates\n",
    "\n",
    "re_automotive.drop_duplicates(keep='first', inplace=True)\n",
    "\n",
    "len(re_automotive)"
   ]
  },
  {
   "cell_type": "markdown",
   "metadata": {},
   "source": [
    "#### 2.4.1.6 Category 'Books'\n",
    "\n",
    "To reduce redudant explanation, only codes and output will be shown from here and the rest of the categories. <br>Refer to section **2.4.1.1 Category 'AMAZON_FASHION'** for process details."
   ]
  },
  {
   "cell_type": "markdown",
   "metadata": {},
   "source": [
    "#### 2.4.1.7 Category 'CDs_and_Vinyl'\n",
    "\n",
    "To reduce redudant explanation, only codes and output will be shown from here and the rest of the categories. <br>Refer to section **2.4.1.1 Category 'AMAZON_FASHION'** for process details."
   ]
  },
  {
   "cell_type": "code",
   "execution_count": 290,
   "metadata": {},
   "outputs": [
    {
     "name": "stdout",
     "output_type": "stream",
     "text": [
      "<class 'pandas.core.frame.DataFrame'>\n",
      "Int64Index: 4543369 entries, 0 to 4543368\n",
      "Data columns (total 6 columns):\n",
      "reviewerID    4543369 non-null object\n",
      "asin          4543369 non-null object\n",
      "verified      4543369 non-null bool\n",
      "reviewText    4543369 non-null object\n",
      "overall       4543369 non-null float64\n",
      "summary       4543369 non-null object\n",
      "dtypes: bool(1), float64(1), object(4)\n",
      "memory usage: 212.3+ MB\n"
     ]
    }
   ],
   "source": [
    "re_CV.info(verbose=True,null_counts=True)"
   ]
  },
  {
   "cell_type": "code",
   "execution_count": 291,
   "metadata": {},
   "outputs": [
    {
     "name": "stdout",
     "output_type": "stream",
     "text": [
      "total number of duplicated rows:  137777\n",
      "total number of unique rows out of duplicated rows:  68280\n",
      "expected number of rows after drop duplicates:  4473872\n"
     ]
    }
   ],
   "source": [
    "analyzeDup(re_CV)"
   ]
  },
  {
   "cell_type": "code",
   "execution_count": 292,
   "metadata": {},
   "outputs": [
    {
     "data": {
      "text/plain": [
       "4473872"
      ]
     },
     "execution_count": 292,
     "metadata": {},
     "output_type": "execute_result"
    }
   ],
   "source": [
    "#drop duplicates\n",
    "\n",
    "re_CV.drop_duplicates(keep='first', inplace=True)\n",
    "\n",
    "len(re_CV)"
   ]
  },
  {
   "cell_type": "markdown",
   "metadata": {},
   "source": [
    "#### 2.4.1.8 Category 'Cell_Phones_and_Vinyl'\n",
    "\n",
    "To reduce redudant explanation, only codes and output will be shown from here and the rest of the categories. <br>Refer to section **2.4.1.1 Category 'AMAZON_FASHION'** for process details."
   ]
  },
  {
   "cell_type": "code",
   "execution_count": 303,
   "metadata": {},
   "outputs": [
    {
     "name": "stdout",
     "output_type": "stream",
     "text": [
      "<class 'pandas.core.frame.DataFrame'>\n",
      "Int64Index: 10063255 entries, 0 to 10063254\n",
      "Data columns (total 6 columns):\n",
      "overall       10063255 non-null float64\n",
      "verified      10063255 non-null bool\n",
      "reviewerID    10063255 non-null object\n",
      "asin          10063255 non-null object\n",
      "reviewText    10063255 non-null object\n",
      "summary       10063255 non-null object\n",
      "dtypes: bool(1), float64(1), object(4)\n",
      "memory usage: 470.3+ MB\n"
     ]
    }
   ],
   "source": [
    "re_CPA.info(verbose=True,null_counts=True)"
   ]
  },
  {
   "cell_type": "code",
   "execution_count": 304,
   "metadata": {},
   "outputs": [
    {
     "name": "stdout",
     "output_type": "stream",
     "text": [
      "total number of duplicated rows:  41913\n",
      "total number of unique rows out of duplicated rows:  20870\n",
      "expected number of rows after drop duplicates:  10042212\n"
     ]
    }
   ],
   "source": [
    "analyzeDup(re_CPA)"
   ]
  },
  {
   "cell_type": "code",
   "execution_count": 306,
   "metadata": {},
   "outputs": [
    {
     "data": {
      "text/plain": [
       "10042212"
      ]
     },
     "execution_count": 306,
     "metadata": {},
     "output_type": "execute_result"
    }
   ],
   "source": [
    "#drop duplicates\n",
    "\n",
    "re_CPA.drop_duplicates(keep='first', inplace=True)\n",
    "\n",
    "len(re_CPA)"
   ]
  },
  {
   "cell_type": "markdown",
   "metadata": {},
   "source": [
    "**At this point, Jupyter Notebook and laptop hardware resource could not further process or import data as subsequent categories contained data upto 30 GB.  After discussion with the expert, it was decided to pick 3 to 4 categories to move forward with project.**\n",
    "\n",
    "categories chosen : Digital_Music , Kindle_Store , Magazine_Subscriptions , Movies_and_TVs"
   ]
  },
  {
   "cell_type": "markdown",
   "metadata": {},
   "source": [
    "#### 2.4.1.9 Category 'Movies_and_TVs'\n",
    "\n",
    "To reduce redudant explanation, only codes and output will be shown from here and the rest of the categories. <br>Refer to section **2.4.1.1 Category 'AMAZON_FASHION'** for process details."
   ]
  },
  {
   "cell_type": "code",
   "execution_count": 16,
   "metadata": {},
   "outputs": [
    {
     "name": "stdout",
     "output_type": "stream",
     "text": [
      "<class 'pandas.core.frame.DataFrame'>\n",
      "Int64Index: 8765568 entries, 0 to 8765567\n",
      "Data columns (total 6 columns):\n",
      "overall       8765568 non-null float64\n",
      "verified      8765568 non-null bool\n",
      "reviewerID    8765568 non-null object\n",
      "asin          8765568 non-null object\n",
      "reviewText    8765568 non-null object\n",
      "summary       8765568 non-null object\n",
      "dtypes: bool(1), float64(1), object(4)\n",
      "memory usage: 409.6+ MB\n"
     ]
    }
   ],
   "source": [
    "re_MTV.info(verbose=True,null_counts=True)"
   ]
  },
  {
   "cell_type": "code",
   "execution_count": 17,
   "metadata": {},
   "outputs": [
    {
     "name": "stdout",
     "output_type": "stream",
     "text": [
      "total number of duplicated rows:  476331\n",
      "total number of unique rows out of duplicated rows:  237683\n",
      "expected number of rows after drop duplicates:  8526920\n"
     ]
    }
   ],
   "source": [
    "analyzeDup(re_MTV)"
   ]
  },
  {
   "cell_type": "code",
   "execution_count": 18,
   "metadata": {},
   "outputs": [
    {
     "data": {
      "text/plain": [
       "8526920"
      ]
     },
     "execution_count": 18,
     "metadata": {},
     "output_type": "execute_result"
    }
   ],
   "source": [
    "#drop duplicates\n",
    "\n",
    "re_MTV.drop_duplicates(keep='first', inplace=True)\n",
    "\n",
    "len(re_MTV)"
   ]
  },
  {
   "cell_type": "markdown",
   "metadata": {},
   "source": [
    "#### 2.4.1.10 Category 'Kindle_Store'\n",
    "\n",
    "To reduce redudant explanation, only codes and output will be shown from here and the rest of the categories. <br>Refer to section **2.4.1.1 Category 'AMAZON_FASHION'** for process details."
   ]
  },
  {
   "cell_type": "code",
   "execution_count": 29,
   "metadata": {},
   "outputs": [
    {
     "name": "stdout",
     "output_type": "stream",
     "text": [
      "<class 'pandas.core.frame.DataFrame'>\n",
      "Int64Index: 5722988 entries, 0 to 5722987\n",
      "Data columns (total 6 columns):\n",
      "overall       5722988 non-null float64\n",
      "verified      5722988 non-null bool\n",
      "reviewerID    5722988 non-null object\n",
      "asin          5722988 non-null object\n",
      "reviewText    5722988 non-null object\n",
      "summary       5722988 non-null object\n",
      "dtypes: bool(1), float64(1), object(4)\n",
      "memory usage: 267.4+ MB\n"
     ]
    }
   ],
   "source": [
    "re_KS.info(verbose=True,null_counts=True)"
   ]
  },
  {
   "cell_type": "code",
   "execution_count": 30,
   "metadata": {},
   "outputs": [
    {
     "name": "stdout",
     "output_type": "stream",
     "text": [
      "total number of duplicated rows:  27034\n",
      "total number of unique rows out of duplicated rows:  13362\n",
      "expected number of rows after drop duplicates:  5709316\n"
     ]
    }
   ],
   "source": [
    "analyzeDup(re_KS)"
   ]
  },
  {
   "cell_type": "code",
   "execution_count": 31,
   "metadata": {},
   "outputs": [
    {
     "data": {
      "text/plain": [
       "5709316"
      ]
     },
     "execution_count": 31,
     "metadata": {},
     "output_type": "execute_result"
    }
   ],
   "source": [
    "#drop duplicates\n",
    "\n",
    "re_KS.drop_duplicates(keep='first', inplace=True)\n",
    "\n",
    "len(re_KS)"
   ]
  },
  {
   "cell_type": "markdown",
   "metadata": {},
   "source": [
    "#### 2.4.1.11 Category 'Digital_Music'\n",
    "\n",
    "To reduce redudant explanation, only codes and output will be shown from here and the rest of the categories. <br>Refer to section **2.4.1.1 Category 'AMAZON_FASHION'** for process details."
   ]
  },
  {
   "cell_type": "code",
   "execution_count": 48,
   "metadata": {},
   "outputs": [
    {
     "name": "stdout",
     "output_type": "stream",
     "text": [
      "<class 'pandas.core.frame.DataFrame'>\n",
      "Int64Index: 1584082 entries, 0 to 1584081\n",
      "Data columns (total 6 columns):\n",
      "overall       1584082 non-null float64\n",
      "verified      1584082 non-null bool\n",
      "reviewerID    1584082 non-null object\n",
      "asin          1584082 non-null object\n",
      "reviewText    1584082 non-null object\n",
      "summary       1584082 non-null object\n",
      "dtypes: bool(1), float64(1), object(4)\n",
      "memory usage: 74.0+ MB\n"
     ]
    }
   ],
   "source": [
    "re_DM.info(verbose=True,null_counts=True)"
   ]
  },
  {
   "cell_type": "code",
   "execution_count": 49,
   "metadata": {},
   "outputs": [
    {
     "name": "stdout",
     "output_type": "stream",
     "text": [
      "total number of duplicated rows:  129258\n",
      "total number of unique rows out of duplicated rows:  64487\n",
      "expected number of rows after drop duplicates:  1519311\n"
     ]
    }
   ],
   "source": [
    "analyzeDup(re_DM)"
   ]
  },
  {
   "cell_type": "code",
   "execution_count": 50,
   "metadata": {},
   "outputs": [
    {
     "data": {
      "text/plain": [
       "1519311"
      ]
     },
     "execution_count": 50,
     "metadata": {},
     "output_type": "execute_result"
    }
   ],
   "source": [
    "#drop duplicates\n",
    "\n",
    "re_DM.drop_duplicates(keep='first', inplace=True)\n",
    "\n",
    "len(re_DM)"
   ]
  },
  {
   "cell_type": "markdown",
   "metadata": {},
   "source": [
    "#### 2.4.1.12 Category 'Magazine_Subscriptions'\n",
    "\n",
    "To reduce redudant explanation, only codes and output will be shown from here and the rest of the categories. <br>Refer to section **2.4.1.1 Category 'AMAZON_FASHION'** for process details."
   ]
  },
  {
   "cell_type": "code",
   "execution_count": 51,
   "metadata": {},
   "outputs": [
    {
     "name": "stdout",
     "output_type": "stream",
     "text": [
      "<class 'pandas.core.frame.DataFrame'>\n",
      "Int64Index: 89689 entries, 0 to 89688\n",
      "Data columns (total 6 columns):\n",
      "overall       89689 non-null float64\n",
      "verified      89689 non-null bool\n",
      "reviewerID    89689 non-null object\n",
      "asin          89689 non-null object\n",
      "reviewText    89689 non-null object\n",
      "summary       89689 non-null object\n",
      "dtypes: bool(1), float64(1), object(4)\n",
      "memory usage: 4.2+ MB\n"
     ]
    }
   ],
   "source": [
    "re_MS.info(verbose=True,null_counts=True)"
   ]
  },
  {
   "cell_type": "code",
   "execution_count": 52,
   "metadata": {},
   "outputs": [
    {
     "name": "stdout",
     "output_type": "stream",
     "text": [
      "total number of duplicated rows:  2388\n",
      "total number of unique rows out of duplicated rows:  1193\n",
      "expected number of rows after drop duplicates:  88494\n"
     ]
    }
   ],
   "source": [
    "analyzeDup(re_MS)"
   ]
  },
  {
   "cell_type": "code",
   "execution_count": 53,
   "metadata": {},
   "outputs": [
    {
     "data": {
      "text/plain": [
       "88494"
      ]
     },
     "execution_count": 53,
     "metadata": {},
     "output_type": "execute_result"
    }
   ],
   "source": [
    "#drop duplicates\n",
    "\n",
    "re_MS.drop_duplicates(keep='first', inplace=True)\n",
    "\n",
    "len(re_MS)"
   ]
  },
  {
   "cell_type": "markdown",
   "metadata": {},
   "source": [
    "### 2.4.2 Dataset 'product' Duplicate Check"
   ]
  },
  {
   "cell_type": "markdown",
   "metadata": {},
   "source": [
    "#### 2.4.2.1 Category 'Movies_and_TVs'"
   ]
  },
  {
   "cell_type": "code",
   "execution_count": 115,
   "metadata": {},
   "outputs": [
    {
     "name": "stdout",
     "output_type": "stream",
     "text": [
      "<class 'pandas.core.frame.DataFrame'>\n",
      "Int64Index: 203970 entries, 0 to 203969\n",
      "Data columns (total 3 columns):\n",
      "title       203970 non-null object\n",
      "main_cat    203970 non-null object\n",
      "asin        203970 non-null object\n",
      "dtypes: object(3)\n",
      "memory usage: 6.2+ MB\n"
     ]
    }
   ],
   "source": [
    "pr_MTV.info()"
   ]
  },
  {
   "cell_type": "code",
   "execution_count": 116,
   "metadata": {},
   "outputs": [
    {
     "name": "stdout",
     "output_type": "stream",
     "text": [
      "total number of duplicated rows:  43854\n",
      "total number of unique rows out of duplicated rows:  21927\n",
      "expected number of rows after drop duplicates:  182043\n"
     ]
    }
   ],
   "source": [
    "analyzeDup(pr_MTV)"
   ]
  },
  {
   "cell_type": "code",
   "execution_count": 117,
   "metadata": {},
   "outputs": [
    {
     "data": {
      "text/plain": [
       "182043"
      ]
     },
     "execution_count": 117,
     "metadata": {},
     "output_type": "execute_result"
    }
   ],
   "source": [
    "#drop duplicates\n",
    "\n",
    "pr_MTV.drop_duplicates(keep='first', inplace=True)\n",
    "\n",
    "len(pr_MTV)"
   ]
  },
  {
   "cell_type": "markdown",
   "metadata": {},
   "source": [
    "#### 2.4.2.2 Category 'Kindle_Store'"
   ]
  },
  {
   "cell_type": "code",
   "execution_count": 118,
   "metadata": {},
   "outputs": [
    {
     "name": "stdout",
     "output_type": "stream",
     "text": [
      "<class 'pandas.core.frame.DataFrame'>\n",
      "Int64Index: 493552 entries, 0 to 493551\n",
      "Data columns (total 3 columns):\n",
      "title       493552 non-null object\n",
      "main_cat    493552 non-null object\n",
      "asin        493552 non-null object\n",
      "dtypes: object(3)\n",
      "memory usage: 15.1+ MB\n"
     ]
    }
   ],
   "source": [
    "pr_KS.info()"
   ]
  },
  {
   "cell_type": "code",
   "execution_count": 119,
   "metadata": {},
   "outputs": [
    {
     "name": "stdout",
     "output_type": "stream",
     "text": [
      "total number of duplicated rows:  0\n",
      "total number of unique rows out of duplicated rows:  0\n",
      "expected number of rows after drop duplicates:  493552\n"
     ]
    }
   ],
   "source": [
    "analyzeDup(pr_KS)"
   ]
  },
  {
   "cell_type": "markdown",
   "metadata": {},
   "source": [
    "#### 2.4.2.3 Category 'Digital_Music'"
   ]
  },
  {
   "cell_type": "code",
   "execution_count": 27,
   "metadata": {},
   "outputs": [
    {
     "name": "stdout",
     "output_type": "stream",
     "text": [
      "<class 'pandas.core.frame.DataFrame'>\n",
      "Int64Index: 465392 entries, 0 to 465391\n",
      "Data columns (total 2 columns):\n",
      "title    465392 non-null object\n",
      "asin     465392 non-null object\n",
      "dtypes: object(2)\n",
      "memory usage: 10.7+ MB\n"
     ]
    }
   ],
   "source": [
    "pr_DM.info()"
   ]
  },
  {
   "cell_type": "code",
   "execution_count": 28,
   "metadata": {},
   "outputs": [
    {
     "name": "stdout",
     "output_type": "stream",
     "text": [
      "total number of duplicated rows:  16764\n",
      "total number of unique rows out of duplicated rows:  8382\n",
      "expected number of rows after drop duplicates:  457010\n"
     ]
    }
   ],
   "source": [
    "analyzeDup(pr_DM)"
   ]
  },
  {
   "cell_type": "code",
   "execution_count": 29,
   "metadata": {},
   "outputs": [
    {
     "data": {
      "text/plain": [
       "457010"
      ]
     },
     "execution_count": 29,
     "metadata": {},
     "output_type": "execute_result"
    }
   ],
   "source": [
    "#drop duplicates\n",
    "\n",
    "pr_DM.drop_duplicates(keep='first', inplace=True)\n",
    "\n",
    "len(pr_DM)"
   ]
  },
  {
   "cell_type": "markdown",
   "metadata": {},
   "source": [
    "#### 2.4.2.4 Category 'Magazine_Subscriptions'"
   ]
  },
  {
   "cell_type": "code",
   "execution_count": 123,
   "metadata": {},
   "outputs": [
    {
     "name": "stdout",
     "output_type": "stream",
     "text": [
      "<class 'pandas.core.frame.DataFrame'>\n",
      "Int64Index: 3493 entries, 0 to 3492\n",
      "Data columns (total 3 columns):\n",
      "main_cat    3493 non-null object\n",
      "asin        3493 non-null object\n",
      "title       3493 non-null object\n",
      "dtypes: object(3)\n",
      "memory usage: 109.2+ KB\n"
     ]
    }
   ],
   "source": [
    "pr_MS.info()"
   ]
  },
  {
   "cell_type": "code",
   "execution_count": 129,
   "metadata": {},
   "outputs": [
    {
     "name": "stdout",
     "output_type": "stream",
     "text": [
      "total number of duplicated rows:  2130\n",
      "total number of unique rows out of duplicated rows:  1065\n",
      "expected number of rows after drop duplicates:  2428\n"
     ]
    }
   ],
   "source": [
    "analyzeDup(pr_MS)"
   ]
  },
  {
   "cell_type": "code",
   "execution_count": 130,
   "metadata": {},
   "outputs": [
    {
     "data": {
      "text/plain": [
       "2428"
      ]
     },
     "execution_count": 130,
     "metadata": {},
     "output_type": "execute_result"
    }
   ],
   "source": [
    "#drop duplicates\n",
    "\n",
    "pr_MS.drop_duplicates(keep='first', inplace=True)\n",
    "\n",
    "len(pr_MS)"
   ]
  },
  {
   "cell_type": "markdown",
   "metadata": {},
   "source": [
    "#### 2.4.2.4 Category 'Books'"
   ]
  },
  {
   "cell_type": "code",
   "execution_count": 14,
   "metadata": {},
   "outputs": [
    {
     "name": "stdout",
     "output_type": "stream",
     "text": [
      "<class 'pandas.core.frame.DataFrame'>\n",
      "Int64Index: 2935525 entries, 0 to 2935524\n",
      "Data columns (total 11 columns):\n",
      "description     2384361 non-null object\n",
      "title           2935525 non-null object\n",
      "also_buy        1344649 non-null object\n",
      "brand           2834504 non-null object\n",
      "also_view       1205292 non-null object\n",
      "main_cat        2935525 non-null object\n",
      "asin            2935525 non-null object\n",
      "category        2545906 non-null object\n",
      "feature         1542 non-null object\n",
      "similar_item    61 non-null object\n",
      "details         399866 non-null object\n",
      "dtypes: object(11)\n",
      "memory usage: 268.8+ MB\n"
     ]
    }
   ],
   "source": [
    "pr_books.info(verbose=True,null_counts=True)"
   ]
  },
  {
   "cell_type": "code",
   "execution_count": 15,
   "metadata": {},
   "outputs": [],
   "source": [
    "#similar_item and featur column has too few data to be viable.\n",
    "pr_books.drop(columns=['similar_item','feature'],inplace=True)"
   ]
  },
  {
   "cell_type": "code",
   "execution_count": 36,
   "metadata": {},
   "outputs": [
    {
     "name": "stdout",
     "output_type": "stream",
     "text": [
      "<class 'pandas.core.frame.DataFrame'>\n",
      "Int64Index: 2935525 entries, 0 to 2935524\n",
      "Data columns (total 9 columns):\n",
      "description    object\n",
      "title          object\n",
      "also_buy       object\n",
      "brand          object\n",
      "also_view      object\n",
      "main_cat       object\n",
      "asin           object\n",
      "category       object\n",
      "details        object\n",
      "dtypes: object(9)\n",
      "memory usage: 224.0+ MB\n"
     ]
    }
   ],
   "source": [
    "pr_books.info()"
   ]
  },
  {
   "cell_type": "markdown",
   "metadata": {},
   "source": [
    "Due to some columns containing data in lists, drop_duplicates does not work in place. <br> Instead, we will derive out the asin to identify and duplicates."
   ]
  },
  {
   "cell_type": "code",
   "execution_count": 44,
   "metadata": {},
   "outputs": [],
   "source": [
    "asin_books = pr_books.asin.copy()"
   ]
  },
  {
   "cell_type": "code",
   "execution_count": 47,
   "metadata": {},
   "outputs": [
    {
     "name": "stdout",
     "output_type": "stream",
     "text": [
      "total number of asin:  2935525\n",
      "number of unique asin:  2930600\n"
     ]
    }
   ],
   "source": [
    "print('total number of asin: ',len(asin_books))\n",
    "print('number of unique asin: ',len(asin_books.unique()))"
   ]
  },
  {
   "cell_type": "code",
   "execution_count": 50,
   "metadata": {},
   "outputs": [],
   "source": [
    "asin_count = pr_books.groupby('asin').asin.count()"
   ]
  },
  {
   "cell_type": "code",
   "execution_count": 53,
   "metadata": {},
   "outputs": [],
   "source": [
    "dup_books = asin_count[asin_count>1].index"
   ]
  },
  {
   "cell_type": "code",
   "execution_count": 56,
   "metadata": {},
   "outputs": [
    {
     "data": {
      "text/html": [
       "<div>\n",
       "<style scoped>\n",
       "    .dataframe tbody tr th:only-of-type {\n",
       "        vertical-align: middle;\n",
       "    }\n",
       "\n",
       "    .dataframe tbody tr th {\n",
       "        vertical-align: top;\n",
       "    }\n",
       "\n",
       "    .dataframe thead th {\n",
       "        text-align: right;\n",
       "    }\n",
       "</style>\n",
       "<table border=\"1\" class=\"dataframe\">\n",
       "  <thead>\n",
       "    <tr style=\"text-align: right;\">\n",
       "      <th></th>\n",
       "      <th>description</th>\n",
       "      <th>title</th>\n",
       "      <th>also_buy</th>\n",
       "      <th>brand</th>\n",
       "      <th>also_view</th>\n",
       "      <th>main_cat</th>\n",
       "      <th>asin</th>\n",
       "      <th>category</th>\n",
       "      <th>details</th>\n",
       "    </tr>\n",
       "  </thead>\n",
       "  <tbody>\n",
       "    <tr>\n",
       "      <th>2603424</th>\n",
       "      <td>[Contains blank, lined pages  Measures 5.75 by...</td>\n",
       "      <td>Adventure Journal</td>\n",
       "      <td>NaN</td>\n",
       "      <td>NaN</td>\n",
       "      <td>NaN</td>\n",
       "      <td>Books</td>\n",
       "      <td>B00000IJYC</td>\n",
       "      <td>NaN</td>\n",
       "      <td>\\n  &lt;div class=\"content\"&gt;\\n\\n\\n\\n\\n\\n\\n\\n&lt;ul&gt;\\...</td>\n",
       "    </tr>\n",
       "    <tr>\n",
       "      <th>2608349</th>\n",
       "      <td>[Contains blank, lined pages  Measures 5.75 by...</td>\n",
       "      <td>Adventure Journal</td>\n",
       "      <td>NaN</td>\n",
       "      <td>NaN</td>\n",
       "      <td>NaN</td>\n",
       "      <td>Books</td>\n",
       "      <td>B00000IJYC</td>\n",
       "      <td>NaN</td>\n",
       "      <td>\\n  &lt;div class=\"content\"&gt;\\n\\n\\n\\n\\n\\n\\n\\n&lt;ul&gt;\\...</td>\n",
       "    </tr>\n",
       "    <tr>\n",
       "      <th>2603426</th>\n",
       "      <td>[Includes cardboard storage box, 24 note cards...</td>\n",
       "      <td>Tiffany Windows Note Cards</td>\n",
       "      <td>NaN</td>\n",
       "      <td>NaN</td>\n",
       "      <td>NaN</td>\n",
       "      <td>Books</td>\n",
       "      <td>B00000IJYX</td>\n",
       "      <td>NaN</td>\n",
       "      <td>\\n  &lt;div class=\"content\"&gt;\\n\\n\\n\\n\\n\\n\\n\\n&lt;ul&gt;\\...</td>\n",
       "    </tr>\n",
       "    <tr>\n",
       "      <th>2608351</th>\n",
       "      <td>[Includes cardboard storage box, 24 note cards...</td>\n",
       "      <td>Tiffany Windows Note Cards</td>\n",
       "      <td>NaN</td>\n",
       "      <td>NaN</td>\n",
       "      <td>NaN</td>\n",
       "      <td>Books</td>\n",
       "      <td>B00000IJYX</td>\n",
       "      <td>NaN</td>\n",
       "      <td>\\n  &lt;div class=\"content\"&gt;\\n\\n\\n\\n\\n\\n\\n\\n&lt;ul&gt;\\...</td>\n",
       "    </tr>\n",
       "    <tr>\n",
       "      <th>2608350</th>\n",
       "      <td>[, , , ]</td>\n",
       "      <td>NiteOwl DC Plus Upgrade Kit</td>\n",
       "      <td>NaN</td>\n",
       "      <td>NaN</td>\n",
       "      <td>NaN</td>\n",
       "      <td>Books</td>\n",
       "      <td>B00000IJZO</td>\n",
       "      <td>NaN</td>\n",
       "      <td>\\n  &lt;div class=\"content\"&gt;\\n\\n\\n\\n\\n\\n\\n\\n&lt;ul&gt;\\...</td>\n",
       "    </tr>\n",
       "    <tr>\n",
       "      <th>2603425</th>\n",
       "      <td>[, , , ]</td>\n",
       "      <td>NiteOwl DC Plus Upgrade Kit</td>\n",
       "      <td>NaN</td>\n",
       "      <td>NaN</td>\n",
       "      <td>NaN</td>\n",
       "      <td>Books</td>\n",
       "      <td>B00000IJZO</td>\n",
       "      <td>NaN</td>\n",
       "      <td>\\n  &lt;div class=\"content\"&gt;\\n\\n\\n\\n\\n\\n\\n\\n&lt;ul&gt;\\...</td>\n",
       "    </tr>\n",
       "    <tr>\n",
       "      <th>2603428</th>\n",
       "      <td>[Book lovers like nothing better than to curl ...</td>\n",
       "      <td>Black Floral Tapestry Book Cover (Hardcover)</td>\n",
       "      <td>NaN</td>\n",
       "      <td>NaN</td>\n",
       "      <td>NaN</td>\n",
       "      <td>Books</td>\n",
       "      <td>B00000IRGQ</td>\n",
       "      <td>NaN</td>\n",
       "      <td>\\n  &lt;div class=\"content\"&gt;\\n\\n\\n\\n\\n\\n\\n\\n&lt;ul&gt;\\...</td>\n",
       "    </tr>\n",
       "    <tr>\n",
       "      <th>2608353</th>\n",
       "      <td>[Book lovers like nothing better than to curl ...</td>\n",
       "      <td>Black Floral Tapestry Book Cover (Hardcover)</td>\n",
       "      <td>NaN</td>\n",
       "      <td>NaN</td>\n",
       "      <td>NaN</td>\n",
       "      <td>Books</td>\n",
       "      <td>B00000IRGQ</td>\n",
       "      <td>NaN</td>\n",
       "      <td>\\n  &lt;div class=\"content\"&gt;\\n\\n\\n\\n\\n\\n\\n\\n&lt;ul&gt;\\...</td>\n",
       "    </tr>\n",
       "    <tr>\n",
       "      <th>2603427</th>\n",
       "      <td>[, , , ]</td>\n",
       "      <td>Plum Canvas Book Cover (Hardcover)</td>\n",
       "      <td>NaN</td>\n",
       "      <td>NaN</td>\n",
       "      <td>[B00W4E1TMS, 0310823706]</td>\n",
       "      <td>Books</td>\n",
       "      <td>B00000IRGX</td>\n",
       "      <td>NaN</td>\n",
       "      <td>\\n  &lt;div class=\"content\"&gt;\\n\\n\\n\\n\\n\\n\\n\\n&lt;ul&gt;\\...</td>\n",
       "    </tr>\n",
       "    <tr>\n",
       "      <th>2608352</th>\n",
       "      <td>[, , , ]</td>\n",
       "      <td>Plum Canvas Book Cover (Hardcover)</td>\n",
       "      <td>NaN</td>\n",
       "      <td>NaN</td>\n",
       "      <td>[B00W4E1TMS, 0310823706]</td>\n",
       "      <td>Books</td>\n",
       "      <td>B00000IRGX</td>\n",
       "      <td>NaN</td>\n",
       "      <td>\\n  &lt;div class=\"content\"&gt;\\n\\n\\n\\n\\n\\n\\n\\n&lt;ul&gt;\\...</td>\n",
       "    </tr>\n",
       "    <tr>\n",
       "      <th>2603429</th>\n",
       "      <td>[Considered one of the best series of role-pla...</td>\n",
       "      <td>Duke's Descent How to Host a Murder</td>\n",
       "      <td>[1878875000, B00000IVSW, B00000IVPG, B00000DMB...</td>\n",
       "      <td>Decipher</td>\n",
       "      <td>[1878875000, B00000IVSV, B00000J00M, B00000IVS...</td>\n",
       "      <td>Books</td>\n",
       "      <td>B00000IVPF</td>\n",
       "      <td>NaN</td>\n",
       "      <td>\\n  &lt;div class=\"content\"&gt;\\n\\n\\n\\n\\n\\n\\n\\n&lt;ul&gt;\\...</td>\n",
       "    </tr>\n",
       "    <tr>\n",
       "      <th>2608354</th>\n",
       "      <td>[Considered one of the best series of role-pla...</td>\n",
       "      <td>Duke's Descent How to Host a Murder</td>\n",
       "      <td>[1878875000, B00000IVSW, B00000IVPG, B00000DMB...</td>\n",
       "      <td>Decipher</td>\n",
       "      <td>[1878875000, B00000IVSV, B00000J00M, B00000IVS...</td>\n",
       "      <td>Books</td>\n",
       "      <td>B00000IVPF</td>\n",
       "      <td>NaN</td>\n",
       "      <td>\\n  &lt;div class=\"content\"&gt;\\n\\n\\n\\n\\n\\n\\n\\n&lt;ul&gt;\\...</td>\n",
       "    </tr>\n",
       "    <tr>\n",
       "      <th>2603430</th>\n",
       "      <td>[Lap Reader has tapered pillow that allows rea...</td>\n",
       "      <td>The Original Lap Reader in Tapestry Fabric</td>\n",
       "      <td>NaN</td>\n",
       "      <td>NaN</td>\n",
       "      <td>NaN</td>\n",
       "      <td>Books</td>\n",
       "      <td>B00000J6J7</td>\n",
       "      <td>NaN</td>\n",
       "      <td>\\n  &lt;div class=\"content\"&gt;\\n\\n\\n\\n\\n\\n\\n\\n&lt;ul&gt;\\...</td>\n",
       "    </tr>\n",
       "    <tr>\n",
       "      <th>2608355</th>\n",
       "      <td>[Lap Reader has tapered pillow that allows rea...</td>\n",
       "      <td>The Original Lap Reader in Tapestry Fabric</td>\n",
       "      <td>NaN</td>\n",
       "      <td>NaN</td>\n",
       "      <td>NaN</td>\n",
       "      <td>Books</td>\n",
       "      <td>B00000J6J7</td>\n",
       "      <td>NaN</td>\n",
       "      <td>\\n  &lt;div class=\"content\"&gt;\\n\\n\\n\\n\\n\\n\\n\\n&lt;ul&gt;\\...</td>\n",
       "    </tr>\n",
       "    <tr>\n",
       "      <th>2608356</th>\n",
       "      <td>[Comes in Plastic Sleeve]</td>\n",
       "      <td>Playboy - Playboy's Blue Collar Babes</td>\n",
       "      <td>NaN</td>\n",
       "      <td>Morena Corwin</td>\n",
       "      <td>NaN</td>\n",
       "      <td>Books</td>\n",
       "      <td>B00000JQW6</td>\n",
       "      <td>NaN</td>\n",
       "      <td>\\n  &lt;div class=\"content\"&gt;\\n\\n\\n\\n\\n\\n\\n\\n&lt;ul&gt;\\...</td>\n",
       "    </tr>\n",
       "    <tr>\n",
       "      <th>2603431</th>\n",
       "      <td>[Comes in Plastic Sleeve]</td>\n",
       "      <td>Playboy - Playboy's Blue Collar Babes</td>\n",
       "      <td>NaN</td>\n",
       "      <td>Morena Corwin</td>\n",
       "      <td>NaN</td>\n",
       "      <td>Books</td>\n",
       "      <td>B00000JQW6</td>\n",
       "      <td>NaN</td>\n",
       "      <td>\\n  &lt;div class=\"content\"&gt;\\n\\n\\n\\n\\n\\n\\n\\n&lt;ul&gt;\\...</td>\n",
       "    </tr>\n",
       "    <tr>\n",
       "      <th>2608357</th>\n",
       "      <td>[Penzler Pick, March 2000: How does one discus...</td>\n",
       "      <td>The Dragon Murder Case</td>\n",
       "      <td>[B000FGHTEO, B00085FZ1Q, B00085LY52, B00E44EZUE]</td>\n",
       "      <td>Visit Amazon's S. S. Van Dine Page</td>\n",
       "      <td>[1631941836, 0684185032, 1631941682]</td>\n",
       "      <td>Books</td>\n",
       "      <td>B000023VWY</td>\n",
       "      <td>[Books, Literature &amp; Fiction, United States]</td>\n",
       "      <td>\\n  &lt;div class=\"content\"&gt;\\n\\n\\n\\n\\n\\n\\n\\n&lt;ul&gt;\\...</td>\n",
       "    </tr>\n",
       "    <tr>\n",
       "      <th>2603432</th>\n",
       "      <td>[Penzler Pick, March 2000: How does one discus...</td>\n",
       "      <td>The Dragon Murder Case</td>\n",
       "      <td>[B000FGHTEO, B00085FZ1Q, B00085LY52, B00E44EZUE]</td>\n",
       "      <td>Visit Amazon's S. S. Van Dine Page</td>\n",
       "      <td>[1631941836, 0684185032, 1631941682]</td>\n",
       "      <td>Books</td>\n",
       "      <td>B000023VWY</td>\n",
       "      <td>[Books, Literature &amp; Fiction, United States]</td>\n",
       "      <td>\\n  &lt;div class=\"content\"&gt;\\n\\n\\n\\n\\n\\n\\n\\n&lt;ul&gt;\\...</td>\n",
       "    </tr>\n",
       "    <tr>\n",
       "      <th>2608358</th>\n",
       "      <td>[Steve HILLMAN Matrix CD]</td>\n",
       "      <td>Matrix</td>\n",
       "      <td>NaN</td>\n",
       "      <td>Visit Amazon's Steve Hillman Page</td>\n",
       "      <td>NaN</td>\n",
       "      <td>Books</td>\n",
       "      <td>B000024EF4</td>\n",
       "      <td>[Books, Arts &amp; Photography, Music]</td>\n",
       "      <td>\\n  &lt;div class=\"content\"&gt;\\n\\n\\n\\n\\n\\n\\n\\n&lt;ul&gt;\\...</td>\n",
       "    </tr>\n",
       "    <tr>\n",
       "      <th>2603433</th>\n",
       "      <td>[Steve HILLMAN Matrix CD]</td>\n",
       "      <td>Matrix</td>\n",
       "      <td>NaN</td>\n",
       "      <td>Visit Amazon's Steve Hillman Page</td>\n",
       "      <td>NaN</td>\n",
       "      <td>Books</td>\n",
       "      <td>B000024EF4</td>\n",
       "      <td>[Books, Arts &amp; Photography, Music]</td>\n",
       "      <td>\\n  &lt;div class=\"content\"&gt;\\n\\n\\n\\n\\n\\n\\n\\n&lt;ul&gt;\\...</td>\n",
       "    </tr>\n",
       "    <tr>\n",
       "      <th>2608359</th>\n",
       "      <td>NaN</td>\n",
       "      <td>For You Alone</td>\n",
       "      <td>NaN</td>\n",
       "      <td>NaN</td>\n",
       "      <td>NaN</td>\n",
       "      <td>Books</td>\n",
       "      <td>B000024JQB</td>\n",
       "      <td>NaN</td>\n",
       "      <td>\\n  &lt;div class=\"content\"&gt;\\n\\n\\n\\n\\n\\n\\n\\n&lt;ul&gt;\\...</td>\n",
       "    </tr>\n",
       "    <tr>\n",
       "      <th>2603434</th>\n",
       "      <td>NaN</td>\n",
       "      <td>For You Alone</td>\n",
       "      <td>NaN</td>\n",
       "      <td>NaN</td>\n",
       "      <td>NaN</td>\n",
       "      <td>Books</td>\n",
       "      <td>B000024JQB</td>\n",
       "      <td>NaN</td>\n",
       "      <td>\\n  &lt;div class=\"content\"&gt;\\n\\n\\n\\n\\n\\n\\n\\n&lt;ul&gt;\\...</td>\n",
       "    </tr>\n",
       "    <tr>\n",
       "      <th>2608360</th>\n",
       "      <td>NaN</td>\n",
       "      <td>Magnificent Thunderstorms</td>\n",
       "      <td>NaN</td>\n",
       "      <td>NaN</td>\n",
       "      <td>NaN</td>\n",
       "      <td>Books</td>\n",
       "      <td>B000024S2G</td>\n",
       "      <td>NaN</td>\n",
       "      <td>\\n  &lt;div class=\"content\"&gt;\\n\\n\\n\\n\\n\\n\\n\\n&lt;ul&gt;\\...</td>\n",
       "    </tr>\n",
       "    <tr>\n",
       "      <th>2603435</th>\n",
       "      <td>NaN</td>\n",
       "      <td>Magnificent Thunderstorms</td>\n",
       "      <td>NaN</td>\n",
       "      <td>NaN</td>\n",
       "      <td>NaN</td>\n",
       "      <td>Books</td>\n",
       "      <td>B000024S2G</td>\n",
       "      <td>NaN</td>\n",
       "      <td>\\n  &lt;div class=\"content\"&gt;\\n\\n\\n\\n\\n\\n\\n\\n&lt;ul&gt;\\...</td>\n",
       "    </tr>\n",
       "    <tr>\n",
       "      <th>2608361</th>\n",
       "      <td>[SATYRICON THE SHADOWTHRONE, , ]</td>\n",
       "      <td>The Shadowthrone</td>\n",
       "      <td>[B01B6FG4CA, B00E687MWQ, B074NDDKKP, B001F14TU...</td>\n",
       "      <td>Visit Amazon's Satyricon Page</td>\n",
       "      <td>[B074NDDKKP, B001F14TUU, B0001NBN3Y, B00E687MW...</td>\n",
       "      <td>Books</td>\n",
       "      <td>B000024W58</td>\n",
       "      <td>NaN</td>\n",
       "      <td>\\n  &lt;div class=\"content\"&gt;\\n\\n\\n\\n\\n\\n\\n\\n&lt;ul&gt;\\...</td>\n",
       "    </tr>\n",
       "    <tr>\n",
       "      <th>2603436</th>\n",
       "      <td>[SATYRICON THE SHADOWTHRONE, , ]</td>\n",
       "      <td>The Shadowthrone</td>\n",
       "      <td>[B01B6FG4CA, B00E687MWQ, B074NDDKKP, B001F14TU...</td>\n",
       "      <td>Visit Amazon's Satyricon Page</td>\n",
       "      <td>[B074NDDKKP, B001F14TUU, B0001NBN3Y, B00E687MW...</td>\n",
       "      <td>Books</td>\n",
       "      <td>B000024W58</td>\n",
       "      <td>NaN</td>\n",
       "      <td>\\n  &lt;div class=\"content\"&gt;\\n\\n\\n\\n\\n\\n\\n\\n&lt;ul&gt;\\...</td>\n",
       "    </tr>\n",
       "    <tr>\n",
       "      <th>2608362</th>\n",
       "      <td>NaN</td>\n",
       "      <td>La Fille Du Regiment</td>\n",
       "      <td>[B00GH10BGY]</td>\n",
       "      <td>Bavarian Radio Choir</td>\n",
       "      <td>[B000000L51]</td>\n",
       "      <td>Books</td>\n",
       "      <td>B000025298</td>\n",
       "      <td>[Books, Arts &amp; Photography, Music]</td>\n",
       "      <td>\\n  &lt;div class=\"content\"&gt;\\n\\n\\n\\n\\n\\n\\n\\n&lt;ul&gt;\\...</td>\n",
       "    </tr>\n",
       "    <tr>\n",
       "      <th>2603437</th>\n",
       "      <td>NaN</td>\n",
       "      <td>La Fille Du Regiment</td>\n",
       "      <td>[B00GH10BGY]</td>\n",
       "      <td>Bavarian Radio Choir</td>\n",
       "      <td>[B000000L51]</td>\n",
       "      <td>Books</td>\n",
       "      <td>B000025298</td>\n",
       "      <td>[Books, Arts &amp; Photography, Music]</td>\n",
       "      <td>\\n  &lt;div class=\"content\"&gt;\\n\\n\\n\\n\\n\\n\\n\\n&lt;ul&gt;\\...</td>\n",
       "    </tr>\n",
       "    <tr>\n",
       "      <th>2608363</th>\n",
       "      <td>NaN</td>\n",
       "      <td>Time of Our Lives</td>\n",
       "      <td>NaN</td>\n",
       "      <td>Visit Amazon's Grey Lady Down Page</td>\n",
       "      <td>NaN</td>\n",
       "      <td>Books</td>\n",
       "      <td>B0000254UG</td>\n",
       "      <td>[Books, Arts &amp; Photography, Music]</td>\n",
       "      <td>\\n  &lt;div class=\"content\"&gt;\\n\\n\\n\\n\\n\\n\\n\\n&lt;ul&gt;\\...</td>\n",
       "    </tr>\n",
       "    <tr>\n",
       "      <th>2603438</th>\n",
       "      <td>NaN</td>\n",
       "      <td>Time of Our Lives</td>\n",
       "      <td>NaN</td>\n",
       "      <td>Visit Amazon's Grey Lady Down Page</td>\n",
       "      <td>NaN</td>\n",
       "      <td>Books</td>\n",
       "      <td>B0000254UG</td>\n",
       "      <td>[Books, Arts &amp; Photography, Music]</td>\n",
       "      <td>\\n  &lt;div class=\"content\"&gt;\\n\\n\\n\\n\\n\\n\\n\\n&lt;ul&gt;\\...</td>\n",
       "    </tr>\n",
       "    <tr>\n",
       "      <th>...</th>\n",
       "      <td>...</td>\n",
       "      <td>...</td>\n",
       "      <td>...</td>\n",
       "      <td>...</td>\n",
       "      <td>...</td>\n",
       "      <td>...</td>\n",
       "      <td>...</td>\n",
       "      <td>...</td>\n",
       "      <td>...</td>\n",
       "    </tr>\n",
       "    <tr>\n",
       "      <th>2613259</th>\n",
       "      <td>[Sheet Pages: 8;Recorded by Luther Vandross;Fo...</td>\n",
       "      <td>Dance with My Father Sheet</td>\n",
       "      <td>NaN</td>\n",
       "      <td>NaN</td>\n",
       "      <td>NaN</td>\n",
       "      <td>Books</td>\n",
       "      <td>B0003040HG</td>\n",
       "      <td>[Books, Arts &amp; Photography, Music]</td>\n",
       "      <td>\\n  &lt;div class=\"content\"&gt;\\n\\n\\n\\n\\n\\n\\n\\n&lt;ul&gt;\\...</td>\n",
       "    </tr>\n",
       "    <tr>\n",
       "      <th>2608334</th>\n",
       "      <td>[Sheet Pages: 8;Recorded by Luther Vandross;Fo...</td>\n",
       "      <td>Dance with My Father Sheet</td>\n",
       "      <td>NaN</td>\n",
       "      <td>NaN</td>\n",
       "      <td>NaN</td>\n",
       "      <td>Books</td>\n",
       "      <td>B0003040HG</td>\n",
       "      <td>[Books, Arts &amp; Photography, Music]</td>\n",
       "      <td>\\n  &lt;div class=\"content\"&gt;\\n\\n\\n\\n\\n\\n\\n\\n&lt;ul&gt;\\...</td>\n",
       "    </tr>\n",
       "    <tr>\n",
       "      <th>2608335</th>\n",
       "      <td>[From the PBS series, \"The Civil War,\" comes a...</td>\n",
       "      <td>Ashokan Farewell (from \"The Civil War\") Sheet ...</td>\n",
       "      <td>[B001OTJR2I, 0786638567, 0786602481]</td>\n",
       "      <td>NaN</td>\n",
       "      <td>[B001OTJR2I, B0017JD60Y, 076929264X]</td>\n",
       "      <td>Books</td>\n",
       "      <td>B0003042FQ</td>\n",
       "      <td>[Books, Arts &amp; Photography, Music]</td>\n",
       "      <td>\\n  &lt;div class=\"content\"&gt;\\n\\n\\n\\n\\n\\n\\n\\n&lt;ul&gt;\\...</td>\n",
       "    </tr>\n",
       "    <tr>\n",
       "      <th>2613260</th>\n",
       "      <td>[From the PBS series, \"The Civil War,\" comes a...</td>\n",
       "      <td>Ashokan Farewell (from \"The Civil War\") Sheet ...</td>\n",
       "      <td>[B001OTJR2I, 0786638567, 0786602481]</td>\n",
       "      <td>NaN</td>\n",
       "      <td>[B001OTJR2I, B0017JD60Y, 076929264X]</td>\n",
       "      <td>Books</td>\n",
       "      <td>B0003042FQ</td>\n",
       "      <td>[Books, Arts &amp; Photography, Music]</td>\n",
       "      <td>\\n  &lt;div class=\"content\"&gt;\\n\\n\\n\\n\\n\\n\\n\\n&lt;ul&gt;\\...</td>\n",
       "    </tr>\n",
       "    <tr>\n",
       "      <th>2613261</th>\n",
       "      <td>NaN</td>\n",
       "      <td>EARLY SINGLE BOX(limited release/remastered)</td>\n",
       "      <td>NaN</td>\n",
       "      <td>NaN</td>\n",
       "      <td>NaN</td>\n",
       "      <td>Books</td>\n",
       "      <td>B0003060O2</td>\n",
       "      <td>NaN</td>\n",
       "      <td>\\n  &lt;div class=\"content\"&gt;\\n\\n\\n\\n\\n\\n\\n\\n&lt;ul&gt;\\...</td>\n",
       "    </tr>\n",
       "    <tr>\n",
       "      <th>2608336</th>\n",
       "      <td>NaN</td>\n",
       "      <td>EARLY SINGLE BOX(limited release/remastered)</td>\n",
       "      <td>NaN</td>\n",
       "      <td>NaN</td>\n",
       "      <td>NaN</td>\n",
       "      <td>Books</td>\n",
       "      <td>B0003060O2</td>\n",
       "      <td>NaN</td>\n",
       "      <td>\\n  &lt;div class=\"content\"&gt;\\n\\n\\n\\n\\n\\n\\n\\n&lt;ul&gt;\\...</td>\n",
       "    </tr>\n",
       "    <tr>\n",
       "      <th>2613262</th>\n",
       "      <td>[Sheet music for \"I Could Not Ask for More\" pe...</td>\n",
       "      <td>I Could Not Ask for More</td>\n",
       "      <td>NaN</td>\n",
       "      <td>Diane Warren</td>\n",
       "      <td>NaN</td>\n",
       "      <td>Books</td>\n",
       "      <td>B00030BNMG</td>\n",
       "      <td>[Books, Arts &amp; Photography, Music]</td>\n",
       "      <td>\\n  &lt;div class=\"content\"&gt;\\n\\n\\n\\n\\n\\n\\n\\n&lt;ul&gt;\\...</td>\n",
       "    </tr>\n",
       "    <tr>\n",
       "      <th>2608337</th>\n",
       "      <td>[Sheet music for \"I Could Not Ask for More\" pe...</td>\n",
       "      <td>I Could Not Ask for More</td>\n",
       "      <td>NaN</td>\n",
       "      <td>Diane Warren</td>\n",
       "      <td>NaN</td>\n",
       "      <td>Books</td>\n",
       "      <td>B00030BNMG</td>\n",
       "      <td>[Books, Arts &amp; Photography, Music]</td>\n",
       "      <td>\\n  &lt;div class=\"content\"&gt;\\n\\n\\n\\n\\n\\n\\n\\n&lt;ul&gt;\\...</td>\n",
       "    </tr>\n",
       "    <tr>\n",
       "      <th>2613263</th>\n",
       "      <td>[Sheet music from the movie Moulin Rouge., , ]</td>\n",
       "      <td>Come What May (Original sheet music edition)</td>\n",
       "      <td>NaN</td>\n",
       "      <td>David Baerwald</td>\n",
       "      <td>NaN</td>\n",
       "      <td>Books</td>\n",
       "      <td>B00030BNNK</td>\n",
       "      <td>[Books, Arts &amp; Photography, Music]</td>\n",
       "      <td>\\n  &lt;div class=\"content\"&gt;\\n\\n\\n\\n\\n\\n\\n\\n&lt;ul&gt;\\...</td>\n",
       "    </tr>\n",
       "    <tr>\n",
       "      <th>2608338</th>\n",
       "      <td>[Sheet music from the movie Moulin Rouge., , ]</td>\n",
       "      <td>Come What May (Original sheet music edition)</td>\n",
       "      <td>NaN</td>\n",
       "      <td>David Baerwald</td>\n",
       "      <td>NaN</td>\n",
       "      <td>Books</td>\n",
       "      <td>B00030BNNK</td>\n",
       "      <td>[Books, Arts &amp; Photography, Music]</td>\n",
       "      <td>\\n  &lt;div class=\"content\"&gt;\\n\\n\\n\\n\\n\\n\\n\\n&lt;ul&gt;\\...</td>\n",
       "    </tr>\n",
       "    <tr>\n",
       "      <th>2608339</th>\n",
       "      <td>NaN</td>\n",
       "      <td>Warner Brothers Reader's Digest Merry Christma...</td>\n",
       "      <td>NaN</td>\n",
       "      <td>NaN</td>\n",
       "      <td>[0895771055, B017WQH6YW, 0762104635]</td>\n",
       "      <td>Books</td>\n",
       "      <td>B00030BO8O</td>\n",
       "      <td>NaN</td>\n",
       "      <td>\\n  &lt;div class=\"content\"&gt;\\n\\n\\n\\n\\n\\n\\n\\n&lt;ul&gt;\\...</td>\n",
       "    </tr>\n",
       "    <tr>\n",
       "      <th>2613264</th>\n",
       "      <td>NaN</td>\n",
       "      <td>Warner Brothers Reader's Digest Merry Christma...</td>\n",
       "      <td>NaN</td>\n",
       "      <td>NaN</td>\n",
       "      <td>[0895771055, B017WQH6YW, 0762104635]</td>\n",
       "      <td>Books</td>\n",
       "      <td>B00030BO8O</td>\n",
       "      <td>NaN</td>\n",
       "      <td>\\n  &lt;div class=\"content\"&gt;\\n\\n\\n\\n\\n\\n\\n\\n&lt;ul&gt;\\...</td>\n",
       "    </tr>\n",
       "    <tr>\n",
       "      <th>2613265</th>\n",
       "      <td>NaN</td>\n",
       "      <td>Alfred Anne's Theme from Anne of Green Gables</td>\n",
       "      <td>[B0069UIGZ6, 1458407942, 0062697714, B000XSKDH...</td>\n",
       "      <td>Alfred</td>\n",
       "      <td>[B0069UIGZ6, B00001X5B1, 1476814767, B0017JJHH...</td>\n",
       "      <td>Books</td>\n",
       "      <td>B00030BOTI</td>\n",
       "      <td>[Books, Arts &amp; Photography, Music]</td>\n",
       "      <td>\\n  &lt;div class=\"content\"&gt;\\n\\n\\n\\n\\n\\n\\n\\n&lt;ul&gt;\\...</td>\n",
       "    </tr>\n",
       "    <tr>\n",
       "      <th>2608340</th>\n",
       "      <td>NaN</td>\n",
       "      <td>Alfred Anne's Theme from Anne of Green Gables</td>\n",
       "      <td>[B0069UIGZ6, 1458407942, 0062697714, B000XSKDH...</td>\n",
       "      <td>Alfred</td>\n",
       "      <td>[B0069UIGZ6, B00001X5B1, 1476814767, B0017JJHH...</td>\n",
       "      <td>Books</td>\n",
       "      <td>B00030BOTI</td>\n",
       "      <td>[Books, Arts &amp; Photography, Music]</td>\n",
       "      <td>\\n  &lt;div class=\"content\"&gt;\\n\\n\\n\\n\\n\\n\\n\\n&lt;ul&gt;\\...</td>\n",
       "    </tr>\n",
       "    <tr>\n",
       "      <th>2613266</th>\n",
       "      <td>[Point Of Grace, the multiple Dove Award-winni...</td>\n",
       "      <td>Jesus Will Still Be There (Word Tracks Studio)</td>\n",
       "      <td>NaN</td>\n",
       "      <td>Point of Grace</td>\n",
       "      <td>NaN</td>\n",
       "      <td>Books</td>\n",
       "      <td>B00030CJO2</td>\n",
       "      <td>NaN</td>\n",
       "      <td>\\n  &lt;div class=\"content\"&gt;\\n\\n\\n\\n\\n\\n\\n\\n&lt;ul&gt;\\...</td>\n",
       "    </tr>\n",
       "    <tr>\n",
       "      <th>2608341</th>\n",
       "      <td>[Point Of Grace, the multiple Dove Award-winni...</td>\n",
       "      <td>Jesus Will Still Be There (Word Tracks Studio)</td>\n",
       "      <td>NaN</td>\n",
       "      <td>Point of Grace</td>\n",
       "      <td>NaN</td>\n",
       "      <td>Books</td>\n",
       "      <td>B00030CJO2</td>\n",
       "      <td>NaN</td>\n",
       "      <td>\\n  &lt;div class=\"content\"&gt;\\n\\n\\n\\n\\n\\n\\n\\n&lt;ul&gt;\\...</td>\n",
       "    </tr>\n",
       "    <tr>\n",
       "      <th>2613267</th>\n",
       "      <td>[Desperate but Not Serious VHS]</td>\n",
       "      <td>Desperate but Not Serious</td>\n",
       "      <td>NaN</td>\n",
       "      <td>Claudia Schiffer</td>\n",
       "      <td>NaN</td>\n",
       "      <td>Books</td>\n",
       "      <td>B00030ETZ4</td>\n",
       "      <td>NaN</td>\n",
       "      <td>\\n  &lt;div class=\"content\"&gt;\\n\\n\\n\\n\\n\\n\\n\\n&lt;ul&gt;\\...</td>\n",
       "    </tr>\n",
       "    <tr>\n",
       "      <th>2608342</th>\n",
       "      <td>[Desperate but Not Serious VHS]</td>\n",
       "      <td>Desperate but Not Serious</td>\n",
       "      <td>NaN</td>\n",
       "      <td>Claudia Schiffer</td>\n",
       "      <td>NaN</td>\n",
       "      <td>Books</td>\n",
       "      <td>B00030ETZ4</td>\n",
       "      <td>NaN</td>\n",
       "      <td>\\n  &lt;div class=\"content\"&gt;\\n\\n\\n\\n\\n\\n\\n\\n&lt;ul&gt;\\...</td>\n",
       "    </tr>\n",
       "    <tr>\n",
       "      <th>2613268</th>\n",
       "      <td>NaN</td>\n",
       "      <td>The Game Plan</td>\n",
       "      <td>NaN</td>\n",
       "      <td>Unknown</td>\n",
       "      <td>NaN</td>\n",
       "      <td>Books</td>\n",
       "      <td>B00031YBFG</td>\n",
       "      <td>NaN</td>\n",
       "      <td>\\n  &lt;div class=\"content\"&gt;\\n\\n\\n\\n\\n\\n\\n\\n&lt;ul&gt;\\...</td>\n",
       "    </tr>\n",
       "    <tr>\n",
       "      <th>2608343</th>\n",
       "      <td>NaN</td>\n",
       "      <td>The Game Plan</td>\n",
       "      <td>NaN</td>\n",
       "      <td>Unknown</td>\n",
       "      <td>NaN</td>\n",
       "      <td>Books</td>\n",
       "      <td>B00031YBFG</td>\n",
       "      <td>NaN</td>\n",
       "      <td>\\n  &lt;div class=\"content\"&gt;\\n\\n\\n\\n\\n\\n\\n\\n&lt;ul&gt;\\...</td>\n",
       "    </tr>\n",
       "    <tr>\n",
       "      <th>2613269</th>\n",
       "      <td>[409pages. 19,6x13,5x2,8cm. Broch. bon tat -br...</td>\n",
       "      <td>Elegance</td>\n",
       "      <td>[0060522283, 0061125768]</td>\n",
       "      <td>Tessaro Kathleen</td>\n",
       "      <td>[0060522275]</td>\n",
       "      <td>Books</td>\n",
       "      <td>B00034EOQY</td>\n",
       "      <td>NaN</td>\n",
       "      <td>\\n  &lt;div class=\"content\"&gt;\\n\\n\\n\\n\\n\\n\\n\\n&lt;ul&gt;\\...</td>\n",
       "    </tr>\n",
       "    <tr>\n",
       "      <th>2608344</th>\n",
       "      <td>[409pages. 19,6x13,5x2,8cm. Broch. bon tat -br...</td>\n",
       "      <td>Elegance</td>\n",
       "      <td>[0060522283, 0061125768]</td>\n",
       "      <td>Tessaro Kathleen</td>\n",
       "      <td>[0060522275]</td>\n",
       "      <td>Books</td>\n",
       "      <td>B00034EOQY</td>\n",
       "      <td>NaN</td>\n",
       "      <td>\\n  &lt;div class=\"content\"&gt;\\n\\n\\n\\n\\n\\n\\n\\n&lt;ul&gt;\\...</td>\n",
       "    </tr>\n",
       "    <tr>\n",
       "      <th>2608345</th>\n",
       "      <td>[Japan Import., , ]</td>\n",
       "      <td>1/24 V35 Skyline Coupe 350GT Nismo (Model Car)...</td>\n",
       "      <td>NaN</td>\n",
       "      <td>NaN</td>\n",
       "      <td>[B000K205JO]</td>\n",
       "      <td>Books</td>\n",
       "      <td>B0003J2MCM</td>\n",
       "      <td>NaN</td>\n",
       "      <td>\\n  &lt;div class=\"content\"&gt;\\n\\n\\n\\n\\n\\n\\n\\n&lt;ul&gt;\\...</td>\n",
       "    </tr>\n",
       "    <tr>\n",
       "      <th>2613270</th>\n",
       "      <td>[Japan Import., , ]</td>\n",
       "      <td>1/24 V35 Skyline Coupe 350GT Nismo (Model Car)...</td>\n",
       "      <td>NaN</td>\n",
       "      <td>NaN</td>\n",
       "      <td>[B000K205JO]</td>\n",
       "      <td>Books</td>\n",
       "      <td>B0003J2MCM</td>\n",
       "      <td>NaN</td>\n",
       "      <td>\\n  &lt;div class=\"content\"&gt;\\n\\n\\n\\n\\n\\n\\n\\n&lt;ul&gt;\\...</td>\n",
       "    </tr>\n",
       "    <tr>\n",
       "      <th>2613271</th>\n",
       "      <td>[In today's kitchen, where Teflon-coated skill...</td>\n",
       "      <td>Reco Complete Guide to Clay Pot Cooking Cookbook</td>\n",
       "      <td>[0002250519, 1626548935, 1882606582, B0010FGIT...</td>\n",
       "      <td>Bridget Jones</td>\n",
       "      <td>[0002250519, B00JWTV11W, B00B30LV2C, 162654893...</td>\n",
       "      <td>Books</td>\n",
       "      <td>B0003UEOM2</td>\n",
       "      <td>[Books, Cookbooks, Food &amp; Wine]</td>\n",
       "      <td>\\n  &lt;div class=\"content\"&gt;\\n\\n\\n\\n\\n\\n\\n\\n&lt;ul&gt;\\...</td>\n",
       "    </tr>\n",
       "    <tr>\n",
       "      <th>2608346</th>\n",
       "      <td>[In today's kitchen, where Teflon-coated skill...</td>\n",
       "      <td>Reco Complete Guide to Clay Pot Cooking Cookbook</td>\n",
       "      <td>[0002250519, 1626548935, 1882606582, B0010FGIT...</td>\n",
       "      <td>Bridget Jones</td>\n",
       "      <td>[0002250519, B00JWTV11W, B00B30LV2C, 162654893...</td>\n",
       "      <td>Books</td>\n",
       "      <td>B0003UEOM2</td>\n",
       "      <td>[Books, Cookbooks, Food &amp; Wine]</td>\n",
       "      <td>\\n  &lt;div class=\"content\"&gt;\\n\\n\\n\\n\\n\\n\\n\\n&lt;ul&gt;\\...</td>\n",
       "    </tr>\n",
       "    <tr>\n",
       "      <th>2608348</th>\n",
       "      <td>[Arbans Complete Method for the Trumpet contai...</td>\n",
       "      <td>Carl Fischer Arbans Complete Method-Trumpet</td>\n",
       "      <td>NaN</td>\n",
       "      <td>NaN</td>\n",
       "      <td>[0825803853, 0825893143, B017X3KDJY, 082580158...</td>\n",
       "      <td>Books</td>\n",
       "      <td>B0004372Q8</td>\n",
       "      <td>[Books, Arts &amp; Photography, Music]</td>\n",
       "      <td>\\n  &lt;div class=\"content\"&gt;\\n\\n\\n\\n\\n\\n\\n\\n&lt;ul&gt;\\...</td>\n",
       "    </tr>\n",
       "    <tr>\n",
       "      <th>2613273</th>\n",
       "      <td>[Arbans Complete Method for the Trumpet contai...</td>\n",
       "      <td>Carl Fischer Arbans Complete Method-Trumpet</td>\n",
       "      <td>NaN</td>\n",
       "      <td>NaN</td>\n",
       "      <td>[0825803853, 0825893143, B017X3KDJY, 082580158...</td>\n",
       "      <td>Books</td>\n",
       "      <td>B0004372Q8</td>\n",
       "      <td>[Books, Arts &amp; Photography, Music]</td>\n",
       "      <td>\\n  &lt;div class=\"content\"&gt;\\n\\n\\n\\n\\n\\n\\n\\n&lt;ul&gt;\\...</td>\n",
       "    </tr>\n",
       "    <tr>\n",
       "      <th>2608347</th>\n",
       "      <td>NaN</td>\n",
       "      <td>Flowering Judas</td>\n",
       "      <td>NaN</td>\n",
       "      <td>Visit Amazon's Elizabeth Palmer Page</td>\n",
       "      <td>NaN</td>\n",
       "      <td>Books</td>\n",
       "      <td>B000449040</td>\n",
       "      <td>NaN</td>\n",
       "      <td>\\n  &lt;div class=\"content\"&gt;\\n\\n\\n\\n\\n\\n\\n\\n&lt;ul&gt;\\...</td>\n",
       "    </tr>\n",
       "    <tr>\n",
       "      <th>2613272</th>\n",
       "      <td>NaN</td>\n",
       "      <td>Flowering Judas</td>\n",
       "      <td>NaN</td>\n",
       "      <td>Visit Amazon's Elizabeth Palmer Page</td>\n",
       "      <td>NaN</td>\n",
       "      <td>Books</td>\n",
       "      <td>B000449040</td>\n",
       "      <td>NaN</td>\n",
       "      <td>\\n  &lt;div class=\"content\"&gt;\\n\\n\\n\\n\\n\\n\\n\\n&lt;ul&gt;\\...</td>\n",
       "    </tr>\n",
       "  </tbody>\n",
       "</table>\n",
       "<p>9850 rows × 9 columns</p>\n",
       "</div>"
      ],
      "text/plain": [
       "                                               description  \\\n",
       "2603424  [Contains blank, lined pages  Measures 5.75 by...   \n",
       "2608349  [Contains blank, lined pages  Measures 5.75 by...   \n",
       "2603426  [Includes cardboard storage box, 24 note cards...   \n",
       "2608351  [Includes cardboard storage box, 24 note cards...   \n",
       "2608350                                           [, , , ]   \n",
       "2603425                                           [, , , ]   \n",
       "2603428  [Book lovers like nothing better than to curl ...   \n",
       "2608353  [Book lovers like nothing better than to curl ...   \n",
       "2603427                                           [, , , ]   \n",
       "2608352                                           [, , , ]   \n",
       "2603429  [Considered one of the best series of role-pla...   \n",
       "2608354  [Considered one of the best series of role-pla...   \n",
       "2603430  [Lap Reader has tapered pillow that allows rea...   \n",
       "2608355  [Lap Reader has tapered pillow that allows rea...   \n",
       "2608356                          [Comes in Plastic Sleeve]   \n",
       "2603431                          [Comes in Plastic Sleeve]   \n",
       "2608357  [Penzler Pick, March 2000: How does one discus...   \n",
       "2603432  [Penzler Pick, March 2000: How does one discus...   \n",
       "2608358                          [Steve HILLMAN Matrix CD]   \n",
       "2603433                          [Steve HILLMAN Matrix CD]   \n",
       "2608359                                                NaN   \n",
       "2603434                                                NaN   \n",
       "2608360                                                NaN   \n",
       "2603435                                                NaN   \n",
       "2608361                   [SATYRICON THE SHADOWTHRONE, , ]   \n",
       "2603436                   [SATYRICON THE SHADOWTHRONE, , ]   \n",
       "2608362                                                NaN   \n",
       "2603437                                                NaN   \n",
       "2608363                                                NaN   \n",
       "2603438                                                NaN   \n",
       "...                                                    ...   \n",
       "2613259  [Sheet Pages: 8;Recorded by Luther Vandross;Fo...   \n",
       "2608334  [Sheet Pages: 8;Recorded by Luther Vandross;Fo...   \n",
       "2608335  [From the PBS series, \"The Civil War,\" comes a...   \n",
       "2613260  [From the PBS series, \"The Civil War,\" comes a...   \n",
       "2613261                                                NaN   \n",
       "2608336                                                NaN   \n",
       "2613262  [Sheet music for \"I Could Not Ask for More\" pe...   \n",
       "2608337  [Sheet music for \"I Could Not Ask for More\" pe...   \n",
       "2613263     [Sheet music from the movie Moulin Rouge., , ]   \n",
       "2608338     [Sheet music from the movie Moulin Rouge., , ]   \n",
       "2608339                                                NaN   \n",
       "2613264                                                NaN   \n",
       "2613265                                                NaN   \n",
       "2608340                                                NaN   \n",
       "2613266  [Point Of Grace, the multiple Dove Award-winni...   \n",
       "2608341  [Point Of Grace, the multiple Dove Award-winni...   \n",
       "2613267                    [Desperate but Not Serious VHS]   \n",
       "2608342                    [Desperate but Not Serious VHS]   \n",
       "2613268                                                NaN   \n",
       "2608343                                                NaN   \n",
       "2613269  [409pages. 19,6x13,5x2,8cm. Broch. bon tat -br...   \n",
       "2608344  [409pages. 19,6x13,5x2,8cm. Broch. bon tat -br...   \n",
       "2608345                                [Japan Import., , ]   \n",
       "2613270                                [Japan Import., , ]   \n",
       "2613271  [In today's kitchen, where Teflon-coated skill...   \n",
       "2608346  [In today's kitchen, where Teflon-coated skill...   \n",
       "2608348  [Arbans Complete Method for the Trumpet contai...   \n",
       "2613273  [Arbans Complete Method for the Trumpet contai...   \n",
       "2608347                                                NaN   \n",
       "2613272                                                NaN   \n",
       "\n",
       "                                                     title  \\\n",
       "2603424                                  Adventure Journal   \n",
       "2608349                                  Adventure Journal   \n",
       "2603426                         Tiffany Windows Note Cards   \n",
       "2608351                         Tiffany Windows Note Cards   \n",
       "2608350                        NiteOwl DC Plus Upgrade Kit   \n",
       "2603425                        NiteOwl DC Plus Upgrade Kit   \n",
       "2603428       Black Floral Tapestry Book Cover (Hardcover)   \n",
       "2608353       Black Floral Tapestry Book Cover (Hardcover)   \n",
       "2603427                 Plum Canvas Book Cover (Hardcover)   \n",
       "2608352                 Plum Canvas Book Cover (Hardcover)   \n",
       "2603429                Duke's Descent How to Host a Murder   \n",
       "2608354                Duke's Descent How to Host a Murder   \n",
       "2603430         The Original Lap Reader in Tapestry Fabric   \n",
       "2608355         The Original Lap Reader in Tapestry Fabric   \n",
       "2608356              Playboy - Playboy's Blue Collar Babes   \n",
       "2603431              Playboy - Playboy's Blue Collar Babes   \n",
       "2608357                             The Dragon Murder Case   \n",
       "2603432                             The Dragon Murder Case   \n",
       "2608358                                             Matrix   \n",
       "2603433                                             Matrix   \n",
       "2608359                                      For You Alone   \n",
       "2603434                                      For You Alone   \n",
       "2608360                          Magnificent Thunderstorms   \n",
       "2603435                          Magnificent Thunderstorms   \n",
       "2608361                                   The Shadowthrone   \n",
       "2603436                                   The Shadowthrone   \n",
       "2608362                               La Fille Du Regiment   \n",
       "2603437                               La Fille Du Regiment   \n",
       "2608363                                  Time of Our Lives   \n",
       "2603438                                  Time of Our Lives   \n",
       "...                                                    ...   \n",
       "2613259                         Dance with My Father Sheet   \n",
       "2608334                         Dance with My Father Sheet   \n",
       "2608335  Ashokan Farewell (from \"The Civil War\") Sheet ...   \n",
       "2613260  Ashokan Farewell (from \"The Civil War\") Sheet ...   \n",
       "2613261       EARLY SINGLE BOX(limited release/remastered)   \n",
       "2608336       EARLY SINGLE BOX(limited release/remastered)   \n",
       "2613262                           I Could Not Ask for More   \n",
       "2608337                           I Could Not Ask for More   \n",
       "2613263       Come What May (Original sheet music edition)   \n",
       "2608338       Come What May (Original sheet music edition)   \n",
       "2608339  Warner Brothers Reader's Digest Merry Christma...   \n",
       "2613264  Warner Brothers Reader's Digest Merry Christma...   \n",
       "2613265      Alfred Anne's Theme from Anne of Green Gables   \n",
       "2608340      Alfred Anne's Theme from Anne of Green Gables   \n",
       "2613266     Jesus Will Still Be There (Word Tracks Studio)   \n",
       "2608341     Jesus Will Still Be There (Word Tracks Studio)   \n",
       "2613267                          Desperate but Not Serious   \n",
       "2608342                          Desperate but Not Serious   \n",
       "2613268                                      The Game Plan   \n",
       "2608343                                      The Game Plan   \n",
       "2613269                                           Elegance   \n",
       "2608344                                           Elegance   \n",
       "2608345  1/24 V35 Skyline Coupe 350GT Nismo (Model Car)...   \n",
       "2613270  1/24 V35 Skyline Coupe 350GT Nismo (Model Car)...   \n",
       "2613271   Reco Complete Guide to Clay Pot Cooking Cookbook   \n",
       "2608346   Reco Complete Guide to Clay Pot Cooking Cookbook   \n",
       "2608348        Carl Fischer Arbans Complete Method-Trumpet   \n",
       "2613273        Carl Fischer Arbans Complete Method-Trumpet   \n",
       "2608347                                    Flowering Judas   \n",
       "2613272                                    Flowering Judas   \n",
       "\n",
       "                                                  also_buy  \\\n",
       "2603424                                                NaN   \n",
       "2608349                                                NaN   \n",
       "2603426                                                NaN   \n",
       "2608351                                                NaN   \n",
       "2608350                                                NaN   \n",
       "2603425                                                NaN   \n",
       "2603428                                                NaN   \n",
       "2608353                                                NaN   \n",
       "2603427                                                NaN   \n",
       "2608352                                                NaN   \n",
       "2603429  [1878875000, B00000IVSW, B00000IVPG, B00000DMB...   \n",
       "2608354  [1878875000, B00000IVSW, B00000IVPG, B00000DMB...   \n",
       "2603430                                                NaN   \n",
       "2608355                                                NaN   \n",
       "2608356                                                NaN   \n",
       "2603431                                                NaN   \n",
       "2608357   [B000FGHTEO, B00085FZ1Q, B00085LY52, B00E44EZUE]   \n",
       "2603432   [B000FGHTEO, B00085FZ1Q, B00085LY52, B00E44EZUE]   \n",
       "2608358                                                NaN   \n",
       "2603433                                                NaN   \n",
       "2608359                                                NaN   \n",
       "2603434                                                NaN   \n",
       "2608360                                                NaN   \n",
       "2603435                                                NaN   \n",
       "2608361  [B01B6FG4CA, B00E687MWQ, B074NDDKKP, B001F14TU...   \n",
       "2603436  [B01B6FG4CA, B00E687MWQ, B074NDDKKP, B001F14TU...   \n",
       "2608362                                       [B00GH10BGY]   \n",
       "2603437                                       [B00GH10BGY]   \n",
       "2608363                                                NaN   \n",
       "2603438                                                NaN   \n",
       "...                                                    ...   \n",
       "2613259                                                NaN   \n",
       "2608334                                                NaN   \n",
       "2608335               [B001OTJR2I, 0786638567, 0786602481]   \n",
       "2613260               [B001OTJR2I, 0786638567, 0786602481]   \n",
       "2613261                                                NaN   \n",
       "2608336                                                NaN   \n",
       "2613262                                                NaN   \n",
       "2608337                                                NaN   \n",
       "2613263                                                NaN   \n",
       "2608338                                                NaN   \n",
       "2608339                                                NaN   \n",
       "2613264                                                NaN   \n",
       "2613265  [B0069UIGZ6, 1458407942, 0062697714, B000XSKDH...   \n",
       "2608340  [B0069UIGZ6, 1458407942, 0062697714, B000XSKDH...   \n",
       "2613266                                                NaN   \n",
       "2608341                                                NaN   \n",
       "2613267                                                NaN   \n",
       "2608342                                                NaN   \n",
       "2613268                                                NaN   \n",
       "2608343                                                NaN   \n",
       "2613269                           [0060522283, 0061125768]   \n",
       "2608344                           [0060522283, 0061125768]   \n",
       "2608345                                                NaN   \n",
       "2613270                                                NaN   \n",
       "2613271  [0002250519, 1626548935, 1882606582, B0010FGIT...   \n",
       "2608346  [0002250519, 1626548935, 1882606582, B0010FGIT...   \n",
       "2608348                                                NaN   \n",
       "2613273                                                NaN   \n",
       "2608347                                                NaN   \n",
       "2613272                                                NaN   \n",
       "\n",
       "                                        brand  \\\n",
       "2603424                                   NaN   \n",
       "2608349                                   NaN   \n",
       "2603426                                   NaN   \n",
       "2608351                                   NaN   \n",
       "2608350                                   NaN   \n",
       "2603425                                   NaN   \n",
       "2603428                                   NaN   \n",
       "2608353                                   NaN   \n",
       "2603427                                   NaN   \n",
       "2608352                                   NaN   \n",
       "2603429                              Decipher   \n",
       "2608354                              Decipher   \n",
       "2603430                                   NaN   \n",
       "2608355                                   NaN   \n",
       "2608356                         Morena Corwin   \n",
       "2603431                         Morena Corwin   \n",
       "2608357    Visit Amazon's S. S. Van Dine Page   \n",
       "2603432    Visit Amazon's S. S. Van Dine Page   \n",
       "2608358     Visit Amazon's Steve Hillman Page   \n",
       "2603433     Visit Amazon's Steve Hillman Page   \n",
       "2608359                                   NaN   \n",
       "2603434                                   NaN   \n",
       "2608360                                   NaN   \n",
       "2603435                                   NaN   \n",
       "2608361         Visit Amazon's Satyricon Page   \n",
       "2603436         Visit Amazon's Satyricon Page   \n",
       "2608362                  Bavarian Radio Choir   \n",
       "2603437                  Bavarian Radio Choir   \n",
       "2608363    Visit Amazon's Grey Lady Down Page   \n",
       "2603438    Visit Amazon's Grey Lady Down Page   \n",
       "...                                       ...   \n",
       "2613259                                   NaN   \n",
       "2608334                                   NaN   \n",
       "2608335                                   NaN   \n",
       "2613260                                   NaN   \n",
       "2613261                                   NaN   \n",
       "2608336                                   NaN   \n",
       "2613262                          Diane Warren   \n",
       "2608337                          Diane Warren   \n",
       "2613263                        David Baerwald   \n",
       "2608338                        David Baerwald   \n",
       "2608339                                   NaN   \n",
       "2613264                                   NaN   \n",
       "2613265                                Alfred   \n",
       "2608340                                Alfred   \n",
       "2613266                        Point of Grace   \n",
       "2608341                        Point of Grace   \n",
       "2613267                      Claudia Schiffer   \n",
       "2608342                      Claudia Schiffer   \n",
       "2613268                               Unknown   \n",
       "2608343                               Unknown   \n",
       "2613269                      Tessaro Kathleen   \n",
       "2608344                      Tessaro Kathleen   \n",
       "2608345                                   NaN   \n",
       "2613270                                   NaN   \n",
       "2613271                         Bridget Jones   \n",
       "2608346                         Bridget Jones   \n",
       "2608348                                   NaN   \n",
       "2613273                                   NaN   \n",
       "2608347  Visit Amazon's Elizabeth Palmer Page   \n",
       "2613272  Visit Amazon's Elizabeth Palmer Page   \n",
       "\n",
       "                                                 also_view main_cat  \\\n",
       "2603424                                                NaN    Books   \n",
       "2608349                                                NaN    Books   \n",
       "2603426                                                NaN    Books   \n",
       "2608351                                                NaN    Books   \n",
       "2608350                                                NaN    Books   \n",
       "2603425                                                NaN    Books   \n",
       "2603428                                                NaN    Books   \n",
       "2608353                                                NaN    Books   \n",
       "2603427                           [B00W4E1TMS, 0310823706]    Books   \n",
       "2608352                           [B00W4E1TMS, 0310823706]    Books   \n",
       "2603429  [1878875000, B00000IVSV, B00000J00M, B00000IVS...    Books   \n",
       "2608354  [1878875000, B00000IVSV, B00000J00M, B00000IVS...    Books   \n",
       "2603430                                                NaN    Books   \n",
       "2608355                                                NaN    Books   \n",
       "2608356                                                NaN    Books   \n",
       "2603431                                                NaN    Books   \n",
       "2608357               [1631941836, 0684185032, 1631941682]    Books   \n",
       "2603432               [1631941836, 0684185032, 1631941682]    Books   \n",
       "2608358                                                NaN    Books   \n",
       "2603433                                                NaN    Books   \n",
       "2608359                                                NaN    Books   \n",
       "2603434                                                NaN    Books   \n",
       "2608360                                                NaN    Books   \n",
       "2603435                                                NaN    Books   \n",
       "2608361  [B074NDDKKP, B001F14TUU, B0001NBN3Y, B00E687MW...    Books   \n",
       "2603436  [B074NDDKKP, B001F14TUU, B0001NBN3Y, B00E687MW...    Books   \n",
       "2608362                                       [B000000L51]    Books   \n",
       "2603437                                       [B000000L51]    Books   \n",
       "2608363                                                NaN    Books   \n",
       "2603438                                                NaN    Books   \n",
       "...                                                    ...      ...   \n",
       "2613259                                                NaN    Books   \n",
       "2608334                                                NaN    Books   \n",
       "2608335               [B001OTJR2I, B0017JD60Y, 076929264X]    Books   \n",
       "2613260               [B001OTJR2I, B0017JD60Y, 076929264X]    Books   \n",
       "2613261                                                NaN    Books   \n",
       "2608336                                                NaN    Books   \n",
       "2613262                                                NaN    Books   \n",
       "2608337                                                NaN    Books   \n",
       "2613263                                                NaN    Books   \n",
       "2608338                                                NaN    Books   \n",
       "2608339               [0895771055, B017WQH6YW, 0762104635]    Books   \n",
       "2613264               [0895771055, B017WQH6YW, 0762104635]    Books   \n",
       "2613265  [B0069UIGZ6, B00001X5B1, 1476814767, B0017JJHH...    Books   \n",
       "2608340  [B0069UIGZ6, B00001X5B1, 1476814767, B0017JJHH...    Books   \n",
       "2613266                                                NaN    Books   \n",
       "2608341                                                NaN    Books   \n",
       "2613267                                                NaN    Books   \n",
       "2608342                                                NaN    Books   \n",
       "2613268                                                NaN    Books   \n",
       "2608343                                                NaN    Books   \n",
       "2613269                                       [0060522275]    Books   \n",
       "2608344                                       [0060522275]    Books   \n",
       "2608345                                       [B000K205JO]    Books   \n",
       "2613270                                       [B000K205JO]    Books   \n",
       "2613271  [0002250519, B00JWTV11W, B00B30LV2C, 162654893...    Books   \n",
       "2608346  [0002250519, B00JWTV11W, B00B30LV2C, 162654893...    Books   \n",
       "2608348  [0825803853, 0825893143, B017X3KDJY, 082580158...    Books   \n",
       "2613273  [0825803853, 0825893143, B017X3KDJY, 082580158...    Books   \n",
       "2608347                                                NaN    Books   \n",
       "2613272                                                NaN    Books   \n",
       "\n",
       "               asin                                      category  \\\n",
       "2603424  B00000IJYC                                           NaN   \n",
       "2608349  B00000IJYC                                           NaN   \n",
       "2603426  B00000IJYX                                           NaN   \n",
       "2608351  B00000IJYX                                           NaN   \n",
       "2608350  B00000IJZO                                           NaN   \n",
       "2603425  B00000IJZO                                           NaN   \n",
       "2603428  B00000IRGQ                                           NaN   \n",
       "2608353  B00000IRGQ                                           NaN   \n",
       "2603427  B00000IRGX                                           NaN   \n",
       "2608352  B00000IRGX                                           NaN   \n",
       "2603429  B00000IVPF                                           NaN   \n",
       "2608354  B00000IVPF                                           NaN   \n",
       "2603430  B00000J6J7                                           NaN   \n",
       "2608355  B00000J6J7                                           NaN   \n",
       "2608356  B00000JQW6                                           NaN   \n",
       "2603431  B00000JQW6                                           NaN   \n",
       "2608357  B000023VWY  [Books, Literature & Fiction, United States]   \n",
       "2603432  B000023VWY  [Books, Literature & Fiction, United States]   \n",
       "2608358  B000024EF4            [Books, Arts & Photography, Music]   \n",
       "2603433  B000024EF4            [Books, Arts & Photography, Music]   \n",
       "2608359  B000024JQB                                           NaN   \n",
       "2603434  B000024JQB                                           NaN   \n",
       "2608360  B000024S2G                                           NaN   \n",
       "2603435  B000024S2G                                           NaN   \n",
       "2608361  B000024W58                                           NaN   \n",
       "2603436  B000024W58                                           NaN   \n",
       "2608362  B000025298            [Books, Arts & Photography, Music]   \n",
       "2603437  B000025298            [Books, Arts & Photography, Music]   \n",
       "2608363  B0000254UG            [Books, Arts & Photography, Music]   \n",
       "2603438  B0000254UG            [Books, Arts & Photography, Music]   \n",
       "...             ...                                           ...   \n",
       "2613259  B0003040HG            [Books, Arts & Photography, Music]   \n",
       "2608334  B0003040HG            [Books, Arts & Photography, Music]   \n",
       "2608335  B0003042FQ            [Books, Arts & Photography, Music]   \n",
       "2613260  B0003042FQ            [Books, Arts & Photography, Music]   \n",
       "2613261  B0003060O2                                           NaN   \n",
       "2608336  B0003060O2                                           NaN   \n",
       "2613262  B00030BNMG            [Books, Arts & Photography, Music]   \n",
       "2608337  B00030BNMG            [Books, Arts & Photography, Music]   \n",
       "2613263  B00030BNNK            [Books, Arts & Photography, Music]   \n",
       "2608338  B00030BNNK            [Books, Arts & Photography, Music]   \n",
       "2608339  B00030BO8O                                           NaN   \n",
       "2613264  B00030BO8O                                           NaN   \n",
       "2613265  B00030BOTI            [Books, Arts & Photography, Music]   \n",
       "2608340  B00030BOTI            [Books, Arts & Photography, Music]   \n",
       "2613266  B00030CJO2                                           NaN   \n",
       "2608341  B00030CJO2                                           NaN   \n",
       "2613267  B00030ETZ4                                           NaN   \n",
       "2608342  B00030ETZ4                                           NaN   \n",
       "2613268  B00031YBFG                                           NaN   \n",
       "2608343  B00031YBFG                                           NaN   \n",
       "2613269  B00034EOQY                                           NaN   \n",
       "2608344  B00034EOQY                                           NaN   \n",
       "2608345  B0003J2MCM                                           NaN   \n",
       "2613270  B0003J2MCM                                           NaN   \n",
       "2613271  B0003UEOM2               [Books, Cookbooks, Food & Wine]   \n",
       "2608346  B0003UEOM2               [Books, Cookbooks, Food & Wine]   \n",
       "2608348  B0004372Q8            [Books, Arts & Photography, Music]   \n",
       "2613273  B0004372Q8            [Books, Arts & Photography, Music]   \n",
       "2608347  B000449040                                           NaN   \n",
       "2613272  B000449040                                           NaN   \n",
       "\n",
       "                                                   details  \n",
       "2603424  \\n  <div class=\"content\">\\n\\n\\n\\n\\n\\n\\n\\n<ul>\\...  \n",
       "2608349  \\n  <div class=\"content\">\\n\\n\\n\\n\\n\\n\\n\\n<ul>\\...  \n",
       "2603426  \\n  <div class=\"content\">\\n\\n\\n\\n\\n\\n\\n\\n<ul>\\...  \n",
       "2608351  \\n  <div class=\"content\">\\n\\n\\n\\n\\n\\n\\n\\n<ul>\\...  \n",
       "2608350  \\n  <div class=\"content\">\\n\\n\\n\\n\\n\\n\\n\\n<ul>\\...  \n",
       "2603425  \\n  <div class=\"content\">\\n\\n\\n\\n\\n\\n\\n\\n<ul>\\...  \n",
       "2603428  \\n  <div class=\"content\">\\n\\n\\n\\n\\n\\n\\n\\n<ul>\\...  \n",
       "2608353  \\n  <div class=\"content\">\\n\\n\\n\\n\\n\\n\\n\\n<ul>\\...  \n",
       "2603427  \\n  <div class=\"content\">\\n\\n\\n\\n\\n\\n\\n\\n<ul>\\...  \n",
       "2608352  \\n  <div class=\"content\">\\n\\n\\n\\n\\n\\n\\n\\n<ul>\\...  \n",
       "2603429  \\n  <div class=\"content\">\\n\\n\\n\\n\\n\\n\\n\\n<ul>\\...  \n",
       "2608354  \\n  <div class=\"content\">\\n\\n\\n\\n\\n\\n\\n\\n<ul>\\...  \n",
       "2603430  \\n  <div class=\"content\">\\n\\n\\n\\n\\n\\n\\n\\n<ul>\\...  \n",
       "2608355  \\n  <div class=\"content\">\\n\\n\\n\\n\\n\\n\\n\\n<ul>\\...  \n",
       "2608356  \\n  <div class=\"content\">\\n\\n\\n\\n\\n\\n\\n\\n<ul>\\...  \n",
       "2603431  \\n  <div class=\"content\">\\n\\n\\n\\n\\n\\n\\n\\n<ul>\\...  \n",
       "2608357  \\n  <div class=\"content\">\\n\\n\\n\\n\\n\\n\\n\\n<ul>\\...  \n",
       "2603432  \\n  <div class=\"content\">\\n\\n\\n\\n\\n\\n\\n\\n<ul>\\...  \n",
       "2608358  \\n  <div class=\"content\">\\n\\n\\n\\n\\n\\n\\n\\n<ul>\\...  \n",
       "2603433  \\n  <div class=\"content\">\\n\\n\\n\\n\\n\\n\\n\\n<ul>\\...  \n",
       "2608359  \\n  <div class=\"content\">\\n\\n\\n\\n\\n\\n\\n\\n<ul>\\...  \n",
       "2603434  \\n  <div class=\"content\">\\n\\n\\n\\n\\n\\n\\n\\n<ul>\\...  \n",
       "2608360  \\n  <div class=\"content\">\\n\\n\\n\\n\\n\\n\\n\\n<ul>\\...  \n",
       "2603435  \\n  <div class=\"content\">\\n\\n\\n\\n\\n\\n\\n\\n<ul>\\...  \n",
       "2608361  \\n  <div class=\"content\">\\n\\n\\n\\n\\n\\n\\n\\n<ul>\\...  \n",
       "2603436  \\n  <div class=\"content\">\\n\\n\\n\\n\\n\\n\\n\\n<ul>\\...  \n",
       "2608362  \\n  <div class=\"content\">\\n\\n\\n\\n\\n\\n\\n\\n<ul>\\...  \n",
       "2603437  \\n  <div class=\"content\">\\n\\n\\n\\n\\n\\n\\n\\n<ul>\\...  \n",
       "2608363  \\n  <div class=\"content\">\\n\\n\\n\\n\\n\\n\\n\\n<ul>\\...  \n",
       "2603438  \\n  <div class=\"content\">\\n\\n\\n\\n\\n\\n\\n\\n<ul>\\...  \n",
       "...                                                    ...  \n",
       "2613259  \\n  <div class=\"content\">\\n\\n\\n\\n\\n\\n\\n\\n<ul>\\...  \n",
       "2608334  \\n  <div class=\"content\">\\n\\n\\n\\n\\n\\n\\n\\n<ul>\\...  \n",
       "2608335  \\n  <div class=\"content\">\\n\\n\\n\\n\\n\\n\\n\\n<ul>\\...  \n",
       "2613260  \\n  <div class=\"content\">\\n\\n\\n\\n\\n\\n\\n\\n<ul>\\...  \n",
       "2613261  \\n  <div class=\"content\">\\n\\n\\n\\n\\n\\n\\n\\n<ul>\\...  \n",
       "2608336  \\n  <div class=\"content\">\\n\\n\\n\\n\\n\\n\\n\\n<ul>\\...  \n",
       "2613262  \\n  <div class=\"content\">\\n\\n\\n\\n\\n\\n\\n\\n<ul>\\...  \n",
       "2608337  \\n  <div class=\"content\">\\n\\n\\n\\n\\n\\n\\n\\n<ul>\\...  \n",
       "2613263  \\n  <div class=\"content\">\\n\\n\\n\\n\\n\\n\\n\\n<ul>\\...  \n",
       "2608338  \\n  <div class=\"content\">\\n\\n\\n\\n\\n\\n\\n\\n<ul>\\...  \n",
       "2608339  \\n  <div class=\"content\">\\n\\n\\n\\n\\n\\n\\n\\n<ul>\\...  \n",
       "2613264  \\n  <div class=\"content\">\\n\\n\\n\\n\\n\\n\\n\\n<ul>\\...  \n",
       "2613265  \\n  <div class=\"content\">\\n\\n\\n\\n\\n\\n\\n\\n<ul>\\...  \n",
       "2608340  \\n  <div class=\"content\">\\n\\n\\n\\n\\n\\n\\n\\n<ul>\\...  \n",
       "2613266  \\n  <div class=\"content\">\\n\\n\\n\\n\\n\\n\\n\\n<ul>\\...  \n",
       "2608341  \\n  <div class=\"content\">\\n\\n\\n\\n\\n\\n\\n\\n<ul>\\...  \n",
       "2613267  \\n  <div class=\"content\">\\n\\n\\n\\n\\n\\n\\n\\n<ul>\\...  \n",
       "2608342  \\n  <div class=\"content\">\\n\\n\\n\\n\\n\\n\\n\\n<ul>\\...  \n",
       "2613268  \\n  <div class=\"content\">\\n\\n\\n\\n\\n\\n\\n\\n<ul>\\...  \n",
       "2608343  \\n  <div class=\"content\">\\n\\n\\n\\n\\n\\n\\n\\n<ul>\\...  \n",
       "2613269  \\n  <div class=\"content\">\\n\\n\\n\\n\\n\\n\\n\\n<ul>\\...  \n",
       "2608344  \\n  <div class=\"content\">\\n\\n\\n\\n\\n\\n\\n\\n<ul>\\...  \n",
       "2608345  \\n  <div class=\"content\">\\n\\n\\n\\n\\n\\n\\n\\n<ul>\\...  \n",
       "2613270  \\n  <div class=\"content\">\\n\\n\\n\\n\\n\\n\\n\\n<ul>\\...  \n",
       "2613271  \\n  <div class=\"content\">\\n\\n\\n\\n\\n\\n\\n\\n<ul>\\...  \n",
       "2608346  \\n  <div class=\"content\">\\n\\n\\n\\n\\n\\n\\n\\n<ul>\\...  \n",
       "2608348  \\n  <div class=\"content\">\\n\\n\\n\\n\\n\\n\\n\\n<ul>\\...  \n",
       "2613273  \\n  <div class=\"content\">\\n\\n\\n\\n\\n\\n\\n\\n<ul>\\...  \n",
       "2608347  \\n  <div class=\"content\">\\n\\n\\n\\n\\n\\n\\n\\n<ul>\\...  \n",
       "2613272  \\n  <div class=\"content\">\\n\\n\\n\\n\\n\\n\\n\\n<ul>\\...  \n",
       "\n",
       "[9850 rows x 9 columns]"
      ]
     },
     "execution_count": 56,
     "metadata": {},
     "output_type": "execute_result"
    }
   ],
   "source": [
    "pr_books.loc[pr_books.asin.isin(dup_books)].sort_values('asin')"
   ]
  },
  {
   "cell_type": "markdown",
   "metadata": {},
   "source": [
    "Checking the duplicate data, it looks like the duplicates are an exact copies of each other.  <br> Since there is no difference between the columns in duplicated asin, we will manually drop duplicates by collecting the repeating index to a list and drop them directly from the dataframe.  "
   ]
  },
  {
   "cell_type": "code",
   "execution_count": 63,
   "metadata": {},
   "outputs": [
    {
     "data": {
      "text/plain": [
       "Int64Index([2603424, 2608349, 2603426, 2608351, 2608350, 2603425, 2603428,\n",
       "            2608353, 2603427, 2608352,\n",
       "            ...\n",
       "            2613269, 2608344, 2608345, 2613270, 2613271, 2608346, 2608348,\n",
       "            2613273, 2608347, 2613272],\n",
       "           dtype='int64', length=9850)"
      ]
     },
     "execution_count": 63,
     "metadata": {},
     "output_type": "execute_result"
    }
   ],
   "source": [
    "pr_books.loc[pr_books.asin.isin(dup_books)].sort_values('asin').index"
   ]
  },
  {
   "cell_type": "code",
   "execution_count": 64,
   "metadata": {},
   "outputs": [],
   "source": [
    "dup_ind = pr_books.loc[pr_books.asin.isin(dup_books)].sort_values('asin').index[::2]"
   ]
  },
  {
   "cell_type": "code",
   "execution_count": 65,
   "metadata": {},
   "outputs": [
    {
     "data": {
      "text/plain": [
       "Int64Index([2603424, 2603426, 2608350, 2603428, 2603427, 2603429, 2603430,\n",
       "            2608356, 2608357, 2608358,\n",
       "            ...\n",
       "            2608339, 2613265, 2613266, 2613267, 2613268, 2613269, 2608345,\n",
       "            2613271, 2608348, 2608347],\n",
       "           dtype='int64', length=4925)"
      ]
     },
     "execution_count": 65,
     "metadata": {},
     "output_type": "execute_result"
    }
   ],
   "source": [
    "dup_ind"
   ]
  },
  {
   "cell_type": "code",
   "execution_count": 76,
   "metadata": {},
   "outputs": [],
   "source": [
    "pr_books.drop(pr_books.index[[dup_ind]],inplace=True)"
   ]
  },
  {
   "cell_type": "code",
   "execution_count": 77,
   "metadata": {},
   "outputs": [
    {
     "name": "stdout",
     "output_type": "stream",
     "text": [
      "<class 'pandas.core.frame.DataFrame'>\n",
      "Int64Index: 2930600 entries, 0 to 2935524\n",
      "Data columns (total 9 columns):\n",
      "description    object\n",
      "title          object\n",
      "also_buy       object\n",
      "brand          object\n",
      "also_view      object\n",
      "main_cat       object\n",
      "asin           object\n",
      "category       object\n",
      "details        object\n",
      "dtypes: object(9)\n",
      "memory usage: 223.6+ MB\n"
     ]
    }
   ],
   "source": [
    "pr_books.info()"
   ]
  },
  {
   "cell_type": "code",
   "execution_count": null,
   "metadata": {},
   "outputs": [],
   "source": []
  },
  {
   "cell_type": "markdown",
   "metadata": {},
   "source": [
    "## 2.5 Data Export"
   ]
  },
  {
   "cell_type": "markdown",
   "metadata": {},
   "source": [
    "After finishing data cleaning, we will save the datasets into csv files again so it can be easily imported for further use."
   ]
  },
  {
   "cell_type": "markdown",
   "metadata": {},
   "source": [
    "### 2.5.1 Dataset 'review' Export"
   ]
  },
  {
   "cell_type": "code",
   "execution_count": 139,
   "metadata": {},
   "outputs": [],
   "source": [
    "#save to csv\n",
    "re_fashion.to_csv(r'/Users/byungchankim/Downloads/Springboard/capstone2/data/re_fashion.csv',index=False)"
   ]
  },
  {
   "cell_type": "code",
   "execution_count": 190,
   "metadata": {},
   "outputs": [],
   "source": [
    "re_beauty.to_csv(r'/Users/byungchankim/Downloads/Springboard/capstone2/data/re_beauty.csv',index=False)"
   ]
  },
  {
   "cell_type": "code",
   "execution_count": 250,
   "metadata": {},
   "outputs": [],
   "source": [
    "re_appliances.to_csv(r'/Users/byungchankim/Downloads/Springboard/capstone2/data/re_appliances.csv',index=False)"
   ]
  },
  {
   "cell_type": "code",
   "execution_count": 265,
   "metadata": {},
   "outputs": [],
   "source": [
    "re_ACS.to_csv(r'/Users/byungchankim/Downloads/Springboard/capstone2/data/re_ACS.csv',index=False)"
   ]
  },
  {
   "cell_type": "code",
   "execution_count": 281,
   "metadata": {},
   "outputs": [],
   "source": [
    "re_automotive.to_csv(r'/Users/byungchankim/Downloads/Springboard/capstone2/data/re_automotive.csv',index=False)"
   ]
  },
  {
   "cell_type": "code",
   "execution_count": 293,
   "metadata": {},
   "outputs": [],
   "source": [
    "re_CV.to_csv(r'/Users/byungchankim/Downloads/Springboard/capstone2/data/re_CV.csv',index=False)"
   ]
  },
  {
   "cell_type": "code",
   "execution_count": 307,
   "metadata": {},
   "outputs": [],
   "source": [
    "re_CPA.to_csv(r'/Users/byungchankim/Downloads/Springboard/capstone2/data/re_CPA.csv',index=False)"
   ]
  },
  {
   "cell_type": "markdown",
   "metadata": {},
   "source": [
    "**At this point, Jupyter Notebook and laptop hardware resource could not further process or import data as subsequent categories contained data upto 30 GB.  After discussion with the expert, it was decided to pick 3 to 4 categories to move forward with project.**\n",
    "\n",
    "categories chosen : Digital_Music , Kindle_Store , Magazine_Subscriptions , Movies_and_TVs"
   ]
  },
  {
   "cell_type": "code",
   "execution_count": 19,
   "metadata": {},
   "outputs": [],
   "source": [
    "re_MTV.to_csv(r'/Users/byungchankim/Downloads/Springboard/capstone2/data/re_MTV.csv',index=False)"
   ]
  },
  {
   "cell_type": "code",
   "execution_count": 32,
   "metadata": {},
   "outputs": [],
   "source": [
    "re_KS.to_csv(r'/Users/byungchankim/Downloads/Springboard/capstone2/data/re_KS.csv',index=False)"
   ]
  },
  {
   "cell_type": "code",
   "execution_count": 54,
   "metadata": {},
   "outputs": [],
   "source": [
    "re_DM.to_csv(r'/Users/byungchankim/Downloads/Springboard/capstone2/data/re_DM.csv',index=False)"
   ]
  },
  {
   "cell_type": "code",
   "execution_count": 55,
   "metadata": {},
   "outputs": [],
   "source": [
    "re_MS.to_csv(r'/Users/byungchankim/Downloads/Springboard/capstone2/data/re_MS.csv',index=False)"
   ]
  },
  {
   "cell_type": "markdown",
   "metadata": {},
   "source": [
    "**Dataset 'product' export starts here.**"
   ]
  },
  {
   "cell_type": "code",
   "execution_count": 131,
   "metadata": {},
   "outputs": [],
   "source": [
    "pr_MTV.to_csv(r'/Users/byungchankim/Downloads/Springboard/capstone2/data/pr_MTV.csv',index=False)"
   ]
  },
  {
   "cell_type": "code",
   "execution_count": 132,
   "metadata": {},
   "outputs": [],
   "source": [
    "pr_KS.to_csv(r'/Users/byungchankim/Downloads/Springboard/capstone2/data/pr_KS.csv',index=False)"
   ]
  },
  {
   "cell_type": "code",
   "execution_count": 133,
   "metadata": {},
   "outputs": [],
   "source": [
    "pr_DM.to_csv(r'/Users/byungchankim/Downloads/Springboard/capstone2/data/pr_DM.csv',index=False)"
   ]
  },
  {
   "cell_type": "code",
   "execution_count": 134,
   "metadata": {},
   "outputs": [],
   "source": [
    "pr_MS.to_csv(r'/Users/byungchankim/Downloads/Springboard/capstone2/data/pr_MS.csv',index=False)"
   ]
  },
  {
   "cell_type": "code",
   "execution_count": 80,
   "metadata": {},
   "outputs": [],
   "source": [
    "pr_books.to_csv(r'/Users/byungchankim/Downloads/Springboard/capstone2/data/pr_books.csv',index=False)"
   ]
  },
  {
   "cell_type": "code",
   "execution_count": null,
   "metadata": {},
   "outputs": [],
   "source": []
  }
 ],
 "metadata": {
  "kernelspec": {
   "display_name": "Python 3",
   "language": "python",
   "name": "python3"
  },
  "language_info": {
   "codemirror_mode": {
    "name": "ipython",
    "version": 3
   },
   "file_extension": ".py",
   "mimetype": "text/x-python",
   "name": "python",
   "nbconvert_exporter": "python",
   "pygments_lexer": "ipython3",
   "version": "3.7.1"
  }
 },
 "nbformat": 4,
 "nbformat_minor": 2
}
