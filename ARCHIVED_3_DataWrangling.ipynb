{
 "cells": [
  {
   "cell_type": "markdown",
   "metadata": {},
   "source": [
    "# 3. Data Wrangling"
   ]
  },
  {
   "cell_type": "markdown",
   "metadata": {},
   "source": [
    "This section will be dedicated to isolating out important features and structuring them for use during modelling. <br> Categorical columns will need to be encoded and rows that will not add value to the accuracy will further be removed."
   ]
  },
  {
   "cell_type": "code",
   "execution_count": 1,
   "metadata": {},
   "outputs": [],
   "source": [
    "import pandas as pd\n",
    "import gzip\n",
    "import json\n",
    "import seaborn as sns\n",
    "import matplotlib.pyplot as plt\n",
    "from scipy import stats"
   ]
  },
  {
   "cell_type": "markdown",
   "metadata": {},
   "source": [
    "## 3.1 Data Import"
   ]
  },
  {
   "cell_type": "code",
   "execution_count": 2,
   "metadata": {},
   "outputs": [],
   "source": [
    "#defining methods to import data\n",
    "\n",
    "\"\"\" unzips gz and load to json\"\"\"\n",
    "def parse(path):\n",
    "    g = gzip.open(path, 'rb')\n",
    "    for l in g:\n",
    "        yield json.loads(l)\n",
    "\n",
    "\n",
    "\"\"\" use parse method to read and translate to pandas dataframe \"\"\"\n",
    "def getDF(path):\n",
    "    i = 0\n",
    "    df = {}\n",
    "    for d in parse(path):\n",
    "        df[i] = d\n",
    "        i += 1\n",
    "    return pd.DataFrame.from_dict(df, orient='index')"
   ]
  },
  {
   "cell_type": "code",
   "execution_count": 9,
   "metadata": {},
   "outputs": [],
   "source": [
    "re_MS = pd.read_csv('data/re_MS.csv',na_filter=False)"
   ]
  },
  {
   "cell_type": "code",
   "execution_count": 10,
   "metadata": {},
   "outputs": [],
   "source": [
    "re_DM = pd.read_csv('data/re_DM.csv',na_filter=False)"
   ]
  },
  {
   "cell_type": "code",
   "execution_count": 11,
   "metadata": {},
   "outputs": [],
   "source": [
    "re_KS = pd.read_csv('data/re_KS.csv',na_filter=False)"
   ]
  },
  {
   "cell_type": "code",
   "execution_count": 12,
   "metadata": {},
   "outputs": [],
   "source": [
    "re_MTV = pd.read_csv('data/re_MTV.csv',na_filter=False)"
   ]
  },
  {
   "cell_type": "code",
   "execution_count": 3,
   "metadata": {},
   "outputs": [],
   "source": [
    "pr_MS = pd.read_csv('data/pr_MS.csv',na_filter=False)"
   ]
  },
  {
   "cell_type": "code",
   "execution_count": 4,
   "metadata": {},
   "outputs": [],
   "source": [
    "pr_DM = pd.read_csv('data/pr_DM.csv',na_filter=False)"
   ]
  },
  {
   "cell_type": "code",
   "execution_count": 5,
   "metadata": {},
   "outputs": [],
   "source": [
    "pr_KS = pd.read_csv('data/pr_KS.csv',na_filter=False)"
   ]
  },
  {
   "cell_type": "code",
   "execution_count": 6,
   "metadata": {},
   "outputs": [],
   "source": [
    "pr_MTV = pd.read_csv('data/pr_MTV.csv',na_filter=False)"
   ]
  },
  {
   "cell_type": "markdown",
   "metadata": {},
   "source": [
    "## 3.2 Low Review Count Trimming"
   ]
  },
  {
   "cell_type": "markdown",
   "metadata": {},
   "source": [
    "One of the goals of this project is to determine the overall popularity of the product based on various reviews provided from the customer. <br> However, if there are products with a single or just a few reviews, it may not represent well what the general population would feel about such products. <br> Because of this reason, any products with 4 or less reviews will be removed."
   ]
  },
  {
   "cell_type": "code",
   "execution_count": 13,
   "metadata": {},
   "outputs": [],
   "source": [
    "'''\n",
    "Takes review dataset as input\n",
    "\n",
    "Prints asin data characteristics:  \n",
    "number of unique asin in dataset,  number of asin with a single review,\n",
    "number of asin with two to four reviews, number of reviews with five or more reviews.\n",
    "\n",
    "'''\n",
    "\n",
    "def analyzeASIN(df):\n",
    "    \n",
    "    \n",
    "    #check how many unique asin are present\n",
    "\n",
    "    print('number of unique asin: ',len(df.asin.unique()))\n",
    "    \n",
    "    #create a groupby pandas series to isolate asin and their counts\n",
    "    \n",
    "    asin_count = df.groupby('asin').asin.count()\n",
    "    \n",
    "    #prints number of single reviewed asin\n",
    "    \n",
    "    print('number of single reviewed asin: ', asin_count[asin_count==1].sum())\n",
    "    \n",
    "    #print number of asin having between two to four reviews\n",
    "    \n",
    "    print('number of 2 reviewed asin: ', asin_count[asin_count==2].count())\n",
    "    \n",
    "    #print number of asin having between two to four reviews\n",
    "    \n",
    "    print('number of 3 reviewed asin: ', asin_count[asin_count==3].count())\n",
    "    \n",
    "    #print number of asin having between two to four reviews\n",
    "    \n",
    "    print('number of 4 reviewed asin: ', asin_count[asin_count==4].count())\n",
    "    \n",
    "    #print number of asin having five or more reviews\n",
    "    \n",
    "    print('number of 5 or more reviewed asin: ', asin_count[asin_count>=5].count())\n"
   ]
  },
  {
   "cell_type": "markdown",
   "metadata": {},
   "source": [
    "### 3.2.1 Dataset 're_MS'"
   ]
  },
  {
   "cell_type": "code",
   "execution_count": 14,
   "metadata": {},
   "outputs": [
    {
     "name": "stdout",
     "output_type": "stream",
     "text": [
      "<class 'pandas.core.frame.DataFrame'>\n",
      "RangeIndex: 88494 entries, 0 to 88493\n",
      "Data columns (total 6 columns):\n",
      "overall       88494 non-null float64\n",
      "verified      88494 non-null bool\n",
      "reviewerID    88494 non-null object\n",
      "asin          88494 non-null object\n",
      "reviewText    88494 non-null object\n",
      "summary       88494 non-null object\n",
      "dtypes: bool(1), float64(1), object(4)\n",
      "memory usage: 3.5+ MB\n"
     ]
    }
   ],
   "source": [
    "re_MS.info()"
   ]
  },
  {
   "cell_type": "code",
   "execution_count": 15,
   "metadata": {},
   "outputs": [
    {
     "name": "stdout",
     "output_type": "stream",
     "text": [
      "number of unique asin:  2428\n",
      "number of single reviewed asin:  413\n",
      "number of 2 reviewed asin:  246\n",
      "number of 3 reviewed asin:  176\n",
      "number of 4 reviewed asin:  146\n",
      "number of 5 or more reviewed asin:  1447\n"
     ]
    }
   ],
   "source": [
    "analyzeASIN(re_MS)"
   ]
  },
  {
   "cell_type": "markdown",
   "metadata": {},
   "source": [
    "Isolating the reviews with 5 or more reduces the overall dataset to about 60% of the original. <br> It is important to save the list of asin with 4 or less reviews as they will not be considered in the product dataset as well.  <br> Moreover, the product dataset may include asin that did not have any reviews as well.  <br> Therefore, we will keep both asin list of 4 or less, and 5 or more."
   ]
  },
  {
   "cell_type": "code",
   "execution_count": 16,
   "metadata": {},
   "outputs": [
    {
     "name": "stdout",
     "output_type": "stream",
     "text": [
      "expected dataset count after trimming:  86477\n"
     ]
    }
   ],
   "source": [
    "#group by asin with count\n",
    "asin_count = re_MS.groupby('asin').asin.count()\n",
    "\n",
    "#less_* : contains asin of 4 or less\n",
    "#more_* : contains asin of 5 or more\n",
    "\n",
    "less_MS = asin_count[asin_count<5].index\n",
    "more_MS = asin_count[asin_count>4].index\n",
    "\n",
    "#remove from review dataset any asin with less than 5 reviews.\n",
    "re_MS = re_MS.loc[re_MS.asin.isin(more_MS)]\n",
    "\n",
    "print('expected dataset count after trimming: ',asin_count[asin_count>4].sum())"
   ]
  },
  {
   "cell_type": "code",
   "execution_count": 17,
   "metadata": {},
   "outputs": [
    {
     "data": {
      "text/plain": [
       "(86477, 6)"
      ]
     },
     "execution_count": 17,
     "metadata": {},
     "output_type": "execute_result"
    }
   ],
   "source": [
    "re_MS.shape"
   ]
  },
  {
   "cell_type": "markdown",
   "metadata": {},
   "source": [
    "### 3.2.2 Dataset 're_DM'"
   ]
  },
  {
   "cell_type": "code",
   "execution_count": 18,
   "metadata": {},
   "outputs": [
    {
     "name": "stdout",
     "output_type": "stream",
     "text": [
      "<class 'pandas.core.frame.DataFrame'>\n",
      "RangeIndex: 1519311 entries, 0 to 1519310\n",
      "Data columns (total 6 columns):\n",
      "overall       1519311 non-null float64\n",
      "verified      1519311 non-null bool\n",
      "reviewerID    1519311 non-null object\n",
      "asin          1519311 non-null object\n",
      "reviewText    1519311 non-null object\n",
      "summary       1519311 non-null object\n",
      "dtypes: bool(1), float64(1), object(4)\n",
      "memory usage: 59.4+ MB\n"
     ]
    }
   ],
   "source": [
    "re_DM.info()"
   ]
  },
  {
   "cell_type": "code",
   "execution_count": 19,
   "metadata": {},
   "outputs": [
    {
     "name": "stdout",
     "output_type": "stream",
     "text": [
      "number of unique asin:  456992\n",
      "number of single reviewed asin:  290397\n",
      "number of 2 reviewed asin:  70959\n",
      "number of 3 reviewed asin:  29527\n",
      "number of 4 reviewed asin:  16045\n",
      "number of 5 or more reviewed asin:  50064\n"
     ]
    }
   ],
   "source": [
    "analyzeASIN(re_DM)"
   ]
  },
  {
   "cell_type": "markdown",
   "metadata": {},
   "source": [
    "Around half of the digital music available in the dataset, over half of them contains only 1 reviews. <br> Keeping asin with 5 or more reviews will lower the data count to almost 10% of the original."
   ]
  },
  {
   "cell_type": "code",
   "execution_count": 20,
   "metadata": {},
   "outputs": [
    {
     "name": "stdout",
     "output_type": "stream",
     "text": [
      "expected dataset count after trimming:  934235\n"
     ]
    }
   ],
   "source": [
    "#group by asin with count\n",
    "asin_count = re_DM.groupby('asin').asin.count()\n",
    "\n",
    "#less_* : contains asin of 4 or less\n",
    "#more_* : contains asin of 5 or more\n",
    "\n",
    "less_DM = asin_count[asin_count<5].index\n",
    "more_DM = asin_count[asin_count>4].index\n",
    "\n",
    "#remove from review dataset any asin with less than 5 reviews.\n",
    "re_DM = re_DM.loc[re_DM.asin.isin(more_DM)]\n",
    "\n",
    "print('expected dataset count after trimming: ',asin_count[asin_count>4].sum())"
   ]
  },
  {
   "cell_type": "code",
   "execution_count": 21,
   "metadata": {},
   "outputs": [
    {
     "data": {
      "text/plain": [
       "(934235, 6)"
      ]
     },
     "execution_count": 21,
     "metadata": {},
     "output_type": "execute_result"
    }
   ],
   "source": [
    "re_DM.shape"
   ]
  },
  {
   "cell_type": "markdown",
   "metadata": {},
   "source": [
    "### 3.2.3 Dataset 're_KS'"
   ]
  },
  {
   "cell_type": "code",
   "execution_count": 22,
   "metadata": {},
   "outputs": [
    {
     "name": "stdout",
     "output_type": "stream",
     "text": [
      "<class 'pandas.core.frame.DataFrame'>\n",
      "RangeIndex: 5709316 entries, 0 to 5709315\n",
      "Data columns (total 6 columns):\n",
      "overall       float64\n",
      "verified      bool\n",
      "reviewerID    object\n",
      "asin          object\n",
      "reviewText    object\n",
      "summary       object\n",
      "dtypes: bool(1), float64(1), object(4)\n",
      "memory usage: 223.2+ MB\n"
     ]
    }
   ],
   "source": [
    "re_KS.info()"
   ]
  },
  {
   "cell_type": "code",
   "execution_count": 23,
   "metadata": {},
   "outputs": [
    {
     "name": "stdout",
     "output_type": "stream",
     "text": [
      "number of unique asin:  493849\n",
      "number of single reviewed asin:  146741\n",
      "number of 2 reviewed asin:  80060\n",
      "number of 3 reviewed asin:  49127\n",
      "number of 4 reviewed asin:  32570\n",
      "number of 5 or more reviewed asin:  185351\n"
     ]
    }
   ],
   "source": [
    "analyzeASIN(re_KS)"
   ]
  },
  {
   "cell_type": "code",
   "execution_count": 24,
   "metadata": {},
   "outputs": [
    {
     "name": "stdout",
     "output_type": "stream",
     "text": [
      "expected dataset count after trimming:  5124794\n"
     ]
    }
   ],
   "source": [
    "#group by asin with count\n",
    "asin_count = re_KS.groupby('asin').asin.count()\n",
    "\n",
    "#less_* : contains asin of 4 or less\n",
    "#more_* : contains asin of 5 or more\n",
    "\n",
    "less_KS = asin_count[asin_count<5].index\n",
    "more_KS = asin_count[asin_count>4].index\n",
    "\n",
    "#remove from review dataset any asin with less than 5 reviews.\n",
    "re_KS = re_KS.loc[re_KS.asin.isin(more_KS)]\n",
    "\n",
    "print('expected dataset count after trimming: ',asin_count[asin_count>4].sum())"
   ]
  },
  {
   "cell_type": "code",
   "execution_count": 25,
   "metadata": {},
   "outputs": [
    {
     "data": {
      "text/plain": [
       "(5124794, 6)"
      ]
     },
     "execution_count": 25,
     "metadata": {},
     "output_type": "execute_result"
    }
   ],
   "source": [
    "re_KS.shape"
   ]
  },
  {
   "cell_type": "markdown",
   "metadata": {},
   "source": [
    "### 3.2.4 Dataset 're_MTV'"
   ]
  },
  {
   "cell_type": "code",
   "execution_count": 26,
   "metadata": {},
   "outputs": [
    {
     "name": "stdout",
     "output_type": "stream",
     "text": [
      "<class 'pandas.core.frame.DataFrame'>\n",
      "RangeIndex: 8526920 entries, 0 to 8526919\n",
      "Data columns (total 6 columns):\n",
      "overall       8526920 non-null float64\n",
      "verified      8526920 non-null bool\n",
      "reviewerID    8526920 non-null object\n",
      "asin          8526920 non-null object\n",
      "reviewText    8526920 non-null object\n",
      "summary       8526920 non-null object\n",
      "dtypes: bool(1), float64(1), object(4)\n",
      "memory usage: 333.4+ MB\n"
     ]
    }
   ],
   "source": [
    "re_MTV.info(verbose=True,null_counts=True)"
   ]
  },
  {
   "cell_type": "code",
   "execution_count": 27,
   "metadata": {},
   "outputs": [
    {
     "name": "stdout",
     "output_type": "stream",
     "text": [
      "number of unique asin:  182032\n",
      "number of single reviewed asin:  44160\n",
      "number of 2 reviewed asin:  23357\n",
      "number of 3 reviewed asin:  14617\n",
      "number of 4 reviewed asin:  10358\n",
      "number of 5 or more reviewed asin:  89540\n"
     ]
    }
   ],
   "source": [
    "analyzeASIN(re_MTV)"
   ]
  },
  {
   "cell_type": "code",
   "execution_count": 28,
   "metadata": {},
   "outputs": [
    {
     "name": "stdout",
     "output_type": "stream",
     "text": [
      "expected dataset count after trimming:  8350763\n"
     ]
    }
   ],
   "source": [
    "#group by asin with count\n",
    "asin_count = re_MTV.groupby('asin').asin.count()\n",
    "\n",
    "#less_* : contains asin of 4 or less\n",
    "#more_* : contains asin of 5 or more\n",
    "\n",
    "less_MTV = asin_count[asin_count<5].index\n",
    "more_MTV = asin_count[asin_count>4].index\n",
    "\n",
    "#remove from review dataset any asin with less than 5 reviews.\n",
    "re_MTV = re_MTV.loc[re_MTV.asin.isin(more_MTV)]\n",
    "\n",
    "print('expected dataset count after trimming: ',asin_count[asin_count>4].sum())"
   ]
  },
  {
   "cell_type": "code",
   "execution_count": 29,
   "metadata": {},
   "outputs": [
    {
     "data": {
      "text/plain": [
       "(8350763, 6)"
      ]
     },
     "execution_count": 29,
     "metadata": {},
     "output_type": "execute_result"
    }
   ],
   "source": [
    "re_MTV.shape"
   ]
  },
  {
   "cell_type": "markdown",
   "metadata": {},
   "source": [
    "## 3.3 Dataset 'product' catalogue ASIN Trimming"
   ]
  },
  {
   "cell_type": "markdown",
   "metadata": {},
   "source": [
    "As mentioned in the above section, we will now use the ASIN lists we saved during distinguishing ASIN with 4 or less review, and 5 or more reviews. <br> These lists will be used to trim out products that either have too few reviews to be viable, or have no reviews at all."
   ]
  },
  {
   "cell_type": "markdown",
   "metadata": {},
   "source": [
    "### 3.3.1 Dataset 'pr_MS'"
   ]
  },
  {
   "cell_type": "code",
   "execution_count": 30,
   "metadata": {},
   "outputs": [
    {
     "name": "stdout",
     "output_type": "stream",
     "text": [
      "<class 'pandas.core.frame.DataFrame'>\n",
      "RangeIndex: 2428 entries, 0 to 2427\n",
      "Data columns (total 3 columns):\n",
      "main_cat    2428 non-null object\n",
      "asin        2428 non-null object\n",
      "title       2428 non-null object\n",
      "dtypes: object(3)\n",
      "memory usage: 57.0+ KB\n"
     ]
    }
   ],
   "source": [
    "pr_MS.info()"
   ]
  },
  {
   "cell_type": "code",
   "execution_count": 31,
   "metadata": {},
   "outputs": [],
   "source": [
    "#trim down to only contain asin that has 5 or more reviews\n",
    "pr_MS = pr_MS.loc[pr_MS.asin.isin(more_MS)]"
   ]
  },
  {
   "cell_type": "code",
   "execution_count": 32,
   "metadata": {},
   "outputs": [
    {
     "data": {
      "text/plain": [
       "(1447, 3)"
      ]
     },
     "execution_count": 32,
     "metadata": {},
     "output_type": "execute_result"
    }
   ],
   "source": [
    "pr_MS.shape"
   ]
  },
  {
   "cell_type": "markdown",
   "metadata": {},
   "source": [
    "### 3.3.2 Dataset 'pr_DM'"
   ]
  },
  {
   "cell_type": "code",
   "execution_count": 33,
   "metadata": {},
   "outputs": [
    {
     "name": "stdout",
     "output_type": "stream",
     "text": [
      "<class 'pandas.core.frame.DataFrame'>\n",
      "RangeIndex: 457010 entries, 0 to 457009\n",
      "Data columns (total 2 columns):\n",
      "title    457010 non-null object\n",
      "asin     457010 non-null object\n",
      "dtypes: object(2)\n",
      "memory usage: 7.0+ MB\n"
     ]
    }
   ],
   "source": [
    "pr_DM.info()"
   ]
  },
  {
   "cell_type": "code",
   "execution_count": 34,
   "metadata": {},
   "outputs": [],
   "source": [
    "#trim down to only contain asin that has 5 or more reviews\n",
    "pr_DM  = pr_DM.loc[pr_DM.asin.isin(more_DM)]"
   ]
  },
  {
   "cell_type": "code",
   "execution_count": 35,
   "metadata": {},
   "outputs": [
    {
     "data": {
      "text/plain": [
       "(50064, 2)"
      ]
     },
     "execution_count": 35,
     "metadata": {},
     "output_type": "execute_result"
    }
   ],
   "source": [
    "pr_DM.shape"
   ]
  },
  {
   "cell_type": "markdown",
   "metadata": {},
   "source": [
    "### 3.3.3 Dataset 'pr_KS'"
   ]
  },
  {
   "cell_type": "code",
   "execution_count": 36,
   "metadata": {},
   "outputs": [
    {
     "name": "stdout",
     "output_type": "stream",
     "text": [
      "<class 'pandas.core.frame.DataFrame'>\n",
      "RangeIndex: 493552 entries, 0 to 493551\n",
      "Data columns (total 3 columns):\n",
      "title       493552 non-null object\n",
      "main_cat    493552 non-null object\n",
      "asin        493552 non-null object\n",
      "dtypes: object(3)\n",
      "memory usage: 11.3+ MB\n"
     ]
    }
   ],
   "source": [
    "pr_KS.info()"
   ]
  },
  {
   "cell_type": "code",
   "execution_count": 37,
   "metadata": {},
   "outputs": [],
   "source": [
    "#trim down to only contain asin that has 5 or more reviews\n",
    "pr_KS  = pr_KS.loc[pr_KS.asin.isin(more_KS)]"
   ]
  },
  {
   "cell_type": "code",
   "execution_count": 38,
   "metadata": {},
   "outputs": [
    {
     "data": {
      "text/plain": [
       "(185141, 3)"
      ]
     },
     "execution_count": 38,
     "metadata": {},
     "output_type": "execute_result"
    }
   ],
   "source": [
    "pr_KS.shape"
   ]
  },
  {
   "cell_type": "markdown",
   "metadata": {},
   "source": [
    "### 3.3.4 Dataset 'pr_MTV'"
   ]
  },
  {
   "cell_type": "code",
   "execution_count": 39,
   "metadata": {},
   "outputs": [
    {
     "name": "stdout",
     "output_type": "stream",
     "text": [
      "<class 'pandas.core.frame.DataFrame'>\n",
      "RangeIndex: 182043 entries, 0 to 182042\n",
      "Data columns (total 3 columns):\n",
      "title       182043 non-null object\n",
      "main_cat    182043 non-null object\n",
      "asin        182043 non-null object\n",
      "dtypes: object(3)\n",
      "memory usage: 4.2+ MB\n"
     ]
    }
   ],
   "source": [
    "pr_MTV.info()"
   ]
  },
  {
   "cell_type": "code",
   "execution_count": 40,
   "metadata": {},
   "outputs": [],
   "source": [
    "#trim down to only contain asin that has 5 or more reviews\n",
    "pr_MTV  = pr_MTV.loc[pr_MTV.asin.isin(more_MTV)]"
   ]
  },
  {
   "cell_type": "code",
   "execution_count": 41,
   "metadata": {},
   "outputs": [
    {
     "data": {
      "text/plain": [
       "(89540, 3)"
      ]
     },
     "execution_count": 41,
     "metadata": {},
     "output_type": "execute_result"
    }
   ],
   "source": [
    "pr_MTV.shape"
   ]
  },
  {
   "cell_type": "code",
   "execution_count": 42,
   "metadata": {},
   "outputs": [],
   "source": [
    "re_MS.to_csv(r'/Users/byungchankim/Downloads/Springboard/capstone2/data/re_MS_5.csv',index=False)\n",
    "re_DM.to_csv(r'/Users/byungchankim/Downloads/Springboard/capstone2/data/re_DM_5.csv',index=False)\n",
    "re_KS.to_csv(r'/Users/byungchankim/Downloads/Springboard/capstone2/data/re_KS_5.csv',index=False)\n",
    "re_MTV.to_csv(r'/Users/byungchankim/Downloads/Springboard/capstone2/data/re_MTV_5.csv',index=False)"
   ]
  },
  {
   "cell_type": "code",
   "execution_count": 43,
   "metadata": {},
   "outputs": [],
   "source": [
    "del re_MS,re_DM,re_KS,re_MTV"
   ]
  },
  {
   "cell_type": "code",
   "execution_count": 44,
   "metadata": {},
   "outputs": [],
   "source": [
    "pr_MS.to_csv(r'/Users/byungchankim/Downloads/Springboard/capstone2/data/pr_MS_5.csv',index=False)\n",
    "pr_DM.to_csv(r'/Users/byungchankim/Downloads/Springboard/capstone2/data/pr_DM_5.csv',index=False)\n",
    "pr_KS.to_csv(r'/Users/byungchankim/Downloads/Springboard/capstone2/data/pr_KS_5.csv',index=False)\n",
    "pr_MTV.to_csv(r'/Users/byungchankim/Downloads/Springboard/capstone2/data/pr_MTV_5.csv',index=False)"
   ]
  },
  {
   "cell_type": "code",
   "execution_count": 45,
   "metadata": {},
   "outputs": [],
   "source": [
    "del pr_MS,pr_DM,pr_KS,pr_MTV"
   ]
  },
  {
   "cell_type": "markdown",
   "metadata": {},
   "source": []
  },
  {
   "cell_type": "code",
   "execution_count": null,
   "metadata": {},
   "outputs": [],
   "source": []
  }
 ],
 "metadata": {
  "kernelspec": {
   "display_name": "Python 3",
   "language": "python",
   "name": "python3"
  },
  "language_info": {
   "codemirror_mode": {
    "name": "ipython",
    "version": 3
   },
   "file_extension": ".py",
   "mimetype": "text/x-python",
   "name": "python",
   "nbconvert_exporter": "python",
   "pygments_lexer": "ipython3",
   "version": "3.7.1"
  }
 },
 "nbformat": 4,
 "nbformat_minor": 2
}
