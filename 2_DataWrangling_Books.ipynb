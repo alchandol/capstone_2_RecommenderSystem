{
 "cells": [
  {
   "cell_type": "markdown",
   "metadata": {},
   "source": [
    "# 2. Data Wrangling: Books"
   ]
  },
  {
   "cell_type": "markdown",
   "metadata": {},
   "source": [
    "At this point in the project, decision was made to focus solely on the Amazon Books review and product dataset. <br> Initially, the review dataset for books was too big to import for processing.  <br> Steps were made to split up the original dataset to 14 smaller chunks for initial processing."
   ]
  },
  {
   "cell_type": "code",
   "execution_count": 248,
   "metadata": {},
   "outputs": [],
   "source": [
    "#import required packages\n",
    "import pandas as pd\n",
    "import gzip\n",
    "import json\n",
    "import seaborn as sns\n",
    "import matplotlib.pyplot as plt\n",
    "from scipy import stats\n",
    "import numpy as np\n",
    "\n",
    "from itertools import islice"
   ]
  },
  {
   "cell_type": "markdown",
   "metadata": {},
   "source": [
    "## 2.1 Data Import"
   ]
  },
  {
   "cell_type": "markdown",
   "metadata": {},
   "source": [
    "To reduce dataset size, review dataset 'Books' until year 2013 was selected to be used. <br> Unlike the previous data import method, 2013 books review dataset is saved in txt format.  <br> A new read method is required to set up the dataset in pands."
   ]
  },
  {
   "cell_type": "code",
   "execution_count": 249,
   "metadata": {},
   "outputs": [],
   "source": [
    "\"\"\"\n",
    "Method to read in structured text data\n",
    "\n",
    "Takes in path to file\n",
    "Outputs pandas dataframe\n",
    "\n",
    "\"\"\"\n",
    "\n",
    "def parseTxt(path):\n",
    "    \n",
    "    df = {}\n",
    "    i = 0\n",
    "    \n",
    "    with open(path) as f:\n",
    "        while True:\n",
    "            chunk = list(islice(f,11))\n",
    "            if not chunk:\n",
    "                break\n",
    "            d={}\n",
    "            \n",
    "            d.update({'asin': chunk[0].split('product/productId: ')[1].rstrip('\\n')})\n",
    "            d.update({'title': chunk[1].split('product/title: ')[1].rstrip('\\n')})\n",
    "            d.update({'price': chunk[2].split('product/price: ')[1].rstrip('\\n')})\n",
    "            d.update({'reviewerID': chunk[3].split('review/userId: ')[1].rstrip('\\n')})\n",
    "            d.update({'reviewerName': chunk[4].split('review/profileName: ')[1].rstrip('\\n')})\n",
    "            d.update({'helpfulness': chunk[5].split('review/helpfulness: ')[1].rstrip('\\n')})\n",
    "            d.update({'overall': chunk[6].split('review/score: ')[1].rstrip('\\n')})\n",
    "            d.update({'timestamp': chunk[7].split('review/time: ')[1].rstrip('\\n')})\n",
    "            d.update({'summary': chunk[8].split('review/summary: ')[1].rstrip('\\n')})\n",
    "            d.update( {'reviewText' :chunk[9].split('review/text: ')[1].rstrip('\\n')} )\n",
    "            df[i]=d\n",
    "            i+=1\n",
    "    \n",
    "    return pd.DataFrame.from_dict(df, orient='index')"
   ]
  },
  {
   "cell_type": "code",
   "execution_count": 255,
   "metadata": {},
   "outputs": [],
   "source": [
    "xaa = parseTxt('data/review/books/xaa')"
   ]
  },
  {
   "cell_type": "code",
   "execution_count": 333,
   "metadata": {},
   "outputs": [],
   "source": [
    "xab = parseTxt('data/review/books/xab')"
   ]
  },
  {
   "cell_type": "code",
   "execution_count": 318,
   "metadata": {},
   "outputs": [],
   "source": [
    "xac = parseTxt('data/review/books/xac')"
   ]
  },
  {
   "cell_type": "code",
   "execution_count": 326,
   "metadata": {},
   "outputs": [],
   "source": [
    "xad = parseTxt('data/review/books/xad')"
   ]
  },
  {
   "cell_type": "code",
   "execution_count": 350,
   "metadata": {},
   "outputs": [],
   "source": [
    "xae = parseTxt('data/review/books/xae')"
   ]
  },
  {
   "cell_type": "code",
   "execution_count": 351,
   "metadata": {},
   "outputs": [],
   "source": [
    "xaf = parseTxt('data/review/books/xaf')"
   ]
  },
  {
   "cell_type": "code",
   "execution_count": 370,
   "metadata": {},
   "outputs": [],
   "source": [
    "xag = parseTxt('data/review/books/xag')"
   ]
  },
  {
   "cell_type": "code",
   "execution_count": 366,
   "metadata": {},
   "outputs": [],
   "source": [
    "xah = parseTxt('data/review/books/xah')"
   ]
  },
  {
   "cell_type": "code",
   "execution_count": 390,
   "metadata": {},
   "outputs": [],
   "source": [
    "xai = parseTxt('data/review/books/xai')"
   ]
  },
  {
   "cell_type": "code",
   "execution_count": 391,
   "metadata": {},
   "outputs": [],
   "source": [
    "xaj = parseTxt('data/review/books/xaj')"
   ]
  },
  {
   "cell_type": "code",
   "execution_count": 408,
   "metadata": {},
   "outputs": [],
   "source": [
    "xak = parseTxt('data/review/books/xak')"
   ]
  },
  {
   "cell_type": "code",
   "execution_count": 409,
   "metadata": {},
   "outputs": [],
   "source": [
    "xal = parseTxt('data/review/books/xal')"
   ]
  },
  {
   "cell_type": "code",
   "execution_count": 420,
   "metadata": {},
   "outputs": [],
   "source": [
    "xam = parseTxt('data/review/books/xam')"
   ]
  },
  {
   "cell_type": "code",
   "execution_count": 421,
   "metadata": {},
   "outputs": [],
   "source": [
    "xan = parseTxt('data/review/books/xan')"
   ]
  },
  {
   "cell_type": "markdown",
   "metadata": {},
   "source": [
    "## 2.2 Data Trimming"
   ]
  },
  {
   "cell_type": "markdown",
   "metadata": {},
   "source": [
    "### 2.2.1 Low Review Count Trimming"
   ]
  },
  {
   "cell_type": "markdown",
   "metadata": {},
   "source": [
    "The original books dataset is too big to be imported to the notebook.<br> Big dataset was splitted to 14 smaller txt files each around 1GB. <br> At this time, our biggiest concern is trimming down the dataset as much as possible so in the end, we'll have a dataset that we can work with.\n",
    "\n",
    "We will be dropping any products with less than 50 reviews first."
   ]
  },
  {
   "cell_type": "code",
   "execution_count": 114,
   "metadata": {},
   "outputs": [],
   "source": [
    "xaa_count= xaa.groupby('asin').asin.count()"
   ]
  },
  {
   "cell_type": "code",
   "execution_count": 115,
   "metadata": {},
   "outputs": [
    {
     "data": {
      "text/plain": [
       "65281"
      ]
     },
     "execution_count": 115,
     "metadata": {},
     "output_type": "execute_result"
    }
   ],
   "source": [
    "#this will be our list that monitors asin with less than 50 reviews.\n",
    "master_50 = xaa_count[xaa_count<50]\n",
    "len(master_50)"
   ]
  },
  {
   "cell_type": "code",
   "execution_count": 145,
   "metadata": {},
   "outputs": [],
   "source": [
    "#method to aid in series addition\n",
    "\n",
    "def updateASIN(master, srs):\n",
    "    \n",
    "    print('master length: ', len(master))\n",
    "    print('adding series length: ', len(srs))\n",
    "    \n",
    "    c=0\n",
    "    dup = []\n",
    "    \n",
    "    for i in srs.index:\n",
    "        if i in master.index:\n",
    "            c+=1\n",
    "            dup.append(i)\n",
    "    \n",
    "    print('number of overlapping ASIN: ',c)\n",
    "    print('overlapping ASIN: ',dup)\n",
    "    \n",
    "    result = master.add(srs,fill_value=0)\n",
    "    \n",
    "    print('expected master length: ',len(master)+len(srs)-len(dup))\n",
    "    \n",
    "    print('actual master length: ', len(result))\n",
    "    \n",
    "    print('number of ASIN with 50 or more: ',len(result[result>49]))\n",
    "    \n",
    "    return result"
   ]
  },
  {
   "cell_type": "code",
   "execution_count": 129,
   "metadata": {},
   "outputs": [
    {
     "data": {
      "text/plain": [
       "66793"
      ]
     },
     "execution_count": 129,
     "metadata": {},
     "output_type": "execute_result"
    }
   ],
   "source": [
    "#get the count for the next list of asin\n",
    "tmp = xab.groupby('asin').asin.count()\n",
    "tmp_50 = tmp[tmp<50]\n",
    "len(tmp_50)"
   ]
  },
  {
   "cell_type": "code",
   "execution_count": 130,
   "metadata": {},
   "outputs": [
    {
     "name": "stdout",
     "output_type": "stream",
     "text": [
      "master length:  65281\n",
      "adding series length:  66793\n",
      "number of overlapping ASIN:  0\n",
      "overlapping ASIN:  []\n",
      "expected master length:  132074\n",
      "actual master length:  132074\n",
      "number of ASIN with 50 or more:  0\n"
     ]
    }
   ],
   "source": [
    "new_master = updateASIN(master_50,tmp_50)"
   ]
  },
  {
   "cell_type": "code",
   "execution_count": 131,
   "metadata": {},
   "outputs": [
    {
     "data": {
      "text/plain": [
       "67224"
      ]
     },
     "execution_count": 131,
     "metadata": {},
     "output_type": "execute_result"
    }
   ],
   "source": [
    "#get the count for the next list of asin\n",
    "tmp = xac.groupby('asin').asin.count()\n",
    "tmp_50 = tmp[tmp<50]\n",
    "len(tmp_50)"
   ]
  },
  {
   "cell_type": "code",
   "execution_count": 132,
   "metadata": {},
   "outputs": [
    {
     "name": "stdout",
     "output_type": "stream",
     "text": [
      "master length:  132074\n",
      "adding series length:  67224\n",
      "number of overlapping ASIN:  0\n",
      "overlapping ASIN:  []\n",
      "expected master length:  199298\n",
      "actual master length:  199298\n",
      "number of ASIN with 50 or more:  0\n"
     ]
    }
   ],
   "source": [
    "new_master_2 = updateASIN(new_master,tmp_50)"
   ]
  },
  {
   "cell_type": "code",
   "execution_count": 138,
   "metadata": {},
   "outputs": [
    {
     "data": {
      "text/plain": [
       "63579"
      ]
     },
     "execution_count": 138,
     "metadata": {},
     "output_type": "execute_result"
    }
   ],
   "source": [
    "#get the count for the next list of asin\n",
    "tmp = xad.groupby('asin').asin.count()\n",
    "tmp_50 = tmp[tmp<50]\n",
    "len(tmp_50)"
   ]
  },
  {
   "cell_type": "code",
   "execution_count": 139,
   "metadata": {},
   "outputs": [
    {
     "name": "stdout",
     "output_type": "stream",
     "text": [
      "master length:  199298\n",
      "adding series length:  63579\n",
      "number of overlapping ASIN:  0\n",
      "overlapping ASIN:  []\n",
      "expected master length:  262877\n",
      "actual master length:  262877\n",
      "number of ASIN with 50 or more:  0\n"
     ]
    }
   ],
   "source": [
    "new_master_d = updateASIN(new_master_2,tmp_50)"
   ]
  },
  {
   "cell_type": "code",
   "execution_count": 143,
   "metadata": {},
   "outputs": [
    {
     "data": {
      "text/plain": [
       "61770"
      ]
     },
     "execution_count": 143,
     "metadata": {},
     "output_type": "execute_result"
    }
   ],
   "source": [
    "#get the count for the next list of asin\n",
    "tmp = xae.groupby('asin').asin.count()\n",
    "tmp_50 = tmp[tmp<50]\n",
    "len(tmp_50)"
   ]
  },
  {
   "cell_type": "code",
   "execution_count": 146,
   "metadata": {},
   "outputs": [
    {
     "name": "stdout",
     "output_type": "stream",
     "text": [
      "master length:  262877\n",
      "adding series length:  61770\n",
      "number of overlapping ASIN:  1\n",
      "overlapping ASIN:  ['1931499926']\n",
      "expected master length:  324646\n",
      "actual master length:  324646\n",
      "number of ASIN with 50 or more:  0\n"
     ]
    }
   ],
   "source": [
    "new_master_e = updateASIN(new_master_d,tmp_50)"
   ]
  },
  {
   "cell_type": "code",
   "execution_count": 150,
   "metadata": {},
   "outputs": [
    {
     "data": {
      "text/plain": [
       "64052"
      ]
     },
     "execution_count": 150,
     "metadata": {},
     "output_type": "execute_result"
    }
   ],
   "source": [
    "#get the count for the next list of asin\n",
    "tmp = xaf.groupby('asin').asin.count()\n",
    "tmp_50 = tmp[tmp<50]\n",
    "len(tmp_50)"
   ]
  },
  {
   "cell_type": "code",
   "execution_count": 151,
   "metadata": {},
   "outputs": [
    {
     "name": "stdout",
     "output_type": "stream",
     "text": [
      "master length:  324646\n",
      "adding series length:  64052\n",
      "number of overlapping ASIN:  1\n",
      "overlapping ASIN:  ['B000GY4ZYC']\n",
      "expected master length:  388697\n",
      "actual master length:  388697\n",
      "number of ASIN with 50 or more:  0\n"
     ]
    }
   ],
   "source": [
    "new_master_f = updateASIN(new_master_e,tmp_50)"
   ]
  },
  {
   "cell_type": "code",
   "execution_count": 157,
   "metadata": {},
   "outputs": [
    {
     "data": {
      "text/plain": [
       "64496"
      ]
     },
     "execution_count": 157,
     "metadata": {},
     "output_type": "execute_result"
    }
   ],
   "source": [
    "#get the count for the next list of asin\n",
    "tmp = xag.groupby('asin').asin.count()\n",
    "tmp_50 = tmp[tmp<50]\n",
    "len(tmp_50)"
   ]
  },
  {
   "cell_type": "code",
   "execution_count": 158,
   "metadata": {},
   "outputs": [
    {
     "name": "stdout",
     "output_type": "stream",
     "text": [
      "master length:  388697\n",
      "adding series length:  64496\n",
      "number of overlapping ASIN:  1\n",
      "overlapping ASIN:  ['0877739447']\n",
      "expected master length:  453192\n",
      "actual master length:  453192\n",
      "number of ASIN with 50 or more:  0\n"
     ]
    }
   ],
   "source": [
    "new_master_g = updateASIN(new_master_f,tmp_50)"
   ]
  },
  {
   "cell_type": "code",
   "execution_count": 162,
   "metadata": {},
   "outputs": [
    {
     "data": {
      "text/plain": [
       "66665"
      ]
     },
     "execution_count": 162,
     "metadata": {},
     "output_type": "execute_result"
    }
   ],
   "source": [
    "#get the count for the next list of asin\n",
    "tmp = xah.groupby('asin').asin.count()\n",
    "tmp_50 = tmp[tmp<50]\n",
    "len(tmp_50)"
   ]
  },
  {
   "cell_type": "code",
   "execution_count": 163,
   "metadata": {},
   "outputs": [
    {
     "name": "stdout",
     "output_type": "stream",
     "text": [
      "master length:  453192\n",
      "adding series length:  66665\n",
      "number of overlapping ASIN:  0\n",
      "overlapping ASIN:  []\n",
      "expected master length:  519857\n",
      "actual master length:  519857\n",
      "number of ASIN with 50 or more:  0\n"
     ]
    }
   ],
   "source": [
    "new_master_h = updateASIN(new_master_g,tmp_50)"
   ]
  },
  {
   "cell_type": "code",
   "execution_count": 165,
   "metadata": {},
   "outputs": [
    {
     "data": {
      "text/plain": [
       "60767"
      ]
     },
     "execution_count": 165,
     "metadata": {},
     "output_type": "execute_result"
    }
   ],
   "source": [
    "#get the count for the next list of asin\n",
    "tmp = xai.groupby('asin').asin.count()\n",
    "tmp_50 = tmp[tmp<50]\n",
    "len(tmp_50)"
   ]
  },
  {
   "cell_type": "code",
   "execution_count": 166,
   "metadata": {},
   "outputs": [
    {
     "name": "stdout",
     "output_type": "stream",
     "text": [
      "master length:  519857\n",
      "adding series length:  60767\n",
      "number of overlapping ASIN:  1\n",
      "overlapping ASIN:  ['0810992493']\n",
      "expected master length:  580623\n",
      "actual master length:  580623\n",
      "number of ASIN with 50 or more:  0\n"
     ]
    }
   ],
   "source": [
    "new_master_i = updateASIN(new_master_h,tmp_50)"
   ]
  },
  {
   "cell_type": "code",
   "execution_count": 172,
   "metadata": {},
   "outputs": [
    {
     "data": {
      "text/plain": [
       "64643"
      ]
     },
     "execution_count": 172,
     "metadata": {},
     "output_type": "execute_result"
    }
   ],
   "source": [
    "#get the count for the next list of asin\n",
    "tmp = xaj.groupby('asin').asin.count()\n",
    "tmp_50 = tmp[tmp<50]\n",
    "len(tmp_50)"
   ]
  },
  {
   "cell_type": "code",
   "execution_count": 173,
   "metadata": {},
   "outputs": [
    {
     "name": "stdout",
     "output_type": "stream",
     "text": [
      "master length:  580623\n",
      "adding series length:  64643\n",
      "number of overlapping ASIN:  0\n",
      "overlapping ASIN:  []\n",
      "expected master length:  645266\n",
      "actual master length:  645266\n",
      "number of ASIN with 50 or more:  0\n"
     ]
    }
   ],
   "source": [
    "new_master_j = updateASIN(new_master_i,tmp_50)"
   ]
  },
  {
   "cell_type": "code",
   "execution_count": 176,
   "metadata": {},
   "outputs": [
    {
     "data": {
      "text/plain": [
       "66562"
      ]
     },
     "execution_count": 176,
     "metadata": {},
     "output_type": "execute_result"
    }
   ],
   "source": [
    "#get the count for the next list of asin\n",
    "tmp = xak.groupby('asin').asin.count()\n",
    "tmp_50 = tmp[tmp<50]\n",
    "len(tmp_50)"
   ]
  },
  {
   "cell_type": "code",
   "execution_count": 177,
   "metadata": {},
   "outputs": [
    {
     "name": "stdout",
     "output_type": "stream",
     "text": [
      "master length:  645266\n",
      "adding series length:  66562\n",
      "number of overlapping ASIN:  0\n",
      "overlapping ASIN:  []\n",
      "expected master length:  711828\n",
      "actual master length:  711828\n",
      "number of ASIN with 50 or more:  0\n"
     ]
    }
   ],
   "source": [
    "new_master_k = updateASIN(new_master_j,tmp_50)"
   ]
  },
  {
   "cell_type": "code",
   "execution_count": 180,
   "metadata": {},
   "outputs": [
    {
     "data": {
      "text/plain": [
       "66052"
      ]
     },
     "execution_count": 180,
     "metadata": {},
     "output_type": "execute_result"
    }
   ],
   "source": [
    "#get the count for the next list of asin\n",
    "tmp = xal.groupby('asin').asin.count()\n",
    "tmp_50 = tmp[tmp<50]\n",
    "len(tmp_50)"
   ]
  },
  {
   "cell_type": "code",
   "execution_count": 181,
   "metadata": {},
   "outputs": [
    {
     "name": "stdout",
     "output_type": "stream",
     "text": [
      "master length:  711828\n",
      "adding series length:  66052\n",
      "number of overlapping ASIN:  0\n",
      "overlapping ASIN:  []\n",
      "expected master length:  777880\n",
      "actual master length:  777880\n",
      "number of ASIN with 50 or more:  0\n"
     ]
    }
   ],
   "source": [
    "new_master_l = updateASIN(new_master_k,tmp_50)"
   ]
  },
  {
   "cell_type": "code",
   "execution_count": 184,
   "metadata": {},
   "outputs": [
    {
     "data": {
      "text/plain": [
       "65052"
      ]
     },
     "execution_count": 184,
     "metadata": {},
     "output_type": "execute_result"
    }
   ],
   "source": [
    "#get the count for the next list of asin\n",
    "tmp = xam.groupby('asin').asin.count()\n",
    "tmp_50 = tmp[tmp<50]\n",
    "len(tmp_50)"
   ]
  },
  {
   "cell_type": "code",
   "execution_count": 185,
   "metadata": {},
   "outputs": [
    {
     "name": "stdout",
     "output_type": "stream",
     "text": [
      "master length:  777880\n",
      "adding series length:  65052\n",
      "number of overlapping ASIN:  0\n",
      "overlapping ASIN:  []\n",
      "expected master length:  842932\n",
      "actual master length:  842932\n",
      "number of ASIN with 50 or more:  0\n"
     ]
    }
   ],
   "source": [
    "new_master_m = updateASIN(new_master_l,tmp_50)"
   ]
  },
  {
   "cell_type": "code",
   "execution_count": 188,
   "metadata": {},
   "outputs": [
    {
     "data": {
      "text/plain": [
       "47670"
      ]
     },
     "execution_count": 188,
     "metadata": {},
     "output_type": "execute_result"
    }
   ],
   "source": [
    "#get the count for the next list of asin\n",
    "tmp = xan.groupby('asin').asin.count()\n",
    "tmp_50 = tmp[tmp<50]\n",
    "len(tmp_50)"
   ]
  },
  {
   "cell_type": "code",
   "execution_count": 189,
   "metadata": {},
   "outputs": [
    {
     "name": "stdout",
     "output_type": "stream",
     "text": [
      "master length:  842932\n",
      "adding series length:  47670\n",
      "number of overlapping ASIN:  0\n",
      "overlapping ASIN:  []\n",
      "expected master length:  890602\n",
      "actual master length:  890602\n",
      "number of ASIN with 50 or more:  0\n"
     ]
    }
   ],
   "source": [
    "new_master_n = updateASIN(new_master_m,tmp_50)"
   ]
  },
  {
   "cell_type": "markdown",
   "metadata": {},
   "source": [
    "Final ASIN list with less than 50 reviews have been derived. <br> Now, the datasets will be compared to our master asin list and remove any rows containing those asin values."
   ]
  },
  {
   "cell_type": "code",
   "execution_count": 193,
   "metadata": {},
   "outputs": [],
   "source": [
    "#save the index\n",
    "remove_these = new_master_n.index"
   ]
  },
  {
   "cell_type": "code",
   "execution_count": 194,
   "metadata": {},
   "outputs": [
    {
     "data": {
      "text/plain": [
       "Index(['0000000868', '0000020214', '0000024341', '0000025240', '0000038504',\n",
       "       '0000913154', '0001024043', '0001035649', '0001042335', '0001046349',\n",
       "       ...\n",
       "       'B0014S49YU', 'B001EMUIWI', 'B001EYEHIW', 'B002PWLQ04', 'B0030EY97I',\n",
       "       'B00354WUGA', 'B0038EPHIU', 'B003A8D2YU', 'B003IMNND8', 'B004TU2WYO'],\n",
       "      dtype='object', name='asin', length=890602)"
      ]
     },
     "execution_count": 194,
     "metadata": {},
     "output_type": "execute_result"
    }
   ],
   "source": [
    "remove_these"
   ]
  },
  {
   "cell_type": "markdown",
   "metadata": {},
   "source": [
    "### 2.2.2 Columns 'reviewText' and 'summary' Combining"
   ]
  },
  {
   "cell_type": "markdown",
   "metadata": {},
   "source": [
    "In this section, books review dataset will be trimmed down to remove any unnessecery features.  <br> Our primary goal is to reduce the overall size of the dataset.  <br>Our dataset is currently broken down into 14 chunks at the moment.\n",
    "\n",
    "**Low Review Count ASIN will be removed in this section as well.**"
   ]
  },
  {
   "cell_type": "code",
   "execution_count": 355,
   "metadata": {},
   "outputs": [],
   "source": [
    "#this codes will be reused for all the categories so better to call it as method\n",
    "\n",
    "\"\"\"\n",
    "Finds unique lengths of data values\n",
    "\n",
    "Takes in Pandas Series and outputs unique lengths in the series\n",
    "\"\"\"\n",
    "\n",
    "def findUniqueLength(srs):\n",
    "    \n",
    "    return set([len(x) for x in srs])\n",
    "    \n",
    "\n",
    "\"\"\"\n",
    "Analyzes review dataset for null\n",
    "\n",
    "Takes in dataframe and outputs various null and valid related information\n",
    "\n",
    "\"\"\"\n",
    "\n",
    "def analyzeNull(df):\n",
    "    \n",
    "    print('Unique overall values: ',df.overall.unique())\n",
    "\n",
    "    print('ASIN value lengths: ',findUniqueLength(df.asin))\n",
    "    \n",
    "    \n",
    "    #print('Example of valid title data: \\n',df.title.values[:1])\n",
    "    print('Any empty string title values: ',len(df.loc[df.title == ''].title))\n",
    "\n",
    "    print('\\n')\n",
    "    #print('Examples of valid reviewText data: \\n',df.reviewText.values[:1])\n",
    "    print('Any empty string reviewText values: ',len(df.loc[df.reviewText == ''].reviewText))\n",
    "\n",
    "    print('\\n')\n",
    "    #print('Examples of valid summary data: \\n',df.summary.values[:1])\n",
    "    print('Any empty string summary values: ', len(df.loc[df.summary == ''].summary))\n",
    "\n",
    "def analyzeReview(df):\n",
    "    \n",
    "\n",
    "    print('Any empty string review values: ',len(df.loc[df.review == ''].review))\n",
    "\n",
    "def analyzeEmptyTitle(df):\n",
    "    \n",
    "    empty_title = df.loc[df.title == '']\n",
    "    \n",
    "    print('Any empty string title values: ',len(empty_title.title))\n",
    "    \n",
    "    \n",
    "    uniq = empty_title.asin.unique()\n",
    "    print('How many unique ASIN with empty title: ',len(uniq))\n",
    "    \n",
    "    in_df = df.loc[df.asin.isin(uniq)]\n",
    "    print('Are there other reviews to pull title from: ',len(in_df.loc[in_df.title!='']))"
   ]
  },
  {
   "cell_type": "markdown",
   "metadata": {},
   "source": [
    "#### Chunk1 : re_b1"
   ]
  },
  {
   "cell_type": "code",
   "execution_count": 256,
   "metadata": {},
   "outputs": [
    {
     "name": "stdout",
     "output_type": "stream",
     "text": [
      "<class 'pandas.core.frame.DataFrame'>\n",
      "Int64Index: 939056 entries, 0 to 939055\n",
      "Data columns (total 10 columns):\n",
      "asin            939056 non-null object\n",
      "title           939056 non-null object\n",
      "price           939056 non-null object\n",
      "reviewerID      939056 non-null object\n",
      "reviewerName    939056 non-null object\n",
      "helpfulness     939056 non-null object\n",
      "overall         939056 non-null object\n",
      "timestamp       939056 non-null object\n",
      "summary         939056 non-null object\n",
      "reviewText      939056 non-null object\n",
      "dtypes: object(10)\n",
      "memory usage: 78.8+ MB\n"
     ]
    }
   ],
   "source": [
    "xaa.info()"
   ]
  },
  {
   "cell_type": "markdown",
   "metadata": {},
   "source": [
    "All the remaining dataset also follows the same structure.  <br> As discussed in previous chapter,**1. Initial Data Exploration**, columns : price, reviewerName, helpfulness, timestamp, will be removed."
   ]
  },
  {
   "cell_type": "code",
   "execution_count": 257,
   "metadata": {},
   "outputs": [],
   "source": [
    "#drop unneeded columns\n",
    "xaa.drop(columns=['price','reviewerName','helpfulness','timestamp'],inplace=True)"
   ]
  },
  {
   "cell_type": "code",
   "execution_count": 265,
   "metadata": {},
   "outputs": [],
   "source": [
    "xaa = xaa[~xaa.asin.isin(remove_these)]"
   ]
  },
  {
   "cell_type": "code",
   "execution_count": 269,
   "metadata": {},
   "outputs": [
    {
     "name": "stdout",
     "output_type": "stream",
     "text": [
      "Unique overall values:  ['5.0' '3.0' '1.0' '4.0' '2.0']\n",
      "ASIN value lengths:  {10}\n",
      "Example of valid title data: \n",
      " ['Night World: Daughters Of Darkness']\n",
      "Any empty string title values:  0\n",
      "\n",
      "\n",
      "Examples of valid reviewText data: \n",
      " ['This is 1 of da bst books dat i have EVER read! @ my school, we are doing a play on this & im playin Mary-Lynette. i cant wait 2 get to the last chapters when they finally give in 2 each other! Gr8 books!']\n",
      "Any empty string reviewText values:  1\n",
      "\n",
      "\n",
      "Examples of valid summary data: \n",
      " ['BEST BOOK EVER!!']\n",
      "Any empty string summary values:  3\n"
     ]
    }
   ],
   "source": [
    "analyzeNull(xaa)"
   ]
  },
  {
   "cell_type": "markdown",
   "metadata": {},
   "source": [
    "At the later stages of the project, summary and reviewText fields will be used in CountVectorizer to create a similarity matrix.<br> Therefore, it is important to have either one of reviewText or summary column populated. \n",
    "\n",
    "\n",
    "As there are no distinction between the reviewText and summary, the two columns will first be combined into one and then removed if the combined field is also empty.\n"
   ]
  },
  {
   "cell_type": "code",
   "execution_count": 270,
   "metadata": {},
   "outputs": [],
   "source": [
    "#combine the two columns\n",
    "xaa[\"review\"] = xaa[\"reviewText\"] + xaa[\"summary\"]"
   ]
  },
  {
   "cell_type": "code",
   "execution_count": 272,
   "metadata": {},
   "outputs": [
    {
     "name": "stdout",
     "output_type": "stream",
     "text": [
      "Example of valid review data: \n",
      " ['This is 1 of da bst books dat i have EVER read! @ my school, we are doing a play on this & im playin Mary-Lynette. i cant wait 2 get to the last chapters when they finally give in 2 each other! Gr8 books!BEST BOOK EVER!!']\n",
      "Any empty string review values:  0\n"
     ]
    }
   ],
   "source": [
    "analyzeReview(xaa)"
   ]
  },
  {
   "cell_type": "code",
   "execution_count": 273,
   "metadata": {},
   "outputs": [],
   "source": [
    "#drop reviewText, summary columns\n",
    "xaa.drop(columns=['reviewText','summary'],inplace=True)"
   ]
  },
  {
   "cell_type": "code",
   "execution_count": 274,
   "metadata": {},
   "outputs": [
    {
     "name": "stdout",
     "output_type": "stream",
     "text": [
      "<class 'pandas.core.frame.DataFrame'>\n",
      "Int64Index: 559361 entries, 391 to 939030\n",
      "Data columns (total 5 columns):\n",
      "asin          559361 non-null object\n",
      "title         559361 non-null object\n",
      "reviewerID    559361 non-null object\n",
      "overall       559361 non-null object\n",
      "review        559361 non-null object\n",
      "dtypes: object(5)\n",
      "memory usage: 25.6+ MB\n"
     ]
    }
   ],
   "source": [
    "xaa.info()"
   ]
  },
  {
   "cell_type": "markdown",
   "metadata": {},
   "source": [
    "**The same process will be repeated for the remaining 13 chunks.**"
   ]
  },
  {
   "cell_type": "markdown",
   "metadata": {},
   "source": [
    "#### Chunk2 : re_b2"
   ]
  },
  {
   "cell_type": "code",
   "execution_count": 334,
   "metadata": {},
   "outputs": [
    {
     "name": "stdout",
     "output_type": "stream",
     "text": [
      "<class 'pandas.core.frame.DataFrame'>\n",
      "Int64Index: 937222 entries, 0 to 937221\n",
      "Data columns (total 10 columns):\n",
      "asin            937222 non-null object\n",
      "title           937222 non-null object\n",
      "price           937222 non-null object\n",
      "reviewerID      937222 non-null object\n",
      "reviewerName    937222 non-null object\n",
      "helpfulness     937222 non-null object\n",
      "overall         937222 non-null object\n",
      "timestamp       937222 non-null object\n",
      "summary         937222 non-null object\n",
      "reviewText      937222 non-null object\n",
      "dtypes: object(10)\n",
      "memory usage: 78.7+ MB\n"
     ]
    }
   ],
   "source": [
    "xab.info()"
   ]
  },
  {
   "cell_type": "code",
   "execution_count": 335,
   "metadata": {},
   "outputs": [],
   "source": [
    "#drop unneeded columns\n",
    "xab.drop(columns=['price','reviewerName','helpfulness','timestamp'],inplace=True)\n",
    "\n",
    "#remove low count reviews\n",
    "xab = xab[~xab.asin.isin(remove_these)]"
   ]
  },
  {
   "cell_type": "code",
   "execution_count": 336,
   "metadata": {},
   "outputs": [
    {
     "name": "stdout",
     "output_type": "stream",
     "text": [
      "Unique overall values:  ['5.0' '3.0' '2.0' '4.0' '1.0']\n",
      "ASIN value lengths:  {10}\n",
      "Example of valid title data: \n",
      " ['Dead Run (Monkeewrench Series)']\n",
      "Any empty string title values:  185\n",
      "\n",
      "\n",
      "Examples of valid reviewText data: \n",
      " [\"First, this is a thriller not a mystery. It's a -- Can the good guys escape trouble themselves and stop the bad guys in time -- type of book. Second, the characters are way overblown, in the James Bond or Indianna Jones tradition. And they are not people I felt close to or felt like I even knew very well. But all of that said, it's a quick and entertaining, well written book.\"]\n",
      "Any empty string reviewText values:  3\n",
      "\n",
      "\n",
      "Examples of valid summary data: \n",
      " ['entertaining though overblown']\n",
      "Any empty string summary values:  3\n"
     ]
    }
   ],
   "source": [
    "analyzeNull(xab)"
   ]
  },
  {
   "cell_type": "code",
   "execution_count": 337,
   "metadata": {},
   "outputs": [
    {
     "name": "stdout",
     "output_type": "stream",
     "text": [
      "Any empty string title values:  185\n",
      "How many unique ASIN with empty title:  1\n",
      "Are there other reviews to pull title from:  0\n"
     ]
    }
   ],
   "source": [
    "analyzeEmptyTitle(xab)"
   ]
  },
  {
   "cell_type": "markdown",
   "metadata": {},
   "source": [
    "Empty title is something that needs to be dealt.  If we have other reviews with an title and ASIN that corresponds to the ASIN with missing titles, we will be able to fill it.  <br> If found, this will be filled. Otherwise, the ASIN will be saved as missing titles list for later."
   ]
  },
  {
   "cell_type": "code",
   "execution_count": 338,
   "metadata": {},
   "outputs": [],
   "source": [
    "#this will be our missing title list\n",
    "missing_title_asin = []\n",
    "missing_title_asin.append(xab.loc[xab.title==''].asin.unique()[0])"
   ]
  },
  {
   "cell_type": "code",
   "execution_count": 340,
   "metadata": {},
   "outputs": [
    {
     "name": "stdout",
     "output_type": "stream",
     "text": [
      "Example of valid review data: \n",
      " [\"First, this is a thriller not a mystery. It's a -- Can the good guys escape trouble themselves and stop the bad guys in time -- type of book. Second, the characters are way overblown, in the James Bond or Indianna Jones tradition. And they are not people I felt close to or felt like I even knew very well. But all of that said, it's a quick and entertaining, well written book.entertaining though overblown\"]\n",
      "Any empty string review values:  0\n"
     ]
    }
   ],
   "source": [
    "#combine the two columns\n",
    "xab[\"review\"] = xab[\"reviewText\"] + xab[\"summary\"]\n",
    "\n",
    "analyzeReview(xab)"
   ]
  },
  {
   "cell_type": "code",
   "execution_count": 341,
   "metadata": {},
   "outputs": [
    {
     "name": "stdout",
     "output_type": "stream",
     "text": [
      "<class 'pandas.core.frame.DataFrame'>\n",
      "Int64Index: 550043 entries, 2 to 937221\n",
      "Data columns (total 5 columns):\n",
      "asin          550043 non-null object\n",
      "title         550043 non-null object\n",
      "reviewerID    550043 non-null object\n",
      "overall       550043 non-null object\n",
      "review        550043 non-null object\n",
      "dtypes: object(5)\n",
      "memory usage: 25.2+ MB\n"
     ]
    }
   ],
   "source": [
    "#drop reviewText, summary columns\n",
    "xab.drop(columns=['reviewText','summary'],inplace=True)\n",
    "\n",
    "xab.info()"
   ]
  },
  {
   "cell_type": "markdown",
   "metadata": {},
   "source": [
    "#### Chunk3 : re_b3"
   ]
  },
  {
   "cell_type": "code",
   "execution_count": 319,
   "metadata": {},
   "outputs": [
    {
     "name": "stdout",
     "output_type": "stream",
     "text": [
      "<class 'pandas.core.frame.DataFrame'>\n",
      "Int64Index: 933052 entries, 0 to 933051\n",
      "Data columns (total 10 columns):\n",
      "asin            933052 non-null object\n",
      "title           933052 non-null object\n",
      "price           933052 non-null object\n",
      "reviewerID      933052 non-null object\n",
      "reviewerName    933052 non-null object\n",
      "helpfulness     933052 non-null object\n",
      "overall         933052 non-null object\n",
      "timestamp       933052 non-null object\n",
      "summary         933052 non-null object\n",
      "reviewText      933052 non-null object\n",
      "dtypes: object(10)\n",
      "memory usage: 78.3+ MB\n"
     ]
    }
   ],
   "source": [
    "xac.info()"
   ]
  },
  {
   "cell_type": "code",
   "execution_count": 320,
   "metadata": {},
   "outputs": [],
   "source": [
    "#drop unneeded columns\n",
    "xac.drop(columns=['price','reviewerName','helpfulness','timestamp'],inplace=True)\n",
    "\n",
    "#remove low count reviews\n",
    "xac = xac[~xac.asin.isin(remove_these)]"
   ]
  },
  {
   "cell_type": "code",
   "execution_count": 321,
   "metadata": {},
   "outputs": [
    {
     "name": "stdout",
     "output_type": "stream",
     "text": [
      "Unique overall values:  ['4.0' '5.0' '2.0' '3.0' '1.0']\n",
      "ASIN value lengths:  {10}\n",
      "Example of valid title data: \n",
      " ['Heart of Darkness. (Heritage Club Series)']\n",
      "Any empty string title values:  0\n",
      "\n",
      "\n",
      "Examples of valid reviewText data: \n",
      " [\"I'm not going to review of Conrad's actual work. Too much ink has been spilled on that. I just want to give my thoughts on the free kindle edition.Since it's free, you can't argue with the price. However, you sort of get what you pay for. The chapters are not keyed, making navigation a tad more difficult. This lack is almost a non-issue, however, since the book is so short. The text also contains quite a few typos. Most damaging to the reading experience is the somewhat sloppy paragraphing.These issues are minor, though. Since this edition is free, one shouldn't expect a pristine text.\"]\n",
      "Any empty string reviewText values:  2\n",
      "\n",
      "\n",
      "Examples of valid summary data: \n",
      " ['Review of the Free Kindle Edition']\n",
      "Any empty string summary values:  4\n"
     ]
    }
   ],
   "source": [
    "analyzeNull(xac)"
   ]
  },
  {
   "cell_type": "code",
   "execution_count": 322,
   "metadata": {},
   "outputs": [
    {
     "name": "stdout",
     "output_type": "stream",
     "text": [
      "Example of valid review data: \n",
      " [\"I'm not going to review of Conrad's actual work. Too much ink has been spilled on that. I just want to give my thoughts on the free kindle edition.Since it's free, you can't argue with the price. However, you sort of get what you pay for. The chapters are not keyed, making navigation a tad more difficult. This lack is almost a non-issue, however, since the book is so short. The text also contains quite a few typos. Most damaging to the reading experience is the somewhat sloppy paragraphing.These issues are minor, though. Since this edition is free, one shouldn't expect a pristine text.Review of the Free Kindle Edition\"]\n",
      "Any empty string review values:  0\n"
     ]
    }
   ],
   "source": [
    "#combine the two columns\n",
    "xac[\"review\"] = xac[\"reviewText\"] + xac[\"summary\"]\n",
    "\n",
    "analyzeReview(xac)"
   ]
  },
  {
   "cell_type": "code",
   "execution_count": 323,
   "metadata": {},
   "outputs": [
    {
     "name": "stdout",
     "output_type": "stream",
     "text": [
      "<class 'pandas.core.frame.DataFrame'>\n",
      "Int64Index: 538063 entries, 0 to 933051\n",
      "Data columns (total 5 columns):\n",
      "asin          538063 non-null object\n",
      "title         538063 non-null object\n",
      "reviewerID    538063 non-null object\n",
      "overall       538063 non-null object\n",
      "review        538063 non-null object\n",
      "dtypes: object(5)\n",
      "memory usage: 24.6+ MB\n"
     ]
    }
   ],
   "source": [
    "#drop reviewText, summary columns\n",
    "xac.drop(columns=['reviewText','summary'],inplace=True)\n",
    "\n",
    "xac.info()"
   ]
  },
  {
   "cell_type": "markdown",
   "metadata": {},
   "source": [
    "#### Chunk4 : re_b4"
   ]
  },
  {
   "cell_type": "code",
   "execution_count": 327,
   "metadata": {},
   "outputs": [
    {
     "name": "stdout",
     "output_type": "stream",
     "text": [
      "<class 'pandas.core.frame.DataFrame'>\n",
      "Int64Index: 937273 entries, 0 to 937272\n",
      "Data columns (total 10 columns):\n",
      "asin            937273 non-null object\n",
      "title           937273 non-null object\n",
      "price           937273 non-null object\n",
      "reviewerID      937273 non-null object\n",
      "reviewerName    937273 non-null object\n",
      "helpfulness     937273 non-null object\n",
      "overall         937273 non-null object\n",
      "timestamp       937273 non-null object\n",
      "summary         937273 non-null object\n",
      "reviewText      937273 non-null object\n",
      "dtypes: object(10)\n",
      "memory usage: 78.7+ MB\n"
     ]
    }
   ],
   "source": [
    "xad.info()"
   ]
  },
  {
   "cell_type": "code",
   "execution_count": 328,
   "metadata": {},
   "outputs": [
    {
     "name": "stdout",
     "output_type": "stream",
     "text": [
      "Unique overall values:  ['5.0' '4.0' '3.0' '2.0' '1.0']\n",
      "ASIN value lengths:  {10}\n",
      "Example of valid title data: \n",
      " ['The Surrendered Wife: A Practical Guide To Finding Intimacy, Passion and Peace']\n",
      "Any empty string title values:  100\n",
      "\n",
      "\n",
      "Examples of valid reviewText data: \n",
      " [\"Here's a question for you: do you think men and women have the same temperament and needs?This book is not based on equality (although the author is all for equality in the workplace and equal pay for equal work). It's based on the differencess between men and women. In my life experience and in reading, I believe the majority of men and women do have different needs.I don't mean that as a blanket statement in every case... there is a wide variety in nature. Some men have high sex drives, some have low sex drives, some men are more androgynous and would probably prefer a marriage based on equality rather than differences. I celebrate variety in life.Some books that have led me to the conclusion that men and women have different needs (besides my own life experience).....Self-Made Man: One Woman's Year Disguised as a Manwhich is about a butch gay woman masquerading as a man for over a year. She felt emotionally stifled taking on a man's role in life even though she was considered to be a masculine woman. Her end conclusion: men and women are very different in temperament and needs. (It's a good book, I recommend it.)AlsoThe Social Animal: The Hidden Sources of Love, Character, and Achievementsays that the difference between a man's DNA and a woman's DNA is 2% which is the same difference as between a woman and a chimpanzee! Now I don't know if that statistic he ciited is true, but it does indicated a genetic difference. Now people hate to talk about genetic differences because it is ammunition for keeping women down in the workplace... but I'm just putting that out there that biologically & genetically we are not identical.Okay, now let's talk about the book Surrendered Wife.I found her writing style to be cryatal clear and I loved all the examples she used. Mostly the book focuses on not nagging and controlling. I'm not married, but in my parents marriage (married 40 years) my Mother was never a nag so I didn't pick up those type of habits. But she wasn't very supportive either.... so the messages I was looking for had more to do with support and encouragement. As I said, the book focuses on nagging and controlling, but has some tidbits about appreciation, too, tucked away.Overall, I really liked the book and I thought it made sense to give your husband respect and space.The idea of sexual obligation (at least 1x a week) makes sense because the marriage is supposed to be the only sexual union, so if you don't have that regularly what is the difference between a marriage and a friendship?Another book in a similar vein that I want to read isThe Proper Care and Feeding of Husbands. I read the companion book Woman Power which was the same in tone as Surrendered Wife, but Woman Power is really just a workbook for the other book.There is a chapter on God in this book and Laura Doyle says it will be hard to surrender if you are an atheist. I'm an atheist and I don't think that contradicts at all. Atheists don't believe in an afterlife, so all we have is the here and now. This moment right now is our heaven.... so why wouldn't we want to make it as harmonious as possible?I'm grateful for Laura Doyle for the courage to write this book.\"]\n",
      "Any empty string reviewText values:  2\n",
      "\n",
      "\n",
      "Examples of valid summary data: \n",
      " ['Different Needs']\n",
      "Any empty string summary values:  5\n"
     ]
    }
   ],
   "source": [
    "#drop unneeded columns\n",
    "xad.drop(columns=['price','reviewerName','helpfulness','timestamp'],inplace=True)\n",
    "\n",
    "#remove low count reviews\n",
    "xad = xad[~xad.asin.isin(remove_these)]\n",
    "\n",
    "analyzeNull(xad)"
   ]
  },
  {
   "cell_type": "code",
   "execution_count": 329,
   "metadata": {},
   "outputs": [
    {
     "name": "stdout",
     "output_type": "stream",
     "text": [
      "Any empty string title values:  100\n",
      "How many unique ASIN with empty title:  1\n",
      "Are there other reviews to pull title from:  0\n"
     ]
    }
   ],
   "source": [
    "analyzeEmptyTitle(xad)"
   ]
  },
  {
   "cell_type": "code",
   "execution_count": 343,
   "metadata": {},
   "outputs": [],
   "source": [
    "#append to missing asin list as fix is not possible at this time.\n",
    "missing_title_asin.append(xad.loc[xad.title==''].asin.unique()[0]) #[0] is to save the item only not a list"
   ]
  },
  {
   "cell_type": "code",
   "execution_count": 345,
   "metadata": {},
   "outputs": [
    {
     "name": "stdout",
     "output_type": "stream",
     "text": [
      "Example of valid review data: \n",
      " [\"Here's a question for you: do you think men and women have the same temperament and needs?This book is not based on equality (although the author is all for equality in the workplace and equal pay for equal work). It's based on the differencess between men and women. In my life experience and in reading, I believe the majority of men and women do have different needs.I don't mean that as a blanket statement in every case... there is a wide variety in nature. Some men have high sex drives, some have low sex drives, some men are more androgynous and would probably prefer a marriage based on equality rather than differences. I celebrate variety in life.Some books that have led me to the conclusion that men and women have different needs (besides my own life experience).....Self-Made Man: One Woman's Year Disguised as a Manwhich is about a butch gay woman masquerading as a man for over a year. She felt emotionally stifled taking on a man's role in life even though she was considered to be a masculine woman. Her end conclusion: men and women are very different in temperament and needs. (It's a good book, I recommend it.)AlsoThe Social Animal: The Hidden Sources of Love, Character, and Achievementsays that the difference between a man's DNA and a woman's DNA is 2% which is the same difference as between a woman and a chimpanzee! Now I don't know if that statistic he ciited is true, but it does indicated a genetic difference. Now people hate to talk about genetic differences because it is ammunition for keeping women down in the workplace... but I'm just putting that out there that biologically & genetically we are not identical.Okay, now let's talk about the book Surrendered Wife.I found her writing style to be cryatal clear and I loved all the examples she used. Mostly the book focuses on not nagging and controlling. I'm not married, but in my parents marriage (married 40 years) my Mother was never a nag so I didn't pick up those type of habits. But she wasn't very supportive either.... so the messages I was looking for had more to do with support and encouragement. As I said, the book focuses on nagging and controlling, but has some tidbits about appreciation, too, tucked away.Overall, I really liked the book and I thought it made sense to give your husband respect and space.The idea of sexual obligation (at least 1x a week) makes sense because the marriage is supposed to be the only sexual union, so if you don't have that regularly what is the difference between a marriage and a friendship?Another book in a similar vein that I want to read isThe Proper Care and Feeding of Husbands. I read the companion book Woman Power which was the same in tone as Surrendered Wife, but Woman Power is really just a workbook for the other book.There is a chapter on God in this book and Laura Doyle says it will be hard to surrender if you are an atheist. I'm an atheist and I don't think that contradicts at all. Atheists don't believe in an afterlife, so all we have is the here and now. This moment right now is our heaven.... so why wouldn't we want to make it as harmonious as possible?I'm grateful for Laura Doyle for the courage to write this book.Different Needs\"]\n",
      "Any empty string review values:  0\n"
     ]
    }
   ],
   "source": [
    "#combine the two columns\n",
    "xad[\"review\"] = xad[\"reviewText\"] + xad[\"summary\"]\n",
    "\n",
    "analyzeReview(xad)"
   ]
  },
  {
   "cell_type": "code",
   "execution_count": 346,
   "metadata": {},
   "outputs": [
    {
     "name": "stdout",
     "output_type": "stream",
     "text": [
      "<class 'pandas.core.frame.DataFrame'>\n",
      "Int64Index: 571565 entries, 0 to 936847\n",
      "Data columns (total 5 columns):\n",
      "asin          571565 non-null object\n",
      "title         571565 non-null object\n",
      "reviewerID    571565 non-null object\n",
      "overall       571565 non-null object\n",
      "review        571565 non-null object\n",
      "dtypes: object(5)\n",
      "memory usage: 26.2+ MB\n"
     ]
    }
   ],
   "source": [
    "#drop reviewText, summary columns\n",
    "xad.drop(columns=['reviewText','summary'],inplace=True)\n",
    "\n",
    "xad.info()"
   ]
  },
  {
   "cell_type": "markdown",
   "metadata": {},
   "source": [
    "#### Chunk5 : re_b5"
   ]
  },
  {
   "cell_type": "code",
   "execution_count": 353,
   "metadata": {},
   "outputs": [
    {
     "name": "stdout",
     "output_type": "stream",
     "text": [
      "<class 'pandas.core.frame.DataFrame'>\n",
      "Int64Index: 938624 entries, 0 to 938623\n",
      "Data columns (total 10 columns):\n",
      "asin            938624 non-null object\n",
      "title           938624 non-null object\n",
      "price           938624 non-null object\n",
      "reviewerID      938624 non-null object\n",
      "reviewerName    938624 non-null object\n",
      "helpfulness     938624 non-null object\n",
      "overall         938624 non-null object\n",
      "timestamp       938624 non-null object\n",
      "summary         938624 non-null object\n",
      "reviewText      938624 non-null object\n",
      "dtypes: object(10)\n",
      "memory usage: 78.8+ MB\n"
     ]
    }
   ],
   "source": [
    "xae.info()"
   ]
  },
  {
   "cell_type": "code",
   "execution_count": 354,
   "metadata": {},
   "outputs": [
    {
     "name": "stdout",
     "output_type": "stream",
     "text": [
      "Unique overall values:  ['5.0' '3.0' '4.0' '1.0' '2.0']\n",
      "ASIN value lengths:  {10}\n",
      "Example of valid title data: \n",
      " ['Absalom, Absalom! (100 Greatest Masterpieces of American Literature)']\n",
      "Any empty string title values:  0\n",
      "\n",
      "\n",
      "Examples of valid reviewText data: \n",
      " ['Imagine a line drawn in red dust. A stick dragging through creates mounds on either side that are too small to appreciate. Then the men: people, a conglomeration of classes and sexes, with race usually being white, walking on either side of the line. Then they are standing, yelling curt insults and blasphemies at each other....This sad situation best describes critical appraisal of William Faulkner and his novels. I find myself one of his supporters, though to tell the truth I understand why others don\\'t like him and I can understand their aversion to him. First of all, it isn\\'t that they are less intelligent than Faulkner fans, (V. Nabokov, one of the best literary minds of the 20th century, hated Faulkner\\'s works and called them \"Corn Cobb Chronicles\") or that they don\\'t understand the plots. The problem differs for each, and once again I can\\'t blame them....Unnecessary Difficulty is the most often complaint, in fact its the only complaint I can think of off the top of my head. Let me start by saying this book is at heart a mystery story. Quentin Compson is about to go to college, but before he does, Ms. Rosa Coldfield, now nearing the age of ninety, begins telling Quetin a story about a man who tried to create a dynasty in the south before the Civil War. This first part of the story begins Quentin on a quest to find out just what happened to him, and what motivated him....This is Straight-forward enough, given that each source he goes to (Rosa, his father Jason, and his Canadian room mate) have differing personalities and motivations. So there is in fact little challenge to those that can think for themselves about what will happen in the book. So, what can Faulkner do? Simple, the same pompous style that would become the bane for readers for years to come can be utilized here as an artistic tool that provides simultanously the theme and the mood for this great novel. Those that can keep this in mind may come out with a sense of awe when they finish those final words and the inherent revelation that was staring them in the face the whole time....What effect does all this acheive? A sense that the book we\\'re reading becomes a strange work of art both modern and ancient. A sense that the weight of our book comes from it\\'s pulp and the dust that had settled on it. The first effect is Bafflement, then Embattlement, and finally Beauty.']\n",
      "Any empty string reviewText values:  0\n",
      "\n",
      "\n",
      "Examples of valid summary data: \n",
      " [\"The Emporer's Clothing\"]\n",
      "Any empty string summary values:  3\n"
     ]
    }
   ],
   "source": [
    "#drop unneeded columns\n",
    "xae.drop(columns=['price','reviewerName','helpfulness','timestamp'],inplace=True)\n",
    "\n",
    "#remove low count reviews\n",
    "xae = xae[~xae.asin.isin(remove_these)]\n",
    "\n",
    "analyzeNull(xae)"
   ]
  },
  {
   "cell_type": "code",
   "execution_count": 356,
   "metadata": {},
   "outputs": [
    {
     "name": "stdout",
     "output_type": "stream",
     "text": [
      "Any empty string review values:  0\n"
     ]
    }
   ],
   "source": [
    "#combine the two columns\n",
    "xae[\"review\"] = xae[\"reviewText\"] + xae[\"summary\"]\n",
    "\n",
    "analyzeReview(xae)"
   ]
  },
  {
   "cell_type": "code",
   "execution_count": 357,
   "metadata": {},
   "outputs": [
    {
     "name": "stdout",
     "output_type": "stream",
     "text": [
      "<class 'pandas.core.frame.DataFrame'>\n",
      "Int64Index: 578301 entries, 298 to 938512\n",
      "Data columns (total 5 columns):\n",
      "asin          578301 non-null object\n",
      "title         578301 non-null object\n",
      "reviewerID    578301 non-null object\n",
      "overall       578301 non-null object\n",
      "review        578301 non-null object\n",
      "dtypes: object(5)\n",
      "memory usage: 26.5+ MB\n"
     ]
    }
   ],
   "source": [
    "#drop reviewText, summary columns\n",
    "xae.drop(columns=['reviewText','summary'],inplace=True)\n",
    "\n",
    "xae.info()"
   ]
  },
  {
   "cell_type": "markdown",
   "metadata": {},
   "source": [
    "#### Chunk6 : re_b6"
   ]
  },
  {
   "cell_type": "code",
   "execution_count": 358,
   "metadata": {},
   "outputs": [
    {
     "name": "stdout",
     "output_type": "stream",
     "text": [
      "<class 'pandas.core.frame.DataFrame'>\n",
      "Int64Index: 935959 entries, 0 to 935958\n",
      "Data columns (total 10 columns):\n",
      "asin            935959 non-null object\n",
      "title           935959 non-null object\n",
      "price           935959 non-null object\n",
      "reviewerID      935959 non-null object\n",
      "reviewerName    935959 non-null object\n",
      "helpfulness     935959 non-null object\n",
      "overall         935959 non-null object\n",
      "timestamp       935959 non-null object\n",
      "summary         935959 non-null object\n",
      "reviewText      935959 non-null object\n",
      "dtypes: object(10)\n",
      "memory usage: 78.5+ MB\n"
     ]
    }
   ],
   "source": [
    "xaf.info()"
   ]
  },
  {
   "cell_type": "code",
   "execution_count": 359,
   "metadata": {},
   "outputs": [
    {
     "name": "stdout",
     "output_type": "stream",
     "text": [
      "Unique overall values:  ['1.0' '5.0' '4.0' '3.0' '2.0']\n",
      "ASIN value lengths:  {10}\n",
      "Any empty string title values:  0\n",
      "\n",
      "\n",
      "Any empty string reviewText values:  0\n",
      "\n",
      "\n",
      "Any empty string summary values:  2\n"
     ]
    }
   ],
   "source": [
    "#drop unneeded columns\n",
    "xaf.drop(columns=['price','reviewerName','helpfulness','timestamp'],inplace=True)\n",
    "\n",
    "#remove low count reviews\n",
    "xaf = xaf[~xaf.asin.isin(remove_these)]\n",
    "\n",
    "analyzeNull(xaf)"
   ]
  },
  {
   "cell_type": "code",
   "execution_count": 360,
   "metadata": {},
   "outputs": [
    {
     "name": "stdout",
     "output_type": "stream",
     "text": [
      "Any empty string review values:  0\n"
     ]
    }
   ],
   "source": [
    "#combine the two columns\n",
    "xaf[\"review\"] = xaf[\"reviewText\"] + xaf[\"summary\"]\n",
    "\n",
    "analyzeReview(xaf)"
   ]
  },
  {
   "cell_type": "code",
   "execution_count": 361,
   "metadata": {},
   "outputs": [
    {
     "name": "stdout",
     "output_type": "stream",
     "text": [
      "<class 'pandas.core.frame.DataFrame'>\n",
      "Int64Index: 561844 entries, 316 to 935734\n",
      "Data columns (total 5 columns):\n",
      "asin          561844 non-null object\n",
      "title         561844 non-null object\n",
      "reviewerID    561844 non-null object\n",
      "overall       561844 non-null object\n",
      "review        561844 non-null object\n",
      "dtypes: object(5)\n",
      "memory usage: 25.7+ MB\n"
     ]
    }
   ],
   "source": [
    "#drop reviewText, summary columns\n",
    "xaf.drop(columns=['reviewText','summary'],inplace=True)\n",
    "\n",
    "xaf.info()"
   ]
  },
  {
   "cell_type": "markdown",
   "metadata": {},
   "source": [
    "#### Chunk7 : re_b7"
   ]
  },
  {
   "cell_type": "code",
   "execution_count": 371,
   "metadata": {},
   "outputs": [
    {
     "name": "stdout",
     "output_type": "stream",
     "text": [
      "<class 'pandas.core.frame.DataFrame'>\n",
      "Int64Index: 940691 entries, 0 to 940690\n",
      "Data columns (total 10 columns):\n",
      "asin            940691 non-null object\n",
      "title           940691 non-null object\n",
      "price           940691 non-null object\n",
      "reviewerID      940691 non-null object\n",
      "reviewerName    940691 non-null object\n",
      "helpfulness     940691 non-null object\n",
      "overall         940691 non-null object\n",
      "timestamp       940691 non-null object\n",
      "summary         940691 non-null object\n",
      "reviewText      940691 non-null object\n",
      "dtypes: object(10)\n",
      "memory usage: 78.9+ MB\n"
     ]
    }
   ],
   "source": [
    "xag.info()"
   ]
  },
  {
   "cell_type": "code",
   "execution_count": 372,
   "metadata": {},
   "outputs": [
    {
     "name": "stdout",
     "output_type": "stream",
     "text": [
      "Unique overall values:  ['5.0' '3.0' '4.0' '2.0' '1.0']\n",
      "ASIN value lengths:  {10}\n",
      "Any empty string title values:  194\n",
      "\n",
      "\n",
      "Any empty string reviewText values:  0\n",
      "\n",
      "\n",
      "Any empty string summary values:  7\n"
     ]
    }
   ],
   "source": [
    "#drop unneeded columns\n",
    "xag.drop(columns=['price','reviewerName','helpfulness','timestamp'],inplace=True)\n",
    "\n",
    "#remove low count reviews\n",
    "xag = xag[~xag.asin.isin(remove_these)]\n",
    "\n",
    "analyzeNull(xag)"
   ]
  },
  {
   "cell_type": "code",
   "execution_count": 373,
   "metadata": {},
   "outputs": [
    {
     "name": "stdout",
     "output_type": "stream",
     "text": [
      "Any empty string title values:  194\n",
      "How many unique ASIN with empty title:  2\n",
      "Are there other reviews to pull title from:  0\n"
     ]
    }
   ],
   "source": [
    "analyzeEmptyTitle(xag)"
   ]
  },
  {
   "cell_type": "code",
   "execution_count": 379,
   "metadata": {},
   "outputs": [],
   "source": [
    "#append to missing asin list as fix is not possible at this time.\n",
    "missing_title_asin.append(xag.loc[xag.title==''].asin.unique()[0]) #[0] is to save the item only not a list\n",
    "missing_title_asin.append(xag.loc[xag.title==''].asin.unique()[1])"
   ]
  },
  {
   "cell_type": "code",
   "execution_count": 381,
   "metadata": {},
   "outputs": [
    {
     "name": "stdout",
     "output_type": "stream",
     "text": [
      "Any empty string review values:  0\n"
     ]
    }
   ],
   "source": [
    "#combine the two columns\n",
    "xag[\"review\"] = xag[\"reviewText\"] + xag[\"summary\"]\n",
    "\n",
    "analyzeReview(xag)"
   ]
  },
  {
   "cell_type": "code",
   "execution_count": 382,
   "metadata": {},
   "outputs": [
    {
     "name": "stdout",
     "output_type": "stream",
     "text": [
      "<class 'pandas.core.frame.DataFrame'>\n",
      "Int64Index: 567496 entries, 66 to 940690\n",
      "Data columns (total 5 columns):\n",
      "asin          567496 non-null object\n",
      "title         567496 non-null object\n",
      "reviewerID    567496 non-null object\n",
      "overall       567496 non-null object\n",
      "review        567496 non-null object\n",
      "dtypes: object(5)\n",
      "memory usage: 26.0+ MB\n"
     ]
    }
   ],
   "source": [
    "#drop reviewText, summary columns\n",
    "xag.drop(columns=['reviewText','summary'],inplace=True)\n",
    "\n",
    "xag.info()"
   ]
  },
  {
   "cell_type": "markdown",
   "metadata": {},
   "source": [
    "#### Chunk8 : re_b8"
   ]
  },
  {
   "cell_type": "code",
   "execution_count": 383,
   "metadata": {},
   "outputs": [
    {
     "name": "stdout",
     "output_type": "stream",
     "text": [
      "<class 'pandas.core.frame.DataFrame'>\n",
      "Int64Index: 948660 entries, 0 to 948659\n",
      "Data columns (total 10 columns):\n",
      "asin            948660 non-null object\n",
      "title           948660 non-null object\n",
      "price           948660 non-null object\n",
      "reviewerID      948660 non-null object\n",
      "reviewerName    948660 non-null object\n",
      "helpfulness     948660 non-null object\n",
      "overall         948660 non-null object\n",
      "timestamp       948660 non-null object\n",
      "summary         948660 non-null object\n",
      "reviewText      948660 non-null object\n",
      "dtypes: object(10)\n",
      "memory usage: 79.6+ MB\n"
     ]
    }
   ],
   "source": [
    "xah.info()"
   ]
  },
  {
   "cell_type": "code",
   "execution_count": 384,
   "metadata": {},
   "outputs": [
    {
     "name": "stdout",
     "output_type": "stream",
     "text": [
      "Unique overall values:  ['5.0' '4.0' '3.0' '2.0' '1.0']\n",
      "ASIN value lengths:  {10}\n",
      "Any empty string title values:  0\n",
      "\n",
      "\n",
      "Any empty string reviewText values:  0\n",
      "\n",
      "\n",
      "Any empty string summary values:  3\n"
     ]
    }
   ],
   "source": [
    "#drop unneeded columns\n",
    "xah.drop(columns=['price','reviewerName','helpfulness','timestamp'],inplace=True)\n",
    "\n",
    "#remove low count reviews\n",
    "xah = xah[~xah.asin.isin(remove_these)]\n",
    "\n",
    "analyzeNull(xah)"
   ]
  },
  {
   "cell_type": "code",
   "execution_count": 385,
   "metadata": {},
   "outputs": [
    {
     "name": "stdout",
     "output_type": "stream",
     "text": [
      "Any empty string review values:  0\n"
     ]
    }
   ],
   "source": [
    "#combine the two columns\n",
    "xah[\"review\"] = xah[\"reviewText\"] + xah[\"summary\"]\n",
    "\n",
    "analyzeReview(xah)"
   ]
  },
  {
   "cell_type": "code",
   "execution_count": 386,
   "metadata": {},
   "outputs": [
    {
     "name": "stdout",
     "output_type": "stream",
     "text": [
      "<class 'pandas.core.frame.DataFrame'>\n",
      "Int64Index: 558092 entries, 0 to 948583\n",
      "Data columns (total 5 columns):\n",
      "asin          558092 non-null object\n",
      "title         558092 non-null object\n",
      "reviewerID    558092 non-null object\n",
      "overall       558092 non-null object\n",
      "review        558092 non-null object\n",
      "dtypes: object(5)\n",
      "memory usage: 25.5+ MB\n"
     ]
    }
   ],
   "source": [
    "#drop reviewText, summary columns\n",
    "xah.drop(columns=['reviewText','summary'],inplace=True)\n",
    "\n",
    "xah.info()"
   ]
  },
  {
   "cell_type": "markdown",
   "metadata": {},
   "source": [
    "#### Chunk9 : re_b9"
   ]
  },
  {
   "cell_type": "code",
   "execution_count": 392,
   "metadata": {},
   "outputs": [
    {
     "name": "stdout",
     "output_type": "stream",
     "text": [
      "<class 'pandas.core.frame.DataFrame'>\n",
      "Int64Index: 946304 entries, 0 to 946303\n",
      "Data columns (total 10 columns):\n",
      "asin            946304 non-null object\n",
      "title           946304 non-null object\n",
      "price           946304 non-null object\n",
      "reviewerID      946304 non-null object\n",
      "reviewerName    946304 non-null object\n",
      "helpfulness     946304 non-null object\n",
      "overall         946304 non-null object\n",
      "timestamp       946304 non-null object\n",
      "summary         946304 non-null object\n",
      "reviewText      946304 non-null object\n",
      "dtypes: object(10)\n",
      "memory usage: 79.4+ MB\n"
     ]
    }
   ],
   "source": [
    "xai.info()"
   ]
  },
  {
   "cell_type": "code",
   "execution_count": 393,
   "metadata": {},
   "outputs": [
    {
     "name": "stdout",
     "output_type": "stream",
     "text": [
      "Unique overall values:  ['3.0' '4.0' '5.0' '1.0' '2.0']\n",
      "ASIN value lengths:  {10}\n",
      "Any empty string title values:  174\n",
      "\n",
      "\n",
      "Any empty string reviewText values:  0\n",
      "\n",
      "\n",
      "Any empty string summary values:  6\n"
     ]
    }
   ],
   "source": [
    "#drop unneeded columns\n",
    "xai.drop(columns=['price','reviewerName','helpfulness','timestamp'],inplace=True)\n",
    "\n",
    "#remove low count reviews\n",
    "xai = xai[~xai.asin.isin(remove_these)]\n",
    "\n",
    "analyzeNull(xai)"
   ]
  },
  {
   "cell_type": "code",
   "execution_count": 394,
   "metadata": {},
   "outputs": [
    {
     "name": "stdout",
     "output_type": "stream",
     "text": [
      "Any empty string title values:  174\n",
      "How many unique ASIN with empty title:  1\n",
      "Are there other reviews to pull title from:  0\n"
     ]
    }
   ],
   "source": [
    "analyzeEmptyTitle(xai)"
   ]
  },
  {
   "cell_type": "code",
   "execution_count": 395,
   "metadata": {},
   "outputs": [
    {
     "data": {
      "text/plain": [
       "['0912411201', '0736668144', '0792734890', 'B00006B6YY', 'B00005WCAQ']"
      ]
     },
     "execution_count": 395,
     "metadata": {},
     "output_type": "execute_result"
    }
   ],
   "source": [
    "#append to missing asin list as fix is not possible at this time.\n",
    "missing_title_asin.append(xai.loc[xai.title==''].asin.unique()[0]) #[0] is to save the item only not a list\n",
    "missing_title_asin"
   ]
  },
  {
   "cell_type": "code",
   "execution_count": 396,
   "metadata": {},
   "outputs": [
    {
     "name": "stdout",
     "output_type": "stream",
     "text": [
      "Any empty string review values:  0\n"
     ]
    }
   ],
   "source": [
    "#combine the two columns\n",
    "xai[\"review\"] = xai[\"reviewText\"] + xai[\"summary\"]\n",
    "\n",
    "analyzeReview(xai)"
   ]
  },
  {
   "cell_type": "code",
   "execution_count": 397,
   "metadata": {},
   "outputs": [
    {
     "name": "stdout",
     "output_type": "stream",
     "text": [
      "<class 'pandas.core.frame.DataFrame'>\n",
      "Int64Index: 589415 entries, 131 to 946303\n",
      "Data columns (total 5 columns):\n",
      "asin          589415 non-null object\n",
      "title         589415 non-null object\n",
      "reviewerID    589415 non-null object\n",
      "overall       589415 non-null object\n",
      "review        589415 non-null object\n",
      "dtypes: object(5)\n",
      "memory usage: 27.0+ MB\n"
     ]
    }
   ],
   "source": [
    "#drop reviewText, summary columns\n",
    "xai.drop(columns=['reviewText','summary'],inplace=True)\n",
    "\n",
    "xai.info()"
   ]
  },
  {
   "cell_type": "markdown",
   "metadata": {},
   "source": [
    "#### Chunk10 : re_b10"
   ]
  },
  {
   "cell_type": "code",
   "execution_count": 398,
   "metadata": {},
   "outputs": [
    {
     "name": "stdout",
     "output_type": "stream",
     "text": [
      "<class 'pandas.core.frame.DataFrame'>\n",
      "Int64Index: 939582 entries, 0 to 939581\n",
      "Data columns (total 10 columns):\n",
      "asin            939582 non-null object\n",
      "title           939582 non-null object\n",
      "price           939582 non-null object\n",
      "reviewerID      939582 non-null object\n",
      "reviewerName    939582 non-null object\n",
      "helpfulness     939582 non-null object\n",
      "overall         939582 non-null object\n",
      "timestamp       939582 non-null object\n",
      "summary         939582 non-null object\n",
      "reviewText      939582 non-null object\n",
      "dtypes: object(10)\n",
      "memory usage: 78.9+ MB\n"
     ]
    }
   ],
   "source": [
    "xaj.info()"
   ]
  },
  {
   "cell_type": "code",
   "execution_count": 399,
   "metadata": {},
   "outputs": [
    {
     "name": "stdout",
     "output_type": "stream",
     "text": [
      "Unique overall values:  ['4.0' '5.0' '3.0' '1.0' '2.0']\n",
      "ASIN value lengths:  {10}\n",
      "Any empty string title values:  0\n",
      "\n",
      "\n",
      "Any empty string reviewText values:  2\n",
      "\n",
      "\n",
      "Any empty string summary values:  1\n"
     ]
    }
   ],
   "source": [
    "#drop unneeded columns\n",
    "xaj.drop(columns=['price','reviewerName','helpfulness','timestamp'],inplace=True)\n",
    "\n",
    "#remove low count reviews\n",
    "xaj = xaj[~xaj.asin.isin(remove_these)]\n",
    "\n",
    "analyzeNull(xaj)"
   ]
  },
  {
   "cell_type": "code",
   "execution_count": 400,
   "metadata": {},
   "outputs": [
    {
     "name": "stdout",
     "output_type": "stream",
     "text": [
      "Any empty string review values:  0\n"
     ]
    }
   ],
   "source": [
    "#combine the two columns\n",
    "xaj[\"review\"] = xaj[\"reviewText\"] + xaj[\"summary\"]\n",
    "\n",
    "analyzeReview(xaj)"
   ]
  },
  {
   "cell_type": "code",
   "execution_count": 401,
   "metadata": {},
   "outputs": [
    {
     "name": "stdout",
     "output_type": "stream",
     "text": [
      "<class 'pandas.core.frame.DataFrame'>\n",
      "Int64Index: 565701 entries, 532 to 939581\n",
      "Data columns (total 5 columns):\n",
      "asin          565701 non-null object\n",
      "title         565701 non-null object\n",
      "reviewerID    565701 non-null object\n",
      "overall       565701 non-null object\n",
      "review        565701 non-null object\n",
      "dtypes: object(5)\n",
      "memory usage: 25.9+ MB\n"
     ]
    }
   ],
   "source": [
    "#drop reviewText, summary columns\n",
    "xaj.drop(columns=['reviewText','summary'],inplace=True)\n",
    "\n",
    "xaj.info()"
   ]
  },
  {
   "cell_type": "markdown",
   "metadata": {},
   "source": [
    "#### Chunk11 : re_b11"
   ]
  },
  {
   "cell_type": "code",
   "execution_count": 410,
   "metadata": {},
   "outputs": [
    {
     "name": "stdout",
     "output_type": "stream",
     "text": [
      "<class 'pandas.core.frame.DataFrame'>\n",
      "Int64Index: 936059 entries, 0 to 936058\n",
      "Data columns (total 10 columns):\n",
      "asin            936059 non-null object\n",
      "title           936059 non-null object\n",
      "price           936059 non-null object\n",
      "reviewerID      936059 non-null object\n",
      "reviewerName    936059 non-null object\n",
      "helpfulness     936059 non-null object\n",
      "overall         936059 non-null object\n",
      "timestamp       936059 non-null object\n",
      "summary         936059 non-null object\n",
      "reviewText      936059 non-null object\n",
      "dtypes: object(10)\n",
      "memory usage: 78.6+ MB\n"
     ]
    }
   ],
   "source": [
    "xak.info()"
   ]
  },
  {
   "cell_type": "code",
   "execution_count": 411,
   "metadata": {},
   "outputs": [
    {
     "name": "stdout",
     "output_type": "stream",
     "text": [
      "Unique overall values:  ['5.0' '4.0' '1.0' '3.0' '2.0']\n",
      "ASIN value lengths:  {10}\n",
      "Any empty string title values:  0\n",
      "\n",
      "\n",
      "Any empty string reviewText values:  3\n",
      "\n",
      "\n",
      "Any empty string summary values:  2\n"
     ]
    }
   ],
   "source": [
    "#drop unneeded columns\n",
    "xak.drop(columns=['price','reviewerName','helpfulness','timestamp'],inplace=True)\n",
    "\n",
    "#remove low count reviews\n",
    "xak = xak[~xak.asin.isin(remove_these)]\n",
    "\n",
    "analyzeNull(xak)"
   ]
  },
  {
   "cell_type": "code",
   "execution_count": 412,
   "metadata": {},
   "outputs": [
    {
     "name": "stdout",
     "output_type": "stream",
     "text": [
      "Any empty string review values:  0\n"
     ]
    }
   ],
   "source": [
    "#combine the two columns\n",
    "xak[\"review\"] = xak[\"reviewText\"] + xak[\"summary\"]\n",
    "\n",
    "analyzeReview(xak)"
   ]
  },
  {
   "cell_type": "code",
   "execution_count": 413,
   "metadata": {},
   "outputs": [
    {
     "name": "stdout",
     "output_type": "stream",
     "text": [
      "<class 'pandas.core.frame.DataFrame'>\n",
      "Int64Index: 543730 entries, 0 to 936058\n",
      "Data columns (total 5 columns):\n",
      "asin          543730 non-null object\n",
      "title         543730 non-null object\n",
      "reviewerID    543730 non-null object\n",
      "overall       543730 non-null object\n",
      "review        543730 non-null object\n",
      "dtypes: object(5)\n",
      "memory usage: 24.9+ MB\n"
     ]
    }
   ],
   "source": [
    "#drop reviewText, summary columns\n",
    "xak.drop(columns=['reviewText','summary'],inplace=True)\n",
    "\n",
    "xak.info()"
   ]
  },
  {
   "cell_type": "markdown",
   "metadata": {},
   "source": [
    "#### Chunk12 : re_b12"
   ]
  },
  {
   "cell_type": "code",
   "execution_count": 414,
   "metadata": {},
   "outputs": [
    {
     "name": "stdout",
     "output_type": "stream",
     "text": [
      "<class 'pandas.core.frame.DataFrame'>\n",
      "Int64Index: 935726 entries, 0 to 935725\n",
      "Data columns (total 10 columns):\n",
      "asin            935726 non-null object\n",
      "title           935726 non-null object\n",
      "price           935726 non-null object\n",
      "reviewerID      935726 non-null object\n",
      "reviewerName    935726 non-null object\n",
      "helpfulness     935726 non-null object\n",
      "overall         935726 non-null object\n",
      "timestamp       935726 non-null object\n",
      "summary         935726 non-null object\n",
      "reviewText      935726 non-null object\n",
      "dtypes: object(10)\n",
      "memory usage: 78.5+ MB\n"
     ]
    }
   ],
   "source": [
    "xal.info()"
   ]
  },
  {
   "cell_type": "code",
   "execution_count": 415,
   "metadata": {},
   "outputs": [
    {
     "name": "stdout",
     "output_type": "stream",
     "text": [
      "Unique overall values:  ['1.0' '5.0' '3.0' '2.0' '4.0']\n",
      "ASIN value lengths:  {10}\n",
      "Any empty string title values:  0\n",
      "\n",
      "\n",
      "Any empty string reviewText values:  0\n",
      "\n",
      "\n",
      "Any empty string summary values:  3\n"
     ]
    }
   ],
   "source": [
    "#drop unneeded columns\n",
    "xal.drop(columns=['price','reviewerName','helpfulness','timestamp'],inplace=True)\n",
    "\n",
    "#remove low count reviews\n",
    "xal = xal[~xal.asin.isin(remove_these)]\n",
    "\n",
    "analyzeNull(xal)"
   ]
  },
  {
   "cell_type": "code",
   "execution_count": 416,
   "metadata": {},
   "outputs": [
    {
     "name": "stdout",
     "output_type": "stream",
     "text": [
      "Any empty string review values:  0\n"
     ]
    }
   ],
   "source": [
    "#combine the two columns\n",
    "xal[\"review\"] = xal[\"reviewText\"] + xal[\"summary\"]\n",
    "\n",
    "analyzeReview(xal)"
   ]
  },
  {
   "cell_type": "code",
   "execution_count": 417,
   "metadata": {},
   "outputs": [
    {
     "name": "stdout",
     "output_type": "stream",
     "text": [
      "<class 'pandas.core.frame.DataFrame'>\n",
      "Int64Index: 551027 entries, 0 to 935101\n",
      "Data columns (total 5 columns):\n",
      "asin          551027 non-null object\n",
      "title         551027 non-null object\n",
      "reviewerID    551027 non-null object\n",
      "overall       551027 non-null object\n",
      "review        551027 non-null object\n",
      "dtypes: object(5)\n",
      "memory usage: 25.2+ MB\n"
     ]
    }
   ],
   "source": [
    "#drop reviewText, summary columns\n",
    "xal.drop(columns=['reviewText','summary'],inplace=True)\n",
    "\n",
    "xal.info()"
   ]
  },
  {
   "cell_type": "markdown",
   "metadata": {},
   "source": [
    "#### Chunk13 : re_b13"
   ]
  },
  {
   "cell_type": "code",
   "execution_count": 423,
   "metadata": {},
   "outputs": [
    {
     "name": "stdout",
     "output_type": "stream",
     "text": [
      "<class 'pandas.core.frame.DataFrame'>\n",
      "Int64Index: 936193 entries, 0 to 936192\n",
      "Data columns (total 10 columns):\n",
      "asin            936193 non-null object\n",
      "title           936193 non-null object\n",
      "price           936193 non-null object\n",
      "reviewerID      936193 non-null object\n",
      "reviewerName    936193 non-null object\n",
      "helpfulness     936193 non-null object\n",
      "overall         936193 non-null object\n",
      "timestamp       936193 non-null object\n",
      "summary         936193 non-null object\n",
      "reviewText      936193 non-null object\n",
      "dtypes: object(10)\n",
      "memory usage: 78.6+ MB\n"
     ]
    }
   ],
   "source": [
    "xam.info()"
   ]
  },
  {
   "cell_type": "code",
   "execution_count": 424,
   "metadata": {},
   "outputs": [
    {
     "name": "stdout",
     "output_type": "stream",
     "text": [
      "Unique overall values:  ['3.0' '4.0' '5.0' '2.0' '1.0']\n",
      "ASIN value lengths:  {10}\n",
      "Any empty string title values:  0\n",
      "\n",
      "\n",
      "Any empty string reviewText values:  0\n",
      "\n",
      "\n",
      "Any empty string summary values:  3\n"
     ]
    }
   ],
   "source": [
    "#drop unneeded columns\n",
    "xam.drop(columns=['price','reviewerName','helpfulness','timestamp'],inplace=True)\n",
    "\n",
    "#remove low count reviews\n",
    "xam = xam[~xam.asin.isin(remove_these)]\n",
    "\n",
    "analyzeNull(xam)"
   ]
  },
  {
   "cell_type": "code",
   "execution_count": 425,
   "metadata": {},
   "outputs": [
    {
     "name": "stdout",
     "output_type": "stream",
     "text": [
      "Any empty string review values:  0\n"
     ]
    }
   ],
   "source": [
    "#combine the two columns\n",
    "xam[\"review\"] = xam[\"reviewText\"] + xam[\"summary\"]\n",
    "\n",
    "analyzeReview(xam)"
   ]
  },
  {
   "cell_type": "code",
   "execution_count": 426,
   "metadata": {},
   "outputs": [
    {
     "name": "stdout",
     "output_type": "stream",
     "text": [
      "<class 'pandas.core.frame.DataFrame'>\n",
      "Int64Index: 557375 entries, 105 to 936192\n",
      "Data columns (total 5 columns):\n",
      "asin          557375 non-null object\n",
      "title         557375 non-null object\n",
      "reviewerID    557375 non-null object\n",
      "overall       557375 non-null object\n",
      "review        557375 non-null object\n",
      "dtypes: object(5)\n",
      "memory usage: 25.5+ MB\n"
     ]
    }
   ],
   "source": [
    "#drop reviewText, summary columns\n",
    "xam.drop(columns=['reviewText','summary'],inplace=True)\n",
    "\n",
    "xam.info()"
   ]
  },
  {
   "cell_type": "markdown",
   "metadata": {},
   "source": [
    "#### Chunk14 : re_b14"
   ]
  },
  {
   "cell_type": "code",
   "execution_count": 427,
   "metadata": {},
   "outputs": [
    {
     "name": "stdout",
     "output_type": "stream",
     "text": [
      "<class 'pandas.core.frame.DataFrame'>\n",
      "Int64Index: 682087 entries, 0 to 682086\n",
      "Data columns (total 10 columns):\n",
      "asin            682087 non-null object\n",
      "title           682087 non-null object\n",
      "price           682087 non-null object\n",
      "reviewerID      682087 non-null object\n",
      "reviewerName    682087 non-null object\n",
      "helpfulness     682087 non-null object\n",
      "overall         682087 non-null object\n",
      "timestamp       682087 non-null object\n",
      "summary         682087 non-null object\n",
      "reviewText      682087 non-null object\n",
      "dtypes: object(10)\n",
      "memory usage: 57.2+ MB\n"
     ]
    }
   ],
   "source": [
    "xan.info()"
   ]
  },
  {
   "cell_type": "code",
   "execution_count": 428,
   "metadata": {},
   "outputs": [
    {
     "name": "stdout",
     "output_type": "stream",
     "text": [
      "Unique overall values:  ['5.0' '4.0' '3.0' '2.0' '1.0']\n",
      "ASIN value lengths:  {10}\n",
      "Any empty string title values:  157\n",
      "\n",
      "\n",
      "Any empty string reviewText values:  0\n",
      "\n",
      "\n",
      "Any empty string summary values:  1\n"
     ]
    }
   ],
   "source": [
    "#drop unneeded columns\n",
    "xan.drop(columns=['price','reviewerName','helpfulness','timestamp'],inplace=True)\n",
    "\n",
    "#remove low count reviews\n",
    "xan = xan[~xan.asin.isin(remove_these)]\n",
    "\n",
    "analyzeNull(xan)"
   ]
  },
  {
   "cell_type": "code",
   "execution_count": 429,
   "metadata": {},
   "outputs": [
    {
     "name": "stdout",
     "output_type": "stream",
     "text": [
      "Any empty string title values:  157\n",
      "How many unique ASIN with empty title:  1\n",
      "Are there other reviews to pull title from:  0\n"
     ]
    }
   ],
   "source": [
    "analyzeEmptyTitle(xan)"
   ]
  },
  {
   "cell_type": "code",
   "execution_count": 430,
   "metadata": {},
   "outputs": [
    {
     "data": {
      "text/plain": [
       "['0912411201',\n",
       " '0736668144',\n",
       " '0792734890',\n",
       " 'B00006B6YY',\n",
       " 'B00005WCAQ',\n",
       " 'B0000667ET']"
      ]
     },
     "execution_count": 430,
     "metadata": {},
     "output_type": "execute_result"
    }
   ],
   "source": [
    "#append to missing asin list as fix is not possible at this time.\n",
    "missing_title_asin.append(xan.loc[xan.title==''].asin.unique()[0]) #[0] is to save the item only not a list\n",
    "missing_title_asin"
   ]
  },
  {
   "cell_type": "code",
   "execution_count": 431,
   "metadata": {},
   "outputs": [
    {
     "name": "stdout",
     "output_type": "stream",
     "text": [
      "Any empty string review values:  0\n"
     ]
    }
   ],
   "source": [
    "#combine the two columns\n",
    "xan[\"review\"] = xan[\"reviewText\"] + xan[\"summary\"]\n",
    "\n",
    "analyzeReview(xan)"
   ]
  },
  {
   "cell_type": "code",
   "execution_count": 432,
   "metadata": {},
   "outputs": [
    {
     "name": "stdout",
     "output_type": "stream",
     "text": [
      "<class 'pandas.core.frame.DataFrame'>\n",
      "Int64Index: 404097 entries, 0 to 681895\n",
      "Data columns (total 5 columns):\n",
      "asin          404097 non-null object\n",
      "title         404097 non-null object\n",
      "reviewerID    404097 non-null object\n",
      "overall       404097 non-null object\n",
      "review        404097 non-null object\n",
      "dtypes: object(5)\n",
      "memory usage: 18.5+ MB\n"
     ]
    }
   ],
   "source": [
    "#drop reviewText, summary columns\n",
    "xan.drop(columns=['reviewText','summary'],inplace=True)\n",
    "\n",
    "xan.info()"
   ]
  },
  {
   "cell_type": "markdown",
   "metadata": {},
   "source": [
    "## 2.3 Data Export"
   ]
  },
  {
   "cell_type": "code",
   "execution_count": 433,
   "metadata": {},
   "outputs": [],
   "source": [
    "#all files saved in below format.\n",
    "xam.to_csv(r'/Users/byungchankim/Downloads/Springboard/capstone2/data/re_b13.csv',index=False)"
   ]
  },
  {
   "cell_type": "code",
   "execution_count": 434,
   "metadata": {},
   "outputs": [],
   "source": [
    "xan.to_csv(r'/Users/byungchankim/Downloads/Springboard/capstone2/data/re_b14.csv',index=False)"
   ]
  },
  {
   "cell_type": "code",
   "execution_count": 438,
   "metadata": {},
   "outputs": [],
   "source": [
    "#saving missing_title_asin\n",
    "f = open(\"missing.txt\", \"w\")\n",
    "f.write(str(missing_title_asin))\n",
    "f.close()"
   ]
  },
  {
   "cell_type": "code",
   "execution_count": 440,
   "metadata": {},
   "outputs": [],
   "source": [
    "#saving remove_these\n",
    "f = open(\"remove_these.txt\", \"w\")\n",
    "f.write(str(list(remove_these)))\n",
    "f.close()"
   ]
  }
 ],
 "metadata": {
  "kernelspec": {
   "display_name": "Python 3",
   "language": "python",
   "name": "python3"
  },
  "language_info": {
   "codemirror_mode": {
    "name": "ipython",
    "version": 3
   },
   "file_extension": ".py",
   "mimetype": "text/x-python",
   "name": "python",
   "nbconvert_exporter": "python",
   "pygments_lexer": "ipython3",
   "version": "3.7.1"
  }
 },
 "nbformat": 4,
 "nbformat_minor": 2
}
