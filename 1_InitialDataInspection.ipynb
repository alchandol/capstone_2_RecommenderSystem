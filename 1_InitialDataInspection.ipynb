{
 "cells": [
  {
   "cell_type": "markdown",
   "metadata": {},
   "source": [
    "# 1.  Initial Data Exploration"
   ]
  },
  {
   "cell_type": "markdown",
   "metadata": {},
   "source": [
    "This project will focus on Amazon user review, rating data to develop a model that accurately recommends products users may be interested in.\n",
    "\n",
    "Data citation below:\n",
    "\n",
    "    Justifying recommendations using distantly-labeled reviews and fined-grained aspects\n",
    "    Jianmo Ni, Jiacheng Li, Julian McAuley\n",
    "    Empirical Methods in Natural Language Processing (EMNLP), 2019\n",
    "    \n"
   ]
  },
  {
   "cell_type": "code",
   "execution_count": 2,
   "metadata": {},
   "outputs": [],
   "source": [
    "import pandas as pd\n",
    "import gzip\n",
    "import json\n",
    "import seaborn as sns\n",
    "import matplotlib.pyplot as plt\n",
    "from scipy import stats"
   ]
  },
  {
   "cell_type": "markdown",
   "metadata": {},
   "source": [
    "## 1.1  Import"
   ]
  },
  {
   "cell_type": "code",
   "execution_count": 3,
   "metadata": {},
   "outputs": [],
   "source": [
    "\"\"\" unzips gz and load to json\"\"\"\n",
    "def parse(path):\n",
    "    g = gzip.open(path, 'rb')\n",
    "    for l in g:\n",
    "        yield json.loads(l)\n",
    "\n",
    "\n",
    "\"\"\" use parse method to read and translate to pandas dataframe \"\"\"\n",
    "def getDF(path):\n",
    "    i = 0\n",
    "    df = {}\n",
    "    for d in parse(path):\n",
    "        df[i] = d\n",
    "        i += 1\n",
    "    return pd.DataFrame.from_dict(df, orient='index')"
   ]
  },
  {
   "cell_type": "code",
   "execution_count": 4,
   "metadata": {},
   "outputs": [],
   "source": [
    "#As an example, we will import one of the datasets to check the data and build infrastructure.\n",
    "\n",
    "re_fashion = getDF('data/review/AMAZON_FASHION.json.gz')"
   ]
  },
  {
   "cell_type": "markdown",
   "metadata": {},
   "source": [
    "## 1.2  Initial Data Inspection "
   ]
  },
  {
   "cell_type": "markdown",
   "metadata": {},
   "source": [
    "This dataframe is one category of the amazon reviews and there are 29 categories in total for the review dataset.<br>\n",
    "There are also 29 categories of products dataset containing information regarding products. \n",
    "\n",
    "We will first check the review data and perform initial inspection and standarization to remove unneeded parts."
   ]
  },
  {
   "cell_type": "markdown",
   "metadata": {},
   "source": [
    "### 1.2.1 Dataset 'review' Analysis"
   ]
  },
  {
   "cell_type": "markdown",
   "metadata": {},
   "source": [
    "In this section, we will go through all the columns available in the 'review' dataset for its viability in our project.<br> AMAZON_FASHION category was selected for alphabetical reason and will serve as an example dataset during inspection."
   ]
  },
  {
   "cell_type": "markdown",
   "metadata": {},
   "source": [
    "#### Category: re_fashion"
   ]
  },
  {
   "cell_type": "code",
   "execution_count": 5,
   "metadata": {},
   "outputs": [
    {
     "name": "stdout",
     "output_type": "stream",
     "text": [
      "<class 'pandas.core.frame.DataFrame'>\n",
      "Int64Index: 883636 entries, 0 to 883635\n",
      "Data columns (total 12 columns):\n",
      "overall           883636 non-null float64\n",
      "verified          883636 non-null bool\n",
      "reviewTime        883636 non-null object\n",
      "reviewerID        883636 non-null object\n",
      "asin              883636 non-null object\n",
      "reviewerName      883544 non-null object\n",
      "reviewText        882403 non-null object\n",
      "summary           883103 non-null object\n",
      "unixReviewTime    883636 non-null int64\n",
      "vote              79900 non-null object\n",
      "style             304569 non-null object\n",
      "image             28807 non-null object\n",
      "dtypes: bool(1), float64(1), int64(1), object(9)\n",
      "memory usage: 81.7+ MB\n"
     ]
    }
   ],
   "source": [
    "re_fashion.info()"
   ]
  },
  {
   "cell_type": "markdown",
   "metadata": {},
   "source": [
    "Importing all of the 29 categories of review dataset and working with them is very costly for resources. <br> Therefore, we will go through initial data inspection per categories starting with re_fashion."
   ]
  },
  {
   "cell_type": "markdown",
   "metadata": {},
   "source": [
    "#### 1.2.1.1 Column 'overall'"
   ]
  },
  {
   "cell_type": "markdown",
   "metadata": {},
   "source": [
    "Column 'overall' is a numeric rating from 1.0 to 5.0 given by the reviewer. <br>  This is one of the essential features to be used and is important that this value is containing non-null variables.\n",
    "\n",
    "As seen above in re_fashion.info() , there are no null entries for this column."
   ]
  },
  {
   "cell_type": "code",
   "execution_count": 5,
   "metadata": {},
   "outputs": [
    {
     "name": "stdout",
     "output_type": "stream",
     "text": [
      "different ratings:  {1.0, 2.0, 3.0, 4.0, 5.0}\n",
      "min overall:  1.0\n",
      "max overall:  5.0\n"
     ]
    }
   ],
   "source": [
    "#checking min, max and unique values\n",
    "\n",
    "print('different ratings: ',set(re_fashion.overall))\n",
    "print('min overall: ', min(re_fashion.overall))\n",
    "print('max overall: ', max(re_fashion.overall))"
   ]
  },
  {
   "cell_type": "code",
   "execution_count": 6,
   "metadata": {},
   "outputs": [
    {
     "name": "stdout",
     "output_type": "stream",
     "text": [
      "how many null entries:  0\n"
     ]
    }
   ],
   "source": [
    "#checking for null values\n",
    "\n",
    "print('how many null entries: ',re_fashion.overall.isnull().sum())"
   ]
  },
  {
   "cell_type": "markdown",
   "metadata": {},
   "source": [
    "Column 'overall' needs to be maintained."
   ]
  },
  {
   "cell_type": "markdown",
   "metadata": {},
   "source": [
    "#### 1.2.1.2 Column 'verified'"
   ]
  },
  {
   "cell_type": "markdown",
   "metadata": {},
   "source": [
    "Column 'verified' is a boolean field labeled by Amazon to verify that the reviewer has purhased this product in regular retail price and from Amazon shops.<br> This field could give additional credit/weight to the review content and to the reviewer.\n",
    "\n",
    "As seen above in re_fashion.info() , there are no null entries for this column."
   ]
  },
  {
   "cell_type": "code",
   "execution_count": 7,
   "metadata": {},
   "outputs": [
    {
     "name": "stdout",
     "output_type": "stream",
     "text": [
      "different ratings:  {False, True}\n",
      "how many null entries:  0\n"
     ]
    }
   ],
   "source": [
    "#checking unique values\n",
    "#no point in checking min, max\n",
    "\n",
    "print('different ratings: ',set(re_fashion.verified))\n",
    "\n",
    "#checking for null values\n",
    "\n",
    "print('how many null entries: ',re_fashion.overall.isnull().sum())"
   ]
  },
  {
   "cell_type": "markdown",
   "metadata": {},
   "source": [
    "Column 'verified' may be maintained if possible."
   ]
  },
  {
   "cell_type": "markdown",
   "metadata": {},
   "source": [
    "#### 1.2.1.3 Column 'reviewTime'"
   ]
  },
  {
   "cell_type": "markdown",
   "metadata": {},
   "source": [
    "Column 'reviewTime' contains the datetime when the reviewer and recorded the review. <br> As the products are generally unchanging, unless there is a need to analyze the data in time series, this field may not be useful.\n",
    "\n",
    "As seen above in re_fashion.info() , there are no null entries for this column."
   ]
  },
  {
   "cell_type": "code",
   "execution_count": 105,
   "metadata": {},
   "outputs": [
    {
     "name": "stdout",
     "output_type": "stream",
     "text": [
      "feature datatype:  <class 'str'>\n",
      "how many null entries:  0\n"
     ]
    }
   ],
   "source": [
    "#checking datatype\n",
    "\n",
    "print('feature datatype: ',type(re_fashion.reviewTime.loc[0]))\n",
    "      \n",
    "#checking for null values\n",
    "\n",
    "print('how many null entries: ',re_fashion.reviewTime.isnull().sum())"
   ]
  },
  {
   "cell_type": "markdown",
   "metadata": {},
   "source": [
    "Column 'reviewTime' is a good candidate for data trimming."
   ]
  },
  {
   "cell_type": "markdown",
   "metadata": {},
   "source": [
    "#### 1.2.1.4 Column 'reviewerID'"
   ]
  },
  {
   "cell_type": "markdown",
   "metadata": {},
   "source": [
    "Column 'reviewerID' consists of the ID of different reviewers who wrote their reviewed. \n",
    "\n",
    "As we are not utilizing any user profile related data, this field may not be useful. <br> However, it may assist when combined with column verified to identify users that provide a consistently valid reviews.\n",
    "\n",
    "As seen above in re_fashion.info() , there are no null entries for this column."
   ]
  },
  {
   "cell_type": "code",
   "execution_count": 9,
   "metadata": {},
   "outputs": [
    {
     "name": "stdout",
     "output_type": "stream",
     "text": [
      "how many null entries:  0\n"
     ]
    }
   ],
   "source": [
    "#checking for null values\n",
    "\n",
    "print('how many null entries: ',re_fashion.reviewerID.isnull().sum())"
   ]
  },
  {
   "cell_type": "code",
   "execution_count": 10,
   "metadata": {},
   "outputs": [],
   "source": [
    "'''\n",
    "Takes review dataset as input\n",
    "\n",
    "Prints reviewerID data characteristics:  \n",
    "number of unique reviewers, number of one-time, two-times, three-times reviewers,  \n",
    "number of consistent (reviews written more than three) reviewers, \n",
    "number of reviews that consistent reviewers are responsible for.\n",
    "\n",
    "'''\n",
    "\n",
    "def analyzeReviewer(df):\n",
    "    \n",
    "    #check how many unique reviewers are present\n",
    "\n",
    "    print('number of unique reviewers: ',len(df.reviewerID.unique()))\n",
    "    \n",
    "    #create a groupby pandas series to isolate reviewerID and their counts\n",
    "    \n",
    "    rid_count = df.groupby('reviewerID').reviewerID.count()\n",
    "    \n",
    "    #prints number of one-time reviewers\n",
    "    \n",
    "    print('number of one-time reviewers: ', rid_count[rid_count==1].sum())\n",
    "    \n",
    "    #prints number of two-times reviewers\n",
    "    \n",
    "    print('number of two-times reviewers: ', rid_count[rid_count==2].count())\n",
    "    \n",
    "    #prints number of three-times reviewers\n",
    "    \n",
    "    print('number of three-times reviewers: ', rid_count[rid_count==3].count())\n",
    "    \n",
    "    #print number of consistent reviewers\n",
    "    \n",
    "    print('number of consistent reviewers: ', rid_count[rid_count>3].count())\n",
    "    \n",
    "    #print number of reviews that consistent reviewers are responsible for\n",
    "    \n",
    "    print('number of reviews by consistent reviewers: ', rid_count[rid_count>3].sum())\n",
    "    \n",
    "    consistent_reviewers = rid_count[rid_count>3]\n",
    "    "
   ]
  },
  {
   "cell_type": "code",
   "execution_count": 11,
   "metadata": {},
   "outputs": [
    {
     "name": "stdout",
     "output_type": "stream",
     "text": [
      "number of unique reviewers:  749233\n",
      "number of one-time reviewers:  655320\n",
      "number of two-times reviewers:  71534\n",
      "number of three-times reviewers:  13493\n",
      "number of consistent reviewers:  8886\n",
      "number of reviews by consistent reviewers:  44769\n"
     ]
    }
   ],
   "source": [
    "analyzeReviewer(re_fashion)"
   ]
  },
  {
   "cell_type": "code",
   "execution_count": 42,
   "metadata": {},
   "outputs": [
    {
     "data": {
      "image/png": "[encoded data removed]",
      "text/plain": [
       "<Figure size 864x432 with 1 Axes>"
      ]
     },
     "metadata": {
      "needs_background": "light"
     },
     "output_type": "display_data"
    }
   ],
   "source": [
    "#isolate the consistent reviewer series\n",
    "\n",
    "rid_count = re_fashion.groupby('reviewerID').reviewerID.count()\n",
    "consistent_reviewers = rid_count[rid_count>3]\n",
    "\n",
    "#plot histogram of normalized consistent review distribution\n",
    "\n",
    "fig1 = plt.figure(figsize=(12,6))\n",
    "fig1.suptitle('Normalized Histogram Of Reviews Written By Consistent Reviewers', fontsize=20)\n",
    "ax = consistent_reviewers.hist(bins=20, alpha=0.5, density=True)\n",
    "plt.xlabel('Number of Reviews Per Reviewer', fontsize=18)\n",
    "plt.ylabel('Normalized Distribution of Number of Reviews', fontsize=16)\n",
    "\n",
    "plt.show()"
   ]
  },
  {
   "cell_type": "markdown",
   "metadata": {},
   "source": [
    "Out of 749233 unique reviewers, there are only 93913 reviewers that have logged more than one reviews.  <br>This shows that a lot of the reviews are written by one-time reviewers.  <br>  It is also apparent that out of consistent reviewers, the number of reviews written by consistent reviewers drop rapidly after about 5 reviews.  <br> Maximum number of reviews by a consistent reviewer in this dataset is 40.\n",
    "\n",
    "\n",
    "**NOTE: we are inspecting a small subset of the review data (1 of 29 categories), so a reviewer who may show as one-time reviewer in this section may have reviewed other products in different categories.**\n",
    "\n",
    "Column 'reviewerID' may be maintained if possible."
   ]
  },
  {
   "cell_type": "markdown",
   "metadata": {},
   "source": [
    "#### 1.2.1.5  Column 'asin'"
   ]
  },
  {
   "cell_type": "markdown",
   "metadata": {},
   "source": [
    "Column 'asin' contains the Amazon Standard Identification Number (ASIN) that is assigned by Amazon and its partners used for product identification within their product catalog.  <br>\n",
    "This is a 10 alphanumeric unique identifiers and for books, asin is the ISBN number.\n",
    "\n",
    "This field is crucial in identifying the products in which the review is written for.\n",
    "\n",
    "As seen above in re_fashion.info() , there are no null entries for this column."
   ]
  },
  {
   "cell_type": "code",
   "execution_count": 15,
   "metadata": {},
   "outputs": [
    {
     "name": "stdout",
     "output_type": "stream",
     "text": [
      "how many null entries:  0\n"
     ]
    }
   ],
   "source": [
    "#checking for null values\n",
    "\n",
    "print('how many null entries: ',re_fashion.asin.isnull().sum())"
   ]
  },
  {
   "cell_type": "code",
   "execution_count": 16,
   "metadata": {},
   "outputs": [],
   "source": [
    "'''\n",
    "Takes review dataset as input\n",
    "\n",
    "Prints asin data characteristics:  \n",
    "number of unique asin in dataset,  number of asin with a single review,\n",
    "number of asin with two to four reviews, number of reviews with five or more reviews.\n",
    "\n",
    "'''\n",
    "\n",
    "def analyzeASIN(df):\n",
    "    \n",
    "    \n",
    "    #check how many unique asin are present\n",
    "\n",
    "    print('number of unique asin: ',len(df.asin.unique()))\n",
    "    \n",
    "    #create a groupby pandas series to isolate asin and their counts\n",
    "    \n",
    "    asin_count = df.groupby('asin').asin.count()\n",
    "    \n",
    "    #prints number of single reviewed asin\n",
    "    \n",
    "    print('number of single reviewed asin: ', asin_count[asin_count==1].sum())\n",
    "    \n",
    "    #print number of asin having between two to four reviews\n",
    "    \n",
    "    print('number of 2-4 reviewed asin: ', asin_count[asin_count.between(2,4)].count())\n",
    "    \n",
    "    #print number of asin having five or more reviews\n",
    "    \n",
    "    print('number of 5 or more reviewed asin: ', asin_count[asin_count>=5].count())\n",
    "\n",
    "    "
   ]
  },
  {
   "cell_type": "code",
   "execution_count": 17,
   "metadata": {},
   "outputs": [
    {
     "name": "stdout",
     "output_type": "stream",
     "text": [
      "number of unique asin:  186189\n",
      "number of single reviewed asin:  99962\n",
      "number of 2-4 reviewed asin:  56107\n",
      "number of 5 or more reviewed asin:  30120\n"
     ]
    }
   ],
   "source": [
    "analyzeASIN(re_fashion)"
   ]
  },
  {
   "cell_type": "markdown",
   "metadata": {},
   "source": [
    "Numbers above show that over 50% of the reviews in this dataset is a single reviewed product. <br> Any single reviewed asin is a representation of one user's thought on the product so it may not give us the accurate image of how the product is actually received by public.\n",
    "\n",
    "We may choose to remove the products with inadequate number of reviews to it. <br> Maximum number of reviews on an asin is 4384."
   ]
  },
  {
   "cell_type": "code",
   "execution_count": 74,
   "metadata": {},
   "outputs": [
    {
     "data": {
      "image/png": "[encoded data removed]",
      "text/plain": [
       "<Figure size 864x432 with 1 Axes>"
      ]
     },
     "metadata": {
      "needs_background": "light"
     },
     "output_type": "display_data"
    }
   ],
   "source": [
    "#isolate the asin counts\n",
    "\n",
    "asin_count = re_fashion.groupby('asin').asin.count()\n",
    "\n",
    "#removing actual asin identifier name from data as we are only interested in number of products per number of reviews\n",
    "\n",
    "asin_value_count = asin_count.value_counts()\n",
    "asin_df = asin_value_count.to_frame()\n",
    "asin_over_five_df = df.loc[df.asin>4]\n",
    "\n",
    "#plot distribution of number of reviews of products with five or more reviews\n",
    "\n",
    "fig2 = plt.figure(figsize=(12,6))\n",
    "fig2.suptitle('Distribution of Products With Five Or More Reviews', fontsize=20)\n",
    "ax = plt.bar(df2.index[4:], df2['asin'][4:])\n",
    "plt.xlabel('Number of Reviews Per Product', fontsize=18)\n",
    "plt.ylabel('Number of Products Containing Those Reviews', fontsize=16)\n",
    "\n",
    "plt.show()"
   ]
  },
  {
   "cell_type": "markdown",
   "metadata": {},
   "source": [
    "The figure above shows the drop in number of products containing the amount of reviews specified in x axis.\n",
    "\n",
    "\n",
    "Percentage of products containing reviews of five and over is 16.18%. <br> The remaining 83.82% of the product reviews are of products with 4 or less.  "
   ]
  },
  {
   "cell_type": "markdown",
   "metadata": {},
   "source": [
    "Column 'asin' needs to be maintained."
   ]
  },
  {
   "cell_type": "markdown",
   "metadata": {},
   "source": [
    "#### 1.2.1.6 Column 'reviewerName'"
   ]
  },
  {
   "cell_type": "markdown",
   "metadata": {},
   "source": [
    "Column 'reviewerName' contains the name of reviewer who wrote the review. <br> This field is of string datatype and can have any name that reviewer has set to be identified by.\n",
    "\n",
    "This feature itself is a supplement to the reviewerID feature found above. <br> As we already that the reviewerID, this feature is not needed."
   ]
  },
  {
   "cell_type": "code",
   "execution_count": 104,
   "metadata": {},
   "outputs": [
    {
     "name": "stdout",
     "output_type": "stream",
     "text": [
      "feature datatype:  <class 'str'>\n",
      "how many null entries:  92\n"
     ]
    }
   ],
   "source": [
    "#checking datatype\n",
    "\n",
    "print('feature datatype: ',type(re_fashion.reviewerName.loc[0]))\n",
    "      \n",
    "#checking for null values\n",
    "\n",
    "print('how many null entries: ',re_fashion.reviewerName.isnull().sum())"
   ]
  },
  {
   "cell_type": "markdown",
   "metadata": {},
   "source": [
    "Column 'reviewerName' is a good candidate for data trimming."
   ]
  },
  {
   "cell_type": "markdown",
   "metadata": {},
   "source": [
    "####  1.2.1.7 Column 'reviewText'"
   ]
  },
  {
   "cell_type": "markdown",
   "metadata": {},
   "source": [
    "Column 'reviewText' contains the actual text review in string from the reviewer.\n",
    "\n",
    "This data will be useful during sentiment analysis of the review and identifying keywords that describes the product. <br> Data from this feature can assist in give credit / weight to the overall ratings of the product.\n"
   ]
  },
  {
   "cell_type": "code",
   "execution_count": 89,
   "metadata": {},
   "outputs": [
    {
     "data": {
      "text/plain": [
       "0                               Exactly what I needed.\n",
       "1    I agree with the other review, the opening is ...\n",
       "2    Love these... I am going to order another pack...\n",
       "3                                  too tiny an opening\n",
       "4                                                 Okay\n",
       "Name: reviewText, dtype: object"
      ]
     },
     "execution_count": 89,
     "metadata": {},
     "output_type": "execute_result"
    }
   ],
   "source": [
    "#column reviewText examples\n",
    "re_fashion.reviewText.head()"
   ]
  },
  {
   "cell_type": "code",
   "execution_count": 103,
   "metadata": {},
   "outputs": [
    {
     "name": "stdout",
     "output_type": "stream",
     "text": [
      "feature datatype:  <class 'str'>\n",
      "how many null entries:  1233\n"
     ]
    }
   ],
   "source": [
    "#checking datatype\n",
    "\n",
    "print('feature datatype: ',type(re_fashion.reviewText.loc[0]))\n",
    "      \n",
    "#checking for null values\n",
    "\n",
    "print('how many null entries: ',re_fashion.reviewText.isnull().sum())"
   ]
  },
  {
   "cell_type": "markdown",
   "metadata": {},
   "source": [
    "This column only consists 1233 null entries out of 883636 data points. <br> This is good to see as we want as much as review texts as possible.\n",
    "\n",
    "**NOTE: this is only a subset of the review dataset but it can serve as a good representation what we can expect to find in reviewText column of other categories of review dataset.**\n",
    "\n",
    "Column 'reviewText' needs to be maintained."
   ]
  },
  {
   "cell_type": "markdown",
   "metadata": {},
   "source": [
    "#### 1.2.1.8 Column 'summary'"
   ]
  },
  {
   "cell_type": "markdown",
   "metadata": {},
   "source": [
    "Column 'summary' contains summary of the reviewer's review in string format.  <br> This feature is very similar to the column reviewText above but is a concise version of it and can be thought of as supplement to reviewText and overall rating.\n",
    "\n",
    "This data will be useful during sentiment analysis of the review and identifying keywords that describes the product. <br> Data from this feature can assist in give credit / weight to the overall ratings of the product.\n"
   ]
  },
  {
   "cell_type": "code",
   "execution_count": 93,
   "metadata": {},
   "outputs": [
    {
     "data": {
      "text/plain": [
       "0                               perfect replacements!!\n",
       "1    I agree with the other review, the opening is ...\n",
       "2                                  My New 'Friends' !!\n",
       "3                                            Two Stars\n",
       "4                                          Three Stars\n",
       "Name: summary, dtype: object"
      ]
     },
     "execution_count": 93,
     "metadata": {},
     "output_type": "execute_result"
    }
   ],
   "source": [
    "#column reviewText examples\n",
    "re_fashion.summary.head()"
   ]
  },
  {
   "cell_type": "code",
   "execution_count": 102,
   "metadata": {},
   "outputs": [
    {
     "name": "stdout",
     "output_type": "stream",
     "text": [
      "feature datatype:  <class 'str'>\n",
      "how many null entries:  533\n"
     ]
    }
   ],
   "source": [
    "#checking datatype\n",
    "\n",
    "print('feature datatype: ',type(re_fashion.summary.loc[0]))\n",
    "      \n",
    "#checking for null values\n",
    "\n",
    "print('how many null entries: ',re_fashion.summary.isnull().sum())"
   ]
  },
  {
   "cell_type": "markdown",
   "metadata": {},
   "source": [
    "This column only contains 533 null entries out of 883636 data points. <br>\n",
    "\n",
    "**NOTE: this is only a subset of the review dataset but it can serve as a good representation what we can expect to find in summary column of other categories of review dataset.**\n",
    "\n",
    "Column 'summary' may be maintained if possible."
   ]
  },
  {
   "cell_type": "markdown",
   "metadata": {},
   "source": [
    "#### 1.2.1.9 Column 'unixReviewTime'"
   ]
  },
  {
   "cell_type": "markdown",
   "metadata": {},
   "source": [
    "Column 'unixReviewTime' contains the Unix timestamp of when the review was written. <br> As the products are generally unchanging, unless there is a need to analyze the data in time series, this field may not be useful.\n",
    "\n",
    "As seen above in re_fashion.info() , there are no null entries for this column."
   ]
  },
  {
   "cell_type": "code",
   "execution_count": 149,
   "metadata": {},
   "outputs": [
    {
     "data": {
      "text/plain": [
       "0    1413763200\n",
       "1    1411862400\n",
       "2    1408924800\n",
       "3    1408838400\n",
       "4    1406419200\n",
       "Name: unixReviewTime, dtype: int64"
      ]
     },
     "execution_count": 149,
     "metadata": {},
     "output_type": "execute_result"
    }
   ],
   "source": [
    "#examples of column style\n",
    "re_fashion.loc[re_fashion.unixReviewTime.notnull()].unixReviewTime.head()"
   ]
  },
  {
   "cell_type": "code",
   "execution_count": 101,
   "metadata": {},
   "outputs": [
    {
     "name": "stdout",
     "output_type": "stream",
     "text": [
      "feature datatype:  <class 'numpy.int64'>\n",
      "how many null entries:  0\n"
     ]
    }
   ],
   "source": [
    "#checking datatype\n",
    "\n",
    "print('feature datatype: ',type(re_fashion.unixReviewTime.loc[0]))\n",
    "      \n",
    "#checking for null values\n",
    "\n",
    "print('how many null entries: ',re_fashion.unixReviewTime.isnull().sum())"
   ]
  },
  {
   "cell_type": "markdown",
   "metadata": {},
   "source": [
    "Column 'unixReviewTime' is a good candidate for data trimming."
   ]
  },
  {
   "cell_type": "markdown",
   "metadata": {},
   "source": [
    "#### 1.2.1.10 Column 'vote'"
   ]
  },
  {
   "cell_type": "markdown",
   "metadata": {},
   "source": [
    "Column 'vote' contains the numeric value of votes in datatype string that the review has received by other users. "
   ]
  },
  {
   "cell_type": "code",
   "execution_count": 121,
   "metadata": {},
   "outputs": [
    {
     "name": "stdout",
     "output_type": "stream",
     "text": [
      "feature datatype:  <class 'str'>\n",
      "how many null entries:  803736\n"
     ]
    }
   ],
   "source": [
    "#checking datatype\n",
    "\n",
    "print('feature datatype: ',type(re_fashion.loc[re_fashion.vote.notnull()].vote.iloc[0]))\n",
    "      \n",
    "#checking for null values\n",
    "\n",
    "print('how many null entries: ',re_fashion.vote.isnull().sum())"
   ]
  },
  {
   "cell_type": "markdown",
   "metadata": {},
   "source": [
    "We are seeing very high ratio of vote data availability in the dataset.  <br> Less than 10% of the reviews contain votes at all. <br> The sheer number of null values make this feature not fit to be used.\n",
    "\n",
    "**NOTE: this is only a subset of the review dataset but it can serve as a good representation what we can expect to find in vote column of other categories of review dataset.**"
   ]
  },
  {
   "cell_type": "code",
   "execution_count": 99,
   "metadata": {},
   "outputs": [
    {
     "name": "stdout",
     "output_type": "stream",
     "text": [
      "max:  966\n",
      "min:  2\n"
     ]
    }
   ],
   "source": [
    "#Checking vote column\n",
    "vote_notnull=set(map(int, re_fashion.loc[re_fashion.vote.notnull()].vote))\n",
    "\n",
    "#print min and max\n",
    "print('max: ',max(vote_notnull))\n",
    "print('min: ',min(vote_notnull))"
   ]
  },
  {
   "cell_type": "markdown",
   "metadata": {},
   "source": [
    "Column 'vote' is a good candidate for data trimming.  "
   ]
  },
  {
   "cell_type": "markdown",
   "metadata": {},
   "source": [
    "#### 1.2.1.11 Column 'style'"
   ]
  },
  {
   "cell_type": "markdown",
   "metadata": {},
   "source": [
    "Column 'style' contains data regarding the specific style of the product purchased by the reviewer. <br> "
   ]
  },
  {
   "cell_type": "code",
   "execution_count": 147,
   "metadata": {},
   "outputs": [
    {
     "data": {
      "text/plain": [
       "7     {'Color:': ' Black'}\n",
       "8     {'Color:': ' Black'}\n",
       "9     {'Color:': ' Black'}\n",
       "10    {'Color:': ' Black'}\n",
       "11    {'Color:': ' Black'}\n",
       "Name: style, dtype: object"
      ]
     },
     "execution_count": 147,
     "metadata": {},
     "output_type": "execute_result"
    }
   ],
   "source": [
    "#examples of column style\n",
    "re_fashion.loc[re_fashion['style'].notnull()]['style'].head()"
   ]
  },
  {
   "cell_type": "markdown",
   "metadata": {},
   "source": [
    "This field give additional details about the product that is reviewed."
   ]
  },
  {
   "cell_type": "code",
   "execution_count": 129,
   "metadata": {},
   "outputs": [
    {
     "name": "stdout",
     "output_type": "stream",
     "text": [
      "feature datatype:  <class 'dict'>\n",
      "how many null entries:  579067\n"
     ]
    }
   ],
   "source": [
    "#checking datatype\n",
    "\n",
    "print('feature datatype: ',type(re_fashion.loc[re_fashion['style'].notnull()]['style'].iloc[0]))\n",
    "      \n",
    "#checking for null values\n",
    "\n",
    "print('how many null entries: ',re_fashion['style'].isnull().sum())"
   ]
  },
  {
   "cell_type": "markdown",
   "metadata": {},
   "source": [
    "The above shows the style data is store in dictionary format.<br>\n",
    "However, approximately 65% of style data are null making this field not fit to be used.\n",
    "\n",
    "**NOTE: this is only a subset of the review dataset but it can serve as a good representation what we can expect to find in style column of other categories of review dataset.**\n",
    "\n"
   ]
  },
  {
   "cell_type": "markdown",
   "metadata": {},
   "source": [
    "Column 'style' is a good candicate for data trimming."
   ]
  },
  {
   "cell_type": "markdown",
   "metadata": {},
   "source": [
    "#### 1.2.1.12 Column 'image'"
   ]
  },
  {
   "cell_type": "markdown",
   "metadata": {},
   "source": [
    "Column 'image' contains links to image files uploaded by the reviewers to add further details to written reviews. <br> \n"
   ]
  },
  {
   "cell_type": "code",
   "execution_count": 150,
   "metadata": {},
   "outputs": [
    {
     "data": {
      "text/plain": [
       "155    [https://images-na.ssl-images-amazon.com/image...\n",
       "287    [https://images-na.ssl-images-amazon.com/image...\n",
       "323    [https://images-na.ssl-images-amazon.com/image...\n",
       "513    [https://images-na.ssl-images-amazon.com/image...\n",
       "950    [https://images-na.ssl-images-amazon.com/image...\n",
       "Name: image, dtype: object"
      ]
     },
     "execution_count": 150,
     "metadata": {},
     "output_type": "execute_result"
    }
   ],
   "source": [
    "#examples of column image\n",
    "re_fashion.loc[re_fashion.image.notnull()].image.head()"
   ]
  },
  {
   "cell_type": "markdown",
   "metadata": {},
   "source": [
    "The images are loaded in Amazon server: http://images-na.ssl-images-amazon.com/images/* ."
   ]
  },
  {
   "cell_type": "code",
   "execution_count": 136,
   "metadata": {},
   "outputs": [
    {
     "name": "stdout",
     "output_type": "stream",
     "text": [
      "feature datatype:  <class 'list'>\n",
      "how many null entries:  854829\n"
     ]
    }
   ],
   "source": [
    "#checking datatype\n",
    "\n",
    "print('feature datatype: ',type(re_fashion.loc[re_fashion.image.notnull()].image.iloc[0]))\n",
    "      \n",
    "#checking for null values\n",
    "\n",
    "print('how many null entries: ',re_fashion.image.isnull().sum())"
   ]
  },
  {
   "cell_type": "markdown",
   "metadata": {},
   "source": [
    "As we are not planning on analzying the images in this project, this field is not needed. <br>\n",
    "Moreover, there are less than 5% availability for the image field making it unfit to be used.\n",
    "\n",
    "**NOTE: this is only a subset of the review dataset but it can serve as a good representation what we can expect to find in vote column of other categories of review dataset.**\n",
    "\n",
    "Column 'image' is a good candidate for data trimming."
   ]
  },
  {
   "cell_type": "markdown",
   "metadata": {},
   "source": [
    "### 1.2.2 Dataset 'review' Analysis Remarks"
   ]
  },
  {
   "cell_type": "code",
   "execution_count": 130,
   "metadata": {},
   "outputs": [
    {
     "name": "stdout",
     "output_type": "stream",
     "text": [
      "<class 'pandas.core.frame.DataFrame'>\n",
      "Int64Index: 883636 entries, 0 to 883635\n",
      "Data columns (total 12 columns):\n",
      "overall           883636 non-null float64\n",
      "verified          883636 non-null bool\n",
      "reviewTime        883636 non-null object\n",
      "reviewerID        883636 non-null object\n",
      "asin              883636 non-null object\n",
      "reviewerName      883544 non-null object\n",
      "reviewText        882403 non-null object\n",
      "summary           883103 non-null object\n",
      "unixReviewTime    883636 non-null int64\n",
      "vote              79900 non-null object\n",
      "style             304569 non-null object\n",
      "image             28807 non-null object\n",
      "dtypes: bool(1), float64(1), int64(1), object(9)\n",
      "memory usage: 121.7+ MB\n"
     ]
    }
   ],
   "source": [
    "re_fashion.info()"
   ]
  },
  {
   "cell_type": "markdown",
   "metadata": {},
   "source": [
    "Out of the columns available in dataset 'review' listed above, the columns are categorized into three buckets:\n",
    "\n",
    "* Needs To Be Maintained:    **overall , asin , reviewText**\n",
    "* May Be Maintained If Possible:   **verfied , reviewerID , summary**\n",
    "* Candidates For Data Trimming:  **reviewTime , reviewerName , unixReviewTime , vote , style , image**\n"
   ]
  },
  {
   "cell_type": "markdown",
   "metadata": {},
   "source": [
    "As mentioned above, only the category, AMAZON_FASHION, has been imported for initial data inspection for review dataset. <br> The availability of data for each columns will be different depending on the category selected. <br> However, this initial inspection gives us good representation of what the full dataset will look like and the availability of data for columns in other categories.\n",
    "\n",
    "The important feature identification will be relavent throughout all the other categories as well."
   ]
  },
  {
   "cell_type": "markdown",
   "metadata": {},
   "source": [
    "### 1.2.3 Dataset 'product' Analysis"
   ]
  },
  {
   "cell_type": "markdown",
   "metadata": {},
   "source": [
    "In this section, we will go through all the columns available in the 'product' dataset for its viability in our project.<br> AMAZON_FASHION category was selected for alphabetical reason and will serve as an example dataset during inspection."
   ]
  },
  {
   "cell_type": "code",
   "execution_count": 6,
   "metadata": {},
   "outputs": [],
   "source": [
    "#As an example, we will import one of the datasets to check the data and build infrastructure.\n",
    "\n",
    "pr_fashion = getDF('data/metadata/meta_AMAZON_FASHION.json.gz')"
   ]
  },
  {
   "cell_type": "markdown",
   "metadata": {},
   "source": [
    "#### Category: re_fashion"
   ]
  },
  {
   "cell_type": "code",
   "execution_count": 7,
   "metadata": {},
   "outputs": [
    {
     "name": "stdout",
     "output_type": "stream",
     "text": [
      "<class 'pandas.core.frame.DataFrame'>\n",
      "Int64Index: 186637 entries, 0 to 186636\n",
      "Data columns (total 15 columns):\n",
      "title           186632 non-null object\n",
      "image           132017 non-null object\n",
      "brand           139957 non-null object\n",
      "feature         123875 non-null object\n",
      "rank            180222 non-null object\n",
      "date            185001 non-null object\n",
      "asin            186637 non-null object\n",
      "description     15869 non-null object\n",
      "price           17799 non-null object\n",
      "also_view       11595 non-null object\n",
      "also_buy        21642 non-null object\n",
      "fit             4831 non-null object\n",
      "details         885 non-null object\n",
      "similar_item    317 non-null object\n",
      "tech1           97 non-null object\n",
      "dtypes: object(15)\n",
      "memory usage: 22.8+ MB\n"
     ]
    }
   ],
   "source": [
    "pr_fashion.info()"
   ]
  },
  {
   "cell_type": "markdown",
   "metadata": {},
   "source": [
    "Importing all of the 29 categories of product dataset and working with them is very costly for resources. <br> Therefore, we will go through initial data inspection per categories starting with pr_fashion."
   ]
  },
  {
   "cell_type": "markdown",
   "metadata": {},
   "source": [
    "#### 1.2.3.1 Column 'title'"
   ]
  },
  {
   "cell_type": "markdown",
   "metadata": {},
   "source": [
    "Column 'title' contains the full product title that is shown within Amazon shops. "
   ]
  },
  {
   "cell_type": "code",
   "execution_count": 145,
   "metadata": {},
   "outputs": [
    {
     "data": {
      "text/plain": [
       "0    Slime Time Fall Fest [With CDROM and Collector...\n",
       "1    XCC Qi promise new spider snake preparing men'...\n",
       "2                   Magical Things I Really Do Do Too!\n",
       "3                   Ashes to Ashes, Oranges to Oranges\n",
       "4    Aether & Empire #1 - 2016 First Printing Comic...\n",
       "Name: title, dtype: object"
      ]
     },
     "execution_count": 145,
     "metadata": {},
     "output_type": "execute_result"
    }
   ],
   "source": [
    "#examples of column title\n",
    "pr_fashion.title.head()"
   ]
  },
  {
   "cell_type": "markdown",
   "metadata": {},
   "source": [
    "This field may not be needed during analysis or modelling but is needed in post-modelling output data formatting. <br> \n",
    "\n",
    "This is because we will mainly be working with the asin to identify the products. <br> However in the final output, we would need to provide to the users the actual title of the asin product as well.\n",
    "\n",
    "For this reason, we will keep a separate copy of asin-to-title data that we can use at the end and leave it out of the modelling process."
   ]
  },
  {
   "cell_type": "code",
   "execution_count": 143,
   "metadata": {},
   "outputs": [
    {
     "name": "stdout",
     "output_type": "stream",
     "text": [
      "feature datatype:  <class 'str'>\n",
      "how many null entries:  5\n"
     ]
    }
   ],
   "source": [
    "#checking datatype\n",
    "\n",
    "print('feature datatype: ',type(pr_fashion.loc[pr_fashion.title.notnull()].title.iloc[0]))\n",
    "      \n",
    "#checking for null values\n",
    "\n",
    "print('how many null entries: ',pr_fashion.title.isnull().sum())"
   ]
  },
  {
   "cell_type": "markdown",
   "metadata": {},
   "source": [
    "The product title is stored in string format.  <br> It is also shown that there are a few missing titles.  <br> These will need to be dealt during data clean up as we cannot have a product without a title.\n",
    "\n",
    "Column 'title' needs to be maintained."
   ]
  },
  {
   "cell_type": "markdown",
   "metadata": {},
   "source": [
    "#### 1.2.3.2 Column 'image'"
   ]
  },
  {
   "cell_type": "markdown",
   "metadata": {},
   "source": [
    "Similar to column 'image' in review dataset, this column contains links to images that showcases the product. <br> Unlike review dataset's image field, this field contains the official images uploaded by the seller."
   ]
  },
  {
   "cell_type": "code",
   "execution_count": 155,
   "metadata": {},
   "outputs": [
    {
     "data": {
      "text/plain": [
       "0    [https://images-na.ssl-images-amazon.com/image...\n",
       "1    [https://images-na.ssl-images-amazon.com/image...\n",
       "2    [https://images-na.ssl-images-amazon.com/image...\n",
       "3    [https://images-na.ssl-images-amazon.com/image...\n",
       "4    [https://images-na.ssl-images-amazon.com/image...\n",
       "Name: image, dtype: object"
      ]
     },
     "execution_count": 155,
     "metadata": {},
     "output_type": "execute_result"
    }
   ],
   "source": [
    "#column image exampless\n",
    "pr_fashion.image.head()"
   ]
  },
  {
   "cell_type": "markdown",
   "metadata": {},
   "source": [
    "The images are loaded in Amazon server: http://images-na.ssl-images-amazon.com/images/* ."
   ]
  },
  {
   "cell_type": "code",
   "execution_count": 157,
   "metadata": {},
   "outputs": [
    {
     "name": "stdout",
     "output_type": "stream",
     "text": [
      "feature datatype:  <class 'list'>\n",
      "how many null entries:  54620\n"
     ]
    }
   ],
   "source": [
    "#checking datatype\n",
    "\n",
    "print('feature datatype: ',type(pr_fashion.loc[pr_fashion.image.notnull()].image.iloc[0]))\n",
    "      \n",
    "#checking for null values\n",
    "\n",
    "print('how many null entries: ',pr_fashion.image.isnull().sum())"
   ]
  },
  {
   "cell_type": "markdown",
   "metadata": {},
   "source": [
    "As we are not planning on analzying the images in this project, this field is not needed. \n",
    "\n",
    "**NOTE: this is only a subset of the product dataset but it can serve as a good representation what we can expect to find in image column of other categories of product dataset.**\n",
    "\n",
    "Column 'image' is a good candidate for data trimming."
   ]
  },
  {
   "cell_type": "markdown",
   "metadata": {},
   "source": [
    "#### 1.2.3.3  Column 'brand'"
   ]
  },
  {
   "cell_type": "markdown",
   "metadata": {},
   "source": [
    "Column 'brand' contains the company brand that the product is marked by."
   ]
  },
  {
   "cell_type": "code",
   "execution_count": 159,
   "metadata": {},
   "outputs": [
    {
     "data": {
      "text/plain": [
       "0     Group Publishing (CO)\n",
       "2         Christopher Manos\n",
       "3    Flickerlamp Publishing\n",
       "7                    Didala\n",
       "8                 sevendayz\n",
       "Name: brand, dtype: object"
      ]
     },
     "execution_count": 159,
     "metadata": {},
     "output_type": "execute_result"
    }
   ],
   "source": [
    "#column brand examples\n",
    "pr_fashion[pr_fashion.brand.notnull()].brand.head()"
   ]
  },
  {
   "cell_type": "markdown",
   "metadata": {},
   "source": [
    "Similar to the title column, this field is also not needed during analysis and modelling. <br> However, this field will come in handy in the final output formatting by giving additional information about the product.\n",
    "\n",
    "Thie field will also be added to the separate copy of asin-to-title data that can be used at the end."
   ]
  },
  {
   "cell_type": "code",
   "execution_count": 160,
   "metadata": {},
   "outputs": [
    {
     "name": "stdout",
     "output_type": "stream",
     "text": [
      "feature datatype:  <class 'str'>\n",
      "how many null entries:  46680\n"
     ]
    }
   ],
   "source": [
    "#checking datatype\n",
    "\n",
    "print('feature datatype: ',type(pr_fashion.loc[pr_fashion.brand.notnull()].brand.iloc[0]))\n",
    "      \n",
    "#checking for null values\n",
    "\n",
    "print('how many null entries: ',pr_fashion.brand.isnull().sum())"
   ]
  },
  {
   "cell_type": "markdown",
   "metadata": {},
   "source": [
    "It is shown that this field is missing the brand data for about 25% of the dataset. <br>\n",
    "Unlike the null values in title, missing brand data is not worrysome as this is addtional information.\n",
    "\n",
    "Column 'brand' needs to be maintained."
   ]
  },
  {
   "cell_type": "markdown",
   "metadata": {},
   "source": [
    "#### 1.2.3.4  Column 'feature'"
   ]
  },
  {
   "cell_type": "markdown",
   "metadata": {},
   "source": [
    "Column 'feature' contains information regarding product dimension and weight."
   ]
  },
  {
   "cell_type": "code",
   "execution_count": 165,
   "metadata": {},
   "outputs": [
    {
     "name": "stdout",
     "output_type": "stream",
     "text": [
      "['Product Dimensions:\\n                    \\n8.7 x 3.6 x 11.4 inches', 'Shipping Weight:\\n                    \\n2.4 pounds']\n",
      "['Package Dimensions:\\n                    \\n8.5 x 5.5 x 0.4 inches', 'Shipping Weight:\\n                    \\n6.1 ounces']\n"
     ]
    }
   ],
   "source": [
    "#column feature examples\n",
    "print(pr_fashion[pr_fashion.feature.notnull()].feature.iloc[0])\n",
    "print(pr_fashion[pr_fashion.feature.notnull()].feature.iloc[1])"
   ]
  },
  {
   "cell_type": "code",
   "execution_count": 183,
   "metadata": {},
   "outputs": [
    {
     "name": "stdout",
     "output_type": "stream",
     "text": [
      "feature datatype:  <class 'list'>\n",
      "how many null entries:  62762\n"
     ]
    }
   ],
   "source": [
    "#checking datatype\n",
    "\n",
    "print('feature datatype: ',type(pr_fashion.loc[pr_fashion.feature.notnull()].feature.iloc[0]))\n",
    "      \n",
    "#checking for null values\n",
    "\n",
    "print('how many null entries: ',pr_fashion.feature.isnull().sum())"
   ]
  },
  {
   "cell_type": "markdown",
   "metadata": {},
   "source": [
    "As we are not anazlying any dimension or weight data in this project, this field is not needed.\n",
    "\n",
    "**NOTE: this is only a subset of the product dataset but it can serve as a good representation what we can expect to find in feature column of other categories of product dataset.**\n",
    "\n",
    "Column 'feature' is a good candidate for data trimming."
   ]
  },
  {
   "cell_type": "markdown",
   "metadata": {},
   "source": [
    "#### 1.2.3.5 Column 'rank'"
   ]
  },
  {
   "cell_type": "markdown",
   "metadata": {},
   "source": [
    "Column 'rank' contains information regarding the rank of the product within different categories."
   ]
  },
  {
   "cell_type": "code",
   "execution_count": 181,
   "metadata": {},
   "outputs": [
    {
     "data": {
      "text/plain": [
       "'13,052,976inClothing,Shoesamp;Jewelry('"
      ]
     },
     "execution_count": 181,
     "metadata": {},
     "output_type": "execute_result"
    }
   ],
   "source": [
    "#column rank examples\n",
    "pr_fashion['rank'].iloc[0]"
   ]
  },
  {
   "cell_type": "markdown",
   "metadata": {},
   "source": [
    "Data is alphanumeric characters stored in string format.  \n",
    "\n",
    "This field may be useful in determining the popular products and serve as supplement to overall rank of the product. <br> If this field can be wrangled into some feature that we can use, but the rank categories does not seem to follow the traditional category format like how the dataset is categorized. <br>\n",
    "If it is the case that these rank categories are difficult to manage, we will focus on using other features for our model."
   ]
  },
  {
   "cell_type": "code",
   "execution_count": 185,
   "metadata": {},
   "outputs": [
    {
     "name": "stdout",
     "output_type": "stream",
     "text": [
      "feature datatype:  <class 'str'>\n",
      "how many null entries:  6415\n"
     ]
    }
   ],
   "source": [
    "#checking datatype\n",
    "\n",
    "print('feature datatype: ',type(pr_fashion.loc[pr_fashion[\"rank\"].notnull()][\"rank\"].iloc[0]))\n",
    "      \n",
    "#checking for null values\n",
    "\n",
    "print('how many null entries: ',pr_fashion[\"rank\"].isnull().sum())"
   ]
  },
  {
   "cell_type": "markdown",
   "metadata": {},
   "source": [
    "Column 'rank' may be maintained if possible."
   ]
  },
  {
   "cell_type": "markdown",
   "metadata": {},
   "source": [
    "#### 1.2.3.6 Column 'date'"
   ]
  },
  {
   "cell_type": "code",
   "execution_count": 194,
   "metadata": {},
   "outputs": [
    {
     "data": {
      "text/plain": [
       "100       5 star5 star (0%)\n",
       "110       5 star5 star (0%)\n",
       "120                  5 star\n",
       "130       Amazon Collection\n",
       "140                  5 star\n",
       "150                  5 star\n",
       "160    101858-1174067964699\n",
       "170                  5 star\n",
       "180             Ross-Simons\n",
       "190       Amazon Collection\n",
       "Name: date, dtype: object"
      ]
     },
     "execution_count": 194,
     "metadata": {},
     "output_type": "execute_result"
    }
   ],
   "source": [
    "#column date examples\n",
    "pr_fashion[\"date\"].iloc[100:200:10]"
   ]
  },
  {
   "cell_type": "markdown",
   "metadata": {},
   "source": [
    "Unlike the expectation, this field does not seem to contain the date information but various text fields that cannot be categorized into a theme. <br> Possibly, this field contains the secondary information that did not make it into brand names or product names.  "
   ]
  },
  {
   "cell_type": "code",
   "execution_count": 197,
   "metadata": {},
   "outputs": [
    {
     "data": {
      "text/plain": [
       "array(['8.70 inches', '5 star', 'fishhook', '5 star5 star (0%)', nan,\n",
       "       'T 53952 9J', 'GoldenMine.com Jewelry', 'Avelor Collection',\n",
       "       'Amazon Collection', 'Amazon.com Collection',\n",
       "       '101858-1174067964699', 'Szul', 'Ross-Simons', 'Timex', 'Gemworks',\n",
       "       'NIKE', 'Swiss Army', 'Littman Jewelers', 'G95216L', 'Fossil',\n",
       "       'Seiko', 'WT0002501', '15-1402-01', 'Skagen',\n",
       "       'Universal Electronics', 'TechnoMarine', 'MU0943', 'TZNIWT0009001',\n",
       "       'Swatch', 'Avalon-A-1405', 'Silver Insanity', 'Overstock Jeweler',\n",
       "       '24028', '925 Sterling', '1 inches', 'Kenneth Cole',\n",
       "       'Sabrina Silver', 'CL5008', 'Silver Forest', 'WT0001-411',\n",
       "       'WT0002-411', 'WT0009-507', 'CoolStyles.com', 'ESQ',\n",
       "       'American Pearl', 'MU0942', 'DC Studios', 'Religious',\n",
       "       'Gem Avenue', '2 inches'], dtype=object)"
      ]
     },
     "execution_count": 197,
     "metadata": {},
     "output_type": "execute_result"
    }
   ],
   "source": [
    "#checking some values under date field\n",
    "\n",
    "pr_fashion.date.unique()[:50]"
   ]
  },
  {
   "cell_type": "markdown",
   "metadata": {},
   "source": [
    "Looking at some of these unique values of date field, we can see that this field indeed does not contain any data regarding dates. <br> Due to the field not being clear on its purpose, this field is not fit to be used in the next steps.\n",
    "\n",
    "Column 'date' is a good candidate for data trimming."
   ]
  },
  {
   "cell_type": "markdown",
   "metadata": {},
   "source": [
    "#### 1.2.3.7 Column 'asin'"
   ]
  },
  {
   "cell_type": "markdown",
   "metadata": {},
   "source": [
    "Column 'asin' contains the Amazon Standard Identification Number (ASIN) that is assigned by Amazon and its partners used for product identification within their product catalog.  <br>\n",
    "This is a 10 alphanumeric unique identifiers and for books, asin is the ISBN number.\n",
    "\n",
    "This field is crucial in identifying the products in which the review is written for.\n",
    "\n",
    "As seen above in pr_fashion.info() , there are no null entries for this column."
   ]
  },
  {
   "cell_type": "code",
   "execution_count": 8,
   "metadata": {},
   "outputs": [
    {
     "name": "stdout",
     "output_type": "stream",
     "text": [
      "how many null entries:  0\n"
     ]
    }
   ],
   "source": [
    "#checking for null values\n",
    "\n",
    "print('how many null entries: ',pr_fashion.asin.isnull().sum())"
   ]
  },
  {
   "cell_type": "code",
   "execution_count": 12,
   "metadata": {},
   "outputs": [
    {
     "name": "stdout",
     "output_type": "stream",
     "text": [
      "number of unique asin:  186194\n",
      "number of duplicated asin:  443\n",
      "different numbers of duplicate amounts in the duplicate asin:  [2]\n"
     ]
    }
   ],
   "source": [
    "'''\n",
    "Takes product dataset as input\n",
    "\n",
    "Prints asin data characteristics:  \n",
    "number of unique asin in dataset, number of duplicated asin, \n",
    "different numbers of duplicate amounts in the duplicate asin\n",
    "\n",
    "'''\n",
    "\n",
    "def analyzeProductASIN(df):\n",
    "    \n",
    "    \n",
    "    #check how many unique asin are present\n",
    "\n",
    "    print('number of unique asin: ',len(df.asin.unique()))\n",
    "    \n",
    "    #create a groupby pandas series to isolate asin and their counts\n",
    "    \n",
    "    asin_count = df.groupby('asin').asin.count()\n",
    "    \n",
    "    #prints number of duplicated asin\n",
    "    \n",
    "    print('number of duplicated asin: ', asin_count[asin_count>1].count())\n",
    "    \n",
    "    \n",
    "    asin_duplicated = asin_count[asin_count>1]\n",
    "    \n",
    "    #different numbers of duplicate amounts in the duplicate asin\n",
    "    \n",
    "    print('different numbers of duplicate amounts in the duplicate asin: ', asin_duplicated.unique())\n",
    "\n",
    "analyzeProductASIN(pr_fashion)"
   ]
  },
  {
   "cell_type": "markdown",
   "metadata": {},
   "source": [
    "Most of the asin in the list makes sense but there are a few duplicated entries as well. <br>"
   ]
  },
  {
   "cell_type": "code",
   "execution_count": 46,
   "metadata": {},
   "outputs": [
    {
     "data": {
      "text/html": [
       "<div>\n",
       "<style scoped>\n",
       "    .dataframe tbody tr th:only-of-type {\n",
       "        vertical-align: middle;\n",
       "    }\n",
       "\n",
       "    .dataframe tbody tr th {\n",
       "        vertical-align: top;\n",
       "    }\n",
       "\n",
       "    .dataframe thead th {\n",
       "        text-align: right;\n",
       "    }\n",
       "</style>\n",
       "<table border=\"1\" class=\"dataframe\">\n",
       "  <thead>\n",
       "    <tr style=\"text-align: right;\">\n",
       "      <th></th>\n",
       "      <th>title</th>\n",
       "      <th>image</th>\n",
       "      <th>brand</th>\n",
       "      <th>feature</th>\n",
       "      <th>rank</th>\n",
       "      <th>date</th>\n",
       "      <th>asin</th>\n",
       "      <th>description</th>\n",
       "      <th>price</th>\n",
       "      <th>also_view</th>\n",
       "      <th>also_buy</th>\n",
       "      <th>fit</th>\n",
       "      <th>details</th>\n",
       "      <th>similar_item</th>\n",
       "      <th>tech1</th>\n",
       "    </tr>\n",
       "  </thead>\n",
       "  <tbody>\n",
       "    <tr>\n",
       "      <th>18</th>\n",
       "      <td>Shimmer Anne Shine Clip On Costume/Halloween C...</td>\n",
       "      <td>[https://images-na.ssl-images-amazon.com/image...</td>\n",
       "      <td>Shimmer Anne Shine</td>\n",
       "      <td>[Shimmer Anne Shine Clip On Costume/Halloween ...</td>\n",
       "      <td>468,314inClothing,ShoesJewelry(</td>\n",
       "      <td>5 star</td>\n",
       "      <td>B00004T3SN</td>\n",
       "      <td>[A fun addition to any costume party, play, or...</td>\n",
       "      <td>$6.99</td>\n",
       "      <td>[B00Q5RRK78, B00RN3JILE, B00PMUTNOM, B01KA5PTY...</td>\n",
       "      <td>[B01KA5PTYG]</td>\n",
       "      <td>NaN</td>\n",
       "      <td>NaN</td>\n",
       "      <td>NaN</td>\n",
       "      <td>NaN</td>\n",
       "    </tr>\n",
       "    <tr>\n",
       "      <th>19</th>\n",
       "      <td>SpongeBob Squarepants Comforter - Twin</td>\n",
       "      <td>NaN</td>\n",
       "      <td>SpongeBob SquarePants</td>\n",
       "      <td>[Package Dimensions:\\n                    \\n21...</td>\n",
       "      <td>23,888,557inClothing,ShoesJewelry(</td>\n",
       "      <td>5 star</td>\n",
       "      <td>B00005OTJ8</td>\n",
       "      <td>NaN</td>\n",
       "      <td>NaN</td>\n",
       "      <td>NaN</td>\n",
       "      <td>NaN</td>\n",
       "      <td>NaN</td>\n",
       "      <td>NaN</td>\n",
       "      <td>NaN</td>\n",
       "      <td>NaN</td>\n",
       "    </tr>\n",
       "    <tr>\n",
       "      <th>20</th>\n",
       "      <td>Cedar Tie Hanger</td>\n",
       "      <td>NaN</td>\n",
       "      <td>NaN</td>\n",
       "      <td>NaN</td>\n",
       "      <td>20,806,337inClothing,ShoesJewelry(</td>\n",
       "      <td>5 star</td>\n",
       "      <td>B00006MVYA</td>\n",
       "      <td>NaN</td>\n",
       "      <td>NaN</td>\n",
       "      <td>NaN</td>\n",
       "      <td>NaN</td>\n",
       "      <td>NaN</td>\n",
       "      <td>NaN</td>\n",
       "      <td>NaN</td>\n",
       "      <td>NaN</td>\n",
       "    </tr>\n",
       "    <tr>\n",
       "      <th>21</th>\n",
       "      <td>Perlina Morgan Collection Wallet on a String (...</td>\n",
       "      <td>NaN</td>\n",
       "      <td>PERLINA</td>\n",
       "      <td>NaN</td>\n",
       "      <td>26,245,347inClothing,ShoesJewelry(</td>\n",
       "      <td>5 star</td>\n",
       "      <td>B000072X6P</td>\n",
       "      <td>NaN</td>\n",
       "      <td>NaN</td>\n",
       "      <td>NaN</td>\n",
       "      <td>NaN</td>\n",
       "      <td>NaN</td>\n",
       "      <td>NaN</td>\n",
       "      <td>NaN</td>\n",
       "      <td>NaN</td>\n",
       "    </tr>\n",
       "    <tr>\n",
       "      <th>22</th>\n",
       "      <td>Trager Metropolitan</td>\n",
       "      <td>[https://images-na.ssl-images-amazon.com/image...</td>\n",
       "      <td>Trager</td>\n",
       "      <td>NaN</td>\n",
       "      <td>NaN</td>\n",
       "      <td>5 star5 star (0%)</td>\n",
       "      <td>B000072WZM</td>\n",
       "      <td>NaN</td>\n",
       "      <td>NaN</td>\n",
       "      <td>NaN</td>\n",
       "      <td>NaN</td>\n",
       "      <td>NaN</td>\n",
       "      <td>NaN</td>\n",
       "      <td>NaN</td>\n",
       "      <td>NaN</td>\n",
       "    </tr>\n",
       "  </tbody>\n",
       "</table>\n",
       "</div>"
      ],
      "text/plain": [
       "                                                title  \\\n",
       "18  Shimmer Anne Shine Clip On Costume/Halloween C...   \n",
       "19             SpongeBob Squarepants Comforter - Twin   \n",
       "20                                   Cedar Tie Hanger   \n",
       "21  Perlina Morgan Collection Wallet on a String (...   \n",
       "22                                Trager Metropolitan   \n",
       "\n",
       "                                                image                  brand  \\\n",
       "18  [https://images-na.ssl-images-amazon.com/image...     Shimmer Anne Shine   \n",
       "19                                                NaN  SpongeBob SquarePants   \n",
       "20                                                NaN                    NaN   \n",
       "21                                                NaN                PERLINA   \n",
       "22  [https://images-na.ssl-images-amazon.com/image...                 Trager   \n",
       "\n",
       "                                              feature  \\\n",
       "18  [Shimmer Anne Shine Clip On Costume/Halloween ...   \n",
       "19  [Package Dimensions:\\n                    \\n21...   \n",
       "20                                                NaN   \n",
       "21                                                NaN   \n",
       "22                                                NaN   \n",
       "\n",
       "                                  rank               date        asin  \\\n",
       "18     468,314inClothing,ShoesJewelry(             5 star  B00004T3SN   \n",
       "19  23,888,557inClothing,ShoesJewelry(             5 star  B00005OTJ8   \n",
       "20  20,806,337inClothing,ShoesJewelry(             5 star  B00006MVYA   \n",
       "21  26,245,347inClothing,ShoesJewelry(             5 star  B000072X6P   \n",
       "22                                 NaN  5 star5 star (0%)  B000072WZM   \n",
       "\n",
       "                                          description  price  \\\n",
       "18  [A fun addition to any costume party, play, or...  $6.99   \n",
       "19                                                NaN    NaN   \n",
       "20                                                NaN    NaN   \n",
       "21                                                NaN    NaN   \n",
       "22                                                NaN    NaN   \n",
       "\n",
       "                                            also_view      also_buy  fit  \\\n",
       "18  [B00Q5RRK78, B00RN3JILE, B00PMUTNOM, B01KA5PTY...  [B01KA5PTYG]  NaN   \n",
       "19                                                NaN           NaN  NaN   \n",
       "20                                                NaN           NaN  NaN   \n",
       "21                                                NaN           NaN  NaN   \n",
       "22                                                NaN           NaN  NaN   \n",
       "\n",
       "   details similar_item tech1  \n",
       "18     NaN          NaN   NaN  \n",
       "19     NaN          NaN   NaN  \n",
       "20     NaN          NaN   NaN  \n",
       "21     NaN          NaN   NaN  \n",
       "22     NaN          NaN   NaN  "
      ]
     },
     "execution_count": 46,
     "metadata": {},
     "output_type": "execute_result"
    }
   ],
   "source": [
    "#find out the asin of duplicated entries\n",
    "\n",
    "asin_count = pr_fashion.groupby('asin').asin.count()\n",
    "asin_duplicated = list(asin_count[asin_count>1].index)\n",
    "\n",
    "#print the duplicated asin for analysis\n",
    "\n",
    "pr_fashion.loc[pr_fashion.asin.isin(asin_duplicated)].head()\n"
   ]
  },
  {
   "cell_type": "markdown",
   "metadata": {},
   "source": [
    "It does not look like there are any special cases for these duplicated ASIN.\n",
    "\n",
    "\n",
    "Out of 186194 unique ASIN in this dataframe, 186619 ASINs start with 'B' for this category so it is not that ASIN starting with 'B' are having duplicate issues. <br>\n",
    "We will need to remove these duplicated entries later on.\n",
    "\n",
    "Column 'asin' needs to be maintained."
   ]
  },
  {
   "cell_type": "markdown",
   "metadata": {},
   "source": [
    "#### 1.2.3.8 Column 'description'"
   ]
  },
  {
   "cell_type": "markdown",
   "metadata": {},
   "source": [
    "Column 'description' contains string in lists data information regarding description of the products."
   ]
  },
  {
   "cell_type": "code",
   "execution_count": 20,
   "metadata": {},
   "outputs": [
    {
     "data": {
      "text/plain": [
       "2     [For the professional or amateur magician.  Ro...\n",
       "11    [Educating the next generation in the responsi...\n",
       "12    [Envirosax Greengrocer - a range of plain colo...\n",
       "17    [When you pull out your extra large carbon fib...\n",
       "18    [A fun addition to any costume party, play, or...\n",
       "Name: description, dtype: object"
      ]
     },
     "execution_count": 20,
     "metadata": {},
     "output_type": "execute_result"
    }
   ],
   "source": [
    "#column description examples\n",
    "\n",
    "pr_fashion.loc[pr_fashion.description.notnull()==1].description.head()"
   ]
  },
  {
   "cell_type": "code",
   "execution_count": 21,
   "metadata": {},
   "outputs": [
    {
     "name": "stdout",
     "output_type": "stream",
     "text": [
      "feature datatype:  <class 'list'>\n",
      "how many null entries:  170768\n"
     ]
    }
   ],
   "source": [
    "#checking datatype\n",
    "\n",
    "print('feature datatype: ',type(pr_fashion.loc[pr_fashion.description.notnull()].description.iloc[0]))\n",
    "      \n",
    "#checking for null values\n",
    "\n",
    "print('how many null entries: ',pr_fashion.description.isnull().sum())"
   ]
  },
  {
   "cell_type": "markdown",
   "metadata": {},
   "source": [
    "In this project, there is no need to interpret the description of the products as we are recommending products based on reviews. <br>\n",
    "\n",
    "Moreover, this field contains too many null values for this to be used in this project.\n",
    "\n",
    "**NOTE: this is only a subset of the product dataset but it can serve as a good representation what we can expect to find in description column of other categories of product dataset.**\n",
    "\n",
    "Column 'description' is a good candidate for data trimming."
   ]
  },
  {
   "cell_type": "markdown",
   "metadata": {},
   "source": [
    "#### 1.2.3.9 Column 'price'"
   ]
  },
  {
   "cell_type": "markdown",
   "metadata": {},
   "source": [
    "Column 'price' contains the price information of the product."
   ]
  },
  {
   "cell_type": "code",
   "execution_count": 23,
   "metadata": {},
   "outputs": [
    {
     "name": "stdout",
     "output_type": "stream",
     "text": [
      "4       $4.50\n",
      "17     $14.99\n",
      "18      $6.99\n",
      "69     $16.95\n",
      "115     $9.02\n",
      "Name: price, dtype: object\n"
     ]
    }
   ],
   "source": [
    "#column price examples\n",
    "print(pr_fashion.loc[pr_fashion.price.notnull()==1].price.head())"
   ]
  },
  {
   "cell_type": "code",
   "execution_count": 24,
   "metadata": {},
   "outputs": [
    {
     "name": "stdout",
     "output_type": "stream",
     "text": [
      "feature datatype:  <class 'str'>\n",
      "how many null entries:  168838\n"
     ]
    }
   ],
   "source": [
    "#checking datatype\n",
    "\n",
    "print('feature datatype: ',type(pr_fashion.loc[pr_fashion.price.notnull()].price.iloc[0]))\n",
    "      \n",
    "#checking for null values\n",
    "\n",
    "print('how many null entries: ',pr_fashion.price.isnull().sum())"
   ]
  },
  {
   "cell_type": "markdown",
   "metadata": {},
   "source": [
    "Similar to the column description above, this field also contains useful information. <br>\n",
    "However, the scope of this project does not cover the costs of the products. <br>\n",
    "Also, this field has about 10% data availability which makes it not fit to be used.\n",
    "\n",
    "**NOTE: this is only a subset of the product dataset but it can serve as a good representation what we can expect to find in description column of other categories of product dataset.**\n",
    "\n",
    "\n",
    "Column 'price' is a good candidate for data trimming."
   ]
  },
  {
   "cell_type": "markdown",
   "metadata": {},
   "source": [
    "#### 1.2.3.10 Column 'also_view'"
   ]
  },
  {
   "cell_type": "markdown",
   "metadata": {},
   "source": [
    "Column 'also_view' contains list of different ASINs that is associated with the record. <br> These linked products would be the products that are closely related or searched together by users."
   ]
  },
  {
   "cell_type": "code",
   "execution_count": 27,
   "metadata": {},
   "outputs": [
    {
     "name": "stdout",
     "output_type": "stream",
     "text": [
      "17    [B07CQ3KY5B, B014TEOG3O, B078429G6J, B01FRG9Z7...\n",
      "18    [B00Q5RRK78, B00RN3JILE, B00PMUTNOM, B01KA5PTY...\n",
      "69    [B07C9V84JD, B01J6JE05G, B07J11WZ5Y, B07JJQFHS...\n",
      "81                                         [B00CF0S9TW]\n",
      "82                             [B00CF0V95I, B07F5RDSYZ]\n",
      "Name: also_view, dtype: object\n"
     ]
    }
   ],
   "source": [
    "#column also_view examples\n",
    "print(pr_fashion.loc[pr_fashion.also_view.notnull()==1].also_view.head())"
   ]
  },
  {
   "cell_type": "markdown",
   "metadata": {},
   "source": [
    "These data may help in clustering relavant products together. \n",
    "\n",
    "However, data availability for this field is also very weak : less than 10%.  <br> If there are less than 10% of data available to be used, it will be considered a better choice to remove this field."
   ]
  },
  {
   "cell_type": "code",
   "execution_count": 28,
   "metadata": {},
   "outputs": [
    {
     "name": "stdout",
     "output_type": "stream",
     "text": [
      "feature datatype:  <class 'list'>\n",
      "how many null entries:  175042\n"
     ]
    }
   ],
   "source": [
    "#checking datatype\n",
    "\n",
    "print('feature datatype: ',type(pr_fashion.loc[pr_fashion.also_view.notnull()].also_view.iloc[0]))\n",
    "      \n",
    "#checking for null values\n",
    "\n",
    "print('how many null entries: ',pr_fashion.also_view.isnull().sum())"
   ]
  },
  {
   "cell_type": "markdown",
   "metadata": {},
   "source": [
    "\n",
    "**NOTE: this is only a subset of the product dataset but it can serve as a good representation what we can expect to find in also_view column of other categories of product dataset.**\n",
    "\n",
    "Column 'also_view' may be maintained if possible."
   ]
  },
  {
   "cell_type": "markdown",
   "metadata": {},
   "source": [
    "#### 1.2.3.11 Column 'also_buy'"
   ]
  },
  {
   "cell_type": "markdown",
   "metadata": {},
   "source": [
    "Column 'also_buy', similar to 'also_view' above, contains list of different ASINs that is associated with the record. <br> These linked products would be the products that are closely related and bought together by users."
   ]
  },
  {
   "cell_type": "code",
   "execution_count": 29,
   "metadata": {},
   "outputs": [
    {
     "data": {
      "text/plain": [
       "18                                          [B01KA5PTYG]\n",
       "69     [B07C9V84JD, B01J6JE05G, B07JJQFHS5, B003EGITU...\n",
       "89                                          [B00C7P5HKE]\n",
       "446    [B07BMF139V, B0018NFT5E, B00Y8DE9ES, B001AH4NY...\n",
       "461                                         [B01KA5PTYG]\n",
       "Name: also_buy, dtype: object"
      ]
     },
     "execution_count": 29,
     "metadata": {},
     "output_type": "execute_result"
    }
   ],
   "source": [
    "#column also_buy examples\n",
    "pr_fashion.loc[pr_fashion.also_buy.notnull()==1].also_buy.head()"
   ]
  },
  {
   "cell_type": "markdown",
   "metadata": {},
   "source": [
    "These data may help in clustering relavant products together. \n",
    "\n",
    "However, data availability for this field is also very weak : little over 10%.  <br> If there are 10% of data available to be used, it will be considered a better choice to remove this field."
   ]
  },
  {
   "cell_type": "code",
   "execution_count": 30,
   "metadata": {},
   "outputs": [
    {
     "name": "stdout",
     "output_type": "stream",
     "text": [
      "feature datatype:  <class 'list'>\n",
      "how many null entries:  164995\n"
     ]
    }
   ],
   "source": [
    "#checking datatype\n",
    "\n",
    "print('feature datatype: ',type(pr_fashion.loc[pr_fashion.also_buy.notnull()].also_buy.iloc[0]))\n",
    "      \n",
    "#checking for null values\n",
    "\n",
    "print('how many null entries: ',pr_fashion.also_buy.isnull().sum())"
   ]
  },
  {
   "cell_type": "markdown",
   "metadata": {},
   "source": [
    "\n",
    "**NOTE: this is only a subset of the product dataset but it can serve as a good representation what we can expect to find in also_buy column of other categories of product dataset.**\n",
    "\n",
    "Column 'also_buy' may be maintained if possible."
   ]
  },
  {
   "cell_type": "markdown",
   "metadata": {},
   "source": [
    "#### 1.2.3.12 Column 'fit'"
   ]
  },
  {
   "cell_type": "markdown",
   "metadata": {},
   "source": [
    "Column 'fit' contains information regarding products' variation and fits. <br> The values in the field seem to be html/css language attempting to visualize the product."
   ]
  },
  {
   "cell_type": "code",
   "execution_count": 36,
   "metadata": {},
   "outputs": [
    {
     "data": {
      "text/plain": [
       "69      class=\"a-normal a-align-center a-spacing-smal...\n",
       "118     class=\"a-normal a-align-center a-spacing-smal...\n",
       "433     class=\"a-normal a-align-center a-spacing-smal...\n",
       "446     class=\"a-normal a-align-center a-spacing-smal...\n",
       "512     class=\"a-normal a-align-center a-spacing-smal...\n",
       "Name: fit, dtype: object"
      ]
     },
     "execution_count": 36,
     "metadata": {},
     "output_type": "execute_result"
    }
   ],
   "source": [
    "#column fit examples\n",
    "pr_fashion.loc[pr_fashion.fit.notnull()==1].fit.head()"
   ]
  },
  {
   "cell_type": "markdown",
   "metadata": {},
   "source": [
    "During the scope of this project, we are not working with any descriptive features like dimensions, prices, description and fit. <br>\n",
    "Moreover in this example, we are seeing only 4831 data points available from 186637 records which does not allow us to utilize this field."
   ]
  },
  {
   "cell_type": "code",
   "execution_count": 37,
   "metadata": {},
   "outputs": [
    {
     "name": "stdout",
     "output_type": "stream",
     "text": [
      "feature datatype:  <class 'str'>\n",
      "how many null entries:  181806\n"
     ]
    }
   ],
   "source": [
    "#checking datatype\n",
    "\n",
    "print('feature datatype: ',type(pr_fashion.loc[pr_fashion.fit.notnull()].fit.iloc[0]))\n",
    "      \n",
    "#checking for null values\n",
    "\n",
    "print('how many null entries: ',pr_fashion.fit.isnull().sum())"
   ]
  },
  {
   "cell_type": "markdown",
   "metadata": {},
   "source": [
    "\n",
    "**NOTE: this is only a subset of the product dataset but it can serve as a good representation what we can expect to find in fit column of other categories of product dataset.**\n",
    "\n",
    "Column 'fit' is a good candidate for data trimming."
   ]
  },
  {
   "cell_type": "markdown",
   "metadata": {},
   "source": [
    "#### 1.2.3.13 Column 'details'"
   ]
  },
  {
   "cell_type": "markdown",
   "metadata": {},
   "source": [
    "Column 'details' contains additional information regarding the products. <br>\n",
    "Very similar to the column 'fit' above, this field contains html scripts that shows various details like different colors, links to product details, reviews and etc."
   ]
  },
  {
   "cell_type": "code",
   "execution_count": 40,
   "metadata": {},
   "outputs": [
    {
     "data": {
      "text/plain": [
       "377     \\n      <div class=\"content\">\\n\\n\\n\\n\\n\\n\\n<ul...\n",
       "424     \\n      <div class=\"content\">\\n\\n\\n\\n\\n\\n\\n<ul...\n",
       "820     \\n      <div class=\"content\">\\n\\n\\n\\n\\n\\n\\n<ul...\n",
       "867     \\n      <div class=\"content\">\\n\\n\\n\\n\\n\\n\\n<ul...\n",
       "1012    \\n      <div class=\"content\">\\n\\n\\n\\n\\n\\n\\n<ul...\n",
       "Name: details, dtype: object"
      ]
     },
     "execution_count": 40,
     "metadata": {},
     "output_type": "execute_result"
    }
   ],
   "source": [
    "#column details examples\n",
    "pr_fashion.loc[pr_fashion.details.notnull()==1].details.head()"
   ]
  },
  {
   "cell_type": "markdown",
   "metadata": {},
   "source": [
    "During the scope of this project, we are not working with any descriptive features like dimensions, prices, description and details. <br>\n",
    "Moreover in this example, we are seeing only 885 data points available from 186637 records which does not allow us to utilize this field."
   ]
  },
  {
   "cell_type": "code",
   "execution_count": 41,
   "metadata": {},
   "outputs": [
    {
     "name": "stdout",
     "output_type": "stream",
     "text": [
      "feature datatype:  <class 'str'>\n",
      "how many null entries:  185752\n"
     ]
    }
   ],
   "source": [
    "#checking datatype\n",
    "\n",
    "print('feature datatype: ',type(pr_fashion.loc[pr_fashion.details.notnull()].details.iloc[0]))\n",
    "      \n",
    "#checking for null values\n",
    "\n",
    "print('how many null entries: ',pr_fashion.details.isnull().sum())"
   ]
  },
  {
   "cell_type": "markdown",
   "metadata": {},
   "source": [
    "\n",
    "**NOTE: this is only a subset of the product dataset but it can serve as a good representation what we can expect to find in details column of other categories of product dataset.**\n",
    "\n",
    "Column 'details' is a good candidate for data trimming."
   ]
  },
  {
   "cell_type": "markdown",
   "metadata": {},
   "source": [
    "#### 1.2.3.14 Column 'similar_item'"
   ]
  },
  {
   "cell_type": "markdown",
   "metadata": {},
   "source": [
    "Column 'similar_item' holds information regarding items that are similar to the product mentioned in the record. <br> This field is similar to the also_view and also_buy but this field is focused on showing the similar items rather than things that are usually bought together."
   ]
  },
  {
   "cell_type": "code",
   "execution_count": 42,
   "metadata": {},
   "outputs": [
    {
     "data": {
      "text/plain": [
       "2686    [{'asin': '', 'href': '', 'name': 'Comfy Mouse...\n",
       "5758    [{'asin': '', 'href': '', 'name': 'Solid Ties ...\n",
       "7576    [{'asin': '', 'href': '', 'name': 'Aegean Mens...\n",
       "8029    [{'asin': '', 'href': '', 'name': 'Deluxe Mesh...\n",
       "8719    [{'asin': '', 'href': '', 'name': 'CZ Pave Lib...\n",
       "Name: similar_item, dtype: object"
      ]
     },
     "execution_count": 42,
     "metadata": {},
     "output_type": "execute_result"
    }
   ],
   "source": [
    "#column similar_item examples\n",
    "pr_fashion.loc[pr_fashion.similar_item.notnull()==1].similar_item.head()"
   ]
  },
  {
   "cell_type": "markdown",
   "metadata": {},
   "source": [
    "Although this information could be used, similar items' ASIN is rarely seen. <br> This makes things very difficult as we would need to search the product name to see if there is a hit on our list of ASIN.\n",
    "\n",
    "Moreover, this field only contains information for 317 records out of 186637 making this unfit for use."
   ]
  },
  {
   "cell_type": "code",
   "execution_count": 43,
   "metadata": {},
   "outputs": [
    {
     "name": "stdout",
     "output_type": "stream",
     "text": [
      "feature datatype:  <class 'list'>\n",
      "how many null entries:  186320\n"
     ]
    }
   ],
   "source": [
    "#checking datatype\n",
    "\n",
    "print('feature datatype: ',type(pr_fashion.loc[pr_fashion.similar_item.notnull()].similar_item.iloc[0]))\n",
    "      \n",
    "#checking for null values\n",
    "\n",
    "print('how many null entries: ',pr_fashion.similar_item.isnull().sum())"
   ]
  },
  {
   "cell_type": "markdown",
   "metadata": {},
   "source": [
    "\n",
    "**NOTE: this is only a subset of the product dataset but it can serve as a good representation what we can expect to find in similar_item column of other categories of product dataset.**\n",
    "\n",
    "Column 'similar_item' is a good candidate for data trimming."
   ]
  },
  {
   "cell_type": "markdown",
   "metadata": {},
   "source": [
    "#### 1.2.3.15 Column 'tech1'"
   ]
  },
  {
   "cell_type": "markdown",
   "metadata": {},
   "source": [
    "Column 'tech1' consists of additional technical details about the products. <br> This field can include dimensions, weight, brand names and etc."
   ]
  },
  {
   "cell_type": "code",
   "execution_count": 44,
   "metadata": {},
   "outputs": [
    {
     "data": {
      "text/plain": [
       "3707    {'Brand Name': 'Bosca', 'Item Weight': '6.4 ou...\n",
       "3911    {'Item Weight': '1 pounds', 'Product Dimension...\n",
       "4380    {'Item Weight': '2.4 ounces', 'Product Dimensi...\n",
       "4530     {'Product Dimensions': '9 x 11.8 x 17.8 inches'}\n",
       "7506    {'Brand Name': 'LeDonne', 'Item Weight': '2.5 ...\n",
       "Name: tech1, dtype: object"
      ]
     },
     "execution_count": 44,
     "metadata": {},
     "output_type": "execute_result"
    }
   ],
   "source": [
    "#column tech1 examples\n",
    "pr_fashion.loc[pr_fashion.tech1.notnull()==1].tech1.head()"
   ]
  },
  {
   "cell_type": "markdown",
   "metadata": {},
   "source": [
    "During the scope of this project, we are not working with any descriptive features like dimensions, prices, description and details. <br>\n",
    "Tech1 field is also a part of descriptive features. <br>\n",
    "Moreover in this example, we are seeing only 97 data points available from 186637 records which does not allow us to utilize this field."
   ]
  },
  {
   "cell_type": "code",
   "execution_count": 45,
   "metadata": {},
   "outputs": [
    {
     "name": "stdout",
     "output_type": "stream",
     "text": [
      "feature datatype:  <class 'dict'>\n",
      "how many null entries:  186540\n"
     ]
    }
   ],
   "source": [
    "#checking datatype\n",
    "\n",
    "print('feature datatype: ',type(pr_fashion.loc[pr_fashion.tech1.notnull()].tech1.iloc[0]))\n",
    "      \n",
    "#checking for null values\n",
    "\n",
    "print('how many null entries: ',pr_fashion.tech1.isnull().sum())"
   ]
  },
  {
   "cell_type": "markdown",
   "metadata": {},
   "source": [
    "\n",
    "**NOTE: this is only a subset of the product dataset but it can serve as a good representation what we can expect to find in tech1 column of other categories of product dataset.**\n",
    "\n",
    "Column 'tech1' is a good candidate for data trimming."
   ]
  },
  {
   "cell_type": "markdown",
   "metadata": {},
   "source": [
    "### 1.2.4 Dataset 'product' Analysis Remarks"
   ]
  },
  {
   "cell_type": "code",
   "execution_count": 180,
   "metadata": {},
   "outputs": [
    {
     "name": "stdout",
     "output_type": "stream",
     "text": [
      "<class 'pandas.core.frame.DataFrame'>\n",
      "Int64Index: 186637 entries, 0 to 186636\n",
      "Data columns (total 15 columns):\n",
      "title           186632 non-null object\n",
      "image           132017 non-null object\n",
      "brand           139957 non-null object\n",
      "feature         123875 non-null object\n",
      "rank            180222 non-null object\n",
      "date            185001 non-null object\n",
      "asin            186637 non-null object\n",
      "description     15869 non-null object\n",
      "price           17799 non-null object\n",
      "also_view       11595 non-null object\n",
      "also_buy        21642 non-null object\n",
      "fit             4831 non-null object\n",
      "details         885 non-null object\n",
      "similar_item    317 non-null object\n",
      "tech1           97 non-null object\n",
      "dtypes: object(15)\n",
      "memory usage: 27.8+ MB\n"
     ]
    }
   ],
   "source": [
    "pr_fashion.info()"
   ]
  },
  {
   "cell_type": "markdown",
   "metadata": {},
   "source": [
    "Out of the columns available in dataset 'product' listed above, the columns are categorized into three buckets:\n",
    "\n",
    "* Needs To Be Maintained:    **title , asin , brand**\n",
    "* May Be Maintained If Possible:   **rank , also_view , also_buy**\n",
    "* Candidates For Data Trimming:  **image , feature , date , description , price , fit , details , similar_item , tech1**\n"
   ]
  },
  {
   "cell_type": "markdown",
   "metadata": {},
   "source": [
    "As mentioned above, only the category, AMAZON_FASHION, has been imported for initial data inspection for product dataset. <br> The availability of data for each columns will be different depending on the category selected. <br> However, this initial inspection gives us good representation of what the full dataset will look like and the availability of data for columns in other categories.\n",
    "\n",
    "The important feature identification will be relavent throughout all the other categories as well."
   ]
  },
  {
   "cell_type": "code",
   "execution_count": null,
   "metadata": {},
   "outputs": [],
   "source": []
  }
 ],
 "metadata": {
  "kernelspec": {
   "display_name": "Python 3",
   "language": "python",
   "name": "python3"
  },
  "language_info": {
   "codemirror_mode": {
    "name": "ipython",
    "version": 3
   },
   "file_extension": ".py",
   "mimetype": "text/x-python",
   "name": "python",
   "nbconvert_exporter": "python",
   "pygments_lexer": "ipython3",
   "version": "3.7.1"
  }
 },
 "nbformat": 4,
 "nbformat_minor": 2
}
